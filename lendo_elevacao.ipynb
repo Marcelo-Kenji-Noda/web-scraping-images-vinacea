{
 "cells": [
  {
   "cell_type": "code",
   "execution_count": 1,
   "metadata": {},
   "outputs": [],
   "source": [
    "import numpy as np\n",
    "from osgeo import gdal\n",
    "import geopandas as gpd\n",
    "\n",
    "def ler_arquivo_asc(nome_arquivo):\n",
    "    # Abrir o arquivo .asc com GDAL\n",
    "    dataset = gdal.Open(nome_arquivo)\n",
    "    \n",
    "    # Obter informações do arquivo\n",
    "    ncols = dataset.RasterXSize\n",
    "    nrows = dataset.RasterYSize\n",
    "    xllcorner, yllcorner = dataset.GetGeoTransform()[0], dataset.GetGeoTransform()[3]\n",
    "    cellsize = dataset.GetGeoTransform()[1]\n",
    "    nodata_value = dataset.GetRasterBand(1).GetNoDataValue()\n",
    "    \n",
    "    # Ler os dados da elevação como uma matriz numpy\n",
    "    elevacao = dataset.ReadAsArray()\n",
    "    \n",
    "    # Fechar o dataset\n",
    "    dataset = None\n",
    "    \n",
    "    return elevacao, ncols, nrows, xllcorner, yllcorner, cellsize, nodata_value"
   ]
  },
  {
   "cell_type": "code",
   "execution_count": 5,
   "metadata": {},
   "outputs": [
    {
     "name": "stdout",
     "output_type": "stream",
     "text": [
      "Arquivo .asc convertido para assets/FEATURES/ELEVACAO/BR_elev.tif\n"
     ]
    }
   ],
   "source": [
    "def asc_para_tif(asc_nome_arquivo, tif_nome_arquivo):\n",
    "    # Ler o arquivo .asc\n",
    "    elevacao, ncols, nrows, xllcorner, yllcorner, cellsize, nodata_value = ler_arquivo_asc(asc_nome_arquivo)\n",
    "\n",
    "    # Crie o arquivo .tif\n",
    "    driver = gdal.GetDriverByName(\"GTiff\")\n",
    "    dataset = driver.Create(tif_nome_arquivo, ncols, nrows, 1, gdal.GDT_Float32)\n",
    "\n",
    "    # Defina as informações de projeção\n",
    "    dataset.SetGeoTransform((xllcorner, cellsize, 0, yllcorner + nrows*cellsize, 0, -cellsize))\n",
    "\n",
    "    # Escreva a matriz de elevação no arquivo .tif\n",
    "    banda = dataset.GetRasterBand(1)\n",
    "    banda.WriteArray(elevacao)\n",
    "\n",
    "    # Defina o valor de NODATA\n",
    "    banda.SetNoDataValue(nodata_value)\n",
    "\n",
    "    # Fechar o arquivo\n",
    "    dataset = None\n",
    "\n",
    "def ler_arquivo_asc(nome_arquivo):\n",
    "    # Abrir o arquivo .asc com GDAL\n",
    "    dataset = gdal.Open(nome_arquivo)\n",
    "    \n",
    "    # Obter informações do arquivo\n",
    "    ncols = dataset.RasterXSize\n",
    "    nrows = dataset.RasterYSize\n",
    "    xllcorner, yllcorner = dataset.GetGeoTransform()[0], dataset.GetGeoTransform()[3]\n",
    "    cellsize = dataset.GetGeoTransform()[1]\n",
    "    nodata_value = dataset.GetRasterBand(1).GetNoDataValue()\n",
    "    \n",
    "    # Ler os dados da elevação como uma matriz numpy\n",
    "    elevacao = dataset.ReadAsArray()\n",
    "    \n",
    "    # Fechar o dataset\n",
    "    dataset = None\n",
    "    \n",
    "    return elevacao, ncols, nrows, xllcorner, yllcorner, cellsize, nodata_value\n",
    "\n",
    "# Exemplo de uso\n",
    "asc_nome_arquivo = \"assets/FEATURES/ELEVACAO/BR_elev.asc\"\n",
    "tif_nome_arquivo = \"assets/FEATURES/ELEVACAO/BR_elev.tif\"\n",
    "asc_para_tif(asc_nome_arquivo, tif_nome_arquivo)\n",
    "print(f\"Arquivo .asc convertido para {tif_nome_arquivo}\")"
   ]
  },
  {
   "cell_type": "code",
   "execution_count": null,
   "metadata": {},
   "outputs": [],
   "source": []
  }
 ],
 "metadata": {
  "kernelspec": {
   "display_name": "web-scraping-venv",
   "language": "python",
   "name": "python3"
  },
  "language_info": {
   "codemirror_mode": {
    "name": "ipython",
    "version": 3
   },
   "file_extension": ".py",
   "mimetype": "text/x-python",
   "name": "python",
   "nbconvert_exporter": "python",
   "pygments_lexer": "ipython3",
   "version": "3.11.4"
  }
 },
 "nbformat": 4,
 "nbformat_minor": 2
}
