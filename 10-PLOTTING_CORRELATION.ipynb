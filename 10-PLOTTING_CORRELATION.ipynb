{
 "cells": [
  {
   "cell_type": "code",
   "execution_count": null,
   "metadata": {},
   "outputs": [],
   "source": [
    "import geopandas as gpd\n",
    "import pandas as pd\n",
    "from scripts.load_gbif import get_dataframe\n",
    "import numpy as np"
   ]
  },
  {
   "cell_type": "code",
   "execution_count": null,
   "metadata": {},
   "outputs": [],
   "source": [
    "import matplotlib.pyplot as plt\n",
    "import seaborn as sns"
   ]
  },
  {
   "cell_type": "code",
   "execution_count": null,
   "metadata": {},
   "outputs": [],
   "source": [
    "dataframe = get_dataframe()"
   ]
  },
  {
   "cell_type": "code",
   "execution_count": null,
   "metadata": {},
   "outputs": [],
   "source": [
    "dataframe = pd.read_parquet(\"generated_files/bio_variables_dataframe_base.parquet\")"
   ]
  },
  {
   "cell_type": "code",
   "execution_count": null,
   "metadata": {},
   "outputs": [],
   "source": [
    "min_mask = dataframe['01_annual_mean_temp'].min()\n",
    "dataframe = dataframe[dataframe['01_annual_mean_temp'] > min_mask][dataframe.columns[2:]].copy()"
   ]
  },
  {
   "cell_type": "code",
   "execution_count": null,
   "metadata": {},
   "outputs": [],
   "source": [
    "renamed_cols = [i[:2] for i in dataframe.columns]\n",
    "dataframe.columns = renamed_cols\n",
    "dataframe = dataframe[sorted(dataframe.columns)]"
   ]
  },
  {
   "cell_type": "code",
   "execution_count": null,
   "metadata": {},
   "outputs": [],
   "source": [
    "df_corr= dataframe.corr()"
   ]
  },
  {
   "cell_type": "code",
   "execution_count": null,
   "metadata": {},
   "outputs": [],
   "source": [
    "import plotly.express as px\n"
   ]
  },
  {
   "cell_type": "code",
   "execution_count": null,
   "metadata": {},
   "outputs": [],
   "source": [
    "fig = px.imshow(np.abs(df_corr))\n",
    "fig.show()"
   ]
  },
  {
   "cell_type": "code",
   "execution_count": null,
   "metadata": {},
   "outputs": [],
   "source": [
    "columns = ['01','02','07','12','14','18']"
   ]
  },
  {
   "cell_type": "code",
   "execution_count": null,
   "metadata": {},
   "outputs": [],
   "source": [
    "df_corr_2= dataframe[columns].corr()\n",
    "\n",
    "fig = px.imshow(np.abs(df_corr_2))\n",
    "fig.show()"
   ]
  },
  {
   "cell_type": "code",
   "execution_count": null,
   "metadata": {},
   "outputs": [],
   "source": [
    "temperature_cols = [\n",
    "    '01_annual_mean_temp',\n",
    "    '02_mean_diurnal_range',\n",
    "    '03_isothermality',\n",
    "    '04_temperature_seasonality'\n",
    "    ]\n",
    "temperature_cols_2 = [\n",
    "    '05_maximum_temp_warmest_month',\n",
    "    '06_minimum_temp_coldest_month',\n",
    "    '07_temp_annual_range',\n",
    "    '08_mean_temp_wettest_quarter',\n",
    "    '09_mean_temp_driest_quarter',\n",
    "    '10_mean_temp_warmest_quarter',\n",
    "    '11_mean_temp_coldest_quarter'\n",
    "    ]\n",
    "precipitation_cols = [\n",
    "    '12_annual_precipitation',\n",
    "    '13_precipitation_wettest_month',\n",
    "    '14_precipitation_driest_month',\n",
    "    '15_precipitation_seasonality',\n",
    "    '16_precipitation_of_wettest_quarter',\n",
    "    '17_precipitation_of_driest_quarter',\n",
    "    '18_precipitation_of_warmest_quarter',\n",
    "    '19_precipitation_of_coldest_quarter'\n",
    "    ]"
   ]
  },
  {
   "cell_type": "code",
   "execution_count": null,
   "metadata": {},
   "outputs": [],
   "source": [
    "selected_cols = ['01_annual_mean_temp','02_mean_diurnal_range','07_temp_annual_range','12_annual_precipitation','14_precipitation_driest_month','18_precipitation_of_warmest_quarter']\n",
    "selected_cols2 = ['01_annual_mean_temp','02_mean_diurnal_range','07_temp_annual_range','12_annual_precipitation']"
   ]
  },
  {
   "cell_type": "code",
   "execution_count": null,
   "metadata": {},
   "outputs": [],
   "source": [
    "sns.pairplot(dataframe[dataframe['01_annual_mean_temp'] > min_mask][selected_cols2])\n",
    "plt.show()\n",
    "plt.savefig(\"generated_files/selected_cols2.png\")"
   ]
  },
  {
   "cell_type": "code",
   "execution_count": null,
   "metadata": {},
   "outputs": [],
   "source": [
    "min_mask = dataframe[temperature_cols]['01_annual_mean_temp'].min()"
   ]
  },
  {
   "cell_type": "code",
   "execution_count": null,
   "metadata": {},
   "outputs": [],
   "source": [
    "sns.pairplot(dataframe[dataframe['01_annual_mean_temp'] > min_mask][temperature_cols_2])\n",
    "plt.show()\n",
    "plt.savefig(\"generated_files/temp.png\")"
   ]
  },
  {
   "cell_type": "code",
   "execution_count": null,
   "metadata": {},
   "outputs": [],
   "source": [
    "sns.pairplot(dataframe[dataframe['01_annual_mean_temp'] > min_mask][temperature_cols])\n",
    "plt.show()\n",
    "plt.savefig(\"generated_files/mean_temp.png\")"
   ]
  },
  {
   "cell_type": "code",
   "execution_count": null,
   "metadata": {},
   "outputs": [],
   "source": [
    "sns.pairplot(dataframe[dataframe['01_annual_mean_temp'] > min_mask][precipitation_cols])\n",
    "plt.show()\n",
    "plt.savefig(\"generated_files/precipitation.png\")"
   ]
  }
 ],
 "metadata": {
  "kernelspec": {
   "display_name": "web-scraping-venv",
   "language": "python",
   "name": "python3"
  },
  "language_info": {
   "codemirror_mode": {
    "name": "ipython",
    "version": 3
   },
   "file_extension": ".py",
   "mimetype": "text/x-python",
   "name": "python",
   "nbconvert_exporter": "python",
   "pygments_lexer": "ipython3",
   "version": "3.11.4"
  }
 },
 "nbformat": 4,
 "nbformat_minor": 2
}
