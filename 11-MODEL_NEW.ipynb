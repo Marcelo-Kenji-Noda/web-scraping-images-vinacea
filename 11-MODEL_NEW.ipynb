{
 "cells": [
  {
   "cell_type": "code",
   "execution_count": 9,
   "metadata": {},
   "outputs": [],
   "source": [
    "import pandas as pd\n",
    "import matplotlib.pyplot as plt\n",
    "from sklearn.linear_model import LogisticRegression\n",
    "from sklearn import model_selection \n",
    "from sklearn import metrics\n",
    "import matplotlib.pyplot as plt"
   ]
  },
  {
   "cell_type": "code",
   "execution_count": 10,
   "metadata": {},
   "outputs": [],
   "source": [
    "columns = ['01_annual_mean_temp','02_mean_diurnal_range','07_temp_annual_range','12_annual_precipitation']"
   ]
  },
  {
   "cell_type": "code",
   "execution_count": 25,
   "metadata": {},
   "outputs": [],
   "source": [
    "dataframe = pd.read_parquet(\"generated_files/bio_variables_dataframe_occurence_and_abscence.parquet\")"
   ]
  },
  {
   "cell_type": "code",
   "execution_count": 27,
   "metadata": {},
   "outputs": [
    {
     "data": {
      "text/plain": [
       "presence\n",
       "1    2847\n",
       "0    2383\n",
       "Name: count, dtype: int64"
      ]
     },
     "execution_count": 27,
     "metadata": {},
     "output_type": "execute_result"
    }
   ],
   "source": [
    "dataframe['presence'].value_counts()"
   ]
  },
  {
   "cell_type": "code",
   "execution_count": 12,
   "metadata": {},
   "outputs": [],
   "source": [
    "max_entropy_model = LogisticRegression(max_iter=1000)"
   ]
  },
  {
   "cell_type": "code",
   "execution_count": 22,
   "metadata": {},
   "outputs": [],
   "source": [
    "X = dataframe.iloc[:,3:]\n",
    "y = dataframe['presence']"
   ]
  },
  {
   "cell_type": "code",
   "execution_count": 14,
   "metadata": {},
   "outputs": [],
   "source": [
    "# ROC \n",
    "def plot_roc_curve(fper, tper):\n",
    "    plt.plot(fper, tper, color='red', label='ROC')\n",
    "    plt.plot([0, 1], [0, 1], color='green', linestyle='--')\n",
    "    plt.xlabel('False Positive Rate')\n",
    "    plt.ylabel('True Positive Rate')\n",
    "    plt.title('Receiver Operating Characteristic Curve')\n",
    "    plt.legend()\n",
    "    plt.show()"
   ]
  },
  {
   "cell_type": "code",
   "execution_count": 24,
   "metadata": {},
   "outputs": [
    {
     "name": "stderr",
     "output_type": "stream",
     "text": [
      "c:\\Users\\kenji\\dev\\web-scraping-images-vinacea\\web-scraping-images-vinacea\\web-scraping-venv\\Lib\\site-packages\\sklearn\\linear_model\\_logistic.py:469: ConvergenceWarning: lbfgs failed to converge (status=2):\n",
      "ABNORMAL_TERMINATION_IN_LNSRCH.\n",
      "\n",
      "Increase the number of iterations (max_iter) or scale the data as shown in:\n",
      "    https://scikit-learn.org/stable/modules/preprocessing.html\n",
      "Please also refer to the documentation for alternative solver options:\n",
      "    https://scikit-learn.org/stable/modules/linear_model.html#logistic-regression\n",
      "  n_iter_i = _check_optimize_result(\n",
      "c:\\Users\\kenji\\dev\\web-scraping-images-vinacea\\web-scraping-images-vinacea\\web-scraping-venv\\Lib\\site-packages\\sklearn\\linear_model\\_logistic.py:469: ConvergenceWarning: lbfgs failed to converge (status=2):\n",
      "ABNORMAL_TERMINATION_IN_LNSRCH.\n",
      "\n",
      "Increase the number of iterations (max_iter) or scale the data as shown in:\n",
      "    https://scikit-learn.org/stable/modules/preprocessing.html\n",
      "Please also refer to the documentation for alternative solver options:\n",
      "    https://scikit-learn.org/stable/modules/linear_model.html#logistic-regression\n",
      "  n_iter_i = _check_optimize_result(\n",
      "c:\\Users\\kenji\\dev\\web-scraping-images-vinacea\\web-scraping-images-vinacea\\web-scraping-venv\\Lib\\site-packages\\sklearn\\linear_model\\_logistic.py:469: ConvergenceWarning: lbfgs failed to converge (status=2):\n",
      "ABNORMAL_TERMINATION_IN_LNSRCH.\n",
      "\n",
      "Increase the number of iterations (max_iter) or scale the data as shown in:\n",
      "    https://scikit-learn.org/stable/modules/preprocessing.html\n",
      "Please also refer to the documentation for alternative solver options:\n",
      "    https://scikit-learn.org/stable/modules/linear_model.html#logistic-regression\n",
      "  n_iter_i = _check_optimize_result(\n",
      "c:\\Users\\kenji\\dev\\web-scraping-images-vinacea\\web-scraping-images-vinacea\\web-scraping-venv\\Lib\\site-packages\\sklearn\\linear_model\\_logistic.py:469: ConvergenceWarning: lbfgs failed to converge (status=2):\n",
      "ABNORMAL_TERMINATION_IN_LNSRCH.\n",
      "\n",
      "Increase the number of iterations (max_iter) or scale the data as shown in:\n",
      "    https://scikit-learn.org/stable/modules/preprocessing.html\n",
      "Please also refer to the documentation for alternative solver options:\n",
      "    https://scikit-learn.org/stable/modules/linear_model.html#logistic-regression\n",
      "  n_iter_i = _check_optimize_result(\n",
      "c:\\Users\\kenji\\dev\\web-scraping-images-vinacea\\web-scraping-images-vinacea\\web-scraping-venv\\Lib\\site-packages\\sklearn\\linear_model\\_logistic.py:469: ConvergenceWarning: lbfgs failed to converge (status=2):\n",
      "ABNORMAL_TERMINATION_IN_LNSRCH.\n",
      "\n",
      "Increase the number of iterations (max_iter) or scale the data as shown in:\n",
      "    https://scikit-learn.org/stable/modules/preprocessing.html\n",
      "Please also refer to the documentation for alternative solver options:\n",
      "    https://scikit-learn.org/stable/modules/linear_model.html#logistic-regression\n",
      "  n_iter_i = _check_optimize_result(\n",
      "c:\\Users\\kenji\\dev\\web-scraping-images-vinacea\\web-scraping-images-vinacea\\web-scraping-venv\\Lib\\site-packages\\sklearn\\linear_model\\_logistic.py:469: ConvergenceWarning: lbfgs failed to converge (status=2):\n",
      "ABNORMAL_TERMINATION_IN_LNSRCH.\n",
      "\n",
      "Increase the number of iterations (max_iter) or scale the data as shown in:\n",
      "    https://scikit-learn.org/stable/modules/preprocessing.html\n",
      "Please also refer to the documentation for alternative solver options:\n",
      "    https://scikit-learn.org/stable/modules/linear_model.html#logistic-regression\n",
      "  n_iter_i = _check_optimize_result(\n",
      "c:\\Users\\kenji\\dev\\web-scraping-images-vinacea\\web-scraping-images-vinacea\\web-scraping-venv\\Lib\\site-packages\\sklearn\\metrics\\_classification.py:1497: UndefinedMetricWarning: Precision is ill-defined and being set to 0.0 in labels with no predicted samples. Use `zero_division` parameter to control this behavior.\n",
      "  _warn_prf(average, modifier, f\"{metric.capitalize()} is\", len(result))\n",
      "c:\\Users\\kenji\\dev\\web-scraping-images-vinacea\\web-scraping-images-vinacea\\web-scraping-venv\\Lib\\site-packages\\sklearn\\metrics\\_classification.py:1497: UndefinedMetricWarning: Precision is ill-defined and being set to 0.0 in labels with no predicted samples. Use `zero_division` parameter to control this behavior.\n",
      "  _warn_prf(average, modifier, f\"{metric.capitalize()} is\", len(result))\n",
      "c:\\Users\\kenji\\dev\\web-scraping-images-vinacea\\web-scraping-images-vinacea\\web-scraping-venv\\Lib\\site-packages\\sklearn\\metrics\\_classification.py:1497: UndefinedMetricWarning: Precision is ill-defined and being set to 0.0 in labels with no predicted samples. Use `zero_division` parameter to control this behavior.\n",
      "  _warn_prf(average, modifier, f\"{metric.capitalize()} is\", len(result))\n"
     ]
    },
    {
     "name": "stdout",
     "output_type": "stream",
     "text": [
      "Max Entropy 5-fold Cross Validation Accuracy: 6.62 (+/- 2.12)\n",
      "\n",
      "Accuracy Score: 0.20\n",
      "\n",
      "Classification report\n",
      "              precision    recall  f1-score   support\n",
      "\n",
      "           0       0.20      1.00      0.33       176\n",
      "           1       0.00      0.00      0.00       712\n",
      "\n",
      "    accuracy                           0.20       888\n",
      "   macro avg       0.10      0.50      0.17       888\n",
      "weighted avg       0.04      0.20      0.07       888\n",
      "\n",
      "\n",
      "Confussion matrix\n",
      "[[176   0]\n",
      " [712   0]]\n",
      "\n",
      "AUC(ROC): 0.50\n",
      "\n"
     ]
    },
    {
     "data": {
      "image/png": "[encoded data removed]",
      "text/plain": [
       "<Figure size 640x480 with 1 Axes>"
      ]
     },
     "metadata": {},
     "output_type": "display_data"
    }
   ],
   "source": [
    "X_train, X_test, y_train, y_true = model_selection.train_test_split(\n",
    "    X, y,\n",
    "        test_size=.25, # Test data size\n",
    "        shuffle=True, # Shuffle the data before split\n",
    "        stratify=y # Keeping the appearance/non-appearance ratio of Y\n",
    "    )\n",
    "\n",
    "if True: # Cross-validation\n",
    "    kf = model_selection.KFold(n_splits=5) # k-fold\n",
    "    scores = model_selection.cross_val_score(max_entropy_model, X_train, y_train, cv=kf, scoring='f1_weighted')\n",
    "    print(\"Max Entropy\" + \" %d-fold Cross Validation Accuracy: %0.2f (+/- %0.2f)\"\n",
    "            % (5, scores.mean() * 100, scores.std() * 200))\n",
    "    print()\n",
    "\n",
    "max_entropy_model.fit(X_train, y_train) # Training of classifiers\n",
    "y_pred = max_entropy_model.predict(X_test) # Classifier predictions\n",
    "\n",
    "# Classifier evaluation metrics\n",
    "print(\"Accuracy Score: %.2f\" % metrics.accuracy_score(y_true, y_pred))\n",
    "print()\n",
    "\n",
    "print(\"Classification report\")\n",
    "print(metrics.classification_report(y_true, y_pred))\n",
    "print()\n",
    "\n",
    "print(\"Confussion matrix\")\n",
    "print(metrics.confusion_matrix(y_true, y_pred))\n",
    "print()\n",
    "\n",
    "print('AUC(ROC): %.2f'% metrics.roc_auc_score(y_true, y_pred))\n",
    "print()\n",
    "    \n",
    "# ROC \n",
    "probs = max_entropy_model.predict_proba(X_test) \n",
    "prob = probs[:, 1]  \n",
    "fper, tper, thresholds = metrics.roc_curve(y_true, prob)\n",
    "plot_roc_curve(fper, tper)\n"
   ]
  }
 ],
 "metadata": {
  "kernelspec": {
   "display_name": "web-scraping-venv",
   "language": "python",
   "name": "python3"
  },
  "language_info": {
   "codemirror_mode": {
    "name": "ipython",
    "version": 3
   },
   "file_extension": ".py",
   "mimetype": "text/x-python",
   "name": "python",
   "nbconvert_exporter": "python",
   "pygments_lexer": "ipython3",
   "version": "3.11.4"
  }
 },
 "nbformat": 4,
 "nbformat_minor": 2
}
