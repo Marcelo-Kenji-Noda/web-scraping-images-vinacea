{
 "cells": [
  {
   "cell_type": "code",
   "execution_count": null,
   "metadata": {},
   "outputs": [],
   "source": [
    "import pandas as pd\n",
    "from shapely.geometry import Point\n",
    "import geopandas as gpd\n",
    "\n",
    "from mpl_toolkits.basemap import Basemap\n",
    "import matplotlib.pyplot as plt\n",
    "import plotly.express as px\n",
    "import plotly.graph_objects as go\n",
    "from matplotlib import pyplot\n",
    "import rasterio.mask\n",
    "import fiona\n",
    "import json"
   ]
  },
  {
   "cell_type": "code",
   "execution_count": null,
   "metadata": {},
   "outputs": [],
   "source": [
    "OSD_df = pd.read_parquet(\"generated_files/bio_variables_dataframe_occurence.parquet\")\n",
    "\n",
    "# Creating Geometry\n",
    "OSD_df['geometry'] = list(zip(OSD_df[\"Longitude\"], OSD_df[\"Latitude\"]))\n",
    "OSD_df['geometry'] = OSD_df[\"geometry\"].apply(Point)\n",
    "\n",
    "# Create the geodataframe\n",
    "OSD_geoframe = gpd.GeoDataFrame(\n",
    "    OSD_df,\n",
    "    crs = {'init': 'epsg:4326'},\n",
    "    geometry = OSD_df['geometry']\n",
    ")\n",
    "OSD_geoframe = OSD_geoframe.to_crs(\"EPSG:4326\")\n",
    "OSD_geoframe.reset_index(drop=True, inplace = True)\n",
    "\n",
    "OSD_geoframe['Year'] = OSD_geoframe['Data'].dt.year\n",
    "OSD_df = pd.DataFrame(OSD_geoframe)"
   ]
  },
  {
   "cell_type": "code",
   "execution_count": null,
   "metadata": {},
   "outputs": [],
   "source": [
    "base_dataframe = pd.read_parquet(\"generated_files/bio_variables_dataframe_base.parquet\")"
   ]
  },
  {
   "cell_type": "code",
   "execution_count": null,
   "metadata": {},
   "outputs": [],
   "source": [
    "# Creating Geometry\n",
    "base_dataframe['geometry'] = list(zip(base_dataframe[\"Longitude\"], base_dataframe[\"Latitude\"]))\n",
    "base_dataframe['geometry'] = base_dataframe[\"geometry\"].apply(Point)\n",
    "\n",
    "# Create the geodataframe\n",
    "base_dataframe = gpd.GeoDataFrame(\n",
    "    base_dataframe,\n",
    "    crs = {'init': 'epsg:4326'},\n",
    "    geometry = base_dataframe['geometry']\n",
    ")\n",
    "base_dataframe = base_dataframe.to_crs(\"EPSG:4326\")\n",
    "base_dataframe.reset_index(drop=True, inplace = True)\n",
    "\n",
    "base_dataframe = pd.DataFrame(base_dataframe)"
   ]
  },
  {
   "cell_type": "code",
   "execution_count": null,
   "metadata": {},
   "outputs": [],
   "source": [
    "img_config = {\n",
    "  'toImageButtonOptions': {\n",
    "    'format': 'png', # one of png, svg, jpeg, webp\n",
    "    'filename': 'species_distribution',\n",
    "    'scale':4 # Multiply title/legend/axis/canvas sizes by this factor\n",
    "  }\n",
    "}"
   ]
  },
  {
   "cell_type": "code",
   "execution_count": null,
   "metadata": {},
   "outputs": [],
   "source": [
    "# Source: IBGE:  bcim_2016_21_11_2018\n",
    "INFOS_UFS = gpd.read_file(\"assets/bcim_2016_21_11_2018.gpkg\", layer = 'lim_unidade_federacao_a')[['sigla','geometry']].rename(columns={'sigla':'stateProvince'})\n",
    "INFOS_UFS.to_file(\"assets/UFS_JSON\", driver = \"GeoJSON\")\n",
    "with open(\"assets/UFS_JSON\") as geofile:\n",
    "    j_file = json.load(geofile)"
   ]
  },
  {
   "cell_type": "code",
   "execution_count": null,
   "metadata": {},
   "outputs": [],
   "source": [
    "fig = px.scatter_mapbox(\n",
    "    OSD_df,\n",
    "    lat=\"Latitude\",\n",
    "    lon=\"Longitude\",\n",
    "    color_discrete_sequence=[px.colors.qualitative.Plotly[1]],\n",
    "    color=\"01_annual_mean_temp\",\n",
    "    zoom=4,\n",
    "    height=500,\n",
    "    opacity=0.9\n",
    ")\n",
    "\"\"\"\n",
    "fig_graph = px.scatter_mapbox(\n",
    "    OSD_df,\n",
    "    lat=\"Latitude\",\n",
    "    lon=\"Longitude\",\n",
    "    zoom=4,\n",
    "    opacity=1\n",
    ").data[0]\n",
    "fig.add_trace(fig_graph)\n",
    "\"\"\"\n",
    "fig.update_layout(autosize=True,margin={\"r\": 0, \"t\": 0, \"l\": 0, \"b\": 0},mapbox_style=\"carto-positron\")\n",
    "fig.update_geos(\n",
    "    visible=False,\n",
    "    resolution=50,\n",
    "    lataxis_gridcolor=\"red\",\n",
    "    lataxis_showgrid=True,\n",
    "    lataxis_dtick=15,\n",
    "    lonaxis_showgrid=True,\n",
    "    lonaxis_dtick=15,\n",
    ")\n",
    "#fig.write_image('figure.png', scale=2)\n",
    "fig.show(config=img_config)"
   ]
  }
 ],
 "metadata": {
  "kernelspec": {
   "display_name": "web-scraping-venv",
   "language": "python",
   "name": "python3"
  },
  "language_info": {
   "codemirror_mode": {
    "name": "ipython",
    "version": 3
   },
   "file_extension": ".py",
   "mimetype": "text/x-python",
   "name": "python",
   "nbconvert_exporter": "python",
   "pygments_lexer": "ipython3",
   "version": "3.11.4"
  }
 },
 "nbformat": 4,
 "nbformat_minor": 2
}
