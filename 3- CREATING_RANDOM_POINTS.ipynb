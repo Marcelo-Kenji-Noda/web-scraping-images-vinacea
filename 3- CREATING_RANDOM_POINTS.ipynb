{
 "cells": [
  {
   "cell_type": "code",
   "execution_count": 1,
   "metadata": {},
   "outputs": [],
   "source": [
    "import numpy as np\n",
    "import matplotlib.pyplot as plt\n",
    "import pandas as pd\n",
    "import geopandas as gpd\n",
    "import shapely.geometry\n",
    "from shapely.geometry import Point\n",
    "from mpl_toolkits.basemap import Basemap\n",
    "import glob\n",
    "import rasterio\n",
    "import os\n",
    "import shutil\n",
    "import pyimpute\n",
    "from pathlib import Path"
   ]
  },
  {
   "cell_type": "code",
   "execution_count": 2,
   "metadata": {},
   "outputs": [],
   "source": [
    "np.random.seed(42)"
   ]
  },
  {
   "cell_type": "code",
   "execution_count": 3,
   "metadata": {},
   "outputs": [],
   "source": [
    "BIO_PATH = \"assets/wc2.1_30s_bio/*.tif\"\n",
    "FILE_PATH = \"generated_files\\gbif.parquet\"\n",
    "raster_features = sorted(glob.glob(BIO_PATH))"
   ]
  },
  {
   "cell_type": "code",
   "execution_count": 4,
   "metadata": {},
   "outputs": [
    {
     "name": "stderr",
     "output_type": "stream",
     "text": [
      "c:\\Users\\kenji\\dev\\web-scraping-images-vinacea\\web-scraping-images-vinacea\\web-scraping-venv\\Lib\\site-packages\\pyproj\\crs\\crs.py:141: FutureWarning: '+init=<authority>:<code>' syntax is deprecated. '<authority>:<code>' is the preferred initialization method. When making the change, be mindful of axis order changes: https://pyproj4.github.io/pyproj/stable/gotchas.html#axis-order-changes-in-proj-6\n",
      "  in_crs_string = _prepare_from_proj_string(in_crs_string)\n"
     ]
    }
   ],
   "source": [
    "# Ocurrence species data -> OSD_df\n",
    "OSD_df = pd.read_parquet(FILE_PATH)\n",
    "OSD_df['geometry'] = list(zip(OSD_df[\"Longitude\"], OSD_df[\"Latitude\"]))\n",
    "OSD_df['geometry'] = OSD_df[\"geometry\"].apply(Point)\n",
    "\n",
    "# Create the geodataframe\n",
    "OSD_geoframe = gpd.GeoDataFrame(\n",
    "    OSD_df,\n",
    "    crs = {'init': 'epsg:4326'},\n",
    "    geometry = OSD_df['geometry']\n",
    ")\n",
    "OSD_geoframe = OSD_geoframe.to_crs(\"EPSG:4326\")\n",
    "OSD_geoframe.reset_index(drop=True, inplace = True)\n",
    "\n",
    "coord_list = [(x,y) for x,y in zip(OSD_geoframe['geometry'].x , OSD_geoframe['geometry'].y)]"
   ]
  },
  {
   "cell_type": "code",
   "execution_count": 5,
   "metadata": {},
   "outputs": [],
   "source": [
    "# Source: IBGE:  bcim_2016_21_11_2018\n",
    "import json\n",
    "\n",
    "STATES = [\"RS\",\"SC\",\"PR\",\"SP\",\"MG\",\"ES\",\"RJ\"]"
   ]
  },
  {
   "cell_type": "code",
   "execution_count": 7,
   "metadata": {},
   "outputs": [
    {
     "name": "stderr",
     "output_type": "stream",
     "text": [
      "c:\\Users\\kenji\\dev\\web-scraping-images-vinacea\\web-scraping-images-vinacea\\web-scraping-venv\\Lib\\site-packages\\pyproj\\crs\\crs.py:141: FutureWarning: '+init=<authority>:<code>' syntax is deprecated. '<authority>:<code>' is the preferred initialization method. When making the change, be mindful of axis order changes: https://pyproj4.github.io/pyproj/stable/gotchas.html#axis-order-changes-in-proj-6\n",
      "  in_crs_string = _prepare_from_proj_string(in_crs_string)\n",
      "C:\\Users\\kenji\\AppData\\Local\\Temp\\ipykernel_24160\\449269760.py:23: UserWarning: CRS mismatch between the CRS of left geometries and the CRS of right geometries.\n",
      "Use `to_crs()` to reproject one of the input geometries to match the CRS of the other.\n",
      "\n",
      "Left CRS: None\n",
      "Right CRS: +init=epsg:4326 +type=crs\n",
      "\n",
      "  Sjoin = gpd.tools.sjoin(gdf_points, gdf_poly, predicate=\"within\", how='left')\n"
     ]
    }
   ],
   "source": [
    "\n",
    "INFOS_UFS = gpd.read_file(\"assets/FEATURES/MALHAS/bcim_2016_21_11_2018.gpkg\", layer = 'lim_unidade_federacao_a')[['sigla','geometry']]\n",
    "INFOS_UFS.to_file(\"assets/UFS_JSON\", driver = \"GeoJSON\")\n",
    "\n",
    "def generate_random_points(polygon, number):   \n",
    "    minx, miny, maxx, maxy = polygon.bounds\n",
    "    x = np.random.uniform( minx, maxx, number )\n",
    "    y = np.random.uniform( miny, maxy, number )\n",
    "    return x, y\n",
    "\n",
    "with open(\"assets/UFS_JSON\") as geofile:\n",
    "    geojson_file = json.load(geofile)\n",
    "INFOS_UFS = INFOS_UFS[INFOS_UFS['sigla'].isin(STATES)].reset_index()\n",
    "br_union_geo = INFOS_UFS['geometry'].unary_union\n",
    "\n",
    "gdf_poly = gpd.GeoDataFrame(index=[\"myPoly\"], geometry=[br_union_geo], crs = {'init': 'epsg:4326'},)\n",
    "\n",
    "x, y = generate_random_points(br_union_geo, 10_000)\n",
    "\n",
    "df = pd.DataFrame()\n",
    "df['geometry'] = list(zip(x,y))\n",
    "df['geometry'] = df['geometry'].apply(Point)\n",
    "gdf_points = gpd.GeoDataFrame(df, geometry='geometry')\n",
    "Sjoin = gpd.tools.sjoin(gdf_points, gdf_poly, predicate=\"within\", how='left')\n",
    "\n",
    "# Keep points in \"myPoly\"\n",
    "absence = gdf_points[Sjoin.index_right=='myPoly']"
   ]
  },
  {
   "cell_type": "code",
   "execution_count": 8,
   "metadata": {},
   "outputs": [],
   "source": [
    "OSD_geoframe = OSD_geoframe[['Latitude','Longitude','geometry']].copy()\n",
    "OSD_geoframe['presence'] = 1"
   ]
  },
  {
   "cell_type": "code",
   "execution_count": 9,
   "metadata": {},
   "outputs": [
    {
     "name": "stderr",
     "output_type": "stream",
     "text": [
      "c:\\Users\\kenji\\dev\\web-scraping-images-vinacea\\web-scraping-images-vinacea\\web-scraping-venv\\Lib\\site-packages\\geopandas\\geodataframe.py:1525: SettingWithCopyWarning: \n",
      "A value is trying to be set on a copy of a slice from a DataFrame.\n",
      "Try using .loc[row_indexer,col_indexer] = value instead\n",
      "\n",
      "See the caveats in the documentation: https://pandas.pydata.org/pandas-docs/stable/user_guide/indexing.html#returning-a-view-versus-a-copy\n",
      "  super().__setitem__(key, value)\n",
      "c:\\Users\\kenji\\dev\\web-scraping-images-vinacea\\web-scraping-images-vinacea\\web-scraping-venv\\Lib\\site-packages\\geopandas\\geodataframe.py:1525: SettingWithCopyWarning: \n",
      "A value is trying to be set on a copy of a slice from a DataFrame.\n",
      "Try using .loc[row_indexer,col_indexer] = value instead\n",
      "\n",
      "See the caveats in the documentation: https://pandas.pydata.org/pandas-docs/stable/user_guide/indexing.html#returning-a-view-versus-a-copy\n",
      "  super().__setitem__(key, value)\n",
      "c:\\Users\\kenji\\dev\\web-scraping-images-vinacea\\web-scraping-images-vinacea\\web-scraping-venv\\Lib\\site-packages\\geopandas\\geodataframe.py:1525: SettingWithCopyWarning: \n",
      "A value is trying to be set on a copy of a slice from a DataFrame.\n",
      "Try using .loc[row_indexer,col_indexer] = value instead\n",
      "\n",
      "See the caveats in the documentation: https://pandas.pydata.org/pandas-docs/stable/user_guide/indexing.html#returning-a-view-versus-a-copy\n",
      "  super().__setitem__(key, value)\n"
     ]
    }
   ],
   "source": [
    "absence['Latitude'] = absence['geometry'].y\n",
    "absence['Longitude'] = absence['geometry'].x\n",
    "absence['presence'] = 0"
   ]
  },
  {
   "cell_type": "code",
   "execution_count": 10,
   "metadata": {},
   "outputs": [
    {
     "name": "stderr",
     "output_type": "stream",
     "text": [
      "c:\\Users\\kenji\\dev\\web-scraping-images-vinacea\\web-scraping-images-vinacea\\web-scraping-venv\\Lib\\site-packages\\geopandas\\array.py:1459: UserWarning: CRS not set for some of the concatenation inputs. Setting output's CRS as WGS 84 (the single non-null crs provided).\n",
      "  return GeometryArray(data, crs=_get_common_crs(to_concat))\n"
     ]
    }
   ],
   "source": [
    "merged_df = pd.concat([OSD_geoframe,absence])"
   ]
  },
  {
   "cell_type": "code",
   "execution_count": 11,
   "metadata": {},
   "outputs": [],
   "source": [
    "coord_list = [(x,y) for x,y in zip(merged_df['geometry'].x , merged_df['geometry'].y)]"
   ]
  },
  {
   "cell_type": "code",
   "execution_count": 12,
   "metadata": {},
   "outputs": [],
   "source": [
    "# Point sampling\n",
    "for f in raster_features:\n",
    "    src = rasterio.open(f)\n",
    "    merged_df[Path(f).stem] = [x for x in src.sample(coord_list)]\n",
    "    merged_df[Path(f).stem] = merged_df[Path(f).stem].astype('float64')"
   ]
  },
  {
   "cell_type": "code",
   "execution_count": 13,
   "metadata": {},
   "outputs": [],
   "source": [
    "COLUMNS_RENAME_DICT = {\n",
    "    'wc2.1_30s_bio_1':'01_annual_mean_temp',\n",
    "    'wc2.1_30s_bio_2':'02_mean_diurnal_range',\n",
    "    'wc2.1_30s_bio_3':'03_isothermality',\n",
    "    'wc2.1_30s_bio_4':'04_temperature_seasonality',\n",
    "    'wc2.1_30s_bio_5':'05_maximum_temp_warmest_month',\n",
    "    'wc2.1_30s_bio_6':'06_minimum_temp_coldest_month',\n",
    "    'wc2.1_30s_bio_7':'07_temp_annual_range',\n",
    "    'wc2.1_30s_bio_8':'08_mean_temp_wettest_quarter',\n",
    "    'wc2.1_30s_bio_9':'09_mean_temp_driest_quarter',\n",
    "    'wc2.1_30s_bio_10':'10_mean_temp_warmest_quarter',\n",
    "    'wc2.1_30s_bio_11':'11_mean_temp_coldest_quarter',\n",
    "    'wc2.1_30s_bio_12':'12_annual_precipitation',\n",
    "    'wc2.1_30s_bio_13':'13_precipitation_wettest_month',\n",
    "    'wc2.1_30s_bio_14':'14_precipitation_driest_month',\n",
    "    'wc2.1_30s_bio_15':'15_precipitation_seasonality',\n",
    "    'wc2.1_30s_bio_16':'16_precipitation_of_wettest_quarter',\n",
    "    'wc2.1_30s_bio_17':'17_precipitation_of_driest_quarter',\n",
    "    'wc2.1_30s_bio_18':'18_precipitation_of_warmest_quarter',\n",
    "    'wc2.1_30s_bio_19':'19_precipitation_of_coldest_quarter',\n",
    "}"
   ]
  },
  {
   "cell_type": "code",
   "execution_count": 14,
   "metadata": {},
   "outputs": [],
   "source": [
    "merged_df.rename(columns=COLUMNS_RENAME_DICT, inplace=True)"
   ]
  },
  {
   "cell_type": "code",
   "execution_count": 15,
   "metadata": {},
   "outputs": [],
   "source": [
    "merged_df.drop(columns=[\"geometry\"]).to_parquet(\"generated_files/bio_variables_dataframe_occurence_and_abscence.parquet\", index=False)\n",
    "merged_df.drop(columns=[\"geometry\"]).to_csv(\"generated_files/bio_variables_dataframe_occurence_and_abscence.csv\", index=False)"
   ]
  }
 ],
 "metadata": {
  "kernelspec": {
   "display_name": "web-scraping-venv",
   "language": "python",
   "name": "python3"
  },
  "language_info": {
   "codemirror_mode": {
    "name": "ipython",
    "version": 3
   },
   "file_extension": ".py",
   "mimetype": "text/x-python",
   "name": "python",
   "nbconvert_exporter": "python",
   "pygments_lexer": "ipython3",
   "version": "3.11.4"
  }
 },
 "nbformat": 4,
 "nbformat_minor": 2
}
