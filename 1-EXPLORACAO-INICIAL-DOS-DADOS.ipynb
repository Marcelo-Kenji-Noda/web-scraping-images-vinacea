{
 "cells": [
  {
   "cell_type": "code",
   "execution_count": null,
   "metadata": {},
   "outputs": [],
   "source": [
    "import dask.dataframe as dd\n",
    "import pandas as pd"
   ]
  },
  {
   "cell_type": "code",
   "execution_count": null,
   "metadata": {},
   "outputs": [],
   "source": [
    "FILE_PATH = \"assets/INPUT/gbif.csv\"\n",
    "OUTPUT_FILE_PATH = \"assets/INPUT/gbif.parquet\""
   ]
  },
  {
   "cell_type": "code",
   "execution_count": null,
   "metadata": {},
   "outputs": [],
   "source": [
    "STATE_NAME_ENCODING = {\n",
    "   \"Santa Catarina\":\"SC\",\n",
    "   \"São Paulo\":\"SP\",\n",
    "   \"Rio Grande do Sul\":\"RS\",\n",
    "   \"Minas Gerais\":\"MG\",\n",
    "   \"Paraná\":\"PR\",\n",
    "   \"Espírito Santo\":\"ES\",\n",
    "   \"Brazil - São Paulo\":\"SP\",\n",
    "   \"Rio de Janeiro\":\"RJ\",\n",
    "   \"Brazil - Minas Gerais\":\"MG\",\n",
    "   \"Bahia\":\"BA\",\n",
    "   \"Mato Grosso do Sul\":\"MS\",\n",
    "   \"Parana\":\"PR\",\n",
    "   \"Brazil - Santa Catarina\":\"SC\",\n",
    "   \"Sp\":\"SP\"  \n",
    "}"
   ]
  },
  {
   "cell_type": "code",
   "execution_count": null,
   "metadata": {},
   "outputs": [],
   "source": [
    "## Selecting and transforming data to correct data types\n",
    "occurence_species_data_unfiltered = dd.read_csv(\n",
    "       FILE_PATH,\n",
    "       sep='\\t',\n",
    "       dtype={'dateIdentified': 'object',\n",
    "       'day': 'float64',\n",
    "       'establishmentMeans': 'object',\n",
    "       'identifiedBy': 'object',\n",
    "       'mediaType': 'object',\n",
    "       'month': 'float64',\n",
    "       'recordNumber': 'object',\n",
    "       'rightsHolder': 'object',\n",
    "       'verbatimScientificNameAuthorship': 'object',\n",
    "       'year': 'float64'\n",
    "}\n",
    ").reset_index().compute().to_parquet(OUTPUT_FILE_PATH)"
   ]
  },
  {
   "cell_type": "markdown",
   "metadata": {},
   "source": [
    "## Describing data before filtering"
   ]
  },
  {
   "cell_type": "code",
   "execution_count": null,
   "metadata": {},
   "outputs": [],
   "source": [
    "occurence_species_data = pd.read_parquet(\n",
    "    OUTPUT_FILE_PATH, \n",
    "    columns=[\n",
    "        'countryCode',\n",
    "        'locality',\n",
    "        'decimalLatitude',\n",
    "        'decimalLongitude',\n",
    "        'eventDate',\n",
    "        'individualCount',\n",
    "        'basisOfRecord',\n",
    "        'collectionCode',\n",
    "        'stateProvince'],\n",
    ").reset_index(drop=True)"
   ]
  },
  {
   "cell_type": "code",
   "execution_count": null,
   "metadata": {},
   "outputs": [],
   "source": [
    "occurence_species_data = occurence_species_data[occurence_species_data['countryCode'] == 'BR'] # Filtering only in Brazil\n",
    "occurence_species_data = occurence_species_data[~occurence_species_data['eventDate'].isna()].reset_index(drop=True) # Removing data that does not contain date information\n",
    "occurence_species_data.loc[occurence_species_data['individualCount'].isna(),'individualCount'] = 1 # Setting 1 as default\n",
    "occurence_species_data = occurence_species_data[occurence_species_data['decimalLatitude'].notna() & occurence_species_data['decimalLongitude'].notna()] # Removing data without any information about latitude and longitude\n",
    "occurence_species_data['eventDate'] = pd.to_datetime(occurence_species_data['eventDate'], format=\"mixed\", utc=True) # Setting column as datetime\n",
    "occurence_species_data.loc[:,'stateProvince'] = occurence_species_data.stateProvince.replace(STATE_NAME_ENCODING) # Renaming"
   ]
  },
  {
   "cell_type": "code",
   "execution_count": null,
   "metadata": {},
   "outputs": [],
   "source": [
    "occurence_species_data = occurence_species_data[~occurence_species_data['stateProvince'].isnull()].reset_index(drop=True)"
   ]
  },
  {
   "cell_type": "code",
   "execution_count": null,
   "metadata": {},
   "outputs": [],
   "source": [
    "COLUMNS_RENAME = {\n",
    "    \"countryCode\":\"Pais\",\n",
    "    \"locality\":\"Localizacao\",\n",
    "    \"decimalLatitude\":\"Latitude\",\n",
    "    \"decimalLongitude\":\"Longitude\",\n",
    "    \"eventDate\":\"Data\",\n",
    "    \"individualCount\":\"Contagem de individuos\",\n",
    "    \"collectionCode\":\"Plataforma\",\n",
    "    \"stateProvince\":\"Estado\",\n",
    "    \"basisOfRecord\":\"Fonte do registro\"\n",
    "}"
   ]
  },
  {
   "cell_type": "code",
   "execution_count": null,
   "metadata": {},
   "outputs": [],
   "source": [
    "occurence_species_data.rename(columns=COLUMNS_RENAME, inplace=True)"
   ]
  },
  {
   "cell_type": "code",
   "execution_count": null,
   "metadata": {},
   "outputs": [],
   "source": [
    "occurence_species_data.to_parquet(OUTPUT_FILE_PATH, index=False)\n",
    "occurence_species_data.to_csv(\"generated_files/gbif_treated.csv\", index=False, sep=';')"
   ]
  },
  {
   "cell_type": "code",
   "execution_count": null,
   "metadata": {},
   "outputs": [],
   "source": [
    "occurence_species_data"
   ]
  }
 ],
 "metadata": {
  "kernelspec": {
   "display_name": "web-scraping-venv",
   "language": "python",
   "name": "python3"
  },
  "language_info": {
   "codemirror_mode": {
    "name": "ipython",
    "version": 3
   },
   "file_extension": ".py",
   "mimetype": "text/x-python",
   "name": "python",
   "nbconvert_exporter": "python",
   "pygments_lexer": "ipython3",
   "version": "3.11.4"
  }
 },
 "nbformat": 4,
 "nbformat_minor": 2
}
