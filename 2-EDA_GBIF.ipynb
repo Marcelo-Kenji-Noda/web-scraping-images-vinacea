{
 "cells": [
  {
   "cell_type": "code",
   "execution_count": 1,
   "metadata": {},
   "outputs": [],
   "source": [
    "import pandas as pd\n",
    "from shapely.geometry import Point\n",
    "import geopandas as gpd\n",
    "\n",
    "from mpl_toolkits.basemap import Basemap\n",
    "import matplotlib.pyplot as plt\n",
    "import plotly.express as px\n",
    "import plotly.graph_objects as go\n",
    "from matplotlib import pyplot\n",
    "import rasterio.mask\n",
    "import fiona\n",
    "import json"
   ]
  },
  {
   "cell_type": "code",
   "execution_count": 2,
   "metadata": {},
   "outputs": [],
   "source": [
    "from requests import get as requests_get"
   ]
  },
  {
   "cell_type": "code",
   "execution_count": 3,
   "metadata": {},
   "outputs": [],
   "source": [
    "from urllib import request\n",
    "\n",
    "url = 'https://raw.githubusercontent.com/codeforgermany/click_that_hood/main/public/data/brazil-states.geojson'\n",
    "with request.urlopen(url) as f:\n",
    "    brazil_states = json.load(f)"
   ]
  },
  {
   "cell_type": "code",
   "execution_count": 6,
   "metadata": {},
   "outputs": [],
   "source": [
    "FILE_PATH = \"generated_files\\gbif.parquet\""
   ]
  },
  {
   "cell_type": "code",
   "execution_count": 7,
   "metadata": {},
   "outputs": [
    {
     "name": "stderr",
     "output_type": "stream",
     "text": [
      "c:\\Users\\kenji\\dev\\web-scraping-images-vinacea\\web-scraping-images-vinacea\\web-scraping-venv\\Lib\\site-packages\\pyproj\\crs\\crs.py:141: FutureWarning: '+init=<authority>:<code>' syntax is deprecated. '<authority>:<code>' is the preferred initialization method. When making the change, be mindful of axis order changes: https://pyproj4.github.io/pyproj/stable/gotchas.html#axis-order-changes-in-proj-6\n",
      "  in_crs_string = _prepare_from_proj_string(in_crs_string)\n"
     ]
    }
   ],
   "source": [
    "# Ocurrence species data -> OSD_df\n",
    "OSD_df = pd.read_parquet(FILE_PATH)\n",
    "\n",
    "# Creating Geometry\n",
    "OSD_df['geometry'] = list(zip(OSD_df[\"Longitude\"], OSD_df[\"Latitude\"]))\n",
    "OSD_df['geometry'] = OSD_df[\"geometry\"].apply(Point)\n",
    "\n",
    "# Create the geodataframe\n",
    "OSD_geoframe = gpd.GeoDataFrame(\n",
    "    OSD_df,\n",
    "    crs = {'init': 'epsg:4326'},\n",
    "    geometry = OSD_df['geometry']\n",
    ")\n",
    "OSD_geoframe = OSD_geoframe.to_crs(\"EPSG:4326\")\n",
    "OSD_geoframe.reset_index(drop=True, inplace = True)\n",
    "\n",
    "OSD_geoframe['Year'] = OSD_geoframe['Data'].dt.year\n",
    "OSD_df = pd.DataFrame(OSD_geoframe)"
   ]
  },
  {
   "cell_type": "code",
   "execution_count": 8,
   "metadata": {},
   "outputs": [
    {
     "data": {
      "text/plain": [
       "(2847, 11)"
      ]
     },
     "execution_count": 8,
     "metadata": {},
     "output_type": "execute_result"
    }
   ],
   "source": [
    "OSD_geoframe.shape"
   ]
  },
  {
   "cell_type": "code",
   "execution_count": 9,
   "metadata": {},
   "outputs": [],
   "source": [
    "OSD_geoframe = OSD_geoframe[~OSD_geoframe['Estado'].isnull()]"
   ]
  },
  {
   "cell_type": "code",
   "execution_count": 10,
   "metadata": {},
   "outputs": [],
   "source": [
    "coord_list = [(x,y) for x,y in zip(OSD_geoframe['geometry'].x , OSD_geoframe['geometry'].y)]"
   ]
  },
  {
   "cell_type": "code",
   "execution_count": 11,
   "metadata": {},
   "outputs": [],
   "source": [
    "# Source: IBGE:  bcim_2016_21_11_2018\n",
    "INFOS_UFS = gpd.read_file(\"assets/bcim_2016_21_11_2018.gpkg\", layer = 'lim_unidade_federacao_a')[['sigla','geometry']].rename(columns={'sigla':'stateProvince'})\n",
    "INFOS_UFS.to_file(\"assets/UFS_JSON\", driver = \"GeoJSON\")\n",
    "with open(\"assets/UFS_JSON\") as geofile:\n",
    "    j_file = json.load(geofile)"
   ]
  },
  {
   "cell_type": "code",
   "execution_count": 12,
   "metadata": {},
   "outputs": [],
   "source": [
    "img_config = {\n",
    "  'toImageButtonOptions': {\n",
    "    'format': 'png', # one of png, svg, jpeg, webp\n",
    "    'filename': 'species_distribution',\n",
    "    'scale':4 # Multiply title/legend/axis/canvas sizes by this factor\n",
    "  }\n",
    "}"
   ]
  },
  {
   "cell_type": "code",
   "execution_count": 13,
   "metadata": {},
   "outputs": [],
   "source": [
    "if False:\n",
    "    fig = px.choropleth_mapbox(\n",
    "            INFOS_UFS,\n",
    "            locations=\"stateProvince\",\n",
    "            center={\"lat\": -16.95, \"lon\": -47.78},\n",
    "            geojson=brazil_states,\n",
    "            featureidkey='properties.sigla', # add\n",
    "            color_continuous_scale=\"Redor\",\n",
    "            opacity=0.,\n",
    "            zoom=3,\n",
    "            hover_data={\"stateProvince\": True},\n",
    "            mapbox_style=\"carto-positron\"\n",
    "    )\n",
    "    fig_graph = px.scatter_mapbox(\n",
    "        OSD_geoframe.sort_values(by='Year',ascending=True),\n",
    "        lat=\"decimalLatitude\",\n",
    "        lon=\"decimalLongitude\",\n",
    "        hover_name=\"stateProvince\",\n",
    "        color_discrete_sequence=[px.colors.qualitative.Plotly[1]],\n",
    "        zoom=3,\n",
    "        height=500,\n",
    "        opacity=1\n",
    "    ).data[0]\n",
    "\n",
    "    fig.add_trace(fig_graph)\n",
    "    fig.show(config=img_config)\n"
   ]
  },
  {
   "cell_type": "code",
   "execution_count": 11,
   "metadata": {},
   "outputs": [
    {
     "data": {
      "application/vnd.plotly.v1+json": {
       "config": {
        "plotlyServerURL": "https://plot.ly",
        "toImageButtonOptions": {
         "filename": "species_distribution",
         "format": "png",
         "scale": 4
        }
       },
       "data": [
        {
         "hovertemplate": "<b>%{hovertext}</b><br><br>Latitude=%{lat}<br>Longitude=%{lon}<extra></extra>",
         "hovertext": [
          "PR",
          "MS",
          "ES",
          "RS",
          "SP",
          "SP",
          "SC",
          "SP",
          "SP",
          "PR",
          "SP",
          "SP",
          "SP",
          "RS",
          "RS",
          "RS",
          "RS",
          "RS",
          "SC",
          "SC",
          "SC",
          "SP",
          "SP",
          "MG",
          "SC",
          "SP",
          "SP",
          "SP",
          "MG",
          "SP",
          "RS",
          "SP",
          "SC",
          "SC",
          "SC",
          "SP",
          "SP",
          "SP",
          "SP",
          "SP",
          "SP",
          "SP",
          "SP",
          "SC",
          "SP",
          "SP",
          "SP",
          "RS",
          "SP",
          "PR",
          "SP",
          "PR",
          "MG",
          "RS",
          "SP",
          "MG",
          "SP",
          "RS",
          "MG",
          "SC",
          "SP",
          "SC",
          "SP",
          "SC",
          "RS",
          "SC",
          "SC",
          "SP",
          "SP",
          "SP",
          "SP",
          "SC",
          "SP",
          "SP",
          "SC",
          "SP",
          "SC",
          "SC",
          "SC",
          "SC",
          "SP",
          "RJ",
          "SP",
          "SC",
          "MG",
          "SC",
          "SP",
          "SC",
          "SC",
          "SC",
          "SC",
          "SC",
          "SC",
          "SC",
          "SC",
          "SC",
          "SC",
          "SC",
          "ES",
          "SP",
          "SC",
          "ES",
          "ES",
          "SC",
          "RJ",
          "SP",
          "SC",
          "SC",
          "SC",
          "SC",
          "SC",
          "SC",
          "SC",
          "SC",
          "SC",
          "SC",
          "SC",
          "SC",
          "ES",
          "SC",
          "SP",
          "SP",
          "SP",
          "SP",
          "MG",
          "MG",
          "MG",
          "SP",
          "SP",
          "SC",
          "SC",
          "SC",
          "PR",
          "RJ",
          "SP",
          "SC",
          "SP",
          "SP",
          "MG",
          "SP",
          "SC",
          "SP",
          "SP",
          "SP",
          "SC",
          "SC",
          "SC",
          "SP",
          "SC",
          "MG",
          "SP",
          "SP",
          "SC",
          "SP",
          "SP",
          "SP",
          "RS",
          "RS",
          "SP",
          "SP",
          "RJ",
          "MG",
          "RS",
          "PR",
          "MG",
          "RS",
          "SP",
          "SP",
          "SP",
          "SC",
          "SP",
          "SP",
          "SP",
          "SC",
          "SP",
          "SP",
          "SP",
          "SP",
          "SP",
          "SP",
          "SP",
          "SP",
          "SP",
          "SP",
          "SP",
          "SP",
          "SP",
          "SP",
          "SP",
          "PR",
          "SP",
          "SP",
          "SP",
          "SP",
          "SP",
          "SP",
          "SP",
          "SP",
          "SP",
          "SP",
          "SP",
          "SP",
          "SP",
          "SP",
          "SC",
          "SP",
          "SP",
          "SP",
          "SP",
          "SP",
          "SP",
          "SP",
          "RJ",
          "SP",
          "SP",
          "SP",
          "SP",
          "SP",
          "SP",
          "SP",
          "SP",
          "SP",
          "SP",
          "SP",
          "SP",
          "MG",
          "RS",
          "SP",
          "SP",
          "SP",
          "SP",
          "RS",
          "SP",
          "SP",
          "SP",
          "SP",
          "RS",
          "RS",
          "SP",
          "RS",
          "SP",
          "SP",
          "SC",
          "SC",
          "MG",
          "SP",
          "SP",
          "SC",
          "MG",
          "SP",
          "RS",
          "SC",
          "SC",
          "SP",
          "SC",
          "SP",
          "SP",
          "MG",
          "RS",
          "SP",
          "SP",
          "SP",
          "RS",
          "PR",
          "PR",
          "RS",
          "PR",
          "SP",
          "SC",
          "RS",
          "RS",
          "SC",
          "SC",
          "RS",
          "SP",
          "SP",
          "SP",
          "RS",
          "SP",
          "RS",
          "SP",
          "SP",
          "RS",
          "SP",
          "RS",
          "SC",
          "RS",
          "SP",
          "RS",
          "MG",
          "SP",
          "MG",
          "MG",
          "SP",
          "MG",
          "SP",
          "SP",
          "SP",
          "SP",
          "SP",
          "PR",
          "SC",
          "SP",
          "SP",
          "SC",
          "SP",
          "SP",
          "SP",
          "RS",
          "SP",
          "SC",
          "RS",
          "RS",
          "SC",
          "RS",
          "SC",
          "SC",
          "PR",
          "RS",
          "SC",
          "SP",
          "SP",
          "RS",
          "SP",
          "RS",
          "SP",
          "RS",
          "RS",
          "SP",
          "RS",
          "SC",
          "SC",
          "SP",
          "SC",
          "SP",
          "RS",
          "SC",
          "SP",
          "RS",
          "SP",
          "MG",
          "RS",
          "RS",
          "SC",
          "PR",
          "RS",
          "SP",
          "SP",
          "SP",
          "SC",
          "SP",
          "SC",
          "SC",
          "SC",
          "MG",
          "RS",
          "SP",
          "SC",
          "SC",
          "MG",
          "SP",
          "SP",
          "SP",
          "SP",
          "SP",
          "MG",
          "SP",
          "SP",
          "SP",
          "SP",
          "SC",
          "SP",
          "MG",
          "SP",
          "SP",
          "SC",
          "SC",
          "MG",
          "SP",
          "SP",
          "SP",
          "SP",
          "PR",
          "SC",
          "SC",
          "SC",
          "SC",
          "RS",
          "SC",
          "SC",
          "SC",
          "SC",
          "SC",
          "SC",
          "SC",
          "SC",
          "SC",
          "SC",
          "SC",
          "SC",
          "SC",
          "SC",
          "SC",
          "SC",
          "SC",
          "SC",
          "PR",
          "SP",
          "SP",
          "SP",
          "SC",
          "SC",
          "SC",
          "SC",
          "SP",
          "SP",
          "SC",
          "RS",
          "RS",
          "RS",
          "SC",
          "SC",
          "SC",
          "RS",
          "MG",
          "MG",
          "MG",
          "SC",
          "MG",
          "ES",
          "MG",
          "SC",
          "MG",
          "SC",
          "SC",
          "SC",
          "SP",
          "SC",
          "SP",
          "SC",
          "SC",
          "SC",
          "SP",
          "SC",
          "SC",
          "SC",
          "SC",
          "SC",
          "SC",
          "SP",
          "SC",
          "SC",
          "SC",
          "SC",
          "SC",
          "SC",
          "SC",
          "SC",
          "SC",
          "SP",
          "SC",
          "SC",
          "MG",
          "SC",
          "SC",
          "SC",
          "SP",
          "SC",
          "SP",
          "SC",
          "SP",
          "RS",
          "SP",
          "MG",
          "SP",
          "SP",
          "PR",
          "MG",
          "SP",
          "SP",
          "SP",
          "SP",
          "MG",
          "SP",
          "SP",
          "SP",
          "SC",
          "SP",
          "SP",
          "SP",
          "SP",
          "RS",
          "SP",
          "MG",
          "RS",
          "SP",
          "MG",
          "MG",
          "SC",
          "SP",
          "ES",
          "SC",
          "MG",
          "MG",
          "SP",
          "MG",
          "SP",
          "SP",
          "SC",
          "MG",
          "SP",
          "SP",
          "PR",
          "SC",
          "SC",
          "SC",
          "SC",
          "SC",
          "SC",
          "SP",
          "SP",
          "SC",
          "SP",
          "MG",
          "RS",
          "SP",
          "SP",
          "MG",
          "SC",
          "SC",
          "SC",
          "SC",
          "SC",
          "SC",
          "SP",
          "SC",
          "SC",
          "SC",
          "SC",
          "SP",
          "RS",
          "SC",
          "MG",
          "SP",
          "SP",
          "SP",
          "SP",
          "SP",
          "SP",
          "SP",
          "SC",
          "SC",
          "PR",
          "SP",
          "SP",
          "MG",
          "SP",
          "SC",
          "SC",
          "SP",
          "SP",
          "SC",
          "SP",
          "SP",
          "SP",
          "SP",
          "SP",
          "SP",
          "PR",
          "SP",
          "SC",
          "SP",
          "SP",
          "PR",
          "SC",
          "SP",
          "PR",
          "SC",
          "SC",
          "MG",
          "MG",
          "PR",
          "MG",
          "SC",
          "SC",
          "MG",
          "SC",
          "PR",
          "MG",
          "PR",
          "MG",
          "PR",
          "SC",
          "SC",
          "SP",
          "SP",
          "PR",
          "ES",
          "ES",
          "MG",
          "MG",
          "SC",
          "PR",
          "SC",
          "SC",
          "SC",
          "SP",
          "SP",
          "SP",
          "SP",
          "PR",
          "SP",
          "SP",
          "PR",
          "MG",
          "PR",
          "SP",
          "SC",
          "SP",
          "SP",
          "SP",
          "SP",
          "SP",
          "SP",
          "SC",
          "SP",
          "PR",
          "PR",
          "SP",
          "SP",
          "SP",
          "SC",
          "ES",
          "SP",
          "SP",
          "SP",
          "SP",
          "SP",
          "MG",
          "SP",
          "RS",
          "MG",
          "RS",
          "MG",
          "SC",
          "PR",
          "SC",
          "PR",
          "SP",
          "SC",
          "SC",
          "SP",
          "RS",
          "PR",
          "RS",
          "ES",
          "SP",
          "SP",
          "RS",
          "MG",
          "MG",
          "RS",
          "SP",
          "RS",
          "RS",
          "RS",
          "RS",
          "SC",
          "PR",
          "SC",
          "MG",
          "SP",
          "RJ",
          "RS",
          "SC",
          "SC",
          "SP",
          "RS",
          "RS",
          "SP",
          "SP",
          "RS",
          "SC",
          "RS",
          "SP",
          "SP",
          "SP",
          "SP",
          "SP",
          "SC",
          "SP",
          "SC",
          "SC",
          "SP",
          "SP",
          "SP",
          "SC",
          "SC",
          "SC",
          "SC",
          "SC",
          "SC",
          "SC",
          "SC",
          "SC",
          "SP",
          "SC",
          "SC",
          "SC",
          "PR",
          "ES",
          "ES",
          "SP",
          "SP",
          "RJ",
          "MG",
          "MG",
          "SC",
          "SP",
          "SP",
          "SP",
          "SC",
          "SC",
          "SC",
          "SC",
          "SC",
          "SC",
          "SC",
          "SC",
          "SP",
          "SC",
          "SC",
          "ES",
          "ES",
          "ES",
          "SC",
          "SP",
          "ES",
          "SP",
          "SP",
          "SC",
          "RS",
          "MG",
          "ES",
          "RS",
          "PR",
          "SC",
          "PR",
          "RS",
          "MG",
          "SP",
          "PR",
          "SP",
          "SC",
          "ES",
          "MG",
          "SC",
          "MG",
          "SC",
          "PR",
          "SP",
          "RS",
          "SC",
          "PR",
          "PR",
          "RS",
          "SP",
          "SC",
          "PR",
          "SP",
          "SP",
          "SP",
          "MG",
          "SP",
          "SP",
          "SC",
          "SC",
          "SC",
          "SP",
          "SC",
          "SC",
          "RS",
          "SC",
          "ES",
          "SC",
          "ES",
          "SC",
          "RS",
          "SC",
          "SC",
          "MG",
          "SP",
          "SC",
          "SC",
          "RS",
          "SC",
          "RS",
          "SP",
          "RS",
          "MG",
          "MG",
          "SP",
          "MG",
          "RS",
          "RS",
          "SC",
          "MG",
          "SP",
          "SP",
          "MG",
          "MG",
          "PR",
          "RS",
          "SC",
          "MG",
          "PR",
          "RS",
          "PR",
          "RS",
          "PR",
          "SC",
          "SC",
          "MG",
          "RS",
          "PR",
          "MG",
          "RS",
          "SP",
          "SP",
          "RS",
          "MG",
          "MG",
          "MG",
          "PR",
          "RS",
          "RS",
          "PR",
          "SP",
          "SP",
          "SC",
          "SP",
          "RS",
          "MG",
          "SC",
          "SP",
          "PR",
          "MG",
          "SP",
          "SC",
          "SP",
          "MG",
          "SC",
          "MG",
          "RS",
          "RS",
          "SP",
          "SP",
          "RS",
          "RS",
          "MG",
          "PR",
          "RS",
          "SP",
          "MG",
          "SP",
          "RS",
          "SP",
          "SP",
          "RS",
          "MG",
          "SP",
          "SP",
          "SC",
          "PR",
          "PR",
          "PR",
          "MG",
          "SC",
          "SC",
          "RS",
          "PR",
          "SC",
          "MG",
          "SP",
          "MG",
          "MG",
          "SC",
          "SC",
          "RS",
          "SC",
          "SC",
          "MG",
          "RS",
          "MG",
          "SP",
          "MG",
          "RS",
          "SC",
          "SP",
          "SC",
          "SP",
          "SC",
          "SC",
          "SP",
          "SP",
          "RS",
          "RS",
          "SC",
          "SP",
          "SP",
          "RS",
          "SP",
          "SP",
          "RS",
          "MG",
          "SP",
          "SP",
          "SC",
          "SC",
          "RS",
          "RS",
          "RS",
          "RS",
          "SC",
          "SC",
          "RS",
          "RS",
          "RS",
          "RS",
          "SC",
          "SC",
          "MG",
          "SC",
          "SC",
          "SC",
          "RS",
          "RS",
          "RS",
          "RS",
          "RS",
          "RS",
          "PR",
          "RS",
          "RS",
          "MG",
          "RS",
          "RS",
          "ES",
          "SC",
          "RS",
          "RS",
          "MG",
          "RS",
          "RS",
          "SC",
          "MG",
          "SP",
          "SC",
          "SC",
          "MG",
          "SP",
          "SC",
          "SP",
          "PR",
          "SP",
          "MG",
          "PR",
          "SP",
          "MG",
          "SC",
          "RS",
          "SC",
          "SC",
          "SP",
          "MG",
          "SC",
          "PR",
          "PR",
          "SP",
          "RS",
          "RS",
          "PR",
          "SP",
          "PR",
          "RS",
          "MG",
          "SC",
          "RS",
          "ES",
          "MG",
          "RS",
          "SC",
          "SC",
          "SC",
          "SC",
          "SC",
          "MG",
          "SC",
          "MG",
          "SC",
          "SC",
          "SC",
          "SC",
          "PR",
          "SP",
          "SC",
          "SC",
          "MG",
          "SC",
          "SP",
          "MG",
          "SP",
          "RS",
          "SC",
          "SC",
          "SP",
          "SP",
          "MG",
          "MG",
          "SC",
          "SP",
          "MG",
          "PR",
          "SC",
          "SC",
          "MG",
          "MG",
          "RS",
          "SP",
          "RS",
          "RS",
          "SC",
          "SP",
          "RS",
          "SC",
          "SP",
          "SC",
          "SP",
          "RS",
          "RS",
          "SP",
          "SP",
          "SC",
          "SP",
          "RS",
          "MG",
          "SC",
          "MG",
          "SC",
          "MG",
          "SC",
          "SC",
          "MG",
          "SC",
          "SP",
          "SP",
          "SC",
          "SP",
          "SP",
          "MG",
          "RS",
          "SP",
          "SC",
          "SC",
          "RS",
          "SP",
          "SC",
          "SC",
          "SC",
          "MG",
          "RS",
          "MG",
          "RS",
          "RS",
          "RS",
          "SP",
          "PR",
          "SP",
          "SC",
          "SP",
          "MG",
          "SP",
          "SP",
          "SP",
          "SC",
          "RS",
          "SP",
          "MG",
          "MG",
          "SC",
          "SP",
          "RS",
          "PR",
          "SP",
          "SP",
          "SP",
          "MG",
          "SP",
          "MG",
          "SP",
          "SP",
          "MG",
          "SP",
          "RS",
          "SP",
          "SP",
          "MG",
          "SP",
          "SP",
          "SP",
          "SP",
          "MG",
          "MG",
          "RS",
          "MG",
          "MG",
          "SP",
          "SC",
          "SP",
          "SP",
          "SP",
          "RS",
          "SP",
          "SC",
          "SP",
          "SP",
          "RS",
          "SP",
          "MG",
          "PR",
          "SC",
          "SP",
          "SC",
          "SP",
          "RS",
          "SP",
          "MG",
          "SP",
          "SP",
          "SP",
          "SP",
          "SP",
          "RS",
          "RS",
          "MG",
          "SP",
          "SP",
          "SC",
          "SC",
          "SP",
          "SP",
          "MG",
          "MG",
          "SC",
          "MG",
          "SC",
          "RS",
          "SP",
          "SC",
          "SP",
          "MG",
          "SC",
          "SC",
          "MG",
          "SP",
          "SP",
          "SP",
          "SC",
          "RS",
          "SP",
          "SC",
          "SP",
          "RS",
          "SP",
          "SP",
          "MG",
          "SC",
          "SC",
          "RS",
          "SP",
          "SP",
          "SC",
          "SC",
          "MG",
          "RS",
          "PR",
          "RS",
          "SP",
          "MG",
          "SP",
          "RS",
          "SP",
          "SP",
          "SP",
          "SP",
          "SP",
          "MG",
          "SP",
          "SC",
          "MG",
          "SC",
          "MG",
          "RS",
          "RS",
          "RS",
          "MG",
          "SP",
          "SC",
          "MG",
          "MG",
          "SP",
          "RS",
          "SC",
          "RS",
          "RS",
          "RS",
          "PR",
          "RS",
          "SP",
          "MG",
          "RS",
          "MG",
          "SC",
          "SP",
          "SP",
          "MG",
          "PR",
          "SC",
          "MG",
          "SP",
          "SP",
          "SP",
          "SP",
          "RS",
          "SP",
          "MG",
          "PR",
          "RS",
          "RS",
          "SP",
          "PR",
          "SP",
          "SC",
          "SC",
          "RS",
          "SP",
          "SC",
          "SC",
          "MG",
          "SP",
          "SC",
          "PR",
          "SP",
          "RS",
          "RS",
          "PR",
          "SP",
          "SC",
          "SP",
          "SP",
          "SC",
          "SC",
          "SC",
          "SP",
          "PR",
          "SC",
          "SP",
          "SC",
          "SP",
          "SP",
          "MG",
          "SP",
          "MG",
          "SP",
          "SC",
          "RS",
          "SP",
          "RS",
          "SP",
          "SP",
          "SP",
          "MG",
          "SP",
          "MG",
          "SC",
          "SP",
          "SP",
          "SP",
          "SP",
          "SP",
          "SP",
          "MG",
          "SP",
          "SP",
          "SP",
          "SC",
          "SP",
          "MG",
          "MG",
          "MG",
          "RS",
          "RS",
          "SP",
          "RS",
          "SP",
          "SP",
          "MG",
          "SC",
          "RS",
          "PR",
          "MG",
          "PR",
          "SP",
          "SP",
          "SP",
          "MG",
          "PR",
          "MG",
          "RS",
          "RS",
          "SC",
          "PR",
          "SP",
          "SP",
          "SP",
          "RS",
          "SC",
          "MG",
          "SP",
          "PR",
          "MG",
          "SP",
          "PR",
          "SP",
          "SP",
          "SP",
          "SP",
          "SP",
          "SP",
          "SP",
          "SP",
          "SP",
          "SP",
          "MG",
          "RS",
          "SP",
          "SP",
          "MG",
          "SP",
          "SP",
          "RS",
          "SP",
          "PR",
          "SP",
          "PR",
          "PR",
          "SP",
          "SC",
          "SP",
          "SP",
          "SP",
          "PR",
          "MG",
          "SP",
          "MG",
          "PR",
          "SC",
          "PR",
          "SP",
          "RS",
          "SP",
          "SC",
          "PR",
          "MG",
          "RS",
          "RS",
          "SP",
          "RS",
          "SP",
          "SP",
          "MG",
          "MG",
          "SP",
          "MG",
          "RS",
          "SP",
          "SC",
          "RS",
          "SP",
          "PR",
          "SP",
          "SP",
          "SC",
          "SP",
          "PR",
          "SC",
          "RS",
          "SP",
          "RS",
          "RS",
          "PR",
          "PR",
          "PR",
          "SP",
          "MG",
          "PR",
          "SP",
          "SC",
          "RS",
          "RS",
          "RS",
          "SP",
          "SP",
          "SP",
          "MG",
          "MG",
          "MG",
          "RS",
          "PR",
          "SP",
          "MG",
          "SP",
          "MG",
          "PR",
          "SP",
          "MG",
          "SC",
          "MG",
          "PR",
          "SP",
          "RS",
          "MG",
          "MG",
          "SC",
          "RS",
          "SP",
          "SP",
          "PR",
          "RS",
          "RS",
          "SP",
          "RS",
          "RS",
          "MG",
          "RS",
          "SP",
          "SP",
          "SP",
          "MG",
          "SC",
          "SP",
          "MG",
          "MG",
          "SP",
          "SC",
          "MG",
          "PR",
          "SC",
          "MG",
          "PR",
          "MG",
          "SP",
          "SP",
          "PR",
          "RS",
          "RS",
          "SP",
          "SP",
          "SP",
          "SP",
          "SP",
          "MG",
          "RS",
          "SP",
          "SP",
          "PR",
          "SC",
          "SP",
          "MG",
          "SC",
          "MG",
          "MG",
          "MG",
          "SC",
          "SP",
          "MG",
          "MG",
          "SP",
          "SC",
          "MG",
          "PR",
          "SP",
          "PR",
          "PR",
          "PR",
          "SC",
          "SP",
          "SP",
          "SP",
          "RS",
          "MG",
          "RS",
          "RS",
          "SP",
          "MG",
          "MG",
          "MG",
          "MG",
          "RS",
          "SP",
          "SP",
          "MG",
          "SP",
          "SC",
          "RS",
          "SP",
          "SP",
          "SP",
          "SP",
          "SP",
          "SP",
          "SP",
          "SP",
          "SP",
          "RS",
          "SP",
          "SP",
          "SC",
          "SP",
          "RS",
          "SC",
          "PR",
          "SC",
          "SP",
          "RS",
          "MG",
          "SP",
          "SP",
          "PR",
          "RS",
          "PR",
          "PR",
          "SC",
          "SP",
          "RS",
          "SC",
          "PR",
          "SP",
          "MG",
          "PR",
          "SP",
          "RS",
          "SP",
          "MG",
          "SP",
          "SP",
          "MG",
          "SP",
          "MG",
          "PR",
          "PR",
          "SP",
          "PR",
          "MG",
          "MG",
          "PR",
          "MG",
          "RS",
          "RS",
          "SP",
          "MG",
          "SC",
          "SP",
          "PR",
          "SP",
          "MG",
          "MG",
          "SP",
          "SP",
          "SP",
          "RS",
          "SC",
          "SC",
          "SC",
          "PR",
          "RS",
          "MG",
          "SC",
          "SP",
          "SP",
          "SP",
          "PR",
          "SP",
          "RS",
          "RS",
          "SP",
          "SC",
          "MG",
          "MG",
          "MG",
          "PR",
          "SP",
          "SC",
          "PR",
          "SC",
          "MG",
          "MG",
          "PR",
          "SC",
          "SC",
          "SC",
          "PR",
          "SC",
          "MG",
          "MG",
          "SC",
          "SP",
          "SC",
          "PR",
          "MG",
          "SC",
          "SP",
          "SC",
          "SC",
          "SC",
          "SC",
          "SP",
          "SP",
          "SP",
          "SC",
          "SC",
          "SC",
          "RS",
          "PR",
          "SC",
          "PR",
          "SC",
          "SC",
          "SP",
          "MG",
          "SC",
          "SC",
          "PR",
          "SC",
          "SC",
          "PR",
          "RS",
          "SC",
          "RS",
          "SP",
          "SP",
          "MG",
          "SP",
          "SC",
          "SC",
          "SC",
          "PR",
          "SC",
          "RS",
          "MG",
          "SP",
          "SC",
          "PR",
          "SP",
          "SP",
          "MG",
          "SP",
          "PR",
          "SP",
          "PR",
          "RS",
          "SC",
          "SP",
          "SP",
          "SP",
          "SC",
          "SC",
          "SP",
          "MG",
          "SP",
          "RS",
          "SP",
          "PR",
          "SC",
          "MG",
          "PR",
          "SC",
          "SP",
          "SC",
          "SP",
          "MG",
          "SP",
          "PR",
          "RS",
          "MG",
          "SC",
          "SC",
          "SP",
          "SC",
          "SC",
          "SC",
          "SP",
          "MG",
          "MG",
          "SP",
          "RS",
          "SC",
          "SC",
          "PR",
          "SC",
          "SP",
          "SC",
          "SP",
          "PR",
          "RS",
          "SC",
          "SP",
          "SC",
          "SP",
          "MG",
          "SC",
          "ES",
          "SC",
          "SC",
          "MG",
          "PR",
          "SP",
          "MG",
          "SP",
          "SP",
          "SC",
          "RS",
          "SC",
          "RS",
          "PR",
          "SC",
          "SP",
          "SC",
          "SC",
          "SC",
          "SC",
          "SC",
          "SC",
          "SC",
          "MG",
          "SC",
          "SP",
          "MG",
          "PR",
          "SC",
          "SP",
          "SC",
          "SC",
          "SC",
          "MG",
          "SP",
          "RS",
          "SP",
          "SC",
          "RS",
          "SP",
          "SC",
          "MG",
          "SC",
          "MG",
          "SP",
          "SC",
          "PR",
          "SP",
          "PR",
          "MG",
          "SP",
          "SP",
          "SC",
          "SP",
          "SP",
          "SC",
          "SP",
          "SC",
          "PR",
          "SC",
          "SC",
          "RS",
          "SC",
          "MG",
          "SC",
          "RS",
          "SP",
          "RS",
          "SC",
          "SP",
          "PR",
          "SC",
          "SC",
          "MG",
          "PR",
          "SP",
          "PR",
          "SP",
          "SP",
          "SP",
          "SC",
          "RS",
          "RS",
          "PR",
          "PR",
          "SC",
          "PR",
          "SP",
          "SC",
          "SP",
          "RS",
          "SC",
          "PR",
          "SC",
          "SC",
          "SP",
          "SC",
          "SP",
          "ES",
          "MG",
          "SP",
          "MG",
          "SC",
          "SP",
          "SP",
          "SC",
          "PR",
          "SP",
          "SP",
          "MG",
          "PR",
          "PR",
          "PR",
          "RS",
          "SP",
          "SC",
          "SP",
          "SC",
          "RS",
          "PR",
          "RS",
          "ES",
          "SC",
          "SC",
          "MG",
          "SC",
          "SC",
          "SC",
          "MG",
          "SC",
          "SC",
          "PR",
          "SC",
          "SC",
          "SP",
          "SC",
          "SC",
          "SC",
          "SC",
          "RS",
          "SP",
          "SP",
          "SP",
          "SP",
          "SC",
          "MG",
          "BA",
          "PR",
          "MG",
          "SC",
          "SP",
          "SC",
          "SC",
          "PR",
          "RS",
          "SC",
          "SC",
          "SC",
          "RS",
          "SP",
          "SC",
          "RS",
          "SP",
          "PR",
          "SC",
          "SP",
          "SC",
          "MG",
          "SC",
          "PR",
          "MG",
          "SP",
          "PR",
          "PR",
          "SC",
          "RS",
          "SC",
          "RS",
          "SC",
          "PR",
          "SC",
          "SP",
          "SP",
          "SP",
          "SP",
          "SC",
          "SP",
          "MG",
          "MG",
          "SP",
          "SP",
          "SC",
          "SC",
          "RS",
          "SP",
          "SP",
          "PR",
          "SP",
          "PR",
          "SP",
          "SC",
          "RS",
          "RS",
          "SP",
          "RS",
          "SC",
          "RS",
          "SP",
          "SP",
          "SC",
          "MG",
          "SC",
          "SP",
          "SC",
          "MG",
          "SP",
          "RS",
          "SC",
          "SP",
          "SC",
          "PR",
          "SC",
          "SP",
          "SC",
          "SP",
          "SC",
          "SP",
          "SP",
          "SC",
          "SC",
          "PR",
          "SC",
          "SP",
          "SC",
          "SC",
          "PR",
          "SC",
          "SP",
          "RS",
          "SP",
          "SP",
          "SC",
          "SC",
          "SC",
          "BA",
          "SC",
          "SP",
          "MG",
          "PR",
          "PR",
          "RS",
          "RS",
          "RS",
          "RS",
          "SP",
          "MG",
          "SC",
          "ES",
          "SC",
          "SC",
          "PR",
          "PR",
          "SP",
          "RS",
          "SP",
          "PR",
          "SC",
          "SP",
          "SC",
          "SP",
          "SP",
          "PR",
          "RS",
          "RS",
          "PR",
          "RS",
          "MG",
          "PR",
          "RJ",
          "SP",
          "RS",
          "SC",
          "SP",
          "MG",
          "RS",
          "MG",
          "SC",
          "SC",
          "SC",
          "SP",
          "SP",
          "SP",
          "SP",
          "SC",
          "PR",
          "SP",
          "MG",
          "PR",
          "SC",
          "SP",
          "SC",
          "SC",
          "MG",
          "RS",
          "SC",
          "SC",
          "PR",
          "ES",
          "SC",
          "PR",
          "MG",
          "SC",
          "RS",
          "RS",
          "MG",
          "PR",
          "SP",
          "SP",
          "SP",
          "SC",
          "SC",
          "MG",
          "SC",
          "SC",
          "SP",
          "SC",
          "SP",
          "RS",
          "PR",
          "PR",
          "MG",
          "SC",
          "SC",
          "SP",
          "SC",
          "MG",
          "MG",
          "MG",
          "SC",
          "MG",
          "PR",
          "SC",
          "SC",
          "PR",
          "SP",
          "SC",
          "RS",
          "MG",
          "SC",
          "SC",
          "MG",
          "SC",
          "SC",
          "PR",
          "SC",
          "SP",
          "PR",
          "SC",
          "SP",
          "RS",
          "PR",
          "SC",
          "SC",
          "SP",
          "SC",
          "SC",
          "PR",
          "SC",
          "PR",
          "PR",
          "PR",
          "SC",
          "SP",
          "SC",
          "SC",
          "RS",
          "SC",
          "RS",
          "PR",
          "SC",
          "RS",
          "SP",
          "RS",
          "SC",
          "RS",
          "SP",
          "SC",
          "SC",
          "MG",
          "SP",
          "SC",
          "SP",
          "RS",
          "SC",
          "MG",
          "SP",
          "RS",
          "SP",
          "SP",
          "PR",
          "SC",
          "RS",
          "SP",
          "SP",
          "MG",
          "SC",
          "RS",
          "SP",
          "MG",
          "PR",
          "SC",
          "SC",
          "RS",
          "RS",
          "SC",
          "SC",
          "RS",
          "SP",
          "RS",
          "SP",
          "SC",
          "SC",
          "SC",
          "SP",
          "SC",
          "SC",
          "PR",
          "SC",
          "SC",
          "RS",
          "MG",
          "MG",
          "SC",
          "PR",
          "PR",
          "MG",
          "RS",
          "MG",
          "SC",
          "SC",
          "RS",
          "MG",
          "PR",
          "RS",
          "SC",
          "SP",
          "RS",
          "MG",
          "MG",
          "SC",
          "PR",
          "SC",
          "SC",
          "SP",
          "PR",
          "SC",
          "SC",
          "SC",
          "MG",
          "MG",
          "SC",
          "SP",
          "SC",
          "SC",
          "SC",
          "MG",
          "SC",
          "MG",
          "SC",
          "SC",
          "SC",
          "SC",
          "PR",
          "RS",
          "SC",
          "RS",
          "RS",
          "SP",
          "MG",
          "PR",
          "RS",
          "PR",
          "SP",
          "MG",
          "PR",
          "SC",
          "PR",
          "SC",
          "SC",
          "RS",
          "PR",
          "SC",
          "SC",
          "SP",
          "SC",
          "SP",
          "SC",
          "MG",
          "SC",
          "SP",
          "SP",
          "RS",
          "RS",
          "SC",
          "SC",
          "SC",
          "SP",
          "SC",
          "SC",
          "SC",
          "SC",
          "MG",
          "SC",
          "RS",
          "PR",
          "SC",
          "SP",
          "SP",
          "MG",
          "SC",
          "MG",
          "SC",
          "PR",
          "PR",
          "RS",
          "RS",
          "RS",
          "RS",
          "SC",
          "SC",
          "SP",
          "SC",
          "PR",
          "SC",
          "SC",
          "SP",
          "RS",
          "RS",
          "SC",
          "PR",
          "SP",
          "SC",
          "MG",
          "PR",
          "SP",
          "SC",
          "SC",
          "MG",
          "SP",
          "RS",
          "SP",
          "SC",
          "SC",
          "MG",
          "SP",
          "SC",
          "RS",
          "SC",
          "SP",
          "RS",
          "PR",
          "PR",
          "SC",
          "SC",
          "PR",
          "PR",
          "SC",
          "MG",
          "RS",
          "SP",
          "PR",
          "PR",
          "MG",
          "SP",
          "PR",
          "MG",
          "RS",
          "SC",
          "PR",
          "MG",
          "SC",
          "MG",
          "SC",
          "SP",
          "SC",
          "MG",
          "MG",
          "RS",
          "SP",
          "MG",
          "SC",
          "PR",
          "PR",
          "SP",
          "PR",
          "MG",
          "SC",
          "RS",
          "MG",
          "PR",
          "SC",
          "RS",
          "RS",
          "SP",
          "SP",
          "SC",
          "SC",
          "RS",
          "SC",
          "SC",
          "PR",
          "SC",
          "RS",
          "RS",
          "RS",
          "SC",
          "SC",
          "SP",
          "PR",
          "SC",
          "SP",
          "PR",
          "SP",
          "SC",
          "SP",
          "SP",
          "SP",
          "PR",
          "SP",
          "RS",
          "PR",
          "PR",
          "PR",
          "PR",
          "RS",
          "RS",
          "SP",
          "SP",
          "PR",
          "MG",
          "PR",
          "PR",
          "SC",
          "PR",
          "SC",
          "SP",
          "SC",
          "RS",
          "RS",
          "SC",
          "MG",
          "SC",
          "SC",
          "SP",
          "SC",
          "PR",
          "SP",
          "SC",
          "RS",
          "SC",
          "SP",
          "SP",
          "RS",
          "RS",
          "SC",
          "SP",
          "SC",
          "RS",
          "SP",
          "SC",
          "SC",
          "PR",
          "PR",
          "SP",
          "SC",
          "RS",
          "SP",
          "RS",
          "SC",
          "RS",
          "SC",
          "MG",
          "SC",
          "PR",
          "RS",
          "SC",
          "SC",
          "SP",
          "SC",
          "SC",
          "SC",
          "RS",
          "MG",
          "PR",
          "SP",
          "MG",
          "SC",
          "SC",
          "SC",
          "SC",
          "SC",
          "SP",
          "SC",
          "SC",
          "MG",
          "SC",
          "RS",
          "RS",
          "SC",
          "SC",
          "SP",
          "RS",
          "SC",
          "RS",
          "RS",
          "RS",
          "RS",
          "MG",
          "RS",
          "PR",
          "PR",
          "SP",
          "SC",
          "SC",
          "SC",
          "SC",
          "MG",
          "SC",
          "SC",
          "RS",
          "SP",
          "PR",
          "PR",
          "MG",
          "SC",
          "MG",
          "MG",
          "SC",
          "RS",
          "PR",
          "SC",
          "RS",
          "PR",
          "MG",
          "SC",
          "MG",
          "SC",
          "RS",
          "SP",
          "SP",
          "SC",
          "RS",
          "MG",
          "RS",
          "SP",
          "SP",
          "PR",
          "MG",
          "SP",
          "SC",
          "SP",
          "SC",
          "MG",
          "SC",
          "MG",
          "PR",
          "SP",
          "SC",
          "RS",
          "RS",
          "SC",
          "SP",
          "SC",
          "MG",
          "SC",
          "SP",
          "RS",
          "SC",
          "SC",
          "SC",
          "RS",
          "SP",
          "RS",
          "PR",
          "SC",
          "MG",
          "MG",
          "MG",
          "SC",
          "MG",
          "PR",
          "SC",
          "SC",
          "MG",
          "PR",
          "SC",
          "SC",
          "RS",
          "MG",
          "PR",
          "RS",
          "SP",
          "PR",
          "PR",
          "SC",
          "PR",
          "RS",
          "RS",
          "PR",
          "PR",
          "RS",
          "SP",
          "MG",
          "RS",
          "SC",
          "SC",
          "SC",
          "SP",
          "SP",
          "SC",
          "SC",
          "MG",
          "SP",
          "PR",
          "RS",
          "RS",
          "SC",
          "SC",
          "SP",
          "SP",
          "SC",
          "SC",
          "SC",
          "SC",
          "SC",
          "SP",
          "SC",
          "RS",
          "PR",
          "SP",
          "RS",
          "SC",
          "SC",
          "PR",
          "PR",
          "SP",
          "RS",
          "PR",
          "SP",
          "SP",
          "RS",
          "SC",
          "RS",
          "SC",
          "PR",
          "SC",
          "MG",
          "MG",
          "SP",
          "SC",
          "SC",
          "MG",
          "RS",
          "SP",
          "SC",
          "SP",
          "RS",
          "RS",
          "SP",
          "SP",
          "SP",
          "SC",
          "SP",
          "SP",
          "SP",
          "SP",
          "SP",
          "SC",
          "PR",
          "SP",
          "PR",
          "SC",
          "SP",
          "SP",
          "SP",
          "SP",
          "SP",
          "SP",
          "PR",
          "SC",
          "ES",
          "MG",
          "SC",
          "MG",
          "SP",
          "SC",
          "RS",
          "RS",
          "SP",
          "MG",
          "RS",
          "SC",
          "RS",
          "RS",
          "SC",
          "MG",
          "MG",
          "MG",
          "SC",
          "SC",
          "SC",
          "MG",
          "SC",
          "MG",
          "RS",
          "SC",
          "PR",
          "SP",
          "SC",
          "SC",
          "SP",
          "MG",
          "SC",
          "SC",
          "SC",
          "RS",
          "RS",
          "RS",
          "SP",
          "SC",
          "SC",
          "SC",
          "PR",
          "MG",
          "MG",
          "SP",
          "SP",
          "SC",
          "PR",
          "RS",
          "SC",
          "SC",
          "SC",
          "PR",
          "PR",
          "SC",
          "SC",
          "PR",
          "MG",
          "SC",
          "SC",
          "SC",
          "SP",
          "RS",
          "RS",
          "MG",
          "RS",
          "MG",
          "SC",
          "SC",
          "SC",
          "SC",
          "SC",
          "RS",
          "SP",
          "RS",
          "SC",
          "SC",
          "SP",
          "SC",
          "MG",
          "MG",
          "MG",
          "RS",
          "PR",
          "PR",
          "SC",
          "SC",
          "SP",
          "SC",
          "SC",
          "SP",
          "SP",
          "SC",
          "SC",
          "PR",
          "MG",
          "SC",
          "SC",
          "SP",
          "RS",
          "MG",
          "PR",
          "SC",
          "SC",
          "SC",
          "MG",
          "SC",
          "PR",
          "PR",
          "SC",
          "PR",
          "RS",
          "SC",
          "PR",
          "SP",
          "SC",
          "SC",
          "SP",
          "SC",
          "PR",
          "SC",
          "PR",
          "SC",
          "PR",
          "PR",
          "SC",
          "SC",
          "RS",
          "MG",
          "RS",
          "RS",
          "RS",
          "PR",
          "SP",
          "SC",
          "SP",
          "SC",
          "SP",
          "SC",
          "SC",
          "RS",
          "SP",
          "SC",
          "SC",
          "SC",
          "SP",
          "SC",
          "SC",
          "SC",
          "SP",
          "SP",
          "RS",
          "PR",
          "PR",
          "MG",
          "SC",
          "RS",
          "SP",
          "SP",
          "SC",
          "SP",
          "SC",
          "PR",
          "RS",
          "MG",
          "PR",
          "MG",
          "SC",
          "SP",
          "SP",
          "PR",
          "SP",
          "MG",
          "RS",
          "SC",
          "SC",
          "SP",
          "SC",
          "PR",
          "RS",
          "PR",
          "RS",
          "MG",
          "SC",
          "SC",
          "SC",
          "RS",
          "SP",
          "SP",
          "RS",
          "PR",
          "RS",
          "SC",
          "SC",
          "MG",
          "SC",
          "SC",
          "SC",
          "SC",
          "RS",
          "RS",
          "MG",
          "SC",
          "SC",
          "SC",
          "SC",
          "MG",
          "RS",
          "PR",
          "MG",
          "MG",
          "SC",
          "SC",
          "MG",
          "SC",
          "SP",
          "SC",
          "SC",
          "MG",
          "SP",
          "PR",
          "MG",
          "SC",
          "SC",
          "PR",
          "SC",
          "SC",
          "MG",
          "RS",
          "RS",
          "RS",
          "SC",
          "ES",
          "RS",
          "SC"
         ],
         "lat": [
          -24.583333,
          -22.5,
          -19.935556,
          -27.6,
          -23.186667,
          -22.689444,
          -28.067305,
          -22.689444,
          -22.689444,
          -26.421843,
          -22.697767,
          -22.697767,
          -24.136728,
          -29.442808,
          -29.471884,
          -29.442862,
          -29.444382,
          -29.444382,
          -29.159657,
          -29.159657,
          -29.159657,
          -22.694319,
          -22.689444,
          -18.424042,
          -27.430471,
          -22.69597,
          -22.689444,
          -22.689444,
          -16.709383,
          -22.689444,
          -29.442862,
          -22.73724,
          -29.159657,
          -28.450176,
          -28.365849,
          -22.689444,
          -22.73724,
          -22.73724,
          -22.73724,
          -22.689444,
          -22.73724,
          -22.689444,
          -24.112444,
          -27.8999,
          -23.0004777,
          -22.6797,
          -24.14315,
          -29.442862,
          -22.691557,
          -25.062431,
          -22.73724,
          -25.062431,
          -19.723726,
          -29.443054,
          -22.689444,
          -16.854315,
          -22.689444,
          -29.155666,
          -19.732687,
          -26.713606,
          -22.689444,
          -26.713606,
          -22.689444,
          -26.713606,
          -29.417,
          -27.90096,
          -26.713606,
          -22.703138,
          -22.73724,
          -22.739326,
          -22.73724,
          -26.713606,
          -22.689444,
          -22.73724,
          -26.713606,
          -22.709316,
          -26.713606,
          -26.713606,
          -26.713606,
          -26.713606,
          -22.73724,
          -22.85656,
          -23.33884,
          -26.713606,
          -20.285305,
          -26.713606,
          -22.73724,
          -26.713606,
          -26.713606,
          -26.713606,
          -26.713606,
          -26.713606,
          -26.713606,
          -26.713606,
          -26.713606,
          -26.713606,
          -26.713606,
          -26.713606,
          -19.150488,
          -22.689444,
          -26.713606,
          -19.150488,
          -19.150488,
          -26.713606,
          -22.444906,
          -22.781599,
          -26.713606,
          -26.713606,
          -26.713606,
          -26.713606,
          -26.713606,
          -26.713606,
          -26.713606,
          -26.713606,
          -26.713606,
          -26.713606,
          -26.713606,
          -26.713606,
          -19.150488,
          -26.713606,
          -22.73724,
          -22.73724,
          -22.689444,
          -22.689444,
          -18.907343,
          -19.16248,
          -19.49653,
          -22.73724,
          -22.689444,
          -27.120296,
          -27.106106,
          -27.17375,
          -26.624447,
          -22.36484,
          -22.703138,
          -26.713606,
          -22.689444,
          -22.689444,
          -22.876017,
          -22.689444,
          -26.713606,
          -22.689444,
          -22.689444,
          -22.710155,
          -26.713606,
          -26.713606,
          -26.713606,
          -22.710155,
          -26.713606,
          -22.876017,
          -22.689444,
          -22.689444,
          -26.713606,
          -22.73724,
          -22.689444,
          -22.689444,
          -29.053146,
          -29.442862,
          -22.689444,
          -22.73724,
          -22.444906,
          -22.876017,
          -29.14611,
          -25.426273,
          -22.876017,
          -29.442417,
          -22.689444,
          -24.544767,
          -22.689444,
          -26.74083,
          -22.689444,
          -22.689444,
          -22.740538,
          -27.948046,
          -22.699839,
          -22.751324,
          -22.73724,
          -22.695559,
          -22.689444,
          -22.689444,
          -22.689444,
          -22.689444,
          -22.73724,
          -22.689444,
          -22.73724,
          -22.689444,
          -22.739326,
          -22.689444,
          -22.689444,
          -25.6398,
          -22.689444,
          -22.689444,
          -22.73724,
          -22.689444,
          -22.71,
          -22.689444,
          -22.689444,
          -22.73724,
          -22.69,
          -22.699839,
          -22.703138,
          -22.689444,
          -22.73724,
          -22.703138,
          -27.63401,
          -22.689444,
          -22.69,
          -22.73724,
          -22.689444,
          -22.689444,
          -22.689444,
          -22.791142,
          -22.406586,
          -22.73724,
          -22.73724,
          -22.703138,
          -22.689444,
          -22.703138,
          -22.703138,
          -22.689444,
          -22.718136,
          -22.689444,
          -22.689444,
          -22.73724,
          -22.70056,
          -19.597231,
          -29.442862,
          -22.689444,
          -22.689444,
          -22.73724,
          -22.689444,
          -29.442862,
          -22.689444,
          -22.73724,
          -22.689444,
          -22.703138,
          -29.26912,
          -29.442862,
          -22.739326,
          -29.087921,
          -22.73724,
          -22.689444,
          -28.293213,
          -29.159657,
          -19.44405,
          -22.731739,
          -22.703138,
          -26.593454,
          -22.33,
          -22.689444,
          -29.218147,
          -27.951292,
          -26.593454,
          -22.73724,
          -27.956463,
          -22.716682,
          -22.689444,
          -20.80127,
          -29.477,
          -22.669578,
          -22.689066,
          -22.703138,
          -29.19662,
          -25.02468,
          -26.390871,
          -29.087921,
          -25.02468,
          -22.73724,
          -27.383047,
          -29.461458,
          -29.087921,
          -27.932276,
          -27.957727,
          -29.477,
          -23.974018,
          -22.73724,
          -23.974018,
          -29.44292,
          -23.974018,
          -29.44292,
          -23.974018,
          -22.73724,
          -29.44292,
          -22.73724,
          -29.465906,
          -28.142239,
          -29.465906,
          -22.689444,
          -29.44292,
          -20.685087,
          -22.700865,
          -21.979097,
          -19.667635,
          -22.7603,
          -18.87267,
          -22.703138,
          -22.73724,
          -22.73724,
          -22.70913,
          -22.7395,
          -25.48441,
          -27.954668,
          -22.689444,
          -22.73724,
          -27.951292,
          -22.689444,
          -22.691557,
          -22.703138,
          -29.423851,
          -22.703138,
          -27.977512,
          -29.082222,
          -29.423851,
          -26.929417,
          -29.480108,
          -28.011583,
          -27.957335,
          -25.790771,
          -29.480108,
          -27.954203,
          -22.703138,
          -22.736845,
          -29.442862,
          -22.736845,
          -29.442862,
          -22.691557,
          -29.4411,
          -29.4411,
          -22.736845,
          -28.433569,
          -27.402288,
          -27.402288,
          -22.736845,
          -27.65241,
          -22.736845,
          -29.423851,
          -28.206068,
          -22.690638,
          -29.39148,
          -22.697575,
          -19.546444,
          -29.423851,
          -29.442862,
          -28.037592,
          -25.388575,
          -29.42292,
          -22.689444,
          -22.736845,
          -22.701971,
          -27.897957,
          -22.73724,
          -26.641052,
          -27.111547,
          -26.357958,
          -17.588312,
          -29.442808,
          -22.703138,
          -27.951292,
          -27.967873,
          -21.464878,
          -22.73724,
          -22.689444,
          -22.752764,
          -22.73724,
          -22.73724,
          -20.01215,
          -22.601868,
          -22.689444,
          -22.736845,
          -22.73724,
          -27.951292,
          -22.70913,
          -22.878313,
          -22.735975,
          -22.736845,
          -27.959803,
          -28.286743,
          -22.82748,
          -22.73724,
          -24.962786,
          -22.703138,
          -23.261324,
          -26.536896,
          -26.698889,
          -26.658638,
          -26.505526,
          -26.79975,
          -29.218147,
          -27.99898,
          -27.951292,
          -27.73764,
          -27.951292,
          -26.92957,
          -27.951292,
          -27.95198,
          -27.99898,
          -27.98019,
          -26.713606,
          -27.97268,
          -27.951292,
          -27.951292,
          -27.951292,
          -27.951292,
          -27.105103,
          -27.475,
          -27.951292,
          -25.698511,
          -22.725193,
          -22.689444,
          -22.649939,
          -27.97207,
          -27.73764,
          -27.95151,
          -27.95151,
          -22.703138,
          -22.6815,
          -27.951466,
          -27.61649,
          -27.61649,
          -27.61649,
          -27.675718,
          -26.77307,
          -26.77307,
          -29.45126,
          -18.69105,
          -19.96731,
          -22.872538,
          -27.99898,
          -22.872538,
          -20.076256,
          -19.731714,
          -26.77307,
          -22.872538,
          -26.653128,
          -26.591022,
          -26.79848,
          -24.312246,
          -26.74285,
          -24.312246,
          -26.713606,
          -26.658638,
          -26.698889,
          -22.736845,
          -26.713606,
          -26.658638,
          -27.398085,
          -26.698889,
          -28.18296,
          -26.74285,
          -22.73724,
          -26.304956,
          -26.74285,
          -26.74285,
          -26.74285,
          -26.74285,
          -26.74285,
          -26.74285,
          -26.88844,
          -26.77597,
          -22.70913,
          -27.920357,
          -26.74285,
          -22.872538,
          -26.74285,
          -26.74285,
          -27.951292,
          -22.703474,
          -28.011583,
          -22.689444,
          -27.67798,
          -22.703138,
          -29.442862,
          -22.691013,
          -22.87895,
          -22.684746,
          -22.691013,
          -25.099901,
          -22.87895,
          -22.703138,
          -22.691013,
          -22.703138,
          -22.689444,
          -18.664745,
          -22.689444,
          -22.703138,
          -22.689444,
          -28.034021,
          -22.689444,
          -22.703138,
          -22.703138,
          -22.689444,
          -29.395287,
          -22.691557,
          -22.879093,
          -29.4279,
          -22.689444,
          -20.685087,
          -21.600992,
          -27.822397,
          -22.694157,
          -19.158121,
          -28.302204,
          -20.685087,
          -19.667635,
          -22.73724,
          -20.685087,
          -22.703138,
          -22.73724,
          -27.96736,
          -20.613275,
          -22.703138,
          -22.731727,
          -24.327892,
          -27.606989,
          -26.357958,
          -26.357958,
          -27.73223,
          -29.202015,
          -27.81251,
          -22.703138,
          -22.649939,
          -27.997192,
          -22.73724,
          -22.87895,
          -29.442862,
          -22.73724,
          -22.689444,
          -19.953253,
          -28.011583,
          -27.95152,
          -27.621052,
          -27.9714,
          -28.011583,
          -27.991718,
          -22.689444,
          -27.92958,
          -27.621052,
          -27.991718,
          -27.73223,
          -22.718842,
          -29.45175,
          -27.73223,
          -21.547333,
          -22.694157,
          -22.793312,
          -22.689444,
          -22.703138,
          -22.689444,
          -22.694157,
          -22.689444,
          -27.92958,
          -27.95152,
          -24.3016,
          -22.758807,
          -23.243421,
          -19.731653,
          -22.630312,
          -27.791348,
          -28.011583,
          -22.73724,
          -22.691557,
          -27.970695,
          -22.691557,
          -22.691557,
          -22.703138,
          -22.73724,
          -22.689444,
          -22.689444,
          -24.546171,
          -22.73724,
          -27.9209,
          -22.73724,
          -22.691557,
          -24.296625,
          -27.73223,
          -22.689444,
          -25.904398,
          -29.202015,
          -27.95543,
          -19.689869,
          -19.723646,
          -26.033772,
          -22.86366,
          -26.31519,
          -26.357958,
          -21.600992,
          -26.357958,
          -25.904398,
          -21.600992,
          -26.031914,
          -22.229044,
          -25.099901,
          -26.738558,
          -26.551525,
          -22.703138,
          -22.649939,
          -24.332771,
          -20.46585,
          -20.46585,
          -22.876017,
          -22.229044,
          -27.111547,
          -25.904398,
          -27.971739,
          -27.951292,
          -26.505526,
          -22.703138,
          -22.703138,
          -22.691557,
          -22.689444,
          -25.976873,
          -22.703138,
          -22.691557,
          -26.019072,
          -21.15754,
          -26.047548,
          -22.684746,
          -26.31519,
          -22.689444,
          -22.703138,
          -22.73724,
          -22.73724,
          -22.693806,
          -22.693806,
          -26.897694,
          -22.693806,
          -25.099901,
          -25.099901,
          -22.693806,
          -22.691074,
          -22.691074,
          -26.866707,
          -20.505144,
          -22.693806,
          -22.691574,
          -22.73724,
          -22.689444,
          -22.693806,
          -21.15535,
          -22.689444,
          -29.486155,
          -21.61227,
          -29.480993,
          -22.33,
          -26.873066,
          -25.099901,
          -27.892637,
          -25.099901,
          -22.691074,
          -27.95028,
          -27.997192,
          -22.689444,
          -29.442862,
          -26.536896,
          -29.458334,
          -19.158121,
          -22.73724,
          -22.73724,
          -29.442862,
          -16.302088,
          -16.302088,
          -28.502413,
          -22.73724,
          -29.480993,
          -29.442808,
          -29.480993,
          -29.480993,
          -27.951292,
          -26.513437,
          -27.951292,
          -19.546444,
          -22.73724,
          -22.36484,
          -29.480993,
          -26.652637,
          -27.919882,
          -22.73724,
          -29.359123,
          -29.423851,
          -22.73724,
          -22.691074,
          -29.480993,
          -26.299032,
          -29.480993,
          -24.9628,
          -24.9628,
          -24.9628,
          -24.9628,
          -24.9628,
          -26.192076,
          -22.703138,
          -27.96029,
          -28.034021,
          -24.9628,
          -24.015965,
          -24.9628,
          -27.951292,
          -27.967873,
          -27.951292,
          -27.967873,
          -27.951292,
          -27.951292,
          -27.951292,
          -27.951292,
          -27.951292,
          -22.73724,
          -27.951292,
          -28.011583,
          -27.968012,
          -25.06352,
          -20.438515,
          -20.438515,
          -22.689444,
          -22.703138,
          -23.100517,
          -22.87895,
          -19.414816,
          -26.281755,
          -22.73724,
          -22.700865,
          -22.73724,
          -26.603364,
          -27.968012,
          -27.951292,
          -27.951292,
          -27.968012,
          -27.924501,
          -28.011583,
          -27.951292,
          -22.73724,
          -27.97163,
          -27.951292,
          -20.438515,
          -20.438515,
          -20.505144,
          -27.951292,
          -22.714611,
          -20.438515,
          -24.9628,
          -22.69562,
          -27.971178,
          -29.423851,
          -22.33,
          -20.505144,
          -29.393772,
          -26.20118,
          -27.967873,
          -25.079151,
          -29.480993,
          -22.86138,
          -22.73724,
          -25.079151,
          -24.9628,
          -26.357958,
          -20.438515,
          -22.879093,
          -26.765863,
          -19.414816,
          -26.897694,
          -25.099901,
          -22.73724,
          -29.48111,
          -28.034021,
          -25.099901,
          -25.099901,
          -29.480993,
          -24.8789,
          -26.188417,
          -25.099901,
          -24.9628,
          -22.691557,
          -24.962809,
          -21.532091,
          -24.9628,
          -24.9628,
          -26.188417,
          -27.951292,
          -27.956425,
          -24.9628,
          -27.951292,
          -27.951292,
          -29.423851,
          -27.956425,
          -20.505144,
          -27.951292,
          -20.438515,
          -26.357958,
          -29.480993,
          -27.967873,
          -26.357958,
          -22.879093,
          -22.728975,
          -26.225197,
          -27.951292,
          -29.432007,
          -26.225197,
          -29.493727,
          -22.703138,
          -29.432007,
          -19.360216,
          -20.685087,
          -22.693571,
          -22.876017,
          -29.442862,
          -29.423851,
          -27.951292,
          -20.685087,
          -22.650467,
          -24.418722,
          -22.861797,
          -20.685087,
          -25.36205,
          -29.432007,
          -26.652637,
          -19.360216,
          -25.853373,
          -29.354494,
          -25.36205,
          -29.326982,
          -25.119738,
          -29.159657,
          -26.357958,
          -20.685087,
          -29.389723,
          -25.119738,
          -22.876017,
          -29.432007,
          -22.703138,
          -22.703138,
          -29.443123,
          -20.22067,
          -20.685087,
          -19.712765,
          -26.513437,
          -29.423851,
          -29.432007,
          -26.536896,
          -22.6945,
          -22.726137,
          -27.9545,
          -22.689444,
          -29.458334,
          -20.518293,
          -27.9545,
          -22.73724,
          -26.536896,
          -19.712765,
          -22.689444,
          -27.9545,
          -22.694,
          -19.668082,
          -27.952574,
          -19.776823,
          -29.423851,
          -29.442862,
          -22.755089,
          -22.73724,
          -27.61107,
          -29.391,
          -22.876017,
          -25.0834,
          -27.913536,
          -22.703138,
          -17.097513,
          -24.434723,
          -29.423851,
          -22.73724,
          -24.434723,
          -29.442862,
          -20.685087,
          -24.9628,
          -24.9628,
          -26.489967,
          -26.227001,
          -26.536896,
          -25.2543,
          -22.038462,
          -28.326502,
          -26.357958,
          -29.423851,
          -26.513437,
          -27.111547,
          -20.685087,
          -22.664314,
          -20.685087,
          -20.685087,
          -26.758625,
          -26.591022,
          -29.423851,
          -27.9545,
          -27.9545,
          -22.862457,
          -29.423851,
          -20.685087,
          -22.709146,
          -20.685087,
          -27.913567,
          -27.892637,
          -22.690262,
          -27.951292,
          -24.264833,
          -26.505526,
          -27.957335,
          -22.703138,
          -22.735975,
          -29.423851,
          -29.442862,
          -27.9545,
          -22.709146,
          -22.703138,
          -29.423851,
          -22.693344,
          -23.964434,
          -29.423851,
          -20.685087,
          -22.691557,
          -22.693344,
          -27.924501,
          -26.79975,
          -28.884815,
          -29.423851,
          -28.884787,
          -29.480993,
          -26.79975,
          -26.304956,
          -28.884787,
          -28.884787,
          -28.948103,
          -28.884787,
          -26.655283,
          -27.952574,
          -22.866201,
          -27.9545,
          -27.952574,
          -26.652637,
          -29.423851,
          -28.877893,
          -28.897018,
          -28.897018,
          -28.884787,
          -29.423851,
          -25.119738,
          -28.897018,
          -28.884787,
          -20.685087,
          -28.884787,
          -28.884787,
          -19.158121,
          -27.924501,
          -29.692303,
          -29.432007,
          -20.685087,
          -28.897018,
          -28.884787,
          -27.957335,
          -22.882439,
          -22.691557,
          -26.357958,
          -27.111547,
          -20.685087,
          -22.664314,
          -26.652637,
          -22.703138,
          -25.698126,
          -22.703138,
          -20.685087,
          -25.62457,
          -22.689444,
          -17.012735,
          -27.951292,
          -27.61649,
          -27.951292,
          -26.357958,
          -22.703138,
          -20.685087,
          -27.951292,
          -25.36205,
          -25.62457,
          -22.765167,
          -29.432007,
          -29.01607,
          -24.321976,
          -22.715195,
          -24.298567,
          -29.432007,
          -20.685087,
          -27.941553,
          -29.432007,
          -19.473581,
          -22.875414,
          -29.432007,
          -26.652637,
          -28.12907,
          -27.951292,
          -26.32713,
          -27.951292,
          -20.685087,
          -26.225197,
          -20.685087,
          -26.357958,
          -27.004429,
          -26.578665,
          -26.652637,
          -26.513437,
          -22.703138,
          -26.357958,
          -28.12907,
          -20.685087,
          -28.12907,
          -22.691557,
          -20.685087,
          -22.691557,
          -29.432007,
          -27.828411,
          -26.357958,
          -22.689444,
          -22.691557,
          -20.685087,
          -17.130098,
          -26.304956,
          -22.735975,
          -22.876017,
          -26.536896,
          -26.357958,
          -26.357958,
          -22.861797,
          -20.685087,
          -29.01607,
          -22.689444,
          -29.319885,
          -29.458334,
          -27.967873,
          -22.690657,
          -29.066973,
          -27.967873,
          -22.689444,
          -28.01651,
          -22.73724,
          -29.303902,
          -29.355547,
          -22.689444,
          -22.689444,
          -27.967873,
          -22.73724,
          -29.015919,
          -20.685087,
          -26.357958,
          -19.332022,
          -27.967873,
          -20.685087,
          -27.967873,
          -27.967873,
          -20.415442,
          -27.967873,
          -22.689444,
          -22.696316,
          -26.645142,
          -22.68993,
          -22.716742,
          -20.685087,
          -29.432007,
          -22.689444,
          -27.956924,
          -27.951292,
          -29.363766,
          -22.689444,
          -27.951292,
          -27.951292,
          -27.951292,
          -20.685087,
          -29.46383,
          -20.685087,
          -29.458334,
          -29.432007,
          -29.458334,
          -22.728975,
          -26.216728,
          -22.699753,
          -26.574873,
          -22.716131,
          -20.685087,
          -22.73724,
          -22.691557,
          -22.690458,
          -26.402653,
          -29.458334,
          -22.689444,
          -20.092289,
          -20.414827,
          -26.462187,
          -22.691557,
          -29.458334,
          -26.267317,
          -22.690458,
          -22.649939,
          -22.73724,
          -20.454747,
          -22.716154,
          -20.685087,
          -22.73724,
          -22.73724,
          -20.685087,
          -22.73724,
          -28.819855,
          -22.727846,
          -22.728975,
          -20.685087,
          -22.73724,
          -22.716742,
          -22.716742,
          -22.691557,
          -19.332022,
          -20.798204,
          -29.458334,
          -19.332022,
          -20.685087,
          -22.690458,
          -26.428652,
          -22.693516,
          -22.73724,
          -22.690657,
          -29.458334,
          -22.689444,
          -26.79975,
          -22.69787,
          -22.703138,
          -29.432007,
          -22.73724,
          -20.685087,
          -26.226475,
          -26.462187,
          -22.703138,
          -26.553356,
          -22.727846,
          -28.818558,
          -22.691557,
          -20.685087,
          -22.690458,
          -22.73724,
          -22.71008,
          -22.691557,
          -22.689444,
          -29.355547,
          -29.79471,
          -22.876017,
          -22.689444,
          -22.73724,
          -27.951292,
          -27.967873,
          -22.73724,
          -23.564577,
          -20.685087,
          -20.685087,
          -27.951292,
          -20.685087,
          -27.967873,
          -29.458334,
          -22.73724,
          -27.951292,
          -22.689444,
          -20.685087,
          -28.011583,
          -27.967873,
          -20.685087,
          -22.68997,
          -22.691557,
          -22.689444,
          -27.951292,
          -29.442862,
          -22.717653,
          -26.307032,
          -22.689444,
          -29.319885,
          -22.726137,
          -22.696316,
          -20.685087,
          -27.951292,
          -27.951292,
          -28.816532,
          -22.689444,
          -22.689444,
          -27.951292,
          -27.951292,
          -20.685087,
          -29.442862,
          -26.22401,
          -29.017147,
          -22.73724,
          -20.685087,
          -22.703138,
          -29.39148,
          -22.73724,
          -22.73622,
          -22.716124,
          -22.716105,
          -22.716105,
          -22.860714,
          -22.716198,
          -26.304956,
          -20.685087,
          -26.645142,
          -20.685087,
          -29.437624,
          -29.423851,
          -29.423851,
          -20.685087,
          -22.73724,
          -26.645142,
          -20.685087,
          -20.685087,
          -22.73724,
          -29.458334,
          -26.304956,
          -29.458334,
          -29.442862,
          -29.442862,
          -26.226475,
          -29.442862,
          -22.73724,
          -20.577572,
          -29.458334,
          -20.22067,
          -26.304956,
          -22.703138,
          -22.703138,
          -20.685087,
          -25.099901,
          -27.967873,
          -20.685087,
          -22.69787,
          -22.73724,
          -22.73724,
          -22.699753,
          -29.458334,
          -22.716131,
          -20.22067,
          -24.298958,
          -29.319885,
          -29.303902,
          -22.73724,
          -26.23784,
          -22.691557,
          -26.462187,
          -26.798595,
          -29.437624,
          -22.691557,
          -28.18296,
          -26.591022,
          -22.86138,
          -22.700865,
          -26.943537,
          -25.468634,
          -22.726923,
          -29.432007,
          -29.363897,
          -26.263432,
          -22.691557,
          -27.967873,
          -22.73724,
          -22.689444,
          -27.143095,
          -26.428652,
          -26.79975,
          -22.73724,
          -26.08501,
          -26.591022,
          -22.689444,
          -26.873066,
          -22.703138,
          -22.689444,
          -20.685087,
          -22.689444,
          -19.498669,
          -22.73724,
          -26.79975,
          -29.432007,
          -22.691557,
          -29.458334,
          -22.689444,
          -24.740211,
          -22.689444,
          -20.685087,
          -22.728975,
          -21.47282,
          -26.799477,
          -22.693336,
          -22.73724,
          -22.73724,
          -22.73724,
          -22.649939,
          -22.73724,
          -22.86138,
          -22.717653,
          -22.73724,
          -22.73545,
          -26.462187,
          -22.73724,
          -20.685087,
          -19.332022,
          -19.332022,
          -29.458334,
          -29.364885,
          -22.703138,
          -29.3522,
          -22.703138,
          -22.703138,
          -22.8519,
          -27.822397,
          -28.884787,
          -26.22401,
          -22.86138,
          -25.904398,
          -22.707119,
          -22.723347,
          -24.453846,
          -20.685087,
          -24.291033,
          -20.685087,
          -29.365347,
          -29.423851,
          -27.535501,
          -24.653044,
          -22.715195,
          -22.732693,
          -22.68785,
          -29.499,
          -26.780613,
          -20.224337,
          -22.691557,
          -25.904398,
          -20.21549,
          -22.689444,
          -25.904398,
          -22.703138,
          -22.723818,
          -22.731205,
          -22.689444,
          -22.689444,
          -22.69563,
          -22.689444,
          -22.689444,
          -22.716358,
          -22.721725,
          -20.685087,
          -29.105972,
          -22.739326,
          -22.691557,
          -22.859337,
          -22.73724,
          -22.726137,
          -29.458334,
          -22.73724,
          -25.91816,
          -22.69563,
          -25.904398,
          -25.099901,
          -22.736872,
          -28.011583,
          -22.769058,
          -22.715195,
          -22.73724,
          -25.904398,
          -20.21549,
          -22.716372,
          -20.173044,
          -25.893742,
          -27.969482,
          -26.390871,
          -22.689444,
          -29.3522,
          -22.700865,
          -26.203512,
          -25.91816,
          -20.685087,
          -29.442808,
          -28.163542,
          -22.691076,
          -29.458334,
          -22.690828,
          -23.769875,
          -20.685087,
          -22.745947,
          -22.689444,
          -20.157146,
          -29.442724,
          -22.689444,
          -27.85777,
          -28.819843,
          -22.731205,
          -26.536896,
          -22.7359,
          -22.631704,
          -27.844707,
          -22.703138,
          -26.13263,
          -27.818598,
          -29.458334,
          -22.690464,
          -29.458334,
          -28.68895,
          -26.11781,
          -26.138601,
          -26.222834,
          -22.73724,
          -22.862957,
          -25.099901,
          -22.690828,
          -27.877748,
          -29.3522,
          -29.442862,
          -29.3522,
          -22.703138,
          -22.689444,
          -22.703138,
          -20.685087,
          -20.685087,
          -20.156586,
          -29.3522,
          -25.45377,
          -22.703138,
          -22.617435,
          -22.73724,
          -22.617435,
          -26.22401,
          -22.711205,
          -22.617435,
          -27.95806,
          -20.685087,
          -25.435299,
          -22.73724,
          -28.163542,
          -20.685087,
          -20.199486,
          -27.968906,
          -29.3522,
          -22.716179,
          -22.664314,
          -26.103607,
          -29.389723,
          -28.163542,
          -22.711205,
          -29.458334,
          -29.451826,
          -20.156366,
          -29.442862,
          -22.689444,
          -22.703138,
          -24.400333,
          -20.201193,
          -27.978527,
          -22.695082,
          -20.685087,
          -20.685087,
          -24.51615,
          -27.976612,
          -20.685087,
          -26.22401,
          -27.978981,
          -20.685087,
          -25.099901,
          -21.660118,
          -22.69151,
          -22.695082,
          -26.103607,
          -28.884787,
          -29.458334,
          -22.723997,
          -22.703138,
          -22.716358,
          -22.689444,
          -22.691557,
          -20.685087,
          -29.3522,
          -22.703138,
          -22.700865,
          -25.45377,
          -27.965282,
          -22.691557,
          -19.72269,
          -27.978527,
          -20.685087,
          -20.685087,
          -20.685087,
          -26.551525,
          -22.689444,
          -21.660118,
          -19.332022,
          -22.73724,
          -27.965282,
          -20.201193,
          -26.216728,
          -22.73724,
          -25.099901,
          -26.056559,
          -25.099901,
          -28.267675,
          -22.649939,
          -22.703138,
          -22.73724,
          -31.386923,
          -20.224337,
          -29.442862,
          -28.983624,
          -22.695082,
          -20.17345,
          -20.685087,
          -20.685087,
          -20.17345,
          -29.39474,
          -22.711205,
          -22.693571,
          -19.680864,
          -22.69151,
          -27.978981,
          -29.218147,
          -22.69151,
          -22.691076,
          -22.73724,
          -22.631704,
          -22.691076,
          -22.723347,
          -22.716372,
          -22.689444,
          -22.649939,
          -29.458334,
          -22.689444,
          -22.716358,
          -26.26845,
          -22.703138,
          -29.423851,
          -26.281424,
          -26.152815,
          -26.203512,
          -22.689444,
          -29.458334,
          -22.86138,
          -22.723347,
          -22.703138,
          -25.888823,
          -29.3522,
          -25.099901,
          -26.170952,
          -27.969482,
          -22.73724,
          -29.365347,
          -26.832401,
          -25.904398,
          -22.69563,
          -20.199486,
          -25.45377,
          -22.689444,
          -29.394203,
          -22.68785,
          -22.86138,
          -22.725803,
          -22.68785,
          -21.987356,
          -22.689444,
          -19.682245,
          -26.553736,
          -26.22401,
          -22.703138,
          -26.22401,
          -20.173044,
          -20.685087,
          -25.779743,
          -22.617435,
          -29.3522,
          -27.913567,
          -22.723818,
          -20.685087,
          -27.969574,
          -22.716179,
          -26.483538,
          -22.703138,
          -20.173767,
          -20.685087,
          -22.716682,
          -22.716358,
          -22.689444,
          -29.354458,
          -26.897694,
          -26.591022,
          -27.969574,
          -25.098722,
          -29.3522,
          -16.670465,
          -27.969349,
          -22.689444,
          -22.720968,
          -22.703138,
          -25.098722,
          -22.703138,
          -29.3522,
          -28.518099,
          -22.691177,
          -27.152075,
          -19.412596,
          -19.41854,
          -19.38903,
          -25.10292,
          -22.699076,
          -27.848388,
          -25.099901,
          -27.967873,
          -20.685087,
          -20.685087,
          -26.22662,
          -26.773088,
          -27.978527,
          -27.490208,
          -26.553736,
          -26.645142,
          -19.667635,
          -19.604359,
          -28.001665,
          -25.016071,
          -26.591022,
          -26.22401,
          -19.407225,
          -27.967873,
          -22.689444,
          -27.524132,
          -26.571562,
          -27.978527,
          -28.039925,
          -22.703138,
          -22.665842,
          -22.689444,
          -27.035467,
          -27.951292,
          -28.011583,
          -29.458334,
          -26.22401,
          -26.560665,
          -25.10292,
          -27.490208,
          -26.560665,
          -22.689444,
          -20.685087,
          -28.134312,
          -28.039925,
          -26.553736,
          -27.490208,
          -27.953466,
          -26.051758,
          -29.458334,
          -27.004435,
          -29.458334,
          -22.693571,
          -22.731205,
          -20.685087,
          -22.689444,
          -28.067429,
          -28.061653,
          -27.978527,
          -25.969955,
          -27.951292,
          -29.480993,
          -19.370085,
          -22.73724,
          -27.978527,
          -26.153671,
          -22.688992,
          -22.709316,
          -22.808126,
          -22.703138,
          -26.051758,
          -22.689444,
          -25.43552,
          -29.353014,
          -27.95543,
          -22.707119,
          -22.693571,
          -22.723186,
          -28.065458,
          -27.524132,
          -24.996298,
          -19.465729,
          -22.689444,
          -29.3522,
          -22.689444,
          -25.439152,
          -26.591022,
          -21.997845,
          -25.904398,
          -28.042112,
          -22.693571,
          -27.95543,
          -22.717638,
          -22.261608,
          -22.703138,
          -26.1535,
          -29.452734,
          -21.604555,
          -27.524132,
          -27.524132,
          -22.689444,
          -26.571562,
          -27.95543,
          -27.978527,
          -22.731236,
          -20.685087,
          -20.685087,
          -22.689444,
          -29.458334,
          -27.068754,
          -28.001665,
          -26.14149,
          -27.978527,
          -22.75075,
          -28.039925,
          -22.703138,
          -26.112373,
          -29.35365,
          -27.951292,
          -22.723347,
          -27.790737,
          -22.703138,
          -20.685087,
          -27.951292,
          -20.505144,
          -27.978527,
          -27.790737,
          -22.808262,
          -26.051758,
          -22.703138,
          -21.923529,
          -22.689444,
          -22.691557,
          -26.534756,
          -29.480993,
          -27.102615,
          -29.458334,
          -26.153835,
          -26.876652,
          -22.703138,
          -28.065458,
          -27.951292,
          -26.617437,
          -28.042112,
          -28.001665,
          -27.978527,
          -27.978527,
          -20.685087,
          -27.524132,
          -22.671942,
          -20.685087,
          -26.070435,
          -26.987349,
          -22.683586,
          -26.57633,
          -27.665611,
          -26.46707,
          -19.667635,
          -22.693361,
          -29.480993,
          -22.691557,
          -26.577518,
          -29.442808,
          -22.693361,
          -27.951292,
          -22.876328,
          -27.812517,
          -22.876167,
          -22.691178,
          -27.421259,
          -26.070435,
          -22.744853,
          -26.085632,
          -22.820442,
          -22.689444,
          -22.691557,
          -28.044815,
          -22.695183,
          -22.699076,
          -27.978527,
          -25.016071,
          -27.395897,
          -26.077461,
          -26.598925,
          -26.65527,
          -29.480993,
          -27.524132,
          -16.635721,
          -27.497814,
          -29.31951,
          -22.73724,
          -29.313206,
          -27.026136,
          -22.73724,
          -26.077461,
          -28.039925,
          -27.978527,
          -19.667635,
          -25.051165,
          -22.755672,
          -26.22401,
          -22.689444,
          -22.720968,
          -25.201033,
          -28.26998,
          -29.365347,
          -29.458334,
          -26.134731,
          -26.103607,
          -27.978527,
          -25.099901,
          -22.689444,
          -27.978527,
          -22.73724,
          -29.35365,
          -27.811752,
          -26.390871,
          -27.951292,
          -27.951292,
          -22.689444,
          -27.951292,
          -22.696316,
          -20.505144,
          -20.685087,
          -22.696316,
          -22.876017,
          -27.951292,
          -22.73724,
          -22.693571,
          -27.951292,
          -26.07017,
          -22.703138,
          -22.700874,
          -22.33,
          -26.22401,
          -26.22401,
          -26.051758,
          -29.458334,
          -22.73724,
          -27.95851,
          -22.693571,
          -27.215921,
          -29.458334,
          -25.904398,
          -29.3522,
          -20.505144,
          -27.95543,
          -28.042112,
          -20.685087,
          -27.951292,
          -26.58349,
          -26.714731,
          -22.005514,
          -27.951292,
          -28.039925,
          -26.22401,
          -27.524132,
          -28.044815,
          -25.066154,
          -28.061653,
          -26.462187,
          -26.598925,
          -27.112291,
          -29.363897,
          -22.689444,
          -22.707119,
          -22.67233,
          -25.016071,
          -26.462187,
          -21.9952,
          -12.562269,
          -25.099901,
          -20.685087,
          -28.061653,
          -22.689444,
          -26.645142,
          -26.637802,
          -26.051758,
          -29.3522,
          -28.042112,
          -28.039925,
          -26.566065,
          -29.453938,
          -22.703138,
          -26.645142,
          -29.480993,
          -22.73724,
          -26.153671,
          -28.042112,
          -22.690584,
          -27.997944,
          -20.685087,
          -27.67072,
          -26.051758,
          -20.414827,
          -25.016071,
          -26.146452,
          -26.22401,
          -27.978527,
          -29.480993,
          -28.001665,
          -29.207754,
          -27.95543,
          -26.22401,
          -27.978527,
          -22.731205,
          -22.73724,
          -22.703138,
          -22.703138,
          -27.215921,
          -22.703138,
          -20.685087,
          -20.685087,
          -22.703138,
          -22.693571,
          -27.579836,
          -27.951292,
          -28.816475,
          -22.73724,
          -22.73724,
          -26.396843,
          -22.691557,
          -25.91816,
          -22.797487,
          -26.478705,
          -27.877003,
          -29.480993,
          -22.689444,
          -29.158892,
          -28.042112,
          -28.81961,
          -22.703138,
          -22.731205,
          -26.637802,
          -20.685087,
          -27.951292,
          -22.689444,
          -27.951292,
          -20.685087,
          -22.723215,
          -29.458334,
          -27.95543,
          -22.690584,
          -27.967873,
          -25.89384,
          -27.951292,
          -22.720968,
          -27.116165,
          -22.703138,
          -27.95543,
          -22.703138,
          -22.703138,
          -27.924501,
          -27.951292,
          -26.077461,
          -27.951292,
          -22.73724,
          -27.967873,
          -27.978527,
          -26.22662,
          -27.971739,
          -22.689444,
          -29.361233,
          -22.689444,
          -22.73724,
          -26.532488,
          -26.591022,
          -28.001665,
          -12.562269,
          -26.782099,
          -22.693571,
          -19.667635,
          -26.14149,
          -26.051758,
          -29.454657,
          -29.312376,
          -29.453938,
          -29.453938,
          -22.699076,
          -20.685087,
          -27.978527,
          -20.467573,
          -27.951292,
          -27.978527,
          -26.22401,
          -26.146452,
          -22.689444,
          -29.480993,
          -24.135689,
          -25.051165,
          -28.039925,
          -22.689444,
          -27.791883,
          -24.544506,
          -22.691557,
          -25.89384,
          -29.458334,
          -29.480993,
          -26.153835,
          -29.207754,
          -20.685087,
          -26.112373,
          -22.383804,
          -22.73724,
          -29.480993,
          -27.497814,
          -22.691557,
          -19.667635,
          -29.480993,
          -19.667635,
          -27.421259,
          -27.511967,
          -27.553482,
          -22.699076,
          -22.672646,
          -22.691557,
          -25.016071,
          -26.571562,
          -26.1535,
          -22.739326,
          -20.685087,
          -26.112373,
          -27.978527,
          -22.716621,
          -27.011484,
          -26.477318,
          -21.923529,
          -29.480993,
          -28.001665,
          -28.039925,
          -26.22401,
          -20.467573,
          -28.001665,
          -26.112373,
          -20.685087,
          -27.421259,
          -29.3522,
          -29.453938,
          -20.685087,
          -25.099901,
          -22.689444,
          -22.73724,
          -22.689444,
          -28.011583,
          -28.042112,
          -21.946955,
          -27.951292,
          -28.065458,
          -22.73724,
          -27.67118,
          -22.703138,
          -29.453938,
          -26.051758,
          -26.152147,
          -20.685087,
          -26.266348,
          -26.41441,
          -22.732693,
          -27.431524,
          -20.685087,
          -21.99506,
          -22.867836,
          -27.978527,
          -22.861002,
          -26.037426,
          -27.951292,
          -26.407509,
          -26.069582,
          -22.689444,
          -26.948582,
          -29.458334,
          -22.807692,
          -27.739838,
          -27.495457,
          -19.38903,
          -28.011583,
          -27.95543,
          -26.14149,
          -27.497814,
          -22.730307,
          -26.037426,
          -27.952076,
          -24.418833,
          -29.158892,
          -25.96955,
          -26.643187,
          -27.978527,
          -25.016071,
          -27.951292,
          -28.001665,
          -26.103607,
          -27.571884,
          -26.006586,
          -26.037426,
          -25.099901,
          -26.462187,
          -22.731178,
          -27.811752,
          -26.462187,
          -29.313206,
          -27.978527,
          -29.176517,
          -26.037426,
          -27.978527,
          -29.158892,
          -22.714727,
          -29.458334,
          -27.978527,
          -29.15847,
          -22.73724,
          -27.540754,
          -27.978527,
          -19.776,
          -25.216906,
          -27.739838,
          -22.707119,
          -29.378424,
          -27.497639,
          -20.685087,
          -22.691557,
          -29.458334,
          -22.691847,
          -22.709316,
          -25.098377,
          -26.462187,
          -29.480993,
          -22.713474,
          -22.691557,
          -22.863848,
          -26.462187,
          -29.458334,
          -22.691557,
          -22.261608,
          -26.37905,
          -29.159052,
          -26.462187,
          -29.378424,
          -29.458334,
          -27.978527,
          -27.978527,
          -29.158892,
          -22.731236,
          -29.458334,
          -22.691557,
          -27.490208,
          -27.739838,
          -27.978527,
          -22.691557,
          -26.91687,
          -27.490208,
          -26.037426,
          -28.269287,
          -26.462187,
          -29.158892,
          -20.692652,
          -22.807692,
          -27.980448,
          -26.037426,
          -24.586163,
          -20.685087,
          -29.158892,
          -20.685087,
          -26.462187,
          -27.952982,
          -29.458334,
          -18.965982,
          -24.339954,
          -29.431555,
          -27.385855,
          -22.691557,
          -29.442417,
          -22.868647,
          -20.685087,
          -27.973124,
          -26.037426,
          -27.818636,
          -26.462187,
          -22.693571,
          -26.037426,
          -27.421259,
          -28.001665,
          -26.462187,
          -20.688868,
          -22.807692,
          -27.95734,
          -25.016071,
          -27.395897,
          -27.739838,
          -26.462187,
          -20.688868,
          -27.733105,
          -22.261608,
          -26.462187,
          -27.635912,
          -27.951292,
          -28.001665,
          -26.037426,
          -29.178404,
          -27.490343,
          -29.458334,
          -29.158892,
          -22.693571,
          -20.685087,
          -25.892498,
          -29.444305,
          -25.099901,
          -22.691847,
          -19.41644,
          -26.037426,
          -27.487331,
          -26.037426,
          -27.49529,
          -27.978527,
          -29.450869,
          -26.037426,
          -27.972515,
          -28.314272,
          -22.69121,
          -28.314272,
          -22.73724,
          -27.952076,
          -20.685087,
          -27.739838,
          -23.14013,
          -22.689444,
          -29.36851,
          -29.458334,
          -27.951292,
          -27.967873,
          -27.967873,
          -22.689444,
          -26.462187,
          -27.734621,
          -27.951292,
          -26.462187,
          -20.688868,
          -26.462187,
          -29.458334,
          -25.963375,
          -28.001665,
          -25.216906,
          -24.956982,
          -22.860676,
          -27.978527,
          -22.807692,
          -27.978527,
          -26.144926,
          -26.037426,
          -29.442862,
          -29.158892,
          -29.458334,
          -29.427607,
          -27.951292,
          -26.462187,
          -22.689444,
          -27.502172,
          -26.40133,
          -27.978527,
          -27.951292,
          -22.73724,
          -29.352043,
          -29.458334,
          -27.733105,
          -26.037426,
          -22.689444,
          -27.967873,
          -16.463182,
          -26.037426,
          -23.162851,
          -28.081356,
          -27.732767,
          -22.807692,
          -22.691557,
          -29.458334,
          -22.602285,
          -27.571884,
          -26.462187,
          -16.463182,
          -22.691557,
          -27.980448,
          -29.458334,
          -27.395897,
          -25.016071,
          -29.353048,
          -25.963375,
          -26.1085,
          -28.081356,
          -27.978527,
          -26.006586,
          -26.180077,
          -26.462187,
          -20.685087,
          -29.425262,
          -22.693571,
          -26.007145,
          -25.099901,
          -16.463182,
          -22.731178,
          -26.037426,
          -22.807692,
          -29.458334,
          -28.229565,
          -26.22401,
          -21.450356,
          -27.951292,
          -20.685087,
          -27.110743,
          -22.687828,
          -27.395897,
          -22.88379,
          -20.685087,
          -29.425262,
          -22.690578,
          -20.685087,
          -26.462187,
          -26.037426,
          -24.856287,
          -22.703138,
          -26.070501,
          -20.685087,
          -27.395897,
          -29.425262,
          -21.988024,
          -26.037426,
          -27.571884,
          -29.458334,
          -29.427607,
          -22.731236,
          -22.691557,
          -27.43288,
          -27.980448,
          -29.458334,
          -26.41441,
          -27.944067,
          -26.487871,
          -27.951292,
          -29.425262,
          -29.158892,
          -29.423851,
          -27.951292,
          -27.951292,
          -22.727917,
          -26.006586,
          -27.980448,
          -22.691557,
          -25.339487,
          -22.693571,
          -26.462187,
          -22.691557,
          -25.016071,
          -22.691557,
          -25.6403,
          -22.691557,
          -29.437624,
          -25.099901,
          -26.070435,
          -26.037426,
          -25.888823,
          -29.427607,
          -29.423658,
          -23.14013,
          -22.689444,
          -26.27108,
          -21.987888,
          -25.782215,
          -26.037426,
          -27.395897,
          -26.037426,
          -26.324463,
          -22.73944,
          -26.462187,
          -29.461676,
          -29.32316,
          -27.951292,
          -20.692652,
          -26.462187,
          -27.978527,
          -25.128738,
          -29.176653,
          -25.099901,
          -22.693571,
          -26.591022,
          -29.451757,
          -26.652637,
          -22.740936,
          -22.691557,
          -29.15847,
          -29.458334,
          -28.057894,
          -22.689444,
          -27.023197,
          -29.289534,
          -22.717943,
          -27.013268,
          -27.487331,
          -26.069582,
          -26.037426,
          -22.691557,
          -27.023197,
          -29.458334,
          -22.691557,
          -29.442862,
          -27.48617,
          -29.408493,
          -27.502172,
          -22.866201,
          -27.422289,
          -26.037426,
          -29.458334,
          -26.462187,
          -27.967873,
          -22.689444,
          -27.967873,
          -27.978527,
          -26.589245,
          -29.458334,
          -22.261608,
          -25.339487,
          -22.691557,
          -22.261608,
          -27.978527,
          -27.395897,
          -27.739838,
          -27.95734,
          -28.057894,
          -22.715195,
          -27.967873,
          -27.490343,
          -21.66181,
          -27.951292,
          -29.423851,
          -29.458334,
          -27.952076,
          -26.462187,
          -22.691557,
          -29.480993,
          -27.978527,
          -29.458334,
          -29.458334,
          -29.458334,
          -29.425262,
          -20.685087,
          -29.449287,
          -25.963375,
          -25.941814,
          -22.724419,
          -27.952982,
          -27.951292,
          -27.951292,
          -26.749699,
          -20.09419,
          -27.978527,
          -27.978527,
          -29.458334,
          -22.73724,
          -26.037426,
          -26.037426,
          -19.588354,
          -27.978527,
          -20.688868,
          -22.876017,
          -27.997944,
          -29.458334,
          -25.96955,
          -28.001665,
          -29.442417,
          -24.156536,
          -16.463182,
          -26.721998,
          -20.061583,
          -27.978527,
          -29.158892,
          -25.016071,
          -22.691557,
          -27.980448,
          -29.14611,
          -20.685087,
          -29.458334,
          -22.715858,
          -22.693571,
          -26.037426,
          -20.685087,
          -22.73724,
          -27.395897,
          -22.693571,
          -27.540754,
          -22.88379,
          -27.978527,
          -22.807692,
          -25.099901,
          -22.693571,
          -27.879776,
          -29.458334,
          -29.480993,
          -26.462187,
          -22.691557,
          -26.462187,
          -22.876017,
          -26.462187,
          -22.693571,
          -29.458334,
          -27.978527,
          -26.462187,
          -27.429865,
          -29.427607,
          -22.689444,
          -29.343876,
          -24.339954,
          -27.95543,
          -21.446468,
          -20.685087,
          -16.463182,
          -27.978527,
          -16.463182,
          -26.037426,
          -27.739838,
          -27.978527,
          -22.88379,
          -26.037426,
          -27.978527,
          -27.95734,
          -29.458334,
          -21.66514,
          -25.07511,
          -29.090788,
          -22.691044,
          -26.037426,
          -26.037426,
          -27.421259,
          -25.07643,
          -29.427607,
          -29.343876,
          -25.6403,
          -26.037426,
          -29.458334,
          -22.693571,
          -22.261608,
          -29.458334,
          -27.978527,
          -27.421259,
          -27.535162,
          -22.688826,
          -22.692886,
          -27.669218,
          -27.148058,
          -20.685087,
          -23.162851,
          -25.339458,
          -29.450869,
          -29.355167,
          -26.462187,
          -27.978527,
          -25.22102,
          -22.705013,
          -27.951292,
          -27.951292,
          -27.669218,
          -27.951292,
          -26.462187,
          -24.956982,
          -29.159657,
          -29.458334,
          -25.084343,
          -22.716423,
          -27.565079,
          -27.540754,
          -27.490208,
          -26.037426,
          -25.339489,
          -22.698654,
          -29.450869,
          -26.487871,
          -22.689444,
          -22.709316,
          -29.15847,
          -26.462187,
          -29.158892,
          -27.424295,
          -26.037426,
          -27.951292,
          -22.261608,
          -16.331688,
          -22.689444,
          -29.159657,
          -27.116165,
          -19.412596,
          -29.158892,
          -22.727917,
          -27.502172,
          -22.69416,
          -29.458334,
          -29.427607,
          -22.688189,
          -22.687435,
          -22.692886,
          -27.950385,
          -22.689359,
          -22.719713,
          -22.707014,
          -22.688826,
          -22.69416,
          -26.706086,
          -25.27172,
          -22.69416,
          -26.037426,
          -27.023197,
          -22.688189,
          -22.688826,
          -22.687435,
          -22.692886,
          -22.687435,
          -22.688189,
          -25.310317,
          -27.951292,
          -20.083608,
          -22.642795,
          -27.56632,
          -20.685087,
          -24.956982,
          -26.324463,
          -29.425262,
          -29.458334,
          -22.691557,
          -20.685087,
          -29.480993,
          -28.087328,
          -29.450869,
          -29.458334,
          -28.039925,
          -16.565886,
          -18.892639,
          -18.992129,
          -27.941442,
          -27.830673,
          -27.999352,
          -16.744142,
          -27.919618,
          -16.463182,
          -29.158892,
          -27.497814,
          -26.037426,
          -22.717943,
          -27.956425,
          -27.956425,
          -22.693571,
          -20.688868,
          -27.44909,
          -27.978527,
          -27.421259,
          -29.155,
          -29.158892,
          -29.442417,
          -22.73724,
          -27.978527,
          -26.266348,
          -27.978527,
          -26.14149,
          -20.685087,
          -20.685087,
          -22.689444,
          -22.694677,
          -27.778471,
          -26.14149,
          -29.158892,
          -27.739838,
          -28.001665,
          -27.951292,
          -26.150242,
          -26.037426,
          -29.159657,
          -27.978527,
          -25.339458,
          -22.876017,
          -27.962845,
          -29.20833,
          -27.112858,
          -23.162851,
          -28.987675,
          -29.450869,
          -16.463182,
          -29.423851,
          -22.61571,
          -27.424166,
          -27.567038,
          -27.395897,
          -27.951292,
          -27.951292,
          -29.425262,
          -22.703138,
          -29.158892,
          -26.462187,
          -27.978527,
          -22.693853,
          -27.973124,
          -19.022827,
          -20.685087,
          -20.692652,
          -29.36851,
          -26.146452,
          -26.146452,
          -27.978527,
          -27.480919,
          -22.707119,
          -27.967873,
          -27.951292,
          -22.695559,
          -22.696547,
          -27.45921,
          -29.159657,
          -26.22401,
          -20.685087,
          -27.739838,
          -28.001665,
          -22.69042,
          -29.401346,
          -18.986572,
          -25.91816,
          -27.376642,
          -27.967873,
          -27.107958,
          -20.685087,
          -26.462187,
          -26.037426,
          -26.037426,
          -27.421259,
          -26.037426,
          -29.442862,
          -26.537949,
          -26.037426,
          -22.707403,
          -27.978527,
          -27.980448,
          -22.716682,
          -28.001665,
          -26.106134,
          -27.952076,
          -26.070501,
          -27.951292,
          -26.14149,
          -26.037426,
          -27.978527,
          -27.734621,
          -29.450869,
          -20.249292,
          -29.446772,
          -29.480993,
          -29.458334,
          -24.286337,
          -22.693571,
          -27.951292,
          -22.715462,
          -26.266348,
          -22.693571,
          -26.266348,
          -27.952509,
          -29.458334,
          -22.691557,
          -27.978527,
          -27.978527,
          -27.497814,
          -22.693571,
          -27.967873,
          -27.4184,
          -27.759804,
          -22.691044,
          -22.73724,
          -29.458334,
          -26.037426,
          -26.144926,
          -20.692652,
          -26.462187,
          -29.427607,
          -22.691044,
          -22.703138,
          -27.782248,
          -23.195251,
          -29.159657,
          -25.613165,
          -29.458334,
          -18.976793,
          -24.286337,
          -22.860676,
          -26.266348,
          -22.695183,
          -22.749758,
          -24.856617,
          -24.739733,
          -22.876017,
          -29.3914,
          -27.967873,
          -27.978527,
          -22.714727,
          -27.96443,
          -24.991808,
          -29.450869,
          -25.339487,
          -29.458334,
          -20.688868,
          -27.978527,
          -27.739838,
          -27.978527,
          -29.444305,
          -22.72166,
          -22.74054,
          -29.480993,
          -26.037426,
          -29.458334,
          -27.951292,
          -26.462187,
          -22.807692,
          -27.978527,
          -27.395897,
          -27.395897,
          -29.159657,
          -29.39474,
          -29.442862,
          -22.876017,
          -27.945465,
          -28.081356,
          -27.962845,
          -27.734621,
          -20.688868,
          -29.30918,
          -26.037426,
          -22.86209,
          -19.022827,
          -27.951292,
          -27.951292,
          -22.807692,
          -27.093496,
          -22.73724,
          -27.421259,
          -27.480919,
          -21.446468,
          -25.016071,
          -25.800289,
          -22.841213,
          -26.229774,
          -26.708605,
          -24.26353,
          -26.553318,
          -26.446783,
          -16.394845,
          -29.449523,
          -29.315197,
          -29.385416,
          -27.970458,
          -18.811476,
          -29.270108,
          -27.856009
         ],
         "legendgroup": "",
         "lon": [
          -51.333333,
          -53.516667,
          -40.600278,
          -51.5,
          -46.884167,
          -45.481945,
          -50.035366,
          -45.481945,
          -45.481945,
          -51.30342,
          -45.515057,
          -45.515057,
          -47.977295,
          -50.580227,
          -50.655212,
          -50.611286,
          -50.562775,
          -50.562775,
          -50.078945,
          -50.078945,
          -50.078945,
          -45.524296,
          -45.481945,
          -48.164062,
          -48.850082,
          -45.523514,
          -45.481945,
          -45.481945,
          -43.941566,
          -45.481945,
          -50.611286,
          -45.58983,
          -50.078945,
          -50.02809,
          -49.950157,
          -45.481945,
          -45.58983,
          -45.58983,
          -45.58983,
          -45.481945,
          -45.58983,
          -45.481945,
          -46.79356,
          -49.585606,
          -46.0670936,
          -45.642,
          -47.973732,
          -50.611286,
          -45.50286,
          -48.570084,
          -45.58983,
          -48.570084,
          -41.806305,
          -50.611084,
          -45.481945,
          -41.755135,
          -45.481945,
          -50.062122,
          -41.991634,
          -49.67773,
          -45.481945,
          -49.67773,
          -45.481945,
          -49.67773,
          -50.867,
          -48.872986,
          -49.67773,
          -45.47843,
          -45.58983,
          -45.591537,
          -45.58983,
          -49.67773,
          -45.481945,
          -45.58983,
          -49.67773,
          -45.548607,
          -49.67773,
          -49.67773,
          -49.67773,
          -49.67773,
          -45.58983,
          -42.03847,
          -45.14914,
          -49.67773,
          -42.634033,
          -49.67773,
          -45.58983,
          -49.67773,
          -49.67773,
          -49.67773,
          -49.67773,
          -49.67773,
          -49.67773,
          -49.67773,
          -49.67773,
          -49.67773,
          -49.67773,
          -49.67773,
          -40.06817,
          -45.481945,
          -49.67773,
          -40.06817,
          -40.06817,
          -49.67773,
          -44.61104,
          -45.609047,
          -49.67773,
          -49.67773,
          -49.67773,
          -49.67773,
          -49.67773,
          -49.67773,
          -49.67773,
          -49.67773,
          -49.67773,
          -49.67773,
          -49.67773,
          -49.67773,
          -40.06817,
          -49.67773,
          -45.58983,
          -45.58983,
          -45.481945,
          -45.481945,
          -43.382313,
          -43.326443,
          -43.20878,
          -45.58983,
          -45.481945,
          -49.254745,
          -49.15702,
          -49.21514,
          -51.25729,
          -44.724613,
          -45.47843,
          -49.67773,
          -45.481945,
          -45.481945,
          -46.029797,
          -45.481945,
          -49.67773,
          -45.481945,
          -45.481945,
          -45.552963,
          -49.67773,
          -49.67773,
          -49.67773,
          -45.552963,
          -49.67773,
          -46.029797,
          -45.481945,
          -45.481945,
          -49.67773,
          -45.58983,
          -45.481945,
          -45.481945,
          -50.333794,
          -50.611286,
          -45.481945,
          -45.58983,
          -44.61104,
          -46.029797,
          -50.395557,
          -49.308002,
          -46.029797,
          -50.555885,
          -45.481945,
          -48.715847,
          -45.481945,
          -49.609753,
          -45.481945,
          -45.481945,
          -45.593556,
          -49.647285,
          -45.527267,
          -45.512768,
          -45.58983,
          -45.514187,
          -45.481945,
          -45.481945,
          -45.481945,
          -45.481945,
          -45.58983,
          -45.481945,
          -45.58983,
          -45.481945,
          -45.591537,
          -45.481945,
          -45.481945,
          -52.1224,
          -45.481945,
          -45.481945,
          -45.58983,
          -45.481945,
          -45.55,
          -45.481945,
          -45.481945,
          -45.58983,
          -45.49,
          -45.527267,
          -45.47843,
          -45.481945,
          -45.58983,
          -45.47843,
          -51.088493,
          -45.481945,
          -45.49,
          -45.58983,
          -45.481945,
          -45.481945,
          -45.481945,
          -45.496956,
          -44.624233,
          -45.58983,
          -45.58983,
          -45.47843,
          -45.481945,
          -45.47843,
          -45.47843,
          -45.481945,
          -45.41529,
          -45.481945,
          -45.481945,
          -45.58983,
          -45.587475,
          -41.113181,
          -50.611286,
          -45.481945,
          -45.481945,
          -45.58983,
          -45.481945,
          -50.611286,
          -45.481945,
          -45.58983,
          -45.481945,
          -45.47843,
          -50.84368,
          -50.611286,
          -45.591537,
          -50.11877,
          -45.58983,
          -45.481945,
          -49.93735,
          -50.078945,
          -41.106509,
          -45.617466,
          -45.47843,
          -52.540794,
          -44.73,
          -45.481945,
          -50.18102,
          -49.93415,
          -52.540794,
          -45.58983,
          -49.91003,
          -45.56501,
          -45.481945,
          -42.864273,
          -50.17,
          -45.495079,
          -45.612003,
          -45.47843,
          -50.490837,
          -48.61931,
          -52.406116,
          -50.11877,
          -48.61931,
          -45.58983,
          -49.333935,
          -50.5732,
          -50.11877,
          -49.85894,
          -49.87557,
          -50.17,
          -47.034702,
          -45.58983,
          -47.034702,
          -50.61154,
          -47.034702,
          -50.61154,
          -47.034702,
          -45.58983,
          -50.61154,
          -45.58983,
          -50.677185,
          -50.097656,
          -50.677185,
          -45.481945,
          -50.61154,
          -43.30088,
          -45.585583,
          -44.60596,
          -42.549423,
          -45.598418,
          -42.887127,
          -45.47843,
          -45.58983,
          -45.58983,
          -45.546707,
          -45.558025,
          -48.75009,
          -49.876534,
          -45.481945,
          -45.58983,
          -49.93415,
          -45.481945,
          -45.50286,
          -45.47843,
          -50.38677,
          -45.47843,
          -49.857742,
          -50.418335,
          -50.38677,
          -48.669518,
          -50.173786,
          -49.832825,
          -49.875484,
          -52.099163,
          -50.173786,
          -49.87658,
          -45.47843,
          -45.512924,
          -50.611286,
          -45.512924,
          -50.611286,
          -45.50286,
          -50.613113,
          -50.613113,
          -45.512924,
          -50.49546,
          -50.758728,
          -50.758728,
          -45.512924,
          -49.07524,
          -45.512924,
          -50.38677,
          -50.71521,
          -45.504215,
          -50.429832,
          -45.547813,
          -42.54893,
          -50.38677,
          -50.611286,
          -49.1338,
          -49.136997,
          -50.38625,
          -45.481945,
          -45.512924,
          -45.480095,
          -49.405945,
          -45.58983,
          -51.493843,
          -52.7692,
          -53.259636,
          -40.65096,
          -50.580227,
          -45.47843,
          -49.93415,
          -49.895054,
          -44.645363,
          -45.58983,
          -45.481945,
          -45.509063,
          -45.58983,
          -45.58983,
          -42.73631,
          -45.472991,
          -45.481945,
          -45.512924,
          -45.58983,
          -49.93415,
          -45.546707,
          -46.034103,
          -45.588287,
          -45.512924,
          -49.879368,
          -49.94003,
          -45.889923,
          -45.58983,
          -48.416378,
          -45.47843,
          -45.530807,
          -51.606956,
          -49.690453,
          -49.521774,
          -52.57196,
          -51.991096,
          -50.18102,
          -49.91271,
          -49.93415,
          -49.74323,
          -49.93415,
          -49.075283,
          -49.93415,
          -49.93461,
          -49.91271,
          -49.85178,
          -49.67773,
          -49.84894,
          -49.93415,
          -49.93415,
          -49.93415,
          -49.93415,
          -52.76609,
          -49.2921,
          -49.93415,
          -51.645054,
          -45.569553,
          -45.481945,
          -45.42649,
          -49.89357,
          -49.74323,
          -49.93476,
          -49.93476,
          -45.47843,
          -45.462883,
          -49.93416,
          -51.512608,
          -51.512608,
          -51.512608,
          -49.03748,
          -51.96288,
          -51.96288,
          -50.61554,
          -43.20936,
          -43.18512,
          -46.03587,
          -49.91271,
          -46.03587,
          -41.123425,
          -41.816998,
          -51.96288,
          -46.03587,
          -49.34983,
          -49.333687,
          -51.98698,
          -48.2985,
          -51.98211,
          -48.2985,
          -49.67773,
          -49.521774,
          -49.690453,
          -45.512924,
          -49.67773,
          -49.521774,
          -50.735382,
          -49.690453,
          -50.640827,
          -51.98211,
          -45.58983,
          -53.285965,
          -51.98211,
          -51.98211,
          -51.98211,
          -51.98211,
          -51.98211,
          -51.98211,
          -51.9955,
          -52.00352,
          -45.546707,
          -49.995068,
          -51.98211,
          -46.03587,
          -51.98211,
          -51.98211,
          -49.93415,
          -45.477863,
          -49.832825,
          -45.481945,
          -49.17663,
          -45.47843,
          -50.611286,
          -45.487553,
          -46.027676,
          -45.65568,
          -45.487553,
          -48.811634,
          -46.027676,
          -45.47843,
          -45.487553,
          -45.47843,
          -45.481945,
          -43.09209,
          -45.481945,
          -45.47843,
          -45.481945,
          -49.15021,
          -45.481945,
          -45.47843,
          -45.47843,
          -45.481945,
          -50.87508,
          -45.50286,
          -46.027794,
          -50.389,
          -45.481945,
          -43.30088,
          -44.570778,
          -50.485363,
          -45.505657,
          -40.775166,
          -50.233864,
          -43.30088,
          -42.549423,
          -45.58983,
          -43.30088,
          -45.47843,
          -45.58983,
          -49.86627,
          -43.235652,
          -45.47843,
          -45.524104,
          -50.61037,
          -48.522514,
          -53.259636,
          -53.259636,
          -48.81067,
          -50.04385,
          -50.32262,
          -45.47843,
          -45.42649,
          -49.285046,
          -45.58983,
          -46.027676,
          -50.611286,
          -45.58983,
          -45.481945,
          -44.2315,
          -49.832825,
          -49.934246,
          -50.402096,
          -49.891186,
          -49.832825,
          -49.877834,
          -45.481945,
          -49.85365,
          -50.402096,
          -49.877834,
          -48.81067,
          -45.564342,
          -50.61196,
          -48.81067,
          -44.80104,
          -45.505657,
          -45.571903,
          -45.481945,
          -45.47843,
          -45.481945,
          -45.505657,
          -45.481945,
          -49.85365,
          -49.934246,
          -50.577396,
          -45.558697,
          -49.682823,
          -41.867516,
          -45.414532,
          -50.35624,
          -49.832825,
          -45.58983,
          -45.50286,
          -49.89394,
          -45.50286,
          -45.50286,
          -45.47843,
          -45.58983,
          -45.481945,
          -45.481945,
          -51.601036,
          -45.58983,
          -49.225,
          -45.58983,
          -45.50286,
          -50.61038,
          -48.81067,
          -45.481945,
          -51.598354,
          -50.04385,
          -49.87676,
          -41.83656,
          -41.809845,
          -51.3943,
          -46.040817,
          -53.303646,
          -53.259636,
          -44.570778,
          -53.259636,
          -51.598354,
          -44.570778,
          -51.41434,
          -44.696938,
          -48.811634,
          -49.473602,
          -49.376247,
          -45.47843,
          -45.42649,
          -50.6088,
          -41.730213,
          -41.730213,
          -46.029797,
          -44.696938,
          -52.7692,
          -51.598354,
          -49.892693,
          -49.93415,
          -52.57196,
          -45.47843,
          -45.47843,
          -45.50286,
          -45.481945,
          -51.44964,
          -45.47843,
          -45.50286,
          -51.354176,
          -43.541706,
          -51.321922,
          -45.65568,
          -53.303646,
          -45.481945,
          -45.47843,
          -45.58983,
          -45.58983,
          -45.49103,
          -45.49103,
          -49.47991,
          -45.49103,
          -48.811634,
          -48.811634,
          -45.49103,
          -45.48765,
          -45.48765,
          -49.462177,
          -41.80629,
          -45.49103,
          -45.480175,
          -45.58983,
          -45.481945,
          -45.49103,
          -43.560734,
          -45.481945,
          -50.21293,
          -44.58398,
          -50.17481,
          -44.73,
          -52.018353,
          -48.811634,
          -49.181725,
          -48.811634,
          -45.48765,
          -49.933277,
          -49.285046,
          -45.481945,
          -50.611286,
          -51.606956,
          -50.581112,
          -40.775166,
          -45.589828,
          -45.589828,
          -50.611286,
          -40.92174,
          -40.92174,
          -50.261036,
          -45.58983,
          -50.17481,
          -50.580227,
          -50.17481,
          -50.17481,
          -49.93415,
          -51.77953,
          -49.93415,
          -42.54893,
          -45.58983,
          -44.724613,
          -50.17481,
          -49.5239,
          -49.224865,
          -45.58983,
          -50.80653,
          -50.38677,
          -45.58983,
          -45.48765,
          -50.17481,
          -49.53263,
          -50.17481,
          -48.415,
          -48.415,
          -48.415,
          -48.415,
          -48.415,
          -49.26085,
          -45.47843,
          -49.884373,
          -49.15021,
          -48.415,
          -46.28698,
          -48.415,
          -49.93415,
          -49.895054,
          -49.93415,
          -49.895054,
          -49.93415,
          -49.93415,
          -49.93415,
          -49.93415,
          -49.93415,
          -45.58983,
          -49.93415,
          -49.832825,
          -49.89477,
          -48.822727,
          -41.797398,
          -41.797398,
          -45.481945,
          -45.47843,
          -44.729343,
          -46.027676,
          -42.727303,
          -48.84727,
          -45.58983,
          -45.585583,
          -45.58983,
          -52.0695,
          -49.89477,
          -49.93415,
          -49.93415,
          -49.89477,
          -49.8566,
          -49.832825,
          -49.93415,
          -45.58983,
          -49.897446,
          -49.93415,
          -41.797398,
          -41.797398,
          -41.80629,
          -49.93415,
          -45.597748,
          -41.797398,
          -48.415,
          -45.522297,
          -49.894493,
          -50.38677,
          -44.73,
          -41.80629,
          -50.876205,
          -51.06235,
          -49.895054,
          -48.82894,
          -50.17481,
          -46.035946,
          -45.58983,
          -48.82894,
          -48.415,
          -53.259636,
          -41.797398,
          -46.027794,
          -51.94476,
          -42.727303,
          -49.47991,
          -48.811634,
          -45.58983,
          -50.174133,
          -49.15021,
          -48.811634,
          -48.811634,
          -50.17481,
          -48.2603,
          -49.2534,
          -48.811634,
          -48.415,
          -45.50286,
          -48.415146,
          -44.65268,
          -48.415,
          -48.415,
          -49.2534,
          -49.93415,
          -49.915222,
          -48.415,
          -49.93415,
          -49.93415,
          -50.38677,
          -49.915222,
          -41.80629,
          -49.93415,
          -41.797398,
          -53.259636,
          -50.17481,
          -49.895054,
          -53.259636,
          -46.027794,
          -45.594456,
          -49.236958,
          -49.93415,
          -50.39358,
          -49.236958,
          -50.573704,
          -45.47843,
          -50.39358,
          -42.39273,
          -43.30088,
          -45.490643,
          -46.029797,
          -50.611286,
          -50.38677,
          -49.93415,
          -43.30088,
          -45.536319,
          -48.572792,
          -46.077576,
          -43.30088,
          -49.260918,
          -50.39358,
          -49.5239,
          -42.39273,
          -52.17142,
          -50.820053,
          -49.260918,
          -50.26097,
          -48.855324,
          -50.078945,
          -53.259636,
          -43.30088,
          -50.39389,
          -48.855324,
          -46.029797,
          -50.39358,
          -45.47843,
          -45.47843,
          -50.61047,
          -42.228294,
          -43.30088,
          -41.814518,
          -51.77953,
          -50.38677,
          -50.39358,
          -51.606956,
          -45.5074,
          -45.570175,
          -49.8767,
          -45.481945,
          -50.581112,
          -41.89978,
          -49.9455,
          -45.58983,
          -51.606956,
          -41.814518,
          -45.481945,
          -49.8767,
          -45.503,
          -42.692139,
          -49.93541,
          -42.602375,
          -50.38677,
          -50.611286,
          -45.488697,
          -45.58983,
          -53.49812,
          -50.595,
          -46.029797,
          -48.8034,
          -52.81737,
          -45.47843,
          -40.95593,
          -48.584843,
          -50.38677,
          -45.58983,
          -48.584843,
          -50.611286,
          -43.30088,
          -48.415,
          -48.415,
          -52.20088,
          -52.17105,
          -51.606956,
          -48.956657,
          -44.787377,
          -50.26482,
          -53.259636,
          -50.38677,
          -51.77953,
          -52.7692,
          -43.30088,
          -44.592968,
          -43.30088,
          -43.30088,
          -53.491108,
          -49.333687,
          -50.38677,
          -49.8767,
          -49.8767,
          -46.043335,
          -50.38677,
          -43.30088,
          -45.541798,
          -43.30088,
          -52.81526,
          -49.181725,
          -45.495045,
          -49.93415,
          -48.4128,
          -52.57196,
          -49.875484,
          -45.47843,
          -45.588287,
          -50.38677,
          -50.611286,
          -49.8767,
          -45.541798,
          -45.47843,
          -50.38677,
          -45.505447,
          -47.014336,
          -50.38677,
          -43.30088,
          -45.50286,
          -45.505447,
          -49.8566,
          -51.991096,
          -50.821964,
          -50.38677,
          -50.816666,
          -50.17481,
          -51.991096,
          -53.285965,
          -50.816666,
          -50.816666,
          -50.81785,
          -50.816666,
          -52.25268,
          -49.93541,
          -46.041775,
          -49.8767,
          -49.93541,
          -49.5239,
          -50.38677,
          -50.973263,
          -50.808933,
          -50.808933,
          -50.816666,
          -50.38677,
          -48.855324,
          -50.808933,
          -50.816666,
          -43.30088,
          -50.816666,
          -50.816666,
          -40.775166,
          -49.8566,
          -50.24357,
          -50.39358,
          -43.30088,
          -50.808933,
          -50.816666,
          -49.875484,
          -46.023926,
          -45.50286,
          -53.259636,
          -52.7692,
          -43.30088,
          -44.592968,
          -49.5239,
          -45.47843,
          -48.473183,
          -45.47843,
          -43.30088,
          -49.14246,
          -45.481945,
          -40.969547,
          -49.93415,
          -51.512608,
          -49.93415,
          -53.259636,
          -45.47843,
          -43.30088,
          -49.93415,
          -49.260918,
          -49.14246,
          -45.604275,
          -50.39358,
          -50.80513,
          -50.61758,
          -45.604713,
          -50.574123,
          -50.39358,
          -43.30088,
          -49.6927,
          -50.39358,
          -40.705833,
          -46.03051,
          -50.39358,
          -49.5239,
          -49.95619,
          -49.93415,
          -53.269764,
          -49.93415,
          -43.30088,
          -49.236958,
          -43.30088,
          -53.259636,
          -51.556526,
          -52.550117,
          -49.5239,
          -51.77953,
          -45.47843,
          -53.259636,
          -49.95619,
          -43.30088,
          -49.95619,
          -45.50286,
          -43.30088,
          -45.50286,
          -50.39358,
          -50.343796,
          -53.259636,
          -45.481945,
          -45.50286,
          -43.30088,
          -40.92573,
          -53.285965,
          -45.588287,
          -46.029797,
          -51.606956,
          -53.259636,
          -53.259636,
          -46.077576,
          -43.30088,
          -50.80513,
          -45.481945,
          -50.50345,
          -50.581112,
          -49.895054,
          -45.483456,
          -49.959812,
          -49.895054,
          -45.481945,
          -49.842957,
          -45.58983,
          -50.483707,
          -50.82331,
          -45.481945,
          -45.481945,
          -49.895054,
          -45.58983,
          -50.804974,
          -43.30088,
          -53.259636,
          -42.40568,
          -49.895054,
          -43.30088,
          -49.895054,
          -49.895054,
          -43.42475,
          -49.895054,
          -45.481945,
          -45.48802,
          -49.356976,
          -45.48136,
          -45.581028,
          -43.30088,
          -50.39358,
          -45.481945,
          -49.881123,
          -49.93415,
          -50.813847,
          -45.481945,
          -49.93415,
          -49.93415,
          -49.93415,
          -43.30088,
          -50.615837,
          -43.30088,
          -50.581112,
          -50.39358,
          -50.581112,
          -45.594456,
          -52.021885,
          -45.482277,
          -50.753006,
          -45.59238,
          -43.30088,
          -45.58983,
          -45.50286,
          -45.494896,
          -53.315224,
          -50.581112,
          -45.481945,
          -42.225914,
          -41.848576,
          -52.568893,
          -45.50286,
          -50.581112,
          -51.180965,
          -45.494896,
          -45.42649,
          -45.58983,
          -42.730699,
          -45.59214,
          -43.30088,
          -45.58983,
          -45.58983,
          -43.30088,
          -45.58983,
          -51.13433,
          -45.590965,
          -45.594456,
          -43.30088,
          -45.58983,
          -45.581028,
          -45.581028,
          -45.50286,
          -42.40568,
          -42.862064,
          -50.581112,
          -42.40568,
          -43.30088,
          -45.494896,
          -53.30728,
          -45.505272,
          -45.58983,
          -45.483456,
          -50.581112,
          -45.481945,
          -51.991096,
          -45.485443,
          -45.47843,
          -50.39358,
          -45.58983,
          -43.30088,
          -52.030872,
          -52.568893,
          -45.47843,
          -52.53605,
          -45.590965,
          -51.13564,
          -45.50286,
          -43.30088,
          -45.494896,
          -45.58983,
          -45.537136,
          -45.50286,
          -45.481945,
          -50.82331,
          -51.12177,
          -46.029797,
          -45.481945,
          -45.58983,
          -49.93415,
          -49.895054,
          -45.58983,
          -45.837395,
          -43.30088,
          -43.30088,
          -49.93415,
          -43.30088,
          -49.895054,
          -50.581112,
          -45.58983,
          -49.93415,
          -45.481945,
          -43.30088,
          -49.832825,
          -49.895054,
          -43.30088,
          -45.481415,
          -45.50286,
          -45.481945,
          -49.93415,
          -50.611286,
          -45.589172,
          -48.79497,
          -45.481945,
          -50.50345,
          -45.570175,
          -45.48802,
          -43.30088,
          -49.93415,
          -49.93415,
          -51.13744,
          -45.481945,
          -45.481945,
          -49.93415,
          -49.93415,
          -43.30088,
          -50.611286,
          -52.031147,
          -50.802395,
          -45.58983,
          -43.30088,
          -45.47843,
          -50.429832,
          -45.58983,
          -45.557625,
          -45.592371,
          -45.592396,
          -45.592396,
          -46.030426,
          -45.592342,
          -53.285965,
          -43.30088,
          -49.356976,
          -43.30088,
          -50.60847,
          -50.38677,
          -50.38677,
          -43.30088,
          -45.58983,
          -49.356976,
          -43.30088,
          -43.30088,
          -45.58983,
          -50.581112,
          -53.285965,
          -50.581112,
          -50.611286,
          -50.611286,
          -52.030872,
          -50.611286,
          -45.58983,
          -42.648087,
          -50.581112,
          -42.228294,
          -53.285965,
          -45.47843,
          -45.47843,
          -43.30088,
          -48.811634,
          -49.895054,
          -43.30088,
          -45.485443,
          -45.58983,
          -45.58983,
          -45.482277,
          -50.581112,
          -45.59238,
          -42.228294,
          -50.603928,
          -50.50345,
          -50.483707,
          -45.58983,
          -51.194992,
          -45.50286,
          -52.568893,
          -51.991707,
          -50.60847,
          -45.50286,
          -50.640827,
          -49.333687,
          -46.035946,
          -45.585583,
          -51.426617,
          -48.845634,
          -45.561626,
          -50.39358,
          -50.812305,
          -51.18063,
          -45.50286,
          -49.895054,
          -45.58983,
          -45.481945,
          -51.60714,
          -53.30728,
          -51.991096,
          -45.58983,
          -51.877182,
          -49.333687,
          -45.481945,
          -52.018353,
          -45.47843,
          -45.481945,
          -43.30088,
          -45.481945,
          -42.53409,
          -45.58983,
          -51.991096,
          -50.39358,
          -45.50286,
          -50.581112,
          -45.481945,
          -47.56088,
          -45.481945,
          -43.30088,
          -45.594456,
          -44.615482,
          -51.990677,
          -45.5043,
          -45.58983,
          -45.58983,
          -45.58983,
          -45.42649,
          -45.58983,
          -46.035946,
          -45.589172,
          -45.58983,
          -45.58787,
          -52.568893,
          -45.58983,
          -43.30088,
          -42.40568,
          -42.40568,
          -50.581112,
          -50.80887,
          -45.47843,
          -50.815193,
          -45.47843,
          -45.47843,
          -46.030685,
          -50.485363,
          -50.816666,
          -52.031147,
          -46.035946,
          -51.598354,
          -45.46667,
          -45.575054,
          -48.8809,
          -43.30088,
          -50.59783,
          -43.30088,
          -50.866467,
          -50.38677,
          -51.02145,
          -49.633396,
          -45.604713,
          -45.57048,
          -45.534225,
          -50.325,
          -51.013065,
          -42.322777,
          -45.50286,
          -51.598354,
          -42.220802,
          -45.481945,
          -51.598354,
          -45.47843,
          -45.57771,
          -45.5957,
          -45.481945,
          -45.481945,
          -45.52121,
          -45.481945,
          -45.481945,
          -45.59326,
          -45.62718,
          -43.30088,
          -51.08617,
          -45.591537,
          -45.50286,
          -46.031902,
          -45.58983,
          -45.570175,
          -50.581112,
          -45.58983,
          -51.597378,
          -45.52121,
          -51.598354,
          -48.811634,
          -45.5987,
          -49.832825,
          -45.615963,
          -45.604713,
          -45.58983,
          -51.598354,
          -42.220802,
          -45.593178,
          -42.272785,
          -51.582954,
          -49.87165,
          -52.406116,
          -45.481945,
          -50.815193,
          -45.585583,
          -49.261852,
          -51.597378,
          -43.30088,
          -50.580227,
          -52.765003,
          -45.491364,
          -50.581112,
          -45.487366,
          -45.72361,
          -43.30088,
          -45.811005,
          -45.481945,
          -42.281433,
          -50.611347,
          -45.481945,
          -49.83212,
          -51.134586,
          -45.5957,
          -51.606956,
          -45.59893,
          -45.593575,
          -50.049004,
          -45.47843,
          -51.125053,
          -49.27205,
          -50.581112,
          -45.478832,
          -50.581112,
          -50.59714,
          -51.16534,
          -51.053032,
          -52.027714,
          -45.58983,
          -46.036446,
          -48.811634,
          -45.487366,
          -49.442326,
          -50.815193,
          -50.611286,
          -50.815193,
          -45.47843,
          -45.481945,
          -45.47843,
          -43.30088,
          -43.30088,
          -42.27987,
          -50.815193,
          -49.256413,
          -45.47843,
          -45.39259,
          -45.58983,
          -45.39259,
          -52.031147,
          -45.535927,
          -45.39259,
          -49.88098,
          -43.30088,
          -49.26652,
          -45.58983,
          -52.765003,
          -43.30088,
          -42.198994,
          -49.870525,
          -50.815193,
          -45.59319,
          -44.592968,
          -51.87489,
          -50.39389,
          -52.765003,
          -45.535927,
          -50.581112,
          -50.61201,
          -42.279747,
          -50.611286,
          -45.481945,
          -45.47843,
          -48.644558,
          -42.199215,
          -49.486237,
          -45.50664,
          -43.30088,
          -43.30088,
          -48.834633,
          -49.484547,
          -43.30088,
          -52.031147,
          -49.482117,
          -43.30088,
          -48.811634,
          -42.375122,
          -45.497116,
          -45.50664,
          -51.87489,
          -50.816666,
          -50.581112,
          -45.57768,
          -45.47843,
          -45.59326,
          -45.481945,
          -45.50286,
          -43.30088,
          -50.815193,
          -45.47843,
          -45.585583,
          -49.256413,
          -49.509254,
          -45.50286,
          -42.11745,
          -49.486237,
          -43.30088,
          -43.30088,
          -43.30088,
          -49.376247,
          -45.481945,
          -42.375122,
          -42.40568,
          -45.58983,
          -49.509254,
          -42.199215,
          -52.021885,
          -45.58983,
          -48.811634,
          -52.149174,
          -48.811634,
          -50.197514,
          -45.42649,
          -45.47843,
          -45.58983,
          -51.127632,
          -42.322777,
          -50.611286,
          -50.876385,
          -45.50664,
          -42.271347,
          -43.30088,
          -43.30088,
          -42.271347,
          -50.87588,
          -45.535927,
          -45.490643,
          -42.15181,
          -45.497116,
          -49.482117,
          -50.18102,
          -45.497116,
          -45.491364,
          -45.58983,
          -45.593575,
          -45.491364,
          -45.575054,
          -45.593178,
          -45.481945,
          -45.42649,
          -50.581112,
          -45.481945,
          -45.59326,
          -49.53019,
          -45.47843,
          -50.38677,
          -48.865036,
          -51.87378,
          -49.261852,
          -45.481945,
          -50.581112,
          -46.035946,
          -45.575054,
          -45.47843,
          -50.26831,
          -50.815193,
          -48.811634,
          -51.07107,
          -49.87165,
          -45.58983,
          -50.866467,
          -51.746624,
          -51.598354,
          -45.52121,
          -42.198994,
          -49.256413,
          -45.481945,
          -50.878426,
          -45.534225,
          -46.035946,
          -45.56929,
          -45.534225,
          -43.865227,
          -45.481945,
          -42.154625,
          -51.99683,
          -52.031147,
          -45.47843,
          -52.031147,
          -42.272785,
          -43.30088,
          -51.894485,
          -45.39259,
          -50.815193,
          -52.81526,
          -45.57771,
          -43.30088,
          -49.871716,
          -45.59319,
          -51.992405,
          -45.47843,
          -42.267704,
          -43.30088,
          -45.56501,
          -45.59326,
          -45.481945,
          -50.829823,
          -49.47991,
          -49.333687,
          -49.871716,
          -48.80948,
          -50.815193,
          -40.841866,
          -49.870544,
          -45.481945,
          -45.57992,
          -45.47843,
          -48.80948,
          -45.47843,
          -50.815193,
          -49.86852,
          -45.497208,
          -52.728486,
          -42.60874,
          -42.639507,
          -42.654255,
          -48.70592,
          -45.506176,
          -49.872893,
          -48.811634,
          -49.895054,
          -43.30088,
          -43.30088,
          -51.0891,
          -51.00127,
          -49.486237,
          -50.980618,
          -51.99683,
          -49.356976,
          -42.549423,
          -41.628807,
          -49.54776,
          -47.9318,
          -49.333687,
          -52.031147,
          -42.65293,
          -49.895054,
          -45.481945,
          -49.61626,
          -49.36318,
          -49.486237,
          -49.45227,
          -45.47843,
          -44.59375,
          -45.481945,
          -50.346016,
          -49.93415,
          -49.832825,
          -50.581112,
          -52.031147,
          -49.378357,
          -48.70592,
          -50.980618,
          -49.378357,
          -45.481945,
          -43.30088,
          -49.47564,
          -49.45227,
          -51.99683,
          -50.980618,
          -49.895367,
          -51.70606,
          -50.581112,
          -51.400833,
          -50.581112,
          -45.490643,
          -45.5957,
          -43.30088,
          -45.481945,
          -49.374706,
          -49.56459,
          -49.486237,
          -52.144775,
          -49.93415,
          -50.17481,
          -42.413414,
          -45.58983,
          -49.486237,
          -51.06144,
          -45.541553,
          -45.548607,
          -45.99566,
          -45.47843,
          -51.70606,
          -45.481945,
          -51.432064,
          -50.61302,
          -49.87676,
          -45.46667,
          -45.490643,
          -45.630516,
          -49.544434,
          -49.61626,
          -48.10861,
          -42.558537,
          -45.481945,
          -50.815193,
          -45.481945,
          -51.44426,
          -49.333687,
          -43.831566,
          -51.598354,
          -49.450367,
          -45.490643,
          -49.87676,
          -45.59096,
          -44.507496,
          -45.47843,
          -51.743744,
          -50.597176,
          -44.576477,
          -49.61626,
          -49.61626,
          -45.481945,
          -49.36318,
          -49.87676,
          -49.486237,
          -45.59698,
          -43.30088,
          -43.30088,
          -45.481945,
          -50.581112,
          -48.6273,
          -49.54776,
          -51.75382,
          -49.486237,
          -45.566086,
          -49.45227,
          -45.47843,
          -51.24074,
          -50.82288,
          -49.93415,
          -45.575054,
          -50.346844,
          -45.47843,
          -43.30088,
          -49.93415,
          -41.80629,
          -49.486237,
          -50.346844,
          -45.99569,
          -51.70606,
          -45.47843,
          -43.78961,
          -45.481945,
          -45.50286,
          -49.579803,
          -50.17481,
          -50.12138,
          -50.581112,
          -51.074974,
          -49.437187,
          -45.47843,
          -49.544434,
          -49.93415,
          -49.64187,
          -49.450367,
          -49.54776,
          -49.486237,
          -49.486237,
          -43.30088,
          -49.61626,
          -45.4622,
          -43.30088,
          -51.172077,
          -51.448997,
          -45.479195,
          -49.669003,
          -49.132946,
          -49.586205,
          -42.549423,
          -45.500862,
          -50.17481,
          -45.50286,
          -52.560814,
          -50.580227,
          -45.500862,
          -49.93415,
          -46.034279,
          -49.907042,
          -46.03455,
          -45.497208,
          -50.733116,
          -51.172077,
          -45.461907,
          -51.602108,
          -46.013195,
          -45.481945,
          -45.50286,
          -49.43527,
          -45.504257,
          -45.506176,
          -49.486237,
          -47.9318,
          -50.746914,
          -52.1963,
          -49.639133,
          -51.223369,
          -50.17481,
          -49.61626,
          -41.362026,
          -50.875195,
          -50.8152,
          -45.58983,
          -50.85219,
          -51.54262,
          -45.58983,
          -52.1963,
          -49.45227,
          -49.486237,
          -42.549423,
          -48.606834,
          -45.218674,
          -52.031147,
          -45.481945,
          -45.57992,
          -48.049774,
          -50.016464,
          -50.866467,
          -50.581112,
          -52.38738,
          -51.87489,
          -49.486237,
          -48.811634,
          -45.481945,
          -49.486237,
          -45.58983,
          -50.82288,
          -49.28052,
          -52.406116,
          -49.93415,
          -49.93415,
          -45.481945,
          -49.93415,
          -45.48802,
          -41.80629,
          -43.30088,
          -45.48802,
          -46.029797,
          -49.93415,
          -45.58983,
          -45.490643,
          -49.93415,
          -51.17026,
          -45.47843,
          -45.587753,
          -44.73,
          -52.031147,
          -52.031147,
          -51.70606,
          -50.581112,
          -45.58983,
          -49.90066,
          -45.490643,
          -49.66236,
          -50.581112,
          -51.598354,
          -50.815193,
          -41.80629,
          -49.87676,
          -49.450367,
          -43.30088,
          -49.93415,
          -49.63447,
          -49.49466,
          -43.87984,
          -49.93415,
          -49.45227,
          -52.031147,
          -49.61626,
          -49.43527,
          -48.10087,
          -49.56459,
          -52.568893,
          -49.639133,
          -52.767628,
          -50.812305,
          -45.481945,
          -45.46667,
          -45.466156,
          -47.9318,
          -52.568893,
          -43.866974,
          -41.383358,
          -48.811634,
          -43.30088,
          -49.56459,
          -45.481945,
          -49.356976,
          -51.49459,
          -51.70606,
          -50.815193,
          -49.450367,
          -49.45227,
          -49.66119,
          -50.520046,
          -45.47843,
          -49.356976,
          -50.17481,
          -45.58983,
          -51.06144,
          -49.450367,
          -45.494766,
          -49.585773,
          -43.30088,
          -49.094734,
          -51.70606,
          -41.848576,
          -47.9318,
          -51.067898,
          -52.031147,
          -49.486237,
          -50.17481,
          -49.54776,
          -50.868896,
          -49.87676,
          -52.031147,
          -49.486237,
          -45.5957,
          -45.58983,
          -45.47843,
          -45.47843,
          -49.66236,
          -45.47843,
          -43.30088,
          -43.30088,
          -45.47843,
          -45.490643,
          -50.15985,
          -49.93415,
          -51.137276,
          -45.58983,
          -45.58983,
          -51.899315,
          -45.50286,
          -51.597378,
          -45.522008,
          -52.450183,
          -51.226237,
          -50.17481,
          -45.481945,
          -50.08184,
          -49.450367,
          -51.13441,
          -45.47843,
          -45.5957,
          -51.49459,
          -43.30088,
          -49.93415,
          -45.481945,
          -49.93415,
          -43.30088,
          -45.630505,
          -50.581112,
          -49.87676,
          -45.494766,
          -49.895054,
          -51.583385,
          -49.93415,
          -45.57992,
          -52.768436,
          -45.47843,
          -49.87676,
          -45.47843,
          -45.47843,
          -49.8566,
          -49.93415,
          -52.1963,
          -49.93415,
          -45.58983,
          -49.895054,
          -49.486237,
          -51.0891,
          -49.892693,
          -45.481945,
          -50.818962,
          -45.481945,
          -45.58983,
          -49.59634,
          -49.333687,
          -49.54776,
          -41.383358,
          -49.398426,
          -45.490643,
          -42.549423,
          -51.75382,
          -51.70606,
          -50.569386,
          -50.809113,
          -50.520046,
          -50.520046,
          -45.506176,
          -43.30088,
          -49.486237,
          -41.730247,
          -49.93415,
          -49.486237,
          -52.031147,
          -51.067898,
          -45.481945,
          -50.17481,
          -46.916744,
          -48.606834,
          -49.45227,
          -45.481945,
          -49.950207,
          -48.69037,
          -45.50286,
          -51.583385,
          -50.581112,
          -50.17481,
          -51.074974,
          -50.868896,
          -43.30088,
          -51.24074,
          -44.668537,
          -45.58983,
          -50.17481,
          -50.875195,
          -45.50286,
          -42.549423,
          -50.17481,
          -42.549423,
          -50.733116,
          -50.791573,
          -50.217205,
          -45.506176,
          -45.46646,
          -45.50286,
          -47.9318,
          -49.36318,
          -51.743744,
          -45.591537,
          -43.30088,
          -51.24074,
          -49.486237,
          -45.59161,
          -51.563705,
          -49.587757,
          -43.78961,
          -50.17481,
          -49.54776,
          -49.45227,
          -52.031147,
          -41.730247,
          -49.54776,
          -51.24074,
          -43.30088,
          -50.733116,
          -50.815193,
          -50.520046,
          -43.30088,
          -48.811634,
          -45.481945,
          -45.58983,
          -45.481945,
          -49.832825,
          -49.450367,
          -43.892292,
          -49.93415,
          -49.544434,
          -45.58983,
          -49.0947,
          -45.47843,
          -50.520046,
          -51.70606,
          -51.71375,
          -43.30088,
          -49.517506,
          -52.625977,
          -45.57048,
          -50.772926,
          -43.30088,
          -43.90182,
          -46.037052,
          -49.486237,
          -46.03047,
          -52.67862,
          -49.93415,
          -52.62994,
          -51.17291,
          -45.481945,
          -49.562954,
          -50.581112,
          -45.99517,
          -51.173393,
          -50.873966,
          -42.654255,
          -49.832825,
          -49.87676,
          -51.75382,
          -50.875195,
          -45.55083,
          -52.67862,
          -49.9305,
          -48.572556,
          -50.08184,
          -52.662754,
          -51.49539,
          -49.486237,
          -47.9318,
          -49.93415,
          -49.54776,
          -51.87489,
          -51.05753,
          -51.667793,
          -52.67862,
          -48.811634,
          -52.568893,
          -45.595875,
          -49.28052,
          -52.568893,
          -50.85219,
          -49.486237,
          -50.436718,
          -52.67862,
          -49.486237,
          -50.08184,
          -45.55842,
          -50.581112,
          -49.486237,
          -50.079353,
          -45.58983,
          -50.856575,
          -49.486237,
          -42.602,
          -48.038837,
          -51.173393,
          -45.46667,
          -50.87108,
          -50.790745,
          -43.30088,
          -45.50286,
          -50.581112,
          -45.507538,
          -45.548607,
          -48.808372,
          -52.568893,
          -50.17481,
          -45.601463,
          -45.50286,
          -46.038727,
          -52.568893,
          -50.581112,
          -45.50286,
          -44.507496,
          -52.120464,
          -49.98381,
          -52.568893,
          -50.87108,
          -50.581112,
          -49.486237,
          -49.486237,
          -50.08184,
          -45.59698,
          -50.581112,
          -45.50286,
          -50.980618,
          -51.173393,
          -49.486237,
          -45.50286,
          -50.74241,
          -50.980618,
          -52.67862,
          -49.964603,
          -52.568893,
          -50.08184,
          -43.309395,
          -45.99517,
          -49.855312,
          -52.67862,
          -52.93567,
          -43.30088,
          -50.08184,
          -43.30088,
          -52.568893,
          -49.87104,
          -50.581112,
          -43.254097,
          -50.611244,
          -50.56104,
          -50.771492,
          -45.50286,
          -50.555885,
          -46.022224,
          -43.30088,
          -49.874893,
          -52.67862,
          -49.27569,
          -52.568893,
          -45.490643,
          -52.67862,
          -50.733116,
          -49.54776,
          -52.568893,
          -43.307953,
          -45.99517,
          -49.906734,
          -47.9318,
          -50.746914,
          -51.173393,
          -52.568893,
          -43.307953,
          -50.201664,
          -44.507496,
          -52.568893,
          -51.020775,
          -49.93415,
          -49.54776,
          -52.67862,
          -50.04842,
          -50.980408,
          -50.581112,
          -50.08184,
          -45.490643,
          -43.30088,
          -52.90207,
          -50.529713,
          -48.811634,
          -45.507538,
          -42.725796,
          -52.67862,
          -50.98294,
          -52.67862,
          -50.825935,
          -49.486237,
          -50.520447,
          -52.67862,
          -49.875267,
          -50.27333,
          -45.50362,
          -50.27333,
          -45.58983,
          -49.9305,
          -43.30088,
          -51.173393,
          -44.92263,
          -45.481945,
          -50.873302,
          -50.581112,
          -49.93415,
          -49.895054,
          -49.895054,
          -45.481945,
          -52.568893,
          -51.168858,
          -49.93415,
          -52.568893,
          -43.307953,
          -52.568893,
          -50.581112,
          -51.860798,
          -49.54776,
          -48.038837,
          -48.42139,
          -46.02924,
          -49.486237,
          -45.99517,
          -49.486237,
          -51.066833,
          -52.67862,
          -50.611286,
          -50.08184,
          -50.581112,
          -50.39236,
          -49.93415,
          -52.568893,
          -45.481945,
          -50.860516,
          -52.60221,
          -49.486237,
          -49.93415,
          -45.58983,
          -50.840622,
          -50.581112,
          -50.201664,
          -52.67862,
          -45.481945,
          -49.895054,
          -41.718716,
          -52.67862,
          -44.958588,
          -49.906242,
          -50.203163,
          -45.99517,
          -45.50286,
          -50.581112,
          -45.568065,
          -51.05753,
          -52.568893,
          -41.718716,
          -45.50286,
          -49.855312,
          -50.581112,
          -50.746914,
          -47.9318,
          -50.840637,
          -51.860798,
          -51.659454,
          -49.906242,
          -49.486237,
          -51.667793,
          -51.073463,
          -52.568893,
          -43.30088,
          -50.392895,
          -45.490643,
          -50.360023,
          -48.811634,
          -41.718716,
          -45.595875,
          -52.67862,
          -45.99517,
          -50.581112,
          -49.87014,
          -52.031147,
          -44.671654,
          -49.93415,
          -43.30088,
          -52.767525,
          -45.502964,
          -50.746914,
          -46.024757,
          -43.30088,
          -50.392895,
          -45.47798,
          -43.30088,
          -52.568893,
          -52.67862,
          -48.717747,
          -45.47843,
          -51.170708,
          -43.30088,
          -50.746914,
          -50.392895,
          -43.899624,
          -52.67862,
          -51.05753,
          -50.581112,
          -50.39236,
          -45.59698,
          -45.50286,
          -48.98999,
          -49.855312,
          -50.581112,
          -52.625977,
          -49.86991,
          -51.990635,
          -49.93415,
          -50.392895,
          -50.08184,
          -50.38677,
          -49.93415,
          -49.93415,
          -45.59086,
          -51.667793,
          -49.855312,
          -45.50286,
          -49.208576,
          -45.490643,
          -52.568893,
          -45.50286,
          -47.9318,
          -45.50286,
          -51.48178,
          -45.50286,
          -50.60847,
          -48.811634,
          -51.172077,
          -52.67862,
          -50.26831,
          -50.39236,
          -50.57849,
          -44.92263,
          -45.481945,
          -51.176186,
          -43.899635,
          -52.2402,
          -52.67862,
          -50.746914,
          -52.67862,
          -53.29992,
          -45.571083,
          -52.568893,
          -50.581867,
          -50.815784,
          -49.93415,
          -43.309395,
          -52.568893,
          -49.486237,
          -48.022408,
          -49.986996,
          -48.811634,
          -45.490643,
          -49.333687,
          -50.595753,
          -49.5239,
          -45.56233,
          -45.50286,
          -50.079353,
          -50.581112,
          -49.36535,
          -45.481945,
          -51.090958,
          -50.487564,
          -45.41422,
          -51.094086,
          -50.98294,
          -51.17291,
          -52.67862,
          -45.50286,
          -51.090958,
          -50.581112,
          -45.50286,
          -50.611286,
          -50.809074,
          -50.45473,
          -50.860516,
          -46.041775,
          -50.765488,
          -52.67862,
          -50.581112,
          -52.568893,
          -49.895054,
          -45.481945,
          -49.895054,
          -49.486237,
          -50.1625,
          -50.581112,
          -44.507496,
          -49.208576,
          -45.50286,
          -44.507496,
          -49.486237,
          -50.746914,
          -51.173393,
          -49.906734,
          -49.36535,
          -45.604713,
          -49.895054,
          -50.980408,
          -43.905895,
          -49.93415,
          -50.38677,
          -50.581112,
          -49.9305,
          -52.568893,
          -45.50286,
          -50.17481,
          -49.486237,
          -50.581112,
          -50.581112,
          -50.581112,
          -50.392895,
          -43.30088,
          -50.612892,
          -51.860798,
          -52.17138,
          -45.54304,
          -49.87104,
          -49.93415,
          -49.93415,
          -49.533905,
          -43.399933,
          -49.486237,
          -49.486237,
          -50.581112,
          -45.58983,
          -52.67862,
          -52.67862,
          -43.433296,
          -49.486237,
          -43.307953,
          -46.029797,
          -49.585773,
          -50.581112,
          -52.662754,
          -49.54776,
          -50.555885,
          -50.5138,
          -41.718716,
          -49.420986,
          -43.26639,
          -49.486237,
          -50.08184,
          -47.9318,
          -45.50286,
          -49.855312,
          -50.395557,
          -43.30088,
          -50.581112,
          -45.591393,
          -45.490643,
          -52.67862,
          -43.30088,
          -45.58983,
          -50.746914,
          -45.490643,
          -50.856575,
          -46.024757,
          -49.486237,
          -45.99517,
          -48.811634,
          -45.490643,
          -49.886291,
          -50.581112,
          -50.17481,
          -52.568893,
          -45.50286,
          -52.568893,
          -46.029797,
          -52.568893,
          -45.490643,
          -50.581112,
          -49.486237,
          -52.568893,
          -50.77417,
          -50.39236,
          -45.481945,
          -50.865788,
          -50.611244,
          -49.87676,
          -44.675533,
          -43.30088,
          -41.718716,
          -49.486237,
          -41.718716,
          -52.67862,
          -51.173393,
          -49.486237,
          -46.024757,
          -52.67862,
          -49.486237,
          -49.906734,
          -50.581112,
          -43.907127,
          -48.801945,
          -50.364475,
          -45.503933,
          -52.67862,
          -52.67862,
          -50.733116,
          -48.80165,
          -50.39236,
          -50.865788,
          -51.48178,
          -52.67862,
          -50.581112,
          -45.490643,
          -44.507496,
          -50.581112,
          -49.486237,
          -50.733116,
          -50.95153,
          -45.503304,
          -45.499416,
          -49.056145,
          -51.536243,
          -43.30088,
          -44.958588,
          -49.208725,
          -50.520447,
          -50.83108,
          -52.568893,
          -49.486237,
          -48.046986,
          -45.461582,
          -49.93415,
          -49.93415,
          -49.056145,
          -49.93415,
          -52.568893,
          -48.42139,
          -50.078945,
          -50.581112,
          -48.80382,
          -45.59234,
          -53.513126,
          -50.856575,
          -50.980618,
          -52.67862,
          -49.208748,
          -45.480602,
          -50.520447,
          -51.990635,
          -45.481945,
          -45.548607,
          -50.079353,
          -52.568893,
          -50.08184,
          -50.77813,
          -52.67862,
          -49.93415,
          -44.507496,
          -40.933331,
          -45.481945,
          -50.078945,
          -52.768436,
          -42.60874,
          -50.08184,
          -45.59086,
          -50.860516,
          -45.50568,
          -50.581112,
          -50.39236,
          -45.502949,
          -45.502346,
          -45.499416,
          -49.933154,
          -45.503368,
          -45.598965,
          -45.546043,
          -45.503304,
          -45.50568,
          -50.91012,
          -49.045028,
          -45.50568,
          -52.67862,
          -51.090958,
          -45.502949,
          -45.503304,
          -45.502346,
          -45.499416,
          -45.502346,
          -45.502949,
          -49.04119,
          -49.93415,
          -41.086253,
          -46.131257,
          -51.17782,
          -43.30088,
          -48.42139,
          -53.29992,
          -50.392895,
          -50.581112,
          -45.50286,
          -43.30088,
          -50.17481,
          -49.434766,
          -50.520447,
          -50.581112,
          -49.45227,
          -41.075953,
          -43.21514,
          -43.354245,
          -49.834903,
          -49.833379,
          -49.895443,
          -41.789419,
          -49.949813,
          -41.718716,
          -50.08184,
          -50.875195,
          -52.67862,
          -45.41422,
          -49.915222,
          -49.915222,
          -45.490643,
          -43.307953,
          -50.916565,
          -49.486237,
          -50.733116,
          -50.06074,
          -50.08184,
          -50.555885,
          -45.58983,
          -49.486237,
          -49.517506,
          -49.486237,
          -51.75382,
          -43.30088,
          -43.30088,
          -45.481945,
          -45.50361,
          -48.526848,
          -51.75382,
          -50.08184,
          -51.173393,
          -49.54776,
          -49.93415,
          -51.51786,
          -52.67862,
          -50.078945,
          -49.486237,
          -49.208725,
          -46.029797,
          -49.891575,
          -50.004585,
          -52.76736,
          -44.958588,
          -50.06528,
          -50.520447,
          -41.718716,
          -50.38677,
          -45.357586,
          -50.767883,
          -51.057564,
          -50.746914,
          -49.93415,
          -49.93415,
          -50.392895,
          -45.47843,
          -50.08184,
          -52.568893,
          -49.486237,
          -45.518436,
          -49.874893,
          -43.26505,
          -43.30088,
          -43.309395,
          -50.873302,
          -51.067898,
          -51.067898,
          -49.486237,
          -51.08033,
          -45.46667,
          -49.895054,
          -49.93415,
          -45.514187,
          -45.48862,
          -50.79921,
          -50.078945,
          -52.031147,
          -43.30088,
          -51.173393,
          -49.54776,
          -45.480335,
          -50.64286,
          -43.21675,
          -51.597378,
          -50.753834,
          -49.895054,
          -50.12759,
          -43.30088,
          -52.568893,
          -52.67862,
          -52.67862,
          -50.733116,
          -52.67862,
          -50.611286,
          -48.979824,
          -52.67862,
          -45.55985,
          -49.486237,
          -49.855312,
          -45.56501,
          -49.54776,
          -51.629524,
          -49.9305,
          -51.170708,
          -49.93415,
          -51.75382,
          -52.67862,
          -49.486237,
          -51.168858,
          -50.520447,
          -46.36635,
          -50.61036,
          -50.17481,
          -50.581112,
          -50.589333,
          -45.490643,
          -49.93415,
          -45.592014,
          -49.517506,
          -45.490643,
          -49.517506,
          -49.8698,
          -50.581112,
          -45.50286,
          -49.486237,
          -49.486237,
          -50.875195,
          -45.490643,
          -49.895054,
          -50.97444,
          -50.026146,
          -45.503933,
          -45.58983,
          -50.581112,
          -52.67862,
          -51.066833,
          -43.309395,
          -52.568893,
          -50.39236,
          -45.503933,
          -45.47843,
          -48.53166,
          -44.986286,
          -50.078945,
          -51.461494,
          -50.581112,
          -43.17404,
          -50.589333,
          -46.02924,
          -49.517506,
          -45.504257,
          -45.58096,
          -48.712685,
          -47.536278,
          -46.029797,
          -50.405354,
          -49.895054,
          -49.486237,
          -45.55842,
          -49.88405,
          -48.813354,
          -50.520447,
          -49.208576,
          -50.581112,
          -43.307953,
          -49.486237,
          -51.173393,
          -49.486237,
          -50.529713,
          -45.60115,
          -45.56913,
          -50.17481,
          -52.67862,
          -50.581112,
          -49.93415,
          -52.568893,
          -45.99517,
          -49.486237,
          -50.746914,
          -50.746914,
          -50.078945,
          -50.87588,
          -50.611286,
          -46.029797,
          -49.867207,
          -49.906242,
          -49.891575,
          -51.168858,
          -43.307953,
          -50.91217,
          -52.67862,
          -46.043274,
          -43.26505,
          -49.93415,
          -49.93415,
          -45.99517,
          -52.78397,
          -45.58983,
          -50.733116,
          -51.08033,
          -44.675533,
          -47.9318,
          -52.197394,
          -46.198876,
          -49.852981,
          -50.845313,
          -50.745089,
          -52.448195,
          -52.522928,
          -40.957292,
          -50.395053,
          -50.981673,
          -50.895939,
          -49.808278,
          -40.683518,
          -50.953295,
          -49.989207
         ],
         "marker": {
          "color": "#EF553B",
          "opacity": 1
         },
         "mode": "markers",
         "name": "",
         "showlegend": false,
         "subplot": "mapbox",
         "type": "scattermapbox"
        }
       ],
       "layout": {
        "autosize": true,
        "geo": {
         "lataxis": {
          "dtick": 15,
          "gridcolor": "red",
          "showgrid": true
         },
         "lonaxis": {
          "dtick": 15,
          "showgrid": true
         },
         "resolution": 50,
         "visible": false
        },
        "height": 500,
        "legend": {
         "tracegroupgap": 0
        },
        "mapbox": {
         "center": {
          "lat": -25.186644073656478,
          "lon": -48.0534008516333
         },
         "domain": {
          "x": [
           0,
           1
          ],
          "y": [
           0,
           1
          ]
         },
         "style": "carto-positron",
         "zoom": 4
        },
        "margin": {
         "b": 0,
         "l": 0,
         "r": 0,
         "t": 0
        },
        "template": {
         "data": {
          "bar": [
           {
            "error_x": {
             "color": "#2a3f5f"
            },
            "error_y": {
             "color": "#2a3f5f"
            },
            "marker": {
             "line": {
              "color": "#E5ECF6",
              "width": 0.5
             },
             "pattern": {
              "fillmode": "overlay",
              "size": 10,
              "solidity": 0.2
             }
            },
            "type": "bar"
           }
          ],
          "barpolar": [
           {
            "marker": {
             "line": {
              "color": "#E5ECF6",
              "width": 0.5
             },
             "pattern": {
              "fillmode": "overlay",
              "size": 10,
              "solidity": 0.2
             }
            },
            "type": "barpolar"
           }
          ],
          "carpet": [
           {
            "aaxis": {
             "endlinecolor": "#2a3f5f",
             "gridcolor": "white",
             "linecolor": "white",
             "minorgridcolor": "white",
             "startlinecolor": "#2a3f5f"
            },
            "baxis": {
             "endlinecolor": "#2a3f5f",
             "gridcolor": "white",
             "linecolor": "white",
             "minorgridcolor": "white",
             "startlinecolor": "#2a3f5f"
            },
            "type": "carpet"
           }
          ],
          "choropleth": [
           {
            "colorbar": {
             "outlinewidth": 0,
             "ticks": ""
            },
            "type": "choropleth"
           }
          ],
          "contour": [
           {
            "colorbar": {
             "outlinewidth": 0,
             "ticks": ""
            },
            "colorscale": [
             [
              0,
              "#0d0887"
             ],
             [
              0.1111111111111111,
              "#46039f"
             ],
             [
              0.2222222222222222,
              "#7201a8"
             ],
             [
              0.3333333333333333,
              "#9c179e"
             ],
             [
              0.4444444444444444,
              "#bd3786"
             ],
             [
              0.5555555555555556,
              "#d8576b"
             ],
             [
              0.6666666666666666,
              "#ed7953"
             ],
             [
              0.7777777777777778,
              "#fb9f3a"
             ],
             [
              0.8888888888888888,
              "#fdca26"
             ],
             [
              1,
              "#f0f921"
             ]
            ],
            "type": "contour"
           }
          ],
          "contourcarpet": [
           {
            "colorbar": {
             "outlinewidth": 0,
             "ticks": ""
            },
            "type": "contourcarpet"
           }
          ],
          "heatmap": [
           {
            "colorbar": {
             "outlinewidth": 0,
             "ticks": ""
            },
            "colorscale": [
             [
              0,
              "#0d0887"
             ],
             [
              0.1111111111111111,
              "#46039f"
             ],
             [
              0.2222222222222222,
              "#7201a8"
             ],
             [
              0.3333333333333333,
              "#9c179e"
             ],
             [
              0.4444444444444444,
              "#bd3786"
             ],
             [
              0.5555555555555556,
              "#d8576b"
             ],
             [
              0.6666666666666666,
              "#ed7953"
             ],
             [
              0.7777777777777778,
              "#fb9f3a"
             ],
             [
              0.8888888888888888,
              "#fdca26"
             ],
             [
              1,
              "#f0f921"
             ]
            ],
            "type": "heatmap"
           }
          ],
          "heatmapgl": [
           {
            "colorbar": {
             "outlinewidth": 0,
             "ticks": ""
            },
            "colorscale": [
             [
              0,
              "#0d0887"
             ],
             [
              0.1111111111111111,
              "#46039f"
             ],
             [
              0.2222222222222222,
              "#7201a8"
             ],
             [
              0.3333333333333333,
              "#9c179e"
             ],
             [
              0.4444444444444444,
              "#bd3786"
             ],
             [
              0.5555555555555556,
              "#d8576b"
             ],
             [
              0.6666666666666666,
              "#ed7953"
             ],
             [
              0.7777777777777778,
              "#fb9f3a"
             ],
             [
              0.8888888888888888,
              "#fdca26"
             ],
             [
              1,
              "#f0f921"
             ]
            ],
            "type": "heatmapgl"
           }
          ],
          "histogram": [
           {
            "marker": {
             "pattern": {
              "fillmode": "overlay",
              "size": 10,
              "solidity": 0.2
             }
            },
            "type": "histogram"
           }
          ],
          "histogram2d": [
           {
            "colorbar": {
             "outlinewidth": 0,
             "ticks": ""
            },
            "colorscale": [
             [
              0,
              "#0d0887"
             ],
             [
              0.1111111111111111,
              "#46039f"
             ],
             [
              0.2222222222222222,
              "#7201a8"
             ],
             [
              0.3333333333333333,
              "#9c179e"
             ],
             [
              0.4444444444444444,
              "#bd3786"
             ],
             [
              0.5555555555555556,
              "#d8576b"
             ],
             [
              0.6666666666666666,
              "#ed7953"
             ],
             [
              0.7777777777777778,
              "#fb9f3a"
             ],
             [
              0.8888888888888888,
              "#fdca26"
             ],
             [
              1,
              "#f0f921"
             ]
            ],
            "type": "histogram2d"
           }
          ],
          "histogram2dcontour": [
           {
            "colorbar": {
             "outlinewidth": 0,
             "ticks": ""
            },
            "colorscale": [
             [
              0,
              "#0d0887"
             ],
             [
              0.1111111111111111,
              "#46039f"
             ],
             [
              0.2222222222222222,
              "#7201a8"
             ],
             [
              0.3333333333333333,
              "#9c179e"
             ],
             [
              0.4444444444444444,
              "#bd3786"
             ],
             [
              0.5555555555555556,
              "#d8576b"
             ],
             [
              0.6666666666666666,
              "#ed7953"
             ],
             [
              0.7777777777777778,
              "#fb9f3a"
             ],
             [
              0.8888888888888888,
              "#fdca26"
             ],
             [
              1,
              "#f0f921"
             ]
            ],
            "type": "histogram2dcontour"
           }
          ],
          "mesh3d": [
           {
            "colorbar": {
             "outlinewidth": 0,
             "ticks": ""
            },
            "type": "mesh3d"
           }
          ],
          "parcoords": [
           {
            "line": {
             "colorbar": {
              "outlinewidth": 0,
              "ticks": ""
             }
            },
            "type": "parcoords"
           }
          ],
          "pie": [
           {
            "automargin": true,
            "type": "pie"
           }
          ],
          "scatter": [
           {
            "fillpattern": {
             "fillmode": "overlay",
             "size": 10,
             "solidity": 0.2
            },
            "type": "scatter"
           }
          ],
          "scatter3d": [
           {
            "line": {
             "colorbar": {
              "outlinewidth": 0,
              "ticks": ""
             }
            },
            "marker": {
             "colorbar": {
              "outlinewidth": 0,
              "ticks": ""
             }
            },
            "type": "scatter3d"
           }
          ],
          "scattercarpet": [
           {
            "marker": {
             "colorbar": {
              "outlinewidth": 0,
              "ticks": ""
             }
            },
            "type": "scattercarpet"
           }
          ],
          "scattergeo": [
           {
            "marker": {
             "colorbar": {
              "outlinewidth": 0,
              "ticks": ""
             }
            },
            "type": "scattergeo"
           }
          ],
          "scattergl": [
           {
            "marker": {
             "colorbar": {
              "outlinewidth": 0,
              "ticks": ""
             }
            },
            "type": "scattergl"
           }
          ],
          "scattermapbox": [
           {
            "marker": {
             "colorbar": {
              "outlinewidth": 0,
              "ticks": ""
             }
            },
            "type": "scattermapbox"
           }
          ],
          "scatterpolar": [
           {
            "marker": {
             "colorbar": {
              "outlinewidth": 0,
              "ticks": ""
             }
            },
            "type": "scatterpolar"
           }
          ],
          "scatterpolargl": [
           {
            "marker": {
             "colorbar": {
              "outlinewidth": 0,
              "ticks": ""
             }
            },
            "type": "scatterpolargl"
           }
          ],
          "scatterternary": [
           {
            "marker": {
             "colorbar": {
              "outlinewidth": 0,
              "ticks": ""
             }
            },
            "type": "scatterternary"
           }
          ],
          "surface": [
           {
            "colorbar": {
             "outlinewidth": 0,
             "ticks": ""
            },
            "colorscale": [
             [
              0,
              "#0d0887"
             ],
             [
              0.1111111111111111,
              "#46039f"
             ],
             [
              0.2222222222222222,
              "#7201a8"
             ],
             [
              0.3333333333333333,
              "#9c179e"
             ],
             [
              0.4444444444444444,
              "#bd3786"
             ],
             [
              0.5555555555555556,
              "#d8576b"
             ],
             [
              0.6666666666666666,
              "#ed7953"
             ],
             [
              0.7777777777777778,
              "#fb9f3a"
             ],
             [
              0.8888888888888888,
              "#fdca26"
             ],
             [
              1,
              "#f0f921"
             ]
            ],
            "type": "surface"
           }
          ],
          "table": [
           {
            "cells": {
             "fill": {
              "color": "#EBF0F8"
             },
             "line": {
              "color": "white"
             }
            },
            "header": {
             "fill": {
              "color": "#C8D4E3"
             },
             "line": {
              "color": "white"
             }
            },
            "type": "table"
           }
          ]
         },
         "layout": {
          "annotationdefaults": {
           "arrowcolor": "#2a3f5f",
           "arrowhead": 0,
           "arrowwidth": 1
          },
          "autotypenumbers": "strict",
          "coloraxis": {
           "colorbar": {
            "outlinewidth": 0,
            "ticks": ""
           }
          },
          "colorscale": {
           "diverging": [
            [
             0,
             "#8e0152"
            ],
            [
             0.1,
             "#c51b7d"
            ],
            [
             0.2,
             "#de77ae"
            ],
            [
             0.3,
             "#f1b6da"
            ],
            [
             0.4,
             "#fde0ef"
            ],
            [
             0.5,
             "#f7f7f7"
            ],
            [
             0.6,
             "#e6f5d0"
            ],
            [
             0.7,
             "#b8e186"
            ],
            [
             0.8,
             "#7fbc41"
            ],
            [
             0.9,
             "#4d9221"
            ],
            [
             1,
             "#276419"
            ]
           ],
           "sequential": [
            [
             0,
             "#0d0887"
            ],
            [
             0.1111111111111111,
             "#46039f"
            ],
            [
             0.2222222222222222,
             "#7201a8"
            ],
            [
             0.3333333333333333,
             "#9c179e"
            ],
            [
             0.4444444444444444,
             "#bd3786"
            ],
            [
             0.5555555555555556,
             "#d8576b"
            ],
            [
             0.6666666666666666,
             "#ed7953"
            ],
            [
             0.7777777777777778,
             "#fb9f3a"
            ],
            [
             0.8888888888888888,
             "#fdca26"
            ],
            [
             1,
             "#f0f921"
            ]
           ],
           "sequentialminus": [
            [
             0,
             "#0d0887"
            ],
            [
             0.1111111111111111,
             "#46039f"
            ],
            [
             0.2222222222222222,
             "#7201a8"
            ],
            [
             0.3333333333333333,
             "#9c179e"
            ],
            [
             0.4444444444444444,
             "#bd3786"
            ],
            [
             0.5555555555555556,
             "#d8576b"
            ],
            [
             0.6666666666666666,
             "#ed7953"
            ],
            [
             0.7777777777777778,
             "#fb9f3a"
            ],
            [
             0.8888888888888888,
             "#fdca26"
            ],
            [
             1,
             "#f0f921"
            ]
           ]
          },
          "colorway": [
           "#636efa",
           "#EF553B",
           "#00cc96",
           "#ab63fa",
           "#FFA15A",
           "#19d3f3",
           "#FF6692",
           "#B6E880",
           "#FF97FF",
           "#FECB52"
          ],
          "font": {
           "color": "#2a3f5f"
          },
          "geo": {
           "bgcolor": "white",
           "lakecolor": "white",
           "landcolor": "#E5ECF6",
           "showlakes": true,
           "showland": true,
           "subunitcolor": "white"
          },
          "hoverlabel": {
           "align": "left"
          },
          "hovermode": "closest",
          "mapbox": {
           "style": "light"
          },
          "paper_bgcolor": "white",
          "plot_bgcolor": "#E5ECF6",
          "polar": {
           "angularaxis": {
            "gridcolor": "white",
            "linecolor": "white",
            "ticks": ""
           },
           "bgcolor": "#E5ECF6",
           "radialaxis": {
            "gridcolor": "white",
            "linecolor": "white",
            "ticks": ""
           }
          },
          "scene": {
           "xaxis": {
            "backgroundcolor": "#E5ECF6",
            "gridcolor": "white",
            "gridwidth": 2,
            "linecolor": "white",
            "showbackground": true,
            "ticks": "",
            "zerolinecolor": "white"
           },
           "yaxis": {
            "backgroundcolor": "#E5ECF6",
            "gridcolor": "white",
            "gridwidth": 2,
            "linecolor": "white",
            "showbackground": true,
            "ticks": "",
            "zerolinecolor": "white"
           },
           "zaxis": {
            "backgroundcolor": "#E5ECF6",
            "gridcolor": "white",
            "gridwidth": 2,
            "linecolor": "white",
            "showbackground": true,
            "ticks": "",
            "zerolinecolor": "white"
           }
          },
          "shapedefaults": {
           "line": {
            "color": "#2a3f5f"
           }
          },
          "ternary": {
           "aaxis": {
            "gridcolor": "white",
            "linecolor": "white",
            "ticks": ""
           },
           "baxis": {
            "gridcolor": "white",
            "linecolor": "white",
            "ticks": ""
           },
           "bgcolor": "#E5ECF6",
           "caxis": {
            "gridcolor": "white",
            "linecolor": "white",
            "ticks": ""
           }
          },
          "title": {
           "x": 0.05
          },
          "xaxis": {
           "automargin": true,
           "gridcolor": "white",
           "linecolor": "white",
           "ticks": "",
           "title": {
            "standoff": 15
           },
           "zerolinecolor": "white",
           "zerolinewidth": 2
          },
          "yaxis": {
           "automargin": true,
           "gridcolor": "white",
           "linecolor": "white",
           "ticks": "",
           "title": {
            "standoff": 15
           },
           "zerolinecolor": "white",
           "zerolinewidth": 2
          }
         }
        }
       }
      }
     },
     "metadata": {},
     "output_type": "display_data"
    }
   ],
   "source": [
    "fig = px.scatter_mapbox(\n",
    "    OSD_geoframe.sort_values(by='Year',ascending=True),\n",
    "    lat=\"Latitude\",\n",
    "    lon=\"Longitude\",\n",
    "    hover_name=\"Estado\",\n",
    "    color_discrete_sequence=[px.colors.qualitative.Plotly[1]],\n",
    "    zoom=4,\n",
    "    height=500,\n",
    "    opacity=1\n",
    ")\n",
    "fig.update_layout(autosize=True,margin={\"r\": 0, \"t\": 0, \"l\": 0, \"b\": 0},mapbox_style=\"carto-positron\")\n",
    "fig.update_geos(\n",
    "    visible=False,\n",
    "    resolution=50,\n",
    "    lataxis_gridcolor=\"red\",\n",
    "    lataxis_showgrid=True,\n",
    "    lataxis_dtick=15,\n",
    "    lonaxis_showgrid=True,\n",
    "    lonaxis_dtick=15,\n",
    ")\n",
    "#fig.write_image('figure.png', scale=2)\n",
    "fig.show(config=img_config)"
   ]
  },
  {
   "cell_type": "code",
   "execution_count": 15,
   "metadata": {},
   "outputs": [
    {
     "data": {
      "application/vnd.plotly.v1+json": {
       "config": {
        "plotlyServerURL": "https://plot.ly",
        "toImageButtonOptions": {
         "filename": "species_distribution",
         "format": "png",
         "scale": 4
        }
       },
       "data": [
        {
         "alignmentgroup": "True",
         "hovertemplate": "Contagem de individuos=%{x}<br>Plataforma=%{y}<extra></extra>",
         "legendgroup": "",
         "marker": {
          "color": "#636efa",
          "pattern": {
           "shape": ""
          }
         },
         "name": "",
         "offsetgroup": "",
         "orientation": "h",
         "showlegend": false,
         "textposition": "auto",
         "texttemplate": "%{x:.1s}",
         "type": "bar",
         "x": [
          1,
          1,
          1,
          1,
          2,
          3,
          12,
          20,
          87,
          132,
          1930,
          14465
         ],
         "xaxis": "x",
         "y": [
          "EBIRD_ATL_ME",
          "EBIRD_URY",
          "MBML-AVES",
          "ZUEC-AVE",
          "Birds",
          "ML",
          "EBIRD_TX",
          "EBIRD_BCN",
          "EBIRD_CAN",
          "Observations",
          "EBIRD_BRA",
          "EBIRD"
         ],
         "yaxis": "y"
        }
       ],
       "layout": {
        "barmode": "relative",
        "legend": {
         "tracegroupgap": 0
        },
        "template": {
         "data": {
          "bar": [
           {
            "error_x": {
             "color": "#2a3f5f"
            },
            "error_y": {
             "color": "#2a3f5f"
            },
            "marker": {
             "line": {
              "color": "#E5ECF6",
              "width": 0.5
             },
             "pattern": {
              "fillmode": "overlay",
              "size": 10,
              "solidity": 0.2
             }
            },
            "type": "bar"
           }
          ],
          "barpolar": [
           {
            "marker": {
             "line": {
              "color": "#E5ECF6",
              "width": 0.5
             },
             "pattern": {
              "fillmode": "overlay",
              "size": 10,
              "solidity": 0.2
             }
            },
            "type": "barpolar"
           }
          ],
          "carpet": [
           {
            "aaxis": {
             "endlinecolor": "#2a3f5f",
             "gridcolor": "white",
             "linecolor": "white",
             "minorgridcolor": "white",
             "startlinecolor": "#2a3f5f"
            },
            "baxis": {
             "endlinecolor": "#2a3f5f",
             "gridcolor": "white",
             "linecolor": "white",
             "minorgridcolor": "white",
             "startlinecolor": "#2a3f5f"
            },
            "type": "carpet"
           }
          ],
          "choropleth": [
           {
            "colorbar": {
             "outlinewidth": 0,
             "ticks": ""
            },
            "type": "choropleth"
           }
          ],
          "contour": [
           {
            "colorbar": {
             "outlinewidth": 0,
             "ticks": ""
            },
            "colorscale": [
             [
              0,
              "#0d0887"
             ],
             [
              0.1111111111111111,
              "#46039f"
             ],
             [
              0.2222222222222222,
              "#7201a8"
             ],
             [
              0.3333333333333333,
              "#9c179e"
             ],
             [
              0.4444444444444444,
              "#bd3786"
             ],
             [
              0.5555555555555556,
              "#d8576b"
             ],
             [
              0.6666666666666666,
              "#ed7953"
             ],
             [
              0.7777777777777778,
              "#fb9f3a"
             ],
             [
              0.8888888888888888,
              "#fdca26"
             ],
             [
              1,
              "#f0f921"
             ]
            ],
            "type": "contour"
           }
          ],
          "contourcarpet": [
           {
            "colorbar": {
             "outlinewidth": 0,
             "ticks": ""
            },
            "type": "contourcarpet"
           }
          ],
          "heatmap": [
           {
            "colorbar": {
             "outlinewidth": 0,
             "ticks": ""
            },
            "colorscale": [
             [
              0,
              "#0d0887"
             ],
             [
              0.1111111111111111,
              "#46039f"
             ],
             [
              0.2222222222222222,
              "#7201a8"
             ],
             [
              0.3333333333333333,
              "#9c179e"
             ],
             [
              0.4444444444444444,
              "#bd3786"
             ],
             [
              0.5555555555555556,
              "#d8576b"
             ],
             [
              0.6666666666666666,
              "#ed7953"
             ],
             [
              0.7777777777777778,
              "#fb9f3a"
             ],
             [
              0.8888888888888888,
              "#fdca26"
             ],
             [
              1,
              "#f0f921"
             ]
            ],
            "type": "heatmap"
           }
          ],
          "heatmapgl": [
           {
            "colorbar": {
             "outlinewidth": 0,
             "ticks": ""
            },
            "colorscale": [
             [
              0,
              "#0d0887"
             ],
             [
              0.1111111111111111,
              "#46039f"
             ],
             [
              0.2222222222222222,
              "#7201a8"
             ],
             [
              0.3333333333333333,
              "#9c179e"
             ],
             [
              0.4444444444444444,
              "#bd3786"
             ],
             [
              0.5555555555555556,
              "#d8576b"
             ],
             [
              0.6666666666666666,
              "#ed7953"
             ],
             [
              0.7777777777777778,
              "#fb9f3a"
             ],
             [
              0.8888888888888888,
              "#fdca26"
             ],
             [
              1,
              "#f0f921"
             ]
            ],
            "type": "heatmapgl"
           }
          ],
          "histogram": [
           {
            "marker": {
             "pattern": {
              "fillmode": "overlay",
              "size": 10,
              "solidity": 0.2
             }
            },
            "type": "histogram"
           }
          ],
          "histogram2d": [
           {
            "colorbar": {
             "outlinewidth": 0,
             "ticks": ""
            },
            "colorscale": [
             [
              0,
              "#0d0887"
             ],
             [
              0.1111111111111111,
              "#46039f"
             ],
             [
              0.2222222222222222,
              "#7201a8"
             ],
             [
              0.3333333333333333,
              "#9c179e"
             ],
             [
              0.4444444444444444,
              "#bd3786"
             ],
             [
              0.5555555555555556,
              "#d8576b"
             ],
             [
              0.6666666666666666,
              "#ed7953"
             ],
             [
              0.7777777777777778,
              "#fb9f3a"
             ],
             [
              0.8888888888888888,
              "#fdca26"
             ],
             [
              1,
              "#f0f921"
             ]
            ],
            "type": "histogram2d"
           }
          ],
          "histogram2dcontour": [
           {
            "colorbar": {
             "outlinewidth": 0,
             "ticks": ""
            },
            "colorscale": [
             [
              0,
              "#0d0887"
             ],
             [
              0.1111111111111111,
              "#46039f"
             ],
             [
              0.2222222222222222,
              "#7201a8"
             ],
             [
              0.3333333333333333,
              "#9c179e"
             ],
             [
              0.4444444444444444,
              "#bd3786"
             ],
             [
              0.5555555555555556,
              "#d8576b"
             ],
             [
              0.6666666666666666,
              "#ed7953"
             ],
             [
              0.7777777777777778,
              "#fb9f3a"
             ],
             [
              0.8888888888888888,
              "#fdca26"
             ],
             [
              1,
              "#f0f921"
             ]
            ],
            "type": "histogram2dcontour"
           }
          ],
          "mesh3d": [
           {
            "colorbar": {
             "outlinewidth": 0,
             "ticks": ""
            },
            "type": "mesh3d"
           }
          ],
          "parcoords": [
           {
            "line": {
             "colorbar": {
              "outlinewidth": 0,
              "ticks": ""
             }
            },
            "type": "parcoords"
           }
          ],
          "pie": [
           {
            "automargin": true,
            "type": "pie"
           }
          ],
          "scatter": [
           {
            "fillpattern": {
             "fillmode": "overlay",
             "size": 10,
             "solidity": 0.2
            },
            "type": "scatter"
           }
          ],
          "scatter3d": [
           {
            "line": {
             "colorbar": {
              "outlinewidth": 0,
              "ticks": ""
             }
            },
            "marker": {
             "colorbar": {
              "outlinewidth": 0,
              "ticks": ""
             }
            },
            "type": "scatter3d"
           }
          ],
          "scattercarpet": [
           {
            "marker": {
             "colorbar": {
              "outlinewidth": 0,
              "ticks": ""
             }
            },
            "type": "scattercarpet"
           }
          ],
          "scattergeo": [
           {
            "marker": {
             "colorbar": {
              "outlinewidth": 0,
              "ticks": ""
             }
            },
            "type": "scattergeo"
           }
          ],
          "scattergl": [
           {
            "marker": {
             "colorbar": {
              "outlinewidth": 0,
              "ticks": ""
             }
            },
            "type": "scattergl"
           }
          ],
          "scattermapbox": [
           {
            "marker": {
             "colorbar": {
              "outlinewidth": 0,
              "ticks": ""
             }
            },
            "type": "scattermapbox"
           }
          ],
          "scatterpolar": [
           {
            "marker": {
             "colorbar": {
              "outlinewidth": 0,
              "ticks": ""
             }
            },
            "type": "scatterpolar"
           }
          ],
          "scatterpolargl": [
           {
            "marker": {
             "colorbar": {
              "outlinewidth": 0,
              "ticks": ""
             }
            },
            "type": "scatterpolargl"
           }
          ],
          "scatterternary": [
           {
            "marker": {
             "colorbar": {
              "outlinewidth": 0,
              "ticks": ""
             }
            },
            "type": "scatterternary"
           }
          ],
          "surface": [
           {
            "colorbar": {
             "outlinewidth": 0,
             "ticks": ""
            },
            "colorscale": [
             [
              0,
              "#0d0887"
             ],
             [
              0.1111111111111111,
              "#46039f"
             ],
             [
              0.2222222222222222,
              "#7201a8"
             ],
             [
              0.3333333333333333,
              "#9c179e"
             ],
             [
              0.4444444444444444,
              "#bd3786"
             ],
             [
              0.5555555555555556,
              "#d8576b"
             ],
             [
              0.6666666666666666,
              "#ed7953"
             ],
             [
              0.7777777777777778,
              "#fb9f3a"
             ],
             [
              0.8888888888888888,
              "#fdca26"
             ],
             [
              1,
              "#f0f921"
             ]
            ],
            "type": "surface"
           }
          ],
          "table": [
           {
            "cells": {
             "fill": {
              "color": "#EBF0F8"
             },
             "line": {
              "color": "white"
             }
            },
            "header": {
             "fill": {
              "color": "#C8D4E3"
             },
             "line": {
              "color": "white"
             }
            },
            "type": "table"
           }
          ]
         },
         "layout": {
          "annotationdefaults": {
           "arrowcolor": "#2a3f5f",
           "arrowhead": 0,
           "arrowwidth": 1
          },
          "autotypenumbers": "strict",
          "coloraxis": {
           "colorbar": {
            "outlinewidth": 0,
            "ticks": ""
           }
          },
          "colorscale": {
           "diverging": [
            [
             0,
             "#8e0152"
            ],
            [
             0.1,
             "#c51b7d"
            ],
            [
             0.2,
             "#de77ae"
            ],
            [
             0.3,
             "#f1b6da"
            ],
            [
             0.4,
             "#fde0ef"
            ],
            [
             0.5,
             "#f7f7f7"
            ],
            [
             0.6,
             "#e6f5d0"
            ],
            [
             0.7,
             "#b8e186"
            ],
            [
             0.8,
             "#7fbc41"
            ],
            [
             0.9,
             "#4d9221"
            ],
            [
             1,
             "#276419"
            ]
           ],
           "sequential": [
            [
             0,
             "#0d0887"
            ],
            [
             0.1111111111111111,
             "#46039f"
            ],
            [
             0.2222222222222222,
             "#7201a8"
            ],
            [
             0.3333333333333333,
             "#9c179e"
            ],
            [
             0.4444444444444444,
             "#bd3786"
            ],
            [
             0.5555555555555556,
             "#d8576b"
            ],
            [
             0.6666666666666666,
             "#ed7953"
            ],
            [
             0.7777777777777778,
             "#fb9f3a"
            ],
            [
             0.8888888888888888,
             "#fdca26"
            ],
            [
             1,
             "#f0f921"
            ]
           ],
           "sequentialminus": [
            [
             0,
             "#0d0887"
            ],
            [
             0.1111111111111111,
             "#46039f"
            ],
            [
             0.2222222222222222,
             "#7201a8"
            ],
            [
             0.3333333333333333,
             "#9c179e"
            ],
            [
             0.4444444444444444,
             "#bd3786"
            ],
            [
             0.5555555555555556,
             "#d8576b"
            ],
            [
             0.6666666666666666,
             "#ed7953"
            ],
            [
             0.7777777777777778,
             "#fb9f3a"
            ],
            [
             0.8888888888888888,
             "#fdca26"
            ],
            [
             1,
             "#f0f921"
            ]
           ]
          },
          "colorway": [
           "#636efa",
           "#EF553B",
           "#00cc96",
           "#ab63fa",
           "#FFA15A",
           "#19d3f3",
           "#FF6692",
           "#B6E880",
           "#FF97FF",
           "#FECB52"
          ],
          "font": {
           "color": "#2a3f5f"
          },
          "geo": {
           "bgcolor": "white",
           "lakecolor": "white",
           "landcolor": "#E5ECF6",
           "showlakes": true,
           "showland": true,
           "subunitcolor": "white"
          },
          "hoverlabel": {
           "align": "left"
          },
          "hovermode": "closest",
          "mapbox": {
           "style": "light"
          },
          "paper_bgcolor": "white",
          "plot_bgcolor": "#E5ECF6",
          "polar": {
           "angularaxis": {
            "gridcolor": "white",
            "linecolor": "white",
            "ticks": ""
           },
           "bgcolor": "#E5ECF6",
           "radialaxis": {
            "gridcolor": "white",
            "linecolor": "white",
            "ticks": ""
           }
          },
          "scene": {
           "xaxis": {
            "backgroundcolor": "#E5ECF6",
            "gridcolor": "white",
            "gridwidth": 2,
            "linecolor": "white",
            "showbackground": true,
            "ticks": "",
            "zerolinecolor": "white"
           },
           "yaxis": {
            "backgroundcolor": "#E5ECF6",
            "gridcolor": "white",
            "gridwidth": 2,
            "linecolor": "white",
            "showbackground": true,
            "ticks": "",
            "zerolinecolor": "white"
           },
           "zaxis": {
            "backgroundcolor": "#E5ECF6",
            "gridcolor": "white",
            "gridwidth": 2,
            "linecolor": "white",
            "showbackground": true,
            "ticks": "",
            "zerolinecolor": "white"
           }
          },
          "shapedefaults": {
           "line": {
            "color": "#2a3f5f"
           }
          },
          "ternary": {
           "aaxis": {
            "gridcolor": "white",
            "linecolor": "white",
            "ticks": ""
           },
           "baxis": {
            "gridcolor": "white",
            "linecolor": "white",
            "ticks": ""
           },
           "bgcolor": "#E5ECF6",
           "caxis": {
            "gridcolor": "white",
            "linecolor": "white",
            "ticks": ""
           }
          },
          "title": {
           "x": 0.05
          },
          "xaxis": {
           "automargin": true,
           "gridcolor": "white",
           "linecolor": "white",
           "ticks": "",
           "title": {
            "standoff": 15
           },
           "zerolinecolor": "white",
           "zerolinewidth": 2
          },
          "yaxis": {
           "automargin": true,
           "gridcolor": "white",
           "linecolor": "white",
           "ticks": "",
           "title": {
            "standoff": 15
           },
           "zerolinecolor": "white",
           "zerolinewidth": 2
          }
         }
        },
        "title": {
         "text": "Soma de observações por Plataforma"
        },
        "xaxis": {
         "anchor": "y",
         "domain": [
          0,
          1
         ],
         "title": {
          "text": "Contagem de individuos"
         }
        },
        "yaxis": {
         "anchor": "x",
         "domain": [
          0,
          1
         ],
         "title": {
          "text": "Plataforma"
         }
        }
       }
      }
     },
     "metadata": {},
     "output_type": "display_data"
    }
   ],
   "source": [
    "individual_count_per_state = OSD_geoframe[['Contagem de individuos','Plataforma']].groupby(['Plataforma']).sum().sort_values(by='Contagem de individuos')\n",
    "fig = px.bar(\n",
    "    individual_count_per_state,\n",
    "    x='Contagem de individuos',\n",
    "    y=individual_count_per_state.index,\n",
    "    title=\"Soma de observações por Plataforma\",\n",
    "    orientation='h',text_auto='.1s')\n",
    "fig.show(config=img_config)"
   ]
  },
  {
   "cell_type": "code",
   "execution_count": 13,
   "metadata": {},
   "outputs": [
    {
     "data": {
      "application/vnd.plotly.v1+json": {
       "config": {
        "plotlyServerURL": "https://plot.ly",
        "toImageButtonOptions": {
         "filename": "species_distribution",
         "format": "png",
         "scale": 4
        }
       },
       "data": [
        {
         "alignmentgroup": "True",
         "hovertemplate": "Contagem de individuos=%{x}<br>Plataforma=%{y}<extra></extra>",
         "legendgroup": "",
         "marker": {
          "color": "#636efa",
          "pattern": {
           "shape": ""
          }
         },
         "name": "",
         "offsetgroup": "",
         "orientation": "h",
         "showlegend": false,
         "textposition": "auto",
         "texttemplate": "%{x:.1s}",
         "type": "bar",
         "x": [
          1,
          1,
          1,
          1,
          2,
          2,
          3,
          6,
          16,
          89,
          261,
          2463
         ],
         "xaxis": "x",
         "y": [
          "EBIRD_ATL_ME",
          "EBIRD_URY",
          "MBML-AVES",
          "ZUEC-AVE",
          "Birds",
          "EBIRD_TX",
          "ML",
          "EBIRD_BCN",
          "EBIRD_CAN",
          "Observations",
          "EBIRD_BRA",
          "EBIRD"
         ],
         "yaxis": "y"
        }
       ],
       "layout": {
        "barmode": "relative",
        "legend": {
         "tracegroupgap": 0
        },
        "template": {
         "data": {
          "bar": [
           {
            "error_x": {
             "color": "#2a3f5f"
            },
            "error_y": {
             "color": "#2a3f5f"
            },
            "marker": {
             "line": {
              "color": "#E5ECF6",
              "width": 0.5
             },
             "pattern": {
              "fillmode": "overlay",
              "size": 10,
              "solidity": 0.2
             }
            },
            "type": "bar"
           }
          ],
          "barpolar": [
           {
            "marker": {
             "line": {
              "color": "#E5ECF6",
              "width": 0.5
             },
             "pattern": {
              "fillmode": "overlay",
              "size": 10,
              "solidity": 0.2
             }
            },
            "type": "barpolar"
           }
          ],
          "carpet": [
           {
            "aaxis": {
             "endlinecolor": "#2a3f5f",
             "gridcolor": "white",
             "linecolor": "white",
             "minorgridcolor": "white",
             "startlinecolor": "#2a3f5f"
            },
            "baxis": {
             "endlinecolor": "#2a3f5f",
             "gridcolor": "white",
             "linecolor": "white",
             "minorgridcolor": "white",
             "startlinecolor": "#2a3f5f"
            },
            "type": "carpet"
           }
          ],
          "choropleth": [
           {
            "colorbar": {
             "outlinewidth": 0,
             "ticks": ""
            },
            "type": "choropleth"
           }
          ],
          "contour": [
           {
            "colorbar": {
             "outlinewidth": 0,
             "ticks": ""
            },
            "colorscale": [
             [
              0,
              "#0d0887"
             ],
             [
              0.1111111111111111,
              "#46039f"
             ],
             [
              0.2222222222222222,
              "#7201a8"
             ],
             [
              0.3333333333333333,
              "#9c179e"
             ],
             [
              0.4444444444444444,
              "#bd3786"
             ],
             [
              0.5555555555555556,
              "#d8576b"
             ],
             [
              0.6666666666666666,
              "#ed7953"
             ],
             [
              0.7777777777777778,
              "#fb9f3a"
             ],
             [
              0.8888888888888888,
              "#fdca26"
             ],
             [
              1,
              "#f0f921"
             ]
            ],
            "type": "contour"
           }
          ],
          "contourcarpet": [
           {
            "colorbar": {
             "outlinewidth": 0,
             "ticks": ""
            },
            "type": "contourcarpet"
           }
          ],
          "heatmap": [
           {
            "colorbar": {
             "outlinewidth": 0,
             "ticks": ""
            },
            "colorscale": [
             [
              0,
              "#0d0887"
             ],
             [
              0.1111111111111111,
              "#46039f"
             ],
             [
              0.2222222222222222,
              "#7201a8"
             ],
             [
              0.3333333333333333,
              "#9c179e"
             ],
             [
              0.4444444444444444,
              "#bd3786"
             ],
             [
              0.5555555555555556,
              "#d8576b"
             ],
             [
              0.6666666666666666,
              "#ed7953"
             ],
             [
              0.7777777777777778,
              "#fb9f3a"
             ],
             [
              0.8888888888888888,
              "#fdca26"
             ],
             [
              1,
              "#f0f921"
             ]
            ],
            "type": "heatmap"
           }
          ],
          "heatmapgl": [
           {
            "colorbar": {
             "outlinewidth": 0,
             "ticks": ""
            },
            "colorscale": [
             [
              0,
              "#0d0887"
             ],
             [
              0.1111111111111111,
              "#46039f"
             ],
             [
              0.2222222222222222,
              "#7201a8"
             ],
             [
              0.3333333333333333,
              "#9c179e"
             ],
             [
              0.4444444444444444,
              "#bd3786"
             ],
             [
              0.5555555555555556,
              "#d8576b"
             ],
             [
              0.6666666666666666,
              "#ed7953"
             ],
             [
              0.7777777777777778,
              "#fb9f3a"
             ],
             [
              0.8888888888888888,
              "#fdca26"
             ],
             [
              1,
              "#f0f921"
             ]
            ],
            "type": "heatmapgl"
           }
          ],
          "histogram": [
           {
            "marker": {
             "pattern": {
              "fillmode": "overlay",
              "size": 10,
              "solidity": 0.2
             }
            },
            "type": "histogram"
           }
          ],
          "histogram2d": [
           {
            "colorbar": {
             "outlinewidth": 0,
             "ticks": ""
            },
            "colorscale": [
             [
              0,
              "#0d0887"
             ],
             [
              0.1111111111111111,
              "#46039f"
             ],
             [
              0.2222222222222222,
              "#7201a8"
             ],
             [
              0.3333333333333333,
              "#9c179e"
             ],
             [
              0.4444444444444444,
              "#bd3786"
             ],
             [
              0.5555555555555556,
              "#d8576b"
             ],
             [
              0.6666666666666666,
              "#ed7953"
             ],
             [
              0.7777777777777778,
              "#fb9f3a"
             ],
             [
              0.8888888888888888,
              "#fdca26"
             ],
             [
              1,
              "#f0f921"
             ]
            ],
            "type": "histogram2d"
           }
          ],
          "histogram2dcontour": [
           {
            "colorbar": {
             "outlinewidth": 0,
             "ticks": ""
            },
            "colorscale": [
             [
              0,
              "#0d0887"
             ],
             [
              0.1111111111111111,
              "#46039f"
             ],
             [
              0.2222222222222222,
              "#7201a8"
             ],
             [
              0.3333333333333333,
              "#9c179e"
             ],
             [
              0.4444444444444444,
              "#bd3786"
             ],
             [
              0.5555555555555556,
              "#d8576b"
             ],
             [
              0.6666666666666666,
              "#ed7953"
             ],
             [
              0.7777777777777778,
              "#fb9f3a"
             ],
             [
              0.8888888888888888,
              "#fdca26"
             ],
             [
              1,
              "#f0f921"
             ]
            ],
            "type": "histogram2dcontour"
           }
          ],
          "mesh3d": [
           {
            "colorbar": {
             "outlinewidth": 0,
             "ticks": ""
            },
            "type": "mesh3d"
           }
          ],
          "parcoords": [
           {
            "line": {
             "colorbar": {
              "outlinewidth": 0,
              "ticks": ""
             }
            },
            "type": "parcoords"
           }
          ],
          "pie": [
           {
            "automargin": true,
            "type": "pie"
           }
          ],
          "scatter": [
           {
            "fillpattern": {
             "fillmode": "overlay",
             "size": 10,
             "solidity": 0.2
            },
            "type": "scatter"
           }
          ],
          "scatter3d": [
           {
            "line": {
             "colorbar": {
              "outlinewidth": 0,
              "ticks": ""
             }
            },
            "marker": {
             "colorbar": {
              "outlinewidth": 0,
              "ticks": ""
             }
            },
            "type": "scatter3d"
           }
          ],
          "scattercarpet": [
           {
            "marker": {
             "colorbar": {
              "outlinewidth": 0,
              "ticks": ""
             }
            },
            "type": "scattercarpet"
           }
          ],
          "scattergeo": [
           {
            "marker": {
             "colorbar": {
              "outlinewidth": 0,
              "ticks": ""
             }
            },
            "type": "scattergeo"
           }
          ],
          "scattergl": [
           {
            "marker": {
             "colorbar": {
              "outlinewidth": 0,
              "ticks": ""
             }
            },
            "type": "scattergl"
           }
          ],
          "scattermapbox": [
           {
            "marker": {
             "colorbar": {
              "outlinewidth": 0,
              "ticks": ""
             }
            },
            "type": "scattermapbox"
           }
          ],
          "scatterpolar": [
           {
            "marker": {
             "colorbar": {
              "outlinewidth": 0,
              "ticks": ""
             }
            },
            "type": "scatterpolar"
           }
          ],
          "scatterpolargl": [
           {
            "marker": {
             "colorbar": {
              "outlinewidth": 0,
              "ticks": ""
             }
            },
            "type": "scatterpolargl"
           }
          ],
          "scatterternary": [
           {
            "marker": {
             "colorbar": {
              "outlinewidth": 0,
              "ticks": ""
             }
            },
            "type": "scatterternary"
           }
          ],
          "surface": [
           {
            "colorbar": {
             "outlinewidth": 0,
             "ticks": ""
            },
            "colorscale": [
             [
              0,
              "#0d0887"
             ],
             [
              0.1111111111111111,
              "#46039f"
             ],
             [
              0.2222222222222222,
              "#7201a8"
             ],
             [
              0.3333333333333333,
              "#9c179e"
             ],
             [
              0.4444444444444444,
              "#bd3786"
             ],
             [
              0.5555555555555556,
              "#d8576b"
             ],
             [
              0.6666666666666666,
              "#ed7953"
             ],
             [
              0.7777777777777778,
              "#fb9f3a"
             ],
             [
              0.8888888888888888,
              "#fdca26"
             ],
             [
              1,
              "#f0f921"
             ]
            ],
            "type": "surface"
           }
          ],
          "table": [
           {
            "cells": {
             "fill": {
              "color": "#EBF0F8"
             },
             "line": {
              "color": "white"
             }
            },
            "header": {
             "fill": {
              "color": "#C8D4E3"
             },
             "line": {
              "color": "white"
             }
            },
            "type": "table"
           }
          ]
         },
         "layout": {
          "annotationdefaults": {
           "arrowcolor": "#2a3f5f",
           "arrowhead": 0,
           "arrowwidth": 1
          },
          "autotypenumbers": "strict",
          "coloraxis": {
           "colorbar": {
            "outlinewidth": 0,
            "ticks": ""
           }
          },
          "colorscale": {
           "diverging": [
            [
             0,
             "#8e0152"
            ],
            [
             0.1,
             "#c51b7d"
            ],
            [
             0.2,
             "#de77ae"
            ],
            [
             0.3,
             "#f1b6da"
            ],
            [
             0.4,
             "#fde0ef"
            ],
            [
             0.5,
             "#f7f7f7"
            ],
            [
             0.6,
             "#e6f5d0"
            ],
            [
             0.7,
             "#b8e186"
            ],
            [
             0.8,
             "#7fbc41"
            ],
            [
             0.9,
             "#4d9221"
            ],
            [
             1,
             "#276419"
            ]
           ],
           "sequential": [
            [
             0,
             "#0d0887"
            ],
            [
             0.1111111111111111,
             "#46039f"
            ],
            [
             0.2222222222222222,
             "#7201a8"
            ],
            [
             0.3333333333333333,
             "#9c179e"
            ],
            [
             0.4444444444444444,
             "#bd3786"
            ],
            [
             0.5555555555555556,
             "#d8576b"
            ],
            [
             0.6666666666666666,
             "#ed7953"
            ],
            [
             0.7777777777777778,
             "#fb9f3a"
            ],
            [
             0.8888888888888888,
             "#fdca26"
            ],
            [
             1,
             "#f0f921"
            ]
           ],
           "sequentialminus": [
            [
             0,
             "#0d0887"
            ],
            [
             0.1111111111111111,
             "#46039f"
            ],
            [
             0.2222222222222222,
             "#7201a8"
            ],
            [
             0.3333333333333333,
             "#9c179e"
            ],
            [
             0.4444444444444444,
             "#bd3786"
            ],
            [
             0.5555555555555556,
             "#d8576b"
            ],
            [
             0.6666666666666666,
             "#ed7953"
            ],
            [
             0.7777777777777778,
             "#fb9f3a"
            ],
            [
             0.8888888888888888,
             "#fdca26"
            ],
            [
             1,
             "#f0f921"
            ]
           ]
          },
          "colorway": [
           "#636efa",
           "#EF553B",
           "#00cc96",
           "#ab63fa",
           "#FFA15A",
           "#19d3f3",
           "#FF6692",
           "#B6E880",
           "#FF97FF",
           "#FECB52"
          ],
          "font": {
           "color": "#2a3f5f"
          },
          "geo": {
           "bgcolor": "white",
           "lakecolor": "white",
           "landcolor": "#E5ECF6",
           "showlakes": true,
           "showland": true,
           "subunitcolor": "white"
          },
          "hoverlabel": {
           "align": "left"
          },
          "hovermode": "closest",
          "mapbox": {
           "style": "light"
          },
          "paper_bgcolor": "white",
          "plot_bgcolor": "#E5ECF6",
          "polar": {
           "angularaxis": {
            "gridcolor": "white",
            "linecolor": "white",
            "ticks": ""
           },
           "bgcolor": "#E5ECF6",
           "radialaxis": {
            "gridcolor": "white",
            "linecolor": "white",
            "ticks": ""
           }
          },
          "scene": {
           "xaxis": {
            "backgroundcolor": "#E5ECF6",
            "gridcolor": "white",
            "gridwidth": 2,
            "linecolor": "white",
            "showbackground": true,
            "ticks": "",
            "zerolinecolor": "white"
           },
           "yaxis": {
            "backgroundcolor": "#E5ECF6",
            "gridcolor": "white",
            "gridwidth": 2,
            "linecolor": "white",
            "showbackground": true,
            "ticks": "",
            "zerolinecolor": "white"
           },
           "zaxis": {
            "backgroundcolor": "#E5ECF6",
            "gridcolor": "white",
            "gridwidth": 2,
            "linecolor": "white",
            "showbackground": true,
            "ticks": "",
            "zerolinecolor": "white"
           }
          },
          "shapedefaults": {
           "line": {
            "color": "#2a3f5f"
           }
          },
          "ternary": {
           "aaxis": {
            "gridcolor": "white",
            "linecolor": "white",
            "ticks": ""
           },
           "baxis": {
            "gridcolor": "white",
            "linecolor": "white",
            "ticks": ""
           },
           "bgcolor": "#E5ECF6",
           "caxis": {
            "gridcolor": "white",
            "linecolor": "white",
            "ticks": ""
           }
          },
          "title": {
           "x": 0.05
          },
          "xaxis": {
           "automargin": true,
           "gridcolor": "white",
           "linecolor": "white",
           "ticks": "",
           "title": {
            "standoff": 15
           },
           "zerolinecolor": "white",
           "zerolinewidth": 2
          },
          "yaxis": {
           "automargin": true,
           "gridcolor": "white",
           "linecolor": "white",
           "ticks": "",
           "title": {
            "standoff": 15
           },
           "zerolinecolor": "white",
           "zerolinewidth": 2
          }
         }
        },
        "title": {
         "text": "Soma de ocorrências por Plataforma"
        },
        "xaxis": {
         "anchor": "y",
         "domain": [
          0,
          1
         ],
         "title": {
          "text": "Observações"
         }
        },
        "yaxis": {
         "anchor": "x",
         "domain": [
          0,
          1
         ],
         "title": {
          "text": "Plataforma"
         }
        }
       }
      }
     },
     "metadata": {},
     "output_type": "display_data"
    }
   ],
   "source": [
    "individual_count_per_state = OSD_geoframe[['Contagem de individuos','Plataforma']].groupby(['Plataforma']).count().sort_values(by='Contagem de individuos')\n",
    "fig = px.bar(\n",
    "    individual_count_per_state,\n",
    "    x='Contagem de individuos',\n",
    "    y=individual_count_per_state.index,\n",
    "    title=\"Soma de ocorrências por Plataforma\",\n",
    "    orientation='h',text_auto='.1s'\n",
    ")\n",
    "fig.update_layout(xaxis=dict(title=\"Observações\"), yaxis=dict(title=\"Plataforma\"))\n",
    "fig.update_xaxes()\n",
    "fig.show(config=img_config)"
   ]
  },
  {
   "cell_type": "code",
   "execution_count": 14,
   "metadata": {},
   "outputs": [
    {
     "data": {
      "application/vnd.plotly.v1+json": {
       "config": {
        "plotlyServerURL": "https://plot.ly",
        "toImageButtonOptions": {
         "filename": "species_distribution",
         "format": "png",
         "scale": 4
        }
       },
       "data": [
        {
         "alignmentgroup": "True",
         "hovertemplate": "Contagem de individuos=%{x}<br>Estado=%{y}<extra></extra>",
         "legendgroup": "",
         "marker": {
          "color": "#636efa",
          "pattern": {
           "shape": ""
          }
         },
         "name": "",
         "offsetgroup": "",
         "orientation": "h",
         "showlegend": false,
         "textposition": "auto",
         "texttemplate": "%{x:.1s}",
         "type": "bar",
         "x": [
          1,
          2,
          8,
          30,
          300,
          380,
          418,
          854,
          854
         ],
         "xaxis": "x",
         "y": [
          "MS",
          "BA",
          "RJ",
          "ES",
          "PR",
          "MG",
          "RS",
          "SC",
          "SP"
         ],
         "yaxis": "y"
        }
       ],
       "layout": {
        "barmode": "relative",
        "legend": {
         "tracegroupgap": 0
        },
        "template": {
         "data": {
          "bar": [
           {
            "error_x": {
             "color": "#2a3f5f"
            },
            "error_y": {
             "color": "#2a3f5f"
            },
            "marker": {
             "line": {
              "color": "#E5ECF6",
              "width": 0.5
             },
             "pattern": {
              "fillmode": "overlay",
              "size": 10,
              "solidity": 0.2
             }
            },
            "type": "bar"
           }
          ],
          "barpolar": [
           {
            "marker": {
             "line": {
              "color": "#E5ECF6",
              "width": 0.5
             },
             "pattern": {
              "fillmode": "overlay",
              "size": 10,
              "solidity": 0.2
             }
            },
            "type": "barpolar"
           }
          ],
          "carpet": [
           {
            "aaxis": {
             "endlinecolor": "#2a3f5f",
             "gridcolor": "white",
             "linecolor": "white",
             "minorgridcolor": "white",
             "startlinecolor": "#2a3f5f"
            },
            "baxis": {
             "endlinecolor": "#2a3f5f",
             "gridcolor": "white",
             "linecolor": "white",
             "minorgridcolor": "white",
             "startlinecolor": "#2a3f5f"
            },
            "type": "carpet"
           }
          ],
          "choropleth": [
           {
            "colorbar": {
             "outlinewidth": 0,
             "ticks": ""
            },
            "type": "choropleth"
           }
          ],
          "contour": [
           {
            "colorbar": {
             "outlinewidth": 0,
             "ticks": ""
            },
            "colorscale": [
             [
              0,
              "#0d0887"
             ],
             [
              0.1111111111111111,
              "#46039f"
             ],
             [
              0.2222222222222222,
              "#7201a8"
             ],
             [
              0.3333333333333333,
              "#9c179e"
             ],
             [
              0.4444444444444444,
              "#bd3786"
             ],
             [
              0.5555555555555556,
              "#d8576b"
             ],
             [
              0.6666666666666666,
              "#ed7953"
             ],
             [
              0.7777777777777778,
              "#fb9f3a"
             ],
             [
              0.8888888888888888,
              "#fdca26"
             ],
             [
              1,
              "#f0f921"
             ]
            ],
            "type": "contour"
           }
          ],
          "contourcarpet": [
           {
            "colorbar": {
             "outlinewidth": 0,
             "ticks": ""
            },
            "type": "contourcarpet"
           }
          ],
          "heatmap": [
           {
            "colorbar": {
             "outlinewidth": 0,
             "ticks": ""
            },
            "colorscale": [
             [
              0,
              "#0d0887"
             ],
             [
              0.1111111111111111,
              "#46039f"
             ],
             [
              0.2222222222222222,
              "#7201a8"
             ],
             [
              0.3333333333333333,
              "#9c179e"
             ],
             [
              0.4444444444444444,
              "#bd3786"
             ],
             [
              0.5555555555555556,
              "#d8576b"
             ],
             [
              0.6666666666666666,
              "#ed7953"
             ],
             [
              0.7777777777777778,
              "#fb9f3a"
             ],
             [
              0.8888888888888888,
              "#fdca26"
             ],
             [
              1,
              "#f0f921"
             ]
            ],
            "type": "heatmap"
           }
          ],
          "heatmapgl": [
           {
            "colorbar": {
             "outlinewidth": 0,
             "ticks": ""
            },
            "colorscale": [
             [
              0,
              "#0d0887"
             ],
             [
              0.1111111111111111,
              "#46039f"
             ],
             [
              0.2222222222222222,
              "#7201a8"
             ],
             [
              0.3333333333333333,
              "#9c179e"
             ],
             [
              0.4444444444444444,
              "#bd3786"
             ],
             [
              0.5555555555555556,
              "#d8576b"
             ],
             [
              0.6666666666666666,
              "#ed7953"
             ],
             [
              0.7777777777777778,
              "#fb9f3a"
             ],
             [
              0.8888888888888888,
              "#fdca26"
             ],
             [
              1,
              "#f0f921"
             ]
            ],
            "type": "heatmapgl"
           }
          ],
          "histogram": [
           {
            "marker": {
             "pattern": {
              "fillmode": "overlay",
              "size": 10,
              "solidity": 0.2
             }
            },
            "type": "histogram"
           }
          ],
          "histogram2d": [
           {
            "colorbar": {
             "outlinewidth": 0,
             "ticks": ""
            },
            "colorscale": [
             [
              0,
              "#0d0887"
             ],
             [
              0.1111111111111111,
              "#46039f"
             ],
             [
              0.2222222222222222,
              "#7201a8"
             ],
             [
              0.3333333333333333,
              "#9c179e"
             ],
             [
              0.4444444444444444,
              "#bd3786"
             ],
             [
              0.5555555555555556,
              "#d8576b"
             ],
             [
              0.6666666666666666,
              "#ed7953"
             ],
             [
              0.7777777777777778,
              "#fb9f3a"
             ],
             [
              0.8888888888888888,
              "#fdca26"
             ],
             [
              1,
              "#f0f921"
             ]
            ],
            "type": "histogram2d"
           }
          ],
          "histogram2dcontour": [
           {
            "colorbar": {
             "outlinewidth": 0,
             "ticks": ""
            },
            "colorscale": [
             [
              0,
              "#0d0887"
             ],
             [
              0.1111111111111111,
              "#46039f"
             ],
             [
              0.2222222222222222,
              "#7201a8"
             ],
             [
              0.3333333333333333,
              "#9c179e"
             ],
             [
              0.4444444444444444,
              "#bd3786"
             ],
             [
              0.5555555555555556,
              "#d8576b"
             ],
             [
              0.6666666666666666,
              "#ed7953"
             ],
             [
              0.7777777777777778,
              "#fb9f3a"
             ],
             [
              0.8888888888888888,
              "#fdca26"
             ],
             [
              1,
              "#f0f921"
             ]
            ],
            "type": "histogram2dcontour"
           }
          ],
          "mesh3d": [
           {
            "colorbar": {
             "outlinewidth": 0,
             "ticks": ""
            },
            "type": "mesh3d"
           }
          ],
          "parcoords": [
           {
            "line": {
             "colorbar": {
              "outlinewidth": 0,
              "ticks": ""
             }
            },
            "type": "parcoords"
           }
          ],
          "pie": [
           {
            "automargin": true,
            "type": "pie"
           }
          ],
          "scatter": [
           {
            "fillpattern": {
             "fillmode": "overlay",
             "size": 10,
             "solidity": 0.2
            },
            "type": "scatter"
           }
          ],
          "scatter3d": [
           {
            "line": {
             "colorbar": {
              "outlinewidth": 0,
              "ticks": ""
             }
            },
            "marker": {
             "colorbar": {
              "outlinewidth": 0,
              "ticks": ""
             }
            },
            "type": "scatter3d"
           }
          ],
          "scattercarpet": [
           {
            "marker": {
             "colorbar": {
              "outlinewidth": 0,
              "ticks": ""
             }
            },
            "type": "scattercarpet"
           }
          ],
          "scattergeo": [
           {
            "marker": {
             "colorbar": {
              "outlinewidth": 0,
              "ticks": ""
             }
            },
            "type": "scattergeo"
           }
          ],
          "scattergl": [
           {
            "marker": {
             "colorbar": {
              "outlinewidth": 0,
              "ticks": ""
             }
            },
            "type": "scattergl"
           }
          ],
          "scattermapbox": [
           {
            "marker": {
             "colorbar": {
              "outlinewidth": 0,
              "ticks": ""
             }
            },
            "type": "scattermapbox"
           }
          ],
          "scatterpolar": [
           {
            "marker": {
             "colorbar": {
              "outlinewidth": 0,
              "ticks": ""
             }
            },
            "type": "scatterpolar"
           }
          ],
          "scatterpolargl": [
           {
            "marker": {
             "colorbar": {
              "outlinewidth": 0,
              "ticks": ""
             }
            },
            "type": "scatterpolargl"
           }
          ],
          "scatterternary": [
           {
            "marker": {
             "colorbar": {
              "outlinewidth": 0,
              "ticks": ""
             }
            },
            "type": "scatterternary"
           }
          ],
          "surface": [
           {
            "colorbar": {
             "outlinewidth": 0,
             "ticks": ""
            },
            "colorscale": [
             [
              0,
              "#0d0887"
             ],
             [
              0.1111111111111111,
              "#46039f"
             ],
             [
              0.2222222222222222,
              "#7201a8"
             ],
             [
              0.3333333333333333,
              "#9c179e"
             ],
             [
              0.4444444444444444,
              "#bd3786"
             ],
             [
              0.5555555555555556,
              "#d8576b"
             ],
             [
              0.6666666666666666,
              "#ed7953"
             ],
             [
              0.7777777777777778,
              "#fb9f3a"
             ],
             [
              0.8888888888888888,
              "#fdca26"
             ],
             [
              1,
              "#f0f921"
             ]
            ],
            "type": "surface"
           }
          ],
          "table": [
           {
            "cells": {
             "fill": {
              "color": "#EBF0F8"
             },
             "line": {
              "color": "white"
             }
            },
            "header": {
             "fill": {
              "color": "#C8D4E3"
             },
             "line": {
              "color": "white"
             }
            },
            "type": "table"
           }
          ]
         },
         "layout": {
          "annotationdefaults": {
           "arrowcolor": "#2a3f5f",
           "arrowhead": 0,
           "arrowwidth": 1
          },
          "autotypenumbers": "strict",
          "coloraxis": {
           "colorbar": {
            "outlinewidth": 0,
            "ticks": ""
           }
          },
          "colorscale": {
           "diverging": [
            [
             0,
             "#8e0152"
            ],
            [
             0.1,
             "#c51b7d"
            ],
            [
             0.2,
             "#de77ae"
            ],
            [
             0.3,
             "#f1b6da"
            ],
            [
             0.4,
             "#fde0ef"
            ],
            [
             0.5,
             "#f7f7f7"
            ],
            [
             0.6,
             "#e6f5d0"
            ],
            [
             0.7,
             "#b8e186"
            ],
            [
             0.8,
             "#7fbc41"
            ],
            [
             0.9,
             "#4d9221"
            ],
            [
             1,
             "#276419"
            ]
           ],
           "sequential": [
            [
             0,
             "#0d0887"
            ],
            [
             0.1111111111111111,
             "#46039f"
            ],
            [
             0.2222222222222222,
             "#7201a8"
            ],
            [
             0.3333333333333333,
             "#9c179e"
            ],
            [
             0.4444444444444444,
             "#bd3786"
            ],
            [
             0.5555555555555556,
             "#d8576b"
            ],
            [
             0.6666666666666666,
             "#ed7953"
            ],
            [
             0.7777777777777778,
             "#fb9f3a"
            ],
            [
             0.8888888888888888,
             "#fdca26"
            ],
            [
             1,
             "#f0f921"
            ]
           ],
           "sequentialminus": [
            [
             0,
             "#0d0887"
            ],
            [
             0.1111111111111111,
             "#46039f"
            ],
            [
             0.2222222222222222,
             "#7201a8"
            ],
            [
             0.3333333333333333,
             "#9c179e"
            ],
            [
             0.4444444444444444,
             "#bd3786"
            ],
            [
             0.5555555555555556,
             "#d8576b"
            ],
            [
             0.6666666666666666,
             "#ed7953"
            ],
            [
             0.7777777777777778,
             "#fb9f3a"
            ],
            [
             0.8888888888888888,
             "#fdca26"
            ],
            [
             1,
             "#f0f921"
            ]
           ]
          },
          "colorway": [
           "#636efa",
           "#EF553B",
           "#00cc96",
           "#ab63fa",
           "#FFA15A",
           "#19d3f3",
           "#FF6692",
           "#B6E880",
           "#FF97FF",
           "#FECB52"
          ],
          "font": {
           "color": "#2a3f5f"
          },
          "geo": {
           "bgcolor": "white",
           "lakecolor": "white",
           "landcolor": "#E5ECF6",
           "showlakes": true,
           "showland": true,
           "subunitcolor": "white"
          },
          "hoverlabel": {
           "align": "left"
          },
          "hovermode": "closest",
          "mapbox": {
           "style": "light"
          },
          "paper_bgcolor": "white",
          "plot_bgcolor": "#E5ECF6",
          "polar": {
           "angularaxis": {
            "gridcolor": "white",
            "linecolor": "white",
            "ticks": ""
           },
           "bgcolor": "#E5ECF6",
           "radialaxis": {
            "gridcolor": "white",
            "linecolor": "white",
            "ticks": ""
           }
          },
          "scene": {
           "xaxis": {
            "backgroundcolor": "#E5ECF6",
            "gridcolor": "white",
            "gridwidth": 2,
            "linecolor": "white",
            "showbackground": true,
            "ticks": "",
            "zerolinecolor": "white"
           },
           "yaxis": {
            "backgroundcolor": "#E5ECF6",
            "gridcolor": "white",
            "gridwidth": 2,
            "linecolor": "white",
            "showbackground": true,
            "ticks": "",
            "zerolinecolor": "white"
           },
           "zaxis": {
            "backgroundcolor": "#E5ECF6",
            "gridcolor": "white",
            "gridwidth": 2,
            "linecolor": "white",
            "showbackground": true,
            "ticks": "",
            "zerolinecolor": "white"
           }
          },
          "shapedefaults": {
           "line": {
            "color": "#2a3f5f"
           }
          },
          "ternary": {
           "aaxis": {
            "gridcolor": "white",
            "linecolor": "white",
            "ticks": ""
           },
           "baxis": {
            "gridcolor": "white",
            "linecolor": "white",
            "ticks": ""
           },
           "bgcolor": "#E5ECF6",
           "caxis": {
            "gridcolor": "white",
            "linecolor": "white",
            "ticks": ""
           }
          },
          "title": {
           "x": 0.05
          },
          "xaxis": {
           "automargin": true,
           "gridcolor": "white",
           "linecolor": "white",
           "ticks": "",
           "title": {
            "standoff": 15
           },
           "zerolinecolor": "white",
           "zerolinewidth": 2
          },
          "yaxis": {
           "automargin": true,
           "gridcolor": "white",
           "linecolor": "white",
           "ticks": "",
           "title": {
            "standoff": 15
           },
           "zerolinecolor": "white",
           "zerolinewidth": 2
          }
         }
        },
        "title": {
         "text": "Contagem de ocorrências por estado"
        },
        "xaxis": {
         "anchor": "y",
         "domain": [
          0,
          1
         ],
         "title": {
          "text": "Observações"
         }
        },
        "yaxis": {
         "anchor": "x",
         "domain": [
          0,
          1
         ],
         "title": {
          "text": "Coleção"
         }
        }
       }
      }
     },
     "metadata": {},
     "output_type": "display_data"
    }
   ],
   "source": [
    "individual_count_per_state = OSD_geoframe[['Contagem de individuos','Estado']].groupby(['Estado']).count().sort_values(by='Contagem de individuos')\n",
    "fig = px.bar(\n",
    "    individual_count_per_state,\n",
    "    x='Contagem de individuos',\n",
    "    y=individual_count_per_state.index,\n",
    "    title=\"Contagem de ocorrências por estado\",\n",
    "    orientation='h',text_auto='.1s'\n",
    "    \n",
    ")\n",
    "fig.update_layout(xaxis=dict(title=\"Observações\"), yaxis=dict(title=\"Coleção\"))\n",
    "fig.show(config=img_config)"
   ]
  },
  {
   "cell_type": "code",
   "execution_count": 15,
   "metadata": {},
   "outputs": [
    {
     "data": {
      "application/vnd.plotly.v1+json": {
       "config": {
        "plotlyServerURL": "https://plot.ly",
        "toImageButtonOptions": {
         "filename": "species_distribution",
         "format": "png",
         "scale": 4
        }
       },
       "data": [
        {
         "alignmentgroup": "True",
         "hovertemplate": "Year=%{x}<br>Contagem de individuos=%{y}<extra></extra>",
         "legendgroup": "",
         "marker": {
          "color": "#636efa",
          "pattern": {
           "shape": ""
          }
         },
         "name": "",
         "offsetgroup": "",
         "orientation": "v",
         "showlegend": false,
         "textposition": "auto",
         "texttemplate": "%{y:.1s}",
         "type": "bar",
         "x": [
          1929,
          1957,
          1971,
          1985,
          1990,
          1991,
          1992,
          1993,
          1995,
          1996,
          1997,
          1999,
          2000,
          2001,
          2002,
          2003,
          2004,
          2005,
          2006,
          2007,
          2008,
          2009,
          2010,
          2011,
          2012,
          2013,
          2014,
          2015,
          2016,
          2017,
          2018,
          2019,
          2020,
          2021,
          2022,
          2023
         ],
         "xaxis": "x",
         "y": [
          2,
          1,
          1,
          1,
          4,
          3,
          1,
          1,
          2,
          2,
          4,
          8,
          6,
          3,
          9,
          4,
          7,
          7,
          21,
          46,
          23,
          15,
          50,
          9,
          24,
          35,
          32,
          147,
          153,
          171,
          236,
          274,
          293,
          456,
          781,
          15
         ],
         "yaxis": "y"
        }
       ],
       "layout": {
        "barmode": "relative",
        "legend": {
         "tracegroupgap": 0
        },
        "template": {
         "data": {
          "bar": [
           {
            "error_x": {
             "color": "#2a3f5f"
            },
            "error_y": {
             "color": "#2a3f5f"
            },
            "marker": {
             "line": {
              "color": "#E5ECF6",
              "width": 0.5
             },
             "pattern": {
              "fillmode": "overlay",
              "size": 10,
              "solidity": 0.2
             }
            },
            "type": "bar"
           }
          ],
          "barpolar": [
           {
            "marker": {
             "line": {
              "color": "#E5ECF6",
              "width": 0.5
             },
             "pattern": {
              "fillmode": "overlay",
              "size": 10,
              "solidity": 0.2
             }
            },
            "type": "barpolar"
           }
          ],
          "carpet": [
           {
            "aaxis": {
             "endlinecolor": "#2a3f5f",
             "gridcolor": "white",
             "linecolor": "white",
             "minorgridcolor": "white",
             "startlinecolor": "#2a3f5f"
            },
            "baxis": {
             "endlinecolor": "#2a3f5f",
             "gridcolor": "white",
             "linecolor": "white",
             "minorgridcolor": "white",
             "startlinecolor": "#2a3f5f"
            },
            "type": "carpet"
           }
          ],
          "choropleth": [
           {
            "colorbar": {
             "outlinewidth": 0,
             "ticks": ""
            },
            "type": "choropleth"
           }
          ],
          "contour": [
           {
            "colorbar": {
             "outlinewidth": 0,
             "ticks": ""
            },
            "colorscale": [
             [
              0,
              "#0d0887"
             ],
             [
              0.1111111111111111,
              "#46039f"
             ],
             [
              0.2222222222222222,
              "#7201a8"
             ],
             [
              0.3333333333333333,
              "#9c179e"
             ],
             [
              0.4444444444444444,
              "#bd3786"
             ],
             [
              0.5555555555555556,
              "#d8576b"
             ],
             [
              0.6666666666666666,
              "#ed7953"
             ],
             [
              0.7777777777777778,
              "#fb9f3a"
             ],
             [
              0.8888888888888888,
              "#fdca26"
             ],
             [
              1,
              "#f0f921"
             ]
            ],
            "type": "contour"
           }
          ],
          "contourcarpet": [
           {
            "colorbar": {
             "outlinewidth": 0,
             "ticks": ""
            },
            "type": "contourcarpet"
           }
          ],
          "heatmap": [
           {
            "colorbar": {
             "outlinewidth": 0,
             "ticks": ""
            },
            "colorscale": [
             [
              0,
              "#0d0887"
             ],
             [
              0.1111111111111111,
              "#46039f"
             ],
             [
              0.2222222222222222,
              "#7201a8"
             ],
             [
              0.3333333333333333,
              "#9c179e"
             ],
             [
              0.4444444444444444,
              "#bd3786"
             ],
             [
              0.5555555555555556,
              "#d8576b"
             ],
             [
              0.6666666666666666,
              "#ed7953"
             ],
             [
              0.7777777777777778,
              "#fb9f3a"
             ],
             [
              0.8888888888888888,
              "#fdca26"
             ],
             [
              1,
              "#f0f921"
             ]
            ],
            "type": "heatmap"
           }
          ],
          "heatmapgl": [
           {
            "colorbar": {
             "outlinewidth": 0,
             "ticks": ""
            },
            "colorscale": [
             [
              0,
              "#0d0887"
             ],
             [
              0.1111111111111111,
              "#46039f"
             ],
             [
              0.2222222222222222,
              "#7201a8"
             ],
             [
              0.3333333333333333,
              "#9c179e"
             ],
             [
              0.4444444444444444,
              "#bd3786"
             ],
             [
              0.5555555555555556,
              "#d8576b"
             ],
             [
              0.6666666666666666,
              "#ed7953"
             ],
             [
              0.7777777777777778,
              "#fb9f3a"
             ],
             [
              0.8888888888888888,
              "#fdca26"
             ],
             [
              1,
              "#f0f921"
             ]
            ],
            "type": "heatmapgl"
           }
          ],
          "histogram": [
           {
            "marker": {
             "pattern": {
              "fillmode": "overlay",
              "size": 10,
              "solidity": 0.2
             }
            },
            "type": "histogram"
           }
          ],
          "histogram2d": [
           {
            "colorbar": {
             "outlinewidth": 0,
             "ticks": ""
            },
            "colorscale": [
             [
              0,
              "#0d0887"
             ],
             [
              0.1111111111111111,
              "#46039f"
             ],
             [
              0.2222222222222222,
              "#7201a8"
             ],
             [
              0.3333333333333333,
              "#9c179e"
             ],
             [
              0.4444444444444444,
              "#bd3786"
             ],
             [
              0.5555555555555556,
              "#d8576b"
             ],
             [
              0.6666666666666666,
              "#ed7953"
             ],
             [
              0.7777777777777778,
              "#fb9f3a"
             ],
             [
              0.8888888888888888,
              "#fdca26"
             ],
             [
              1,
              "#f0f921"
             ]
            ],
            "type": "histogram2d"
           }
          ],
          "histogram2dcontour": [
           {
            "colorbar": {
             "outlinewidth": 0,
             "ticks": ""
            },
            "colorscale": [
             [
              0,
              "#0d0887"
             ],
             [
              0.1111111111111111,
              "#46039f"
             ],
             [
              0.2222222222222222,
              "#7201a8"
             ],
             [
              0.3333333333333333,
              "#9c179e"
             ],
             [
              0.4444444444444444,
              "#bd3786"
             ],
             [
              0.5555555555555556,
              "#d8576b"
             ],
             [
              0.6666666666666666,
              "#ed7953"
             ],
             [
              0.7777777777777778,
              "#fb9f3a"
             ],
             [
              0.8888888888888888,
              "#fdca26"
             ],
             [
              1,
              "#f0f921"
             ]
            ],
            "type": "histogram2dcontour"
           }
          ],
          "mesh3d": [
           {
            "colorbar": {
             "outlinewidth": 0,
             "ticks": ""
            },
            "type": "mesh3d"
           }
          ],
          "parcoords": [
           {
            "line": {
             "colorbar": {
              "outlinewidth": 0,
              "ticks": ""
             }
            },
            "type": "parcoords"
           }
          ],
          "pie": [
           {
            "automargin": true,
            "type": "pie"
           }
          ],
          "scatter": [
           {
            "fillpattern": {
             "fillmode": "overlay",
             "size": 10,
             "solidity": 0.2
            },
            "type": "scatter"
           }
          ],
          "scatter3d": [
           {
            "line": {
             "colorbar": {
              "outlinewidth": 0,
              "ticks": ""
             }
            },
            "marker": {
             "colorbar": {
              "outlinewidth": 0,
              "ticks": ""
             }
            },
            "type": "scatter3d"
           }
          ],
          "scattercarpet": [
           {
            "marker": {
             "colorbar": {
              "outlinewidth": 0,
              "ticks": ""
             }
            },
            "type": "scattercarpet"
           }
          ],
          "scattergeo": [
           {
            "marker": {
             "colorbar": {
              "outlinewidth": 0,
              "ticks": ""
             }
            },
            "type": "scattergeo"
           }
          ],
          "scattergl": [
           {
            "marker": {
             "colorbar": {
              "outlinewidth": 0,
              "ticks": ""
             }
            },
            "type": "scattergl"
           }
          ],
          "scattermapbox": [
           {
            "marker": {
             "colorbar": {
              "outlinewidth": 0,
              "ticks": ""
             }
            },
            "type": "scattermapbox"
           }
          ],
          "scatterpolar": [
           {
            "marker": {
             "colorbar": {
              "outlinewidth": 0,
              "ticks": ""
             }
            },
            "type": "scatterpolar"
           }
          ],
          "scatterpolargl": [
           {
            "marker": {
             "colorbar": {
              "outlinewidth": 0,
              "ticks": ""
             }
            },
            "type": "scatterpolargl"
           }
          ],
          "scatterternary": [
           {
            "marker": {
             "colorbar": {
              "outlinewidth": 0,
              "ticks": ""
             }
            },
            "type": "scatterternary"
           }
          ],
          "surface": [
           {
            "colorbar": {
             "outlinewidth": 0,
             "ticks": ""
            },
            "colorscale": [
             [
              0,
              "#0d0887"
             ],
             [
              0.1111111111111111,
              "#46039f"
             ],
             [
              0.2222222222222222,
              "#7201a8"
             ],
             [
              0.3333333333333333,
              "#9c179e"
             ],
             [
              0.4444444444444444,
              "#bd3786"
             ],
             [
              0.5555555555555556,
              "#d8576b"
             ],
             [
              0.6666666666666666,
              "#ed7953"
             ],
             [
              0.7777777777777778,
              "#fb9f3a"
             ],
             [
              0.8888888888888888,
              "#fdca26"
             ],
             [
              1,
              "#f0f921"
             ]
            ],
            "type": "surface"
           }
          ],
          "table": [
           {
            "cells": {
             "fill": {
              "color": "#EBF0F8"
             },
             "line": {
              "color": "white"
             }
            },
            "header": {
             "fill": {
              "color": "#C8D4E3"
             },
             "line": {
              "color": "white"
             }
            },
            "type": "table"
           }
          ]
         },
         "layout": {
          "annotationdefaults": {
           "arrowcolor": "#2a3f5f",
           "arrowhead": 0,
           "arrowwidth": 1
          },
          "autotypenumbers": "strict",
          "coloraxis": {
           "colorbar": {
            "outlinewidth": 0,
            "ticks": ""
           }
          },
          "colorscale": {
           "diverging": [
            [
             0,
             "#8e0152"
            ],
            [
             0.1,
             "#c51b7d"
            ],
            [
             0.2,
             "#de77ae"
            ],
            [
             0.3,
             "#f1b6da"
            ],
            [
             0.4,
             "#fde0ef"
            ],
            [
             0.5,
             "#f7f7f7"
            ],
            [
             0.6,
             "#e6f5d0"
            ],
            [
             0.7,
             "#b8e186"
            ],
            [
             0.8,
             "#7fbc41"
            ],
            [
             0.9,
             "#4d9221"
            ],
            [
             1,
             "#276419"
            ]
           ],
           "sequential": [
            [
             0,
             "#0d0887"
            ],
            [
             0.1111111111111111,
             "#46039f"
            ],
            [
             0.2222222222222222,
             "#7201a8"
            ],
            [
             0.3333333333333333,
             "#9c179e"
            ],
            [
             0.4444444444444444,
             "#bd3786"
            ],
            [
             0.5555555555555556,
             "#d8576b"
            ],
            [
             0.6666666666666666,
             "#ed7953"
            ],
            [
             0.7777777777777778,
             "#fb9f3a"
            ],
            [
             0.8888888888888888,
             "#fdca26"
            ],
            [
             1,
             "#f0f921"
            ]
           ],
           "sequentialminus": [
            [
             0,
             "#0d0887"
            ],
            [
             0.1111111111111111,
             "#46039f"
            ],
            [
             0.2222222222222222,
             "#7201a8"
            ],
            [
             0.3333333333333333,
             "#9c179e"
            ],
            [
             0.4444444444444444,
             "#bd3786"
            ],
            [
             0.5555555555555556,
             "#d8576b"
            ],
            [
             0.6666666666666666,
             "#ed7953"
            ],
            [
             0.7777777777777778,
             "#fb9f3a"
            ],
            [
             0.8888888888888888,
             "#fdca26"
            ],
            [
             1,
             "#f0f921"
            ]
           ]
          },
          "colorway": [
           "#636efa",
           "#EF553B",
           "#00cc96",
           "#ab63fa",
           "#FFA15A",
           "#19d3f3",
           "#FF6692",
           "#B6E880",
           "#FF97FF",
           "#FECB52"
          ],
          "font": {
           "color": "#2a3f5f"
          },
          "geo": {
           "bgcolor": "white",
           "lakecolor": "white",
           "landcolor": "#E5ECF6",
           "showlakes": true,
           "showland": true,
           "subunitcolor": "white"
          },
          "hoverlabel": {
           "align": "left"
          },
          "hovermode": "closest",
          "mapbox": {
           "style": "light"
          },
          "paper_bgcolor": "white",
          "plot_bgcolor": "#E5ECF6",
          "polar": {
           "angularaxis": {
            "gridcolor": "white",
            "linecolor": "white",
            "ticks": ""
           },
           "bgcolor": "#E5ECF6",
           "radialaxis": {
            "gridcolor": "white",
            "linecolor": "white",
            "ticks": ""
           }
          },
          "scene": {
           "xaxis": {
            "backgroundcolor": "#E5ECF6",
            "gridcolor": "white",
            "gridwidth": 2,
            "linecolor": "white",
            "showbackground": true,
            "ticks": "",
            "zerolinecolor": "white"
           },
           "yaxis": {
            "backgroundcolor": "#E5ECF6",
            "gridcolor": "white",
            "gridwidth": 2,
            "linecolor": "white",
            "showbackground": true,
            "ticks": "",
            "zerolinecolor": "white"
           },
           "zaxis": {
            "backgroundcolor": "#E5ECF6",
            "gridcolor": "white",
            "gridwidth": 2,
            "linecolor": "white",
            "showbackground": true,
            "ticks": "",
            "zerolinecolor": "white"
           }
          },
          "shapedefaults": {
           "line": {
            "color": "#2a3f5f"
           }
          },
          "ternary": {
           "aaxis": {
            "gridcolor": "white",
            "linecolor": "white",
            "ticks": ""
           },
           "baxis": {
            "gridcolor": "white",
            "linecolor": "white",
            "ticks": ""
           },
           "bgcolor": "#E5ECF6",
           "caxis": {
            "gridcolor": "white",
            "linecolor": "white",
            "ticks": ""
           }
          },
          "title": {
           "x": 0.05
          },
          "xaxis": {
           "automargin": true,
           "gridcolor": "white",
           "linecolor": "white",
           "ticks": "",
           "title": {
            "standoff": 15
           },
           "zerolinecolor": "white",
           "zerolinewidth": 2
          },
          "yaxis": {
           "automargin": true,
           "gridcolor": "white",
           "linecolor": "white",
           "ticks": "",
           "title": {
            "standoff": 15
           },
           "zerolinecolor": "white",
           "zerolinewidth": 2
          }
         }
        },
        "title": {
         "text": "Observações coletadas por ano"
        },
        "xaxis": {
         "anchor": "y",
         "domain": [
          0,
          1
         ],
         "title": {
          "text": "Ano"
         }
        },
        "yaxis": {
         "anchor": "x",
         "domain": [
          0,
          1
         ],
         "title": {
          "text": "Observações"
         }
        }
       }
      }
     },
     "metadata": {},
     "output_type": "display_data"
    }
   ],
   "source": [
    "df = OSD_geoframe.groupby('Year').count()['Contagem de individuos']\n",
    "fig = px.bar(df, x=df.index, y=\"Contagem de individuos\",text_auto='.1s', title=\"Observações coletadas por ano\")\n",
    "fig.update_layout(xaxis=dict(title=\"Ano\"), yaxis=dict(title=\"Observações\"))\n",
    "fig.update_xaxes()\n",
    "fig.show(config=img_config)"
   ]
  },
  {
   "cell_type": "code",
   "execution_count": 16,
   "metadata": {},
   "outputs": [
    {
     "data": {
      "application/vnd.plotly.v1+json": {
       "config": {
        "plotlyServerURL": "https://plot.ly",
        "toImageButtonOptions": {
         "filename": "species_distribution",
         "format": "png",
         "scale": 4
        }
       },
       "data": [
        {
         "alignmentgroup": "True",
         "hovertemplate": "Fonte do registro=%{x}<br>Contagem de individuos=%{y}<extra></extra>",
         "legendgroup": "",
         "marker": {
          "color": "#636efa",
          "pattern": {
           "shape": ""
          }
         },
         "name": "",
         "offsetgroup": "",
         "orientation": "v",
         "showlegend": false,
         "textposition": "auto",
         "texttemplate": "%{y}",
         "type": "bar",
         "x": [
          "OCCURRENCE",
          "MACHINE_OBSERVATION",
          "PRESERVED_SPECIMEN",
          "HUMAN_OBSERVATION"
         ],
         "xaxis": "x",
         "y": [
          1,
          3,
          4,
          2839
         ],
         "yaxis": "y"
        }
       ],
       "layout": {
        "barmode": "relative",
        "legend": {
         "tracegroupgap": 0
        },
        "template": {
         "data": {
          "bar": [
           {
            "error_x": {
             "color": "#2a3f5f"
            },
            "error_y": {
             "color": "#2a3f5f"
            },
            "marker": {
             "line": {
              "color": "#E5ECF6",
              "width": 0.5
             },
             "pattern": {
              "fillmode": "overlay",
              "size": 10,
              "solidity": 0.2
             }
            },
            "type": "bar"
           }
          ],
          "barpolar": [
           {
            "marker": {
             "line": {
              "color": "#E5ECF6",
              "width": 0.5
             },
             "pattern": {
              "fillmode": "overlay",
              "size": 10,
              "solidity": 0.2
             }
            },
            "type": "barpolar"
           }
          ],
          "carpet": [
           {
            "aaxis": {
             "endlinecolor": "#2a3f5f",
             "gridcolor": "white",
             "linecolor": "white",
             "minorgridcolor": "white",
             "startlinecolor": "#2a3f5f"
            },
            "baxis": {
             "endlinecolor": "#2a3f5f",
             "gridcolor": "white",
             "linecolor": "white",
             "minorgridcolor": "white",
             "startlinecolor": "#2a3f5f"
            },
            "type": "carpet"
           }
          ],
          "choropleth": [
           {
            "colorbar": {
             "outlinewidth": 0,
             "ticks": ""
            },
            "type": "choropleth"
           }
          ],
          "contour": [
           {
            "colorbar": {
             "outlinewidth": 0,
             "ticks": ""
            },
            "colorscale": [
             [
              0,
              "#0d0887"
             ],
             [
              0.1111111111111111,
              "#46039f"
             ],
             [
              0.2222222222222222,
              "#7201a8"
             ],
             [
              0.3333333333333333,
              "#9c179e"
             ],
             [
              0.4444444444444444,
              "#bd3786"
             ],
             [
              0.5555555555555556,
              "#d8576b"
             ],
             [
              0.6666666666666666,
              "#ed7953"
             ],
             [
              0.7777777777777778,
              "#fb9f3a"
             ],
             [
              0.8888888888888888,
              "#fdca26"
             ],
             [
              1,
              "#f0f921"
             ]
            ],
            "type": "contour"
           }
          ],
          "contourcarpet": [
           {
            "colorbar": {
             "outlinewidth": 0,
             "ticks": ""
            },
            "type": "contourcarpet"
           }
          ],
          "heatmap": [
           {
            "colorbar": {
             "outlinewidth": 0,
             "ticks": ""
            },
            "colorscale": [
             [
              0,
              "#0d0887"
             ],
             [
              0.1111111111111111,
              "#46039f"
             ],
             [
              0.2222222222222222,
              "#7201a8"
             ],
             [
              0.3333333333333333,
              "#9c179e"
             ],
             [
              0.4444444444444444,
              "#bd3786"
             ],
             [
              0.5555555555555556,
              "#d8576b"
             ],
             [
              0.6666666666666666,
              "#ed7953"
             ],
             [
              0.7777777777777778,
              "#fb9f3a"
             ],
             [
              0.8888888888888888,
              "#fdca26"
             ],
             [
              1,
              "#f0f921"
             ]
            ],
            "type": "heatmap"
           }
          ],
          "heatmapgl": [
           {
            "colorbar": {
             "outlinewidth": 0,
             "ticks": ""
            },
            "colorscale": [
             [
              0,
              "#0d0887"
             ],
             [
              0.1111111111111111,
              "#46039f"
             ],
             [
              0.2222222222222222,
              "#7201a8"
             ],
             [
              0.3333333333333333,
              "#9c179e"
             ],
             [
              0.4444444444444444,
              "#bd3786"
             ],
             [
              0.5555555555555556,
              "#d8576b"
             ],
             [
              0.6666666666666666,
              "#ed7953"
             ],
             [
              0.7777777777777778,
              "#fb9f3a"
             ],
             [
              0.8888888888888888,
              "#fdca26"
             ],
             [
              1,
              "#f0f921"
             ]
            ],
            "type": "heatmapgl"
           }
          ],
          "histogram": [
           {
            "marker": {
             "pattern": {
              "fillmode": "overlay",
              "size": 10,
              "solidity": 0.2
             }
            },
            "type": "histogram"
           }
          ],
          "histogram2d": [
           {
            "colorbar": {
             "outlinewidth": 0,
             "ticks": ""
            },
            "colorscale": [
             [
              0,
              "#0d0887"
             ],
             [
              0.1111111111111111,
              "#46039f"
             ],
             [
              0.2222222222222222,
              "#7201a8"
             ],
             [
              0.3333333333333333,
              "#9c179e"
             ],
             [
              0.4444444444444444,
              "#bd3786"
             ],
             [
              0.5555555555555556,
              "#d8576b"
             ],
             [
              0.6666666666666666,
              "#ed7953"
             ],
             [
              0.7777777777777778,
              "#fb9f3a"
             ],
             [
              0.8888888888888888,
              "#fdca26"
             ],
             [
              1,
              "#f0f921"
             ]
            ],
            "type": "histogram2d"
           }
          ],
          "histogram2dcontour": [
           {
            "colorbar": {
             "outlinewidth": 0,
             "ticks": ""
            },
            "colorscale": [
             [
              0,
              "#0d0887"
             ],
             [
              0.1111111111111111,
              "#46039f"
             ],
             [
              0.2222222222222222,
              "#7201a8"
             ],
             [
              0.3333333333333333,
              "#9c179e"
             ],
             [
              0.4444444444444444,
              "#bd3786"
             ],
             [
              0.5555555555555556,
              "#d8576b"
             ],
             [
              0.6666666666666666,
              "#ed7953"
             ],
             [
              0.7777777777777778,
              "#fb9f3a"
             ],
             [
              0.8888888888888888,
              "#fdca26"
             ],
             [
              1,
              "#f0f921"
             ]
            ],
            "type": "histogram2dcontour"
           }
          ],
          "mesh3d": [
           {
            "colorbar": {
             "outlinewidth": 0,
             "ticks": ""
            },
            "type": "mesh3d"
           }
          ],
          "parcoords": [
           {
            "line": {
             "colorbar": {
              "outlinewidth": 0,
              "ticks": ""
             }
            },
            "type": "parcoords"
           }
          ],
          "pie": [
           {
            "automargin": true,
            "type": "pie"
           }
          ],
          "scatter": [
           {
            "fillpattern": {
             "fillmode": "overlay",
             "size": 10,
             "solidity": 0.2
            },
            "type": "scatter"
           }
          ],
          "scatter3d": [
           {
            "line": {
             "colorbar": {
              "outlinewidth": 0,
              "ticks": ""
             }
            },
            "marker": {
             "colorbar": {
              "outlinewidth": 0,
              "ticks": ""
             }
            },
            "type": "scatter3d"
           }
          ],
          "scattercarpet": [
           {
            "marker": {
             "colorbar": {
              "outlinewidth": 0,
              "ticks": ""
             }
            },
            "type": "scattercarpet"
           }
          ],
          "scattergeo": [
           {
            "marker": {
             "colorbar": {
              "outlinewidth": 0,
              "ticks": ""
             }
            },
            "type": "scattergeo"
           }
          ],
          "scattergl": [
           {
            "marker": {
             "colorbar": {
              "outlinewidth": 0,
              "ticks": ""
             }
            },
            "type": "scattergl"
           }
          ],
          "scattermapbox": [
           {
            "marker": {
             "colorbar": {
              "outlinewidth": 0,
              "ticks": ""
             }
            },
            "type": "scattermapbox"
           }
          ],
          "scatterpolar": [
           {
            "marker": {
             "colorbar": {
              "outlinewidth": 0,
              "ticks": ""
             }
            },
            "type": "scatterpolar"
           }
          ],
          "scatterpolargl": [
           {
            "marker": {
             "colorbar": {
              "outlinewidth": 0,
              "ticks": ""
             }
            },
            "type": "scatterpolargl"
           }
          ],
          "scatterternary": [
           {
            "marker": {
             "colorbar": {
              "outlinewidth": 0,
              "ticks": ""
             }
            },
            "type": "scatterternary"
           }
          ],
          "surface": [
           {
            "colorbar": {
             "outlinewidth": 0,
             "ticks": ""
            },
            "colorscale": [
             [
              0,
              "#0d0887"
             ],
             [
              0.1111111111111111,
              "#46039f"
             ],
             [
              0.2222222222222222,
              "#7201a8"
             ],
             [
              0.3333333333333333,
              "#9c179e"
             ],
             [
              0.4444444444444444,
              "#bd3786"
             ],
             [
              0.5555555555555556,
              "#d8576b"
             ],
             [
              0.6666666666666666,
              "#ed7953"
             ],
             [
              0.7777777777777778,
              "#fb9f3a"
             ],
             [
              0.8888888888888888,
              "#fdca26"
             ],
             [
              1,
              "#f0f921"
             ]
            ],
            "type": "surface"
           }
          ],
          "table": [
           {
            "cells": {
             "fill": {
              "color": "#EBF0F8"
             },
             "line": {
              "color": "white"
             }
            },
            "header": {
             "fill": {
              "color": "#C8D4E3"
             },
             "line": {
              "color": "white"
             }
            },
            "type": "table"
           }
          ]
         },
         "layout": {
          "annotationdefaults": {
           "arrowcolor": "#2a3f5f",
           "arrowhead": 0,
           "arrowwidth": 1
          },
          "autotypenumbers": "strict",
          "coloraxis": {
           "colorbar": {
            "outlinewidth": 0,
            "ticks": ""
           }
          },
          "colorscale": {
           "diverging": [
            [
             0,
             "#8e0152"
            ],
            [
             0.1,
             "#c51b7d"
            ],
            [
             0.2,
             "#de77ae"
            ],
            [
             0.3,
             "#f1b6da"
            ],
            [
             0.4,
             "#fde0ef"
            ],
            [
             0.5,
             "#f7f7f7"
            ],
            [
             0.6,
             "#e6f5d0"
            ],
            [
             0.7,
             "#b8e186"
            ],
            [
             0.8,
             "#7fbc41"
            ],
            [
             0.9,
             "#4d9221"
            ],
            [
             1,
             "#276419"
            ]
           ],
           "sequential": [
            [
             0,
             "#0d0887"
            ],
            [
             0.1111111111111111,
             "#46039f"
            ],
            [
             0.2222222222222222,
             "#7201a8"
            ],
            [
             0.3333333333333333,
             "#9c179e"
            ],
            [
             0.4444444444444444,
             "#bd3786"
            ],
            [
             0.5555555555555556,
             "#d8576b"
            ],
            [
             0.6666666666666666,
             "#ed7953"
            ],
            [
             0.7777777777777778,
             "#fb9f3a"
            ],
            [
             0.8888888888888888,
             "#fdca26"
            ],
            [
             1,
             "#f0f921"
            ]
           ],
           "sequentialminus": [
            [
             0,
             "#0d0887"
            ],
            [
             0.1111111111111111,
             "#46039f"
            ],
            [
             0.2222222222222222,
             "#7201a8"
            ],
            [
             0.3333333333333333,
             "#9c179e"
            ],
            [
             0.4444444444444444,
             "#bd3786"
            ],
            [
             0.5555555555555556,
             "#d8576b"
            ],
            [
             0.6666666666666666,
             "#ed7953"
            ],
            [
             0.7777777777777778,
             "#fb9f3a"
            ],
            [
             0.8888888888888888,
             "#fdca26"
            ],
            [
             1,
             "#f0f921"
            ]
           ]
          },
          "colorway": [
           "#636efa",
           "#EF553B",
           "#00cc96",
           "#ab63fa",
           "#FFA15A",
           "#19d3f3",
           "#FF6692",
           "#B6E880",
           "#FF97FF",
           "#FECB52"
          ],
          "font": {
           "color": "#2a3f5f"
          },
          "geo": {
           "bgcolor": "white",
           "lakecolor": "white",
           "landcolor": "#E5ECF6",
           "showlakes": true,
           "showland": true,
           "subunitcolor": "white"
          },
          "hoverlabel": {
           "align": "left"
          },
          "hovermode": "closest",
          "mapbox": {
           "style": "light"
          },
          "paper_bgcolor": "white",
          "plot_bgcolor": "#E5ECF6",
          "polar": {
           "angularaxis": {
            "gridcolor": "white",
            "linecolor": "white",
            "ticks": ""
           },
           "bgcolor": "#E5ECF6",
           "radialaxis": {
            "gridcolor": "white",
            "linecolor": "white",
            "ticks": ""
           }
          },
          "scene": {
           "xaxis": {
            "backgroundcolor": "#E5ECF6",
            "gridcolor": "white",
            "gridwidth": 2,
            "linecolor": "white",
            "showbackground": true,
            "ticks": "",
            "zerolinecolor": "white"
           },
           "yaxis": {
            "backgroundcolor": "#E5ECF6",
            "gridcolor": "white",
            "gridwidth": 2,
            "linecolor": "white",
            "showbackground": true,
            "ticks": "",
            "zerolinecolor": "white"
           },
           "zaxis": {
            "backgroundcolor": "#E5ECF6",
            "gridcolor": "white",
            "gridwidth": 2,
            "linecolor": "white",
            "showbackground": true,
            "ticks": "",
            "zerolinecolor": "white"
           }
          },
          "shapedefaults": {
           "line": {
            "color": "#2a3f5f"
           }
          },
          "ternary": {
           "aaxis": {
            "gridcolor": "white",
            "linecolor": "white",
            "ticks": ""
           },
           "baxis": {
            "gridcolor": "white",
            "linecolor": "white",
            "ticks": ""
           },
           "bgcolor": "#E5ECF6",
           "caxis": {
            "gridcolor": "white",
            "linecolor": "white",
            "ticks": ""
           }
          },
          "title": {
           "x": 0.05
          },
          "xaxis": {
           "automargin": true,
           "gridcolor": "white",
           "linecolor": "white",
           "ticks": "",
           "title": {
            "standoff": 15
           },
           "zerolinecolor": "white",
           "zerolinewidth": 2
          },
          "yaxis": {
           "automargin": true,
           "gridcolor": "white",
           "linecolor": "white",
           "ticks": "",
           "title": {
            "standoff": 15
           },
           "zerolinecolor": "white",
           "zerolinewidth": 2
          }
         }
        },
        "title": {
         "text": "Contagem de ocorrências por fonte do registro"
        },
        "xaxis": {
         "anchor": "y",
         "domain": [
          0,
          1
         ],
         "title": {
          "text": "Fonte do registro"
         }
        },
        "yaxis": {
         "anchor": "x",
         "domain": [
          0,
          1
         ],
         "title": {
          "text": "Contagem de individuos"
         }
        }
       }
      }
     },
     "metadata": {},
     "output_type": "display_data"
    }
   ],
   "source": [
    "individual_count_per_state = OSD_geoframe[['Contagem de individuos','Fonte do registro']].groupby(['Fonte do registro']).count().sort_values(by='Contagem de individuos')\n",
    "fig = px.bar(\n",
    "    individual_count_per_state,\n",
    "    x=individual_count_per_state.index,\n",
    "    y='Contagem de individuos',\n",
    "    title=\"Contagem de ocorrências por fonte do registro\",\n",
    "    orientation='v',text_auto=True\n",
    "    \n",
    ")\n",
    "fig.update_layout(xaxis=dict(title=\"Fonte do registro\"), yaxis=dict(title=\"Contagem de individuos\"))\n",
    "fig.show(config=img_config)"
   ]
  },
  {
   "cell_type": "code",
   "execution_count": 18,
   "metadata": {},
   "outputs": [
    {
     "data": {
      "application/vnd.plotly.v1+json": {
       "config": {
        "plotlyServerURL": "https://plot.ly",
        "toImageButtonOptions": {
         "filename": "species_distribution",
         "format": "png",
         "scale": 4
        }
       },
       "data": [
        {
         "alignmentgroup": "True",
         "hovertemplate": "Year=%{x}<br>Contagem de individuos=%{y}<extra></extra>",
         "legendgroup": "",
         "marker": {
          "color": "#636efa",
          "pattern": {
           "shape": ""
          }
         },
         "name": "",
         "offsetgroup": "",
         "orientation": "v",
         "showlegend": false,
         "textposition": "auto",
         "texttemplate": "%{y:.1s}",
         "type": "bar",
         "x": [
          2001,
          2002,
          2003,
          2004,
          2005,
          2006,
          2007,
          2008,
          2009,
          2010,
          2011,
          2012,
          2013,
          2014,
          2015,
          2016,
          2017,
          2018,
          2019,
          2020,
          2021,
          2022,
          2023
         ],
         "xaxis": "x",
         "y": [
          3,
          9,
          4,
          7,
          7,
          21,
          46,
          23,
          15,
          50,
          9,
          24,
          35,
          32,
          147,
          153,
          171,
          236,
          274,
          293,
          456,
          781,
          15
         ],
         "yaxis": "y"
        }
       ],
       "layout": {
        "barmode": "relative",
        "legend": {
         "tracegroupgap": 0
        },
        "template": {
         "data": {
          "bar": [
           {
            "error_x": {
             "color": "#2a3f5f"
            },
            "error_y": {
             "color": "#2a3f5f"
            },
            "marker": {
             "line": {
              "color": "#E5ECF6",
              "width": 0.5
             },
             "pattern": {
              "fillmode": "overlay",
              "size": 10,
              "solidity": 0.2
             }
            },
            "type": "bar"
           }
          ],
          "barpolar": [
           {
            "marker": {
             "line": {
              "color": "#E5ECF6",
              "width": 0.5
             },
             "pattern": {
              "fillmode": "overlay",
              "size": 10,
              "solidity": 0.2
             }
            },
            "type": "barpolar"
           }
          ],
          "carpet": [
           {
            "aaxis": {
             "endlinecolor": "#2a3f5f",
             "gridcolor": "white",
             "linecolor": "white",
             "minorgridcolor": "white",
             "startlinecolor": "#2a3f5f"
            },
            "baxis": {
             "endlinecolor": "#2a3f5f",
             "gridcolor": "white",
             "linecolor": "white",
             "minorgridcolor": "white",
             "startlinecolor": "#2a3f5f"
            },
            "type": "carpet"
           }
          ],
          "choropleth": [
           {
            "colorbar": {
             "outlinewidth": 0,
             "ticks": ""
            },
            "type": "choropleth"
           }
          ],
          "contour": [
           {
            "colorbar": {
             "outlinewidth": 0,
             "ticks": ""
            },
            "colorscale": [
             [
              0,
              "#0d0887"
             ],
             [
              0.1111111111111111,
              "#46039f"
             ],
             [
              0.2222222222222222,
              "#7201a8"
             ],
             [
              0.3333333333333333,
              "#9c179e"
             ],
             [
              0.4444444444444444,
              "#bd3786"
             ],
             [
              0.5555555555555556,
              "#d8576b"
             ],
             [
              0.6666666666666666,
              "#ed7953"
             ],
             [
              0.7777777777777778,
              "#fb9f3a"
             ],
             [
              0.8888888888888888,
              "#fdca26"
             ],
             [
              1,
              "#f0f921"
             ]
            ],
            "type": "contour"
           }
          ],
          "contourcarpet": [
           {
            "colorbar": {
             "outlinewidth": 0,
             "ticks": ""
            },
            "type": "contourcarpet"
           }
          ],
          "heatmap": [
           {
            "colorbar": {
             "outlinewidth": 0,
             "ticks": ""
            },
            "colorscale": [
             [
              0,
              "#0d0887"
             ],
             [
              0.1111111111111111,
              "#46039f"
             ],
             [
              0.2222222222222222,
              "#7201a8"
             ],
             [
              0.3333333333333333,
              "#9c179e"
             ],
             [
              0.4444444444444444,
              "#bd3786"
             ],
             [
              0.5555555555555556,
              "#d8576b"
             ],
             [
              0.6666666666666666,
              "#ed7953"
             ],
             [
              0.7777777777777778,
              "#fb9f3a"
             ],
             [
              0.8888888888888888,
              "#fdca26"
             ],
             [
              1,
              "#f0f921"
             ]
            ],
            "type": "heatmap"
           }
          ],
          "heatmapgl": [
           {
            "colorbar": {
             "outlinewidth": 0,
             "ticks": ""
            },
            "colorscale": [
             [
              0,
              "#0d0887"
             ],
             [
              0.1111111111111111,
              "#46039f"
             ],
             [
              0.2222222222222222,
              "#7201a8"
             ],
             [
              0.3333333333333333,
              "#9c179e"
             ],
             [
              0.4444444444444444,
              "#bd3786"
             ],
             [
              0.5555555555555556,
              "#d8576b"
             ],
             [
              0.6666666666666666,
              "#ed7953"
             ],
             [
              0.7777777777777778,
              "#fb9f3a"
             ],
             [
              0.8888888888888888,
              "#fdca26"
             ],
             [
              1,
              "#f0f921"
             ]
            ],
            "type": "heatmapgl"
           }
          ],
          "histogram": [
           {
            "marker": {
             "pattern": {
              "fillmode": "overlay",
              "size": 10,
              "solidity": 0.2
             }
            },
            "type": "histogram"
           }
          ],
          "histogram2d": [
           {
            "colorbar": {
             "outlinewidth": 0,
             "ticks": ""
            },
            "colorscale": [
             [
              0,
              "#0d0887"
             ],
             [
              0.1111111111111111,
              "#46039f"
             ],
             [
              0.2222222222222222,
              "#7201a8"
             ],
             [
              0.3333333333333333,
              "#9c179e"
             ],
             [
              0.4444444444444444,
              "#bd3786"
             ],
             [
              0.5555555555555556,
              "#d8576b"
             ],
             [
              0.6666666666666666,
              "#ed7953"
             ],
             [
              0.7777777777777778,
              "#fb9f3a"
             ],
             [
              0.8888888888888888,
              "#fdca26"
             ],
             [
              1,
              "#f0f921"
             ]
            ],
            "type": "histogram2d"
           }
          ],
          "histogram2dcontour": [
           {
            "colorbar": {
             "outlinewidth": 0,
             "ticks": ""
            },
            "colorscale": [
             [
              0,
              "#0d0887"
             ],
             [
              0.1111111111111111,
              "#46039f"
             ],
             [
              0.2222222222222222,
              "#7201a8"
             ],
             [
              0.3333333333333333,
              "#9c179e"
             ],
             [
              0.4444444444444444,
              "#bd3786"
             ],
             [
              0.5555555555555556,
              "#d8576b"
             ],
             [
              0.6666666666666666,
              "#ed7953"
             ],
             [
              0.7777777777777778,
              "#fb9f3a"
             ],
             [
              0.8888888888888888,
              "#fdca26"
             ],
             [
              1,
              "#f0f921"
             ]
            ],
            "type": "histogram2dcontour"
           }
          ],
          "mesh3d": [
           {
            "colorbar": {
             "outlinewidth": 0,
             "ticks": ""
            },
            "type": "mesh3d"
           }
          ],
          "parcoords": [
           {
            "line": {
             "colorbar": {
              "outlinewidth": 0,
              "ticks": ""
             }
            },
            "type": "parcoords"
           }
          ],
          "pie": [
           {
            "automargin": true,
            "type": "pie"
           }
          ],
          "scatter": [
           {
            "fillpattern": {
             "fillmode": "overlay",
             "size": 10,
             "solidity": 0.2
            },
            "type": "scatter"
           }
          ],
          "scatter3d": [
           {
            "line": {
             "colorbar": {
              "outlinewidth": 0,
              "ticks": ""
             }
            },
            "marker": {
             "colorbar": {
              "outlinewidth": 0,
              "ticks": ""
             }
            },
            "type": "scatter3d"
           }
          ],
          "scattercarpet": [
           {
            "marker": {
             "colorbar": {
              "outlinewidth": 0,
              "ticks": ""
             }
            },
            "type": "scattercarpet"
           }
          ],
          "scattergeo": [
           {
            "marker": {
             "colorbar": {
              "outlinewidth": 0,
              "ticks": ""
             }
            },
            "type": "scattergeo"
           }
          ],
          "scattergl": [
           {
            "marker": {
             "colorbar": {
              "outlinewidth": 0,
              "ticks": ""
             }
            },
            "type": "scattergl"
           }
          ],
          "scattermapbox": [
           {
            "marker": {
             "colorbar": {
              "outlinewidth": 0,
              "ticks": ""
             }
            },
            "type": "scattermapbox"
           }
          ],
          "scatterpolar": [
           {
            "marker": {
             "colorbar": {
              "outlinewidth": 0,
              "ticks": ""
             }
            },
            "type": "scatterpolar"
           }
          ],
          "scatterpolargl": [
           {
            "marker": {
             "colorbar": {
              "outlinewidth": 0,
              "ticks": ""
             }
            },
            "type": "scatterpolargl"
           }
          ],
          "scatterternary": [
           {
            "marker": {
             "colorbar": {
              "outlinewidth": 0,
              "ticks": ""
             }
            },
            "type": "scatterternary"
           }
          ],
          "surface": [
           {
            "colorbar": {
             "outlinewidth": 0,
             "ticks": ""
            },
            "colorscale": [
             [
              0,
              "#0d0887"
             ],
             [
              0.1111111111111111,
              "#46039f"
             ],
             [
              0.2222222222222222,
              "#7201a8"
             ],
             [
              0.3333333333333333,
              "#9c179e"
             ],
             [
              0.4444444444444444,
              "#bd3786"
             ],
             [
              0.5555555555555556,
              "#d8576b"
             ],
             [
              0.6666666666666666,
              "#ed7953"
             ],
             [
              0.7777777777777778,
              "#fb9f3a"
             ],
             [
              0.8888888888888888,
              "#fdca26"
             ],
             [
              1,
              "#f0f921"
             ]
            ],
            "type": "surface"
           }
          ],
          "table": [
           {
            "cells": {
             "fill": {
              "color": "#EBF0F8"
             },
             "line": {
              "color": "white"
             }
            },
            "header": {
             "fill": {
              "color": "#C8D4E3"
             },
             "line": {
              "color": "white"
             }
            },
            "type": "table"
           }
          ]
         },
         "layout": {
          "annotationdefaults": {
           "arrowcolor": "#2a3f5f",
           "arrowhead": 0,
           "arrowwidth": 1
          },
          "autotypenumbers": "strict",
          "coloraxis": {
           "colorbar": {
            "outlinewidth": 0,
            "ticks": ""
           }
          },
          "colorscale": {
           "diverging": [
            [
             0,
             "#8e0152"
            ],
            [
             0.1,
             "#c51b7d"
            ],
            [
             0.2,
             "#de77ae"
            ],
            [
             0.3,
             "#f1b6da"
            ],
            [
             0.4,
             "#fde0ef"
            ],
            [
             0.5,
             "#f7f7f7"
            ],
            [
             0.6,
             "#e6f5d0"
            ],
            [
             0.7,
             "#b8e186"
            ],
            [
             0.8,
             "#7fbc41"
            ],
            [
             0.9,
             "#4d9221"
            ],
            [
             1,
             "#276419"
            ]
           ],
           "sequential": [
            [
             0,
             "#0d0887"
            ],
            [
             0.1111111111111111,
             "#46039f"
            ],
            [
             0.2222222222222222,
             "#7201a8"
            ],
            [
             0.3333333333333333,
             "#9c179e"
            ],
            [
             0.4444444444444444,
             "#bd3786"
            ],
            [
             0.5555555555555556,
             "#d8576b"
            ],
            [
             0.6666666666666666,
             "#ed7953"
            ],
            [
             0.7777777777777778,
             "#fb9f3a"
            ],
            [
             0.8888888888888888,
             "#fdca26"
            ],
            [
             1,
             "#f0f921"
            ]
           ],
           "sequentialminus": [
            [
             0,
             "#0d0887"
            ],
            [
             0.1111111111111111,
             "#46039f"
            ],
            [
             0.2222222222222222,
             "#7201a8"
            ],
            [
             0.3333333333333333,
             "#9c179e"
            ],
            [
             0.4444444444444444,
             "#bd3786"
            ],
            [
             0.5555555555555556,
             "#d8576b"
            ],
            [
             0.6666666666666666,
             "#ed7953"
            ],
            [
             0.7777777777777778,
             "#fb9f3a"
            ],
            [
             0.8888888888888888,
             "#fdca26"
            ],
            [
             1,
             "#f0f921"
            ]
           ]
          },
          "colorway": [
           "#636efa",
           "#EF553B",
           "#00cc96",
           "#ab63fa",
           "#FFA15A",
           "#19d3f3",
           "#FF6692",
           "#B6E880",
           "#FF97FF",
           "#FECB52"
          ],
          "font": {
           "color": "#2a3f5f"
          },
          "geo": {
           "bgcolor": "white",
           "lakecolor": "white",
           "landcolor": "#E5ECF6",
           "showlakes": true,
           "showland": true,
           "subunitcolor": "white"
          },
          "hoverlabel": {
           "align": "left"
          },
          "hovermode": "closest",
          "mapbox": {
           "style": "light"
          },
          "paper_bgcolor": "white",
          "plot_bgcolor": "#E5ECF6",
          "polar": {
           "angularaxis": {
            "gridcolor": "white",
            "linecolor": "white",
            "ticks": ""
           },
           "bgcolor": "#E5ECF6",
           "radialaxis": {
            "gridcolor": "white",
            "linecolor": "white",
            "ticks": ""
           }
          },
          "scene": {
           "xaxis": {
            "backgroundcolor": "#E5ECF6",
            "gridcolor": "white",
            "gridwidth": 2,
            "linecolor": "white",
            "showbackground": true,
            "ticks": "",
            "zerolinecolor": "white"
           },
           "yaxis": {
            "backgroundcolor": "#E5ECF6",
            "gridcolor": "white",
            "gridwidth": 2,
            "linecolor": "white",
            "showbackground": true,
            "ticks": "",
            "zerolinecolor": "white"
           },
           "zaxis": {
            "backgroundcolor": "#E5ECF6",
            "gridcolor": "white",
            "gridwidth": 2,
            "linecolor": "white",
            "showbackground": true,
            "ticks": "",
            "zerolinecolor": "white"
           }
          },
          "shapedefaults": {
           "line": {
            "color": "#2a3f5f"
           }
          },
          "ternary": {
           "aaxis": {
            "gridcolor": "white",
            "linecolor": "white",
            "ticks": ""
           },
           "baxis": {
            "gridcolor": "white",
            "linecolor": "white",
            "ticks": ""
           },
           "bgcolor": "#E5ECF6",
           "caxis": {
            "gridcolor": "white",
            "linecolor": "white",
            "ticks": ""
           }
          },
          "title": {
           "x": 0.05
          },
          "xaxis": {
           "automargin": true,
           "gridcolor": "white",
           "linecolor": "white",
           "ticks": "",
           "title": {
            "standoff": 15
           },
           "zerolinecolor": "white",
           "zerolinewidth": 2
          },
          "yaxis": {
           "automargin": true,
           "gridcolor": "white",
           "linecolor": "white",
           "ticks": "",
           "title": {
            "standoff": 15
           },
           "zerolinecolor": "white",
           "zerolinewidth": 2
          }
         }
        },
        "title": {
         "text": "Observações coletadas por ano (Somente do ano de 2000 em diante)"
        },
        "xaxis": {
         "anchor": "y",
         "domain": [
          0,
          1
         ],
         "title": {
          "text": "Ano"
         }
        },
        "yaxis": {
         "anchor": "x",
         "domain": [
          0,
          1
         ],
         "title": {
          "text": "Observações"
         }
        }
       }
      }
     },
     "metadata": {},
     "output_type": "display_data"
    }
   ],
   "source": [
    "OSD_geoframe = OSD_geoframe[OSD_geoframe['Year'] > 2000].reset_index(drop=True).copy()\n",
    "df = OSD_geoframe.groupby('Year').count()['Contagem de individuos']\n",
    "fig = px.bar(df, x=df.index, y=\"Contagem de individuos\",text_auto='.1s', title=\"Observações coletadas por ano (Somente do ano de 2000 em diante)\")\n",
    "fig.update_layout(xaxis=dict(title=\"Ano\"), yaxis=dict(title=\"Observações\"))\n",
    "fig.update_xaxes()\n",
    "fig.show(config=img_config)"
   ]
  }
 ],
 "metadata": {
  "kernelspec": {
   "display_name": "web-scraping-venv",
   "language": "python",
   "name": "python3"
  },
  "language_info": {
   "codemirror_mode": {
    "name": "ipython",
    "version": 3
   },
   "file_extension": ".py",
   "mimetype": "text/x-python",
   "name": "python",
   "nbconvert_exporter": "python",
   "pygments_lexer": "ipython3",
   "version": "3.11.4"
  }
 },
 "nbformat": 4,
 "nbformat_minor": 2
}
