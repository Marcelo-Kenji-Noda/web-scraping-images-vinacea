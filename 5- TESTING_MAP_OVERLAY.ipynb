{
 "cells": [
  {
   "cell_type": "code",
   "execution_count": null,
   "metadata": {},
   "outputs": [],
   "source": [
    "import plotly.graph_objects as go\n",
    "import pandas as pd\n",
    "import rasterio\n",
    "import geopandas as gpd\n",
    "from shapely.geometry import Point\n",
    "import plotly.express as px"
   ]
  },
  {
   "cell_type": "code",
   "execution_count": null,
   "metadata": {},
   "outputs": [],
   "source": [
    "biome_data = gpd.read_file(\"assets\\Biomas_250mil\\lm_bioma_250.shp\")"
   ]
  },
  {
   "cell_type": "code",
   "execution_count": null,
   "metadata": {},
   "outputs": [],
   "source": [
    "OSD_df = pd.read_parquet(\"generated_files/bio_variables_dataframe_occurence.parquet\")\n",
    "\n",
    "# Creating Geometry\n",
    "OSD_df['geometry'] = list(zip(OSD_df[\"Longitude\"], OSD_df[\"Latitude\"]))\n",
    "OSD_df['geometry'] = OSD_df[\"geometry\"].apply(Point)\n",
    "\n",
    "# Create the geodataframe\n",
    "OSD_geoframe = gpd.GeoDataFrame(\n",
    "    OSD_df,\n",
    "    crs = {'init': 'epsg:4326'},\n",
    "    geometry = OSD_df['geometry']\n",
    ")\n",
    "OSD_geoframe = OSD_geoframe.to_crs(\"EPSG:4326\")\n",
    "OSD_geoframe.reset_index(drop=True, inplace = True)\n",
    "\n",
    "OSD_geoframe['Year'] = OSD_geoframe['Data'].dt.year\n",
    "OSD_df = pd.DataFrame(OSD_geoframe)"
   ]
  },
  {
   "cell_type": "code",
   "execution_count": null,
   "metadata": {},
   "outputs": [],
   "source": [
    "img_config = {\n",
    "  'toImageButtonOptions': {\n",
    "    'format': 'png', # one of png, svg, jpeg, webp\n",
    "    'filename': 'species_distribution_with_biomes',\n",
    "    'scale':4 # Multiply title/legend/axis/canvas sizes by this factor\n",
    "  }\n",
    "}"
   ]
  },
  {
   "cell_type": "code",
   "execution_count": null,
   "metadata": {},
   "outputs": [],
   "source": [
    "biome_data"
   ]
  },
  {
   "cell_type": "code",
   "execution_count": null,
   "metadata": {},
   "outputs": [],
   "source": [
    "color_discrete_map={\n",
    "        'Amazônia':\"#3ec752\",\n",
    "        \"Caatinga\":\"#a19443\",\n",
    "        \"Cerrado\":\"#e09b5e\",\n",
    "        \"Mata Atlântica\":\"#33d6b6\",\n",
    "        \"Pampa\":\"#b0e6a8\",\n",
    "        \"Pantanal\":\"#9e1f1c\"\n",
    "}"
   ]
  },
  {
   "cell_type": "code",
   "execution_count": null,
   "metadata": {},
   "outputs": [],
   "source": [
    "fig = px.choropleth_mapbox(\n",
    "        biome_data,\n",
    "        locations=biome_data.index,\n",
    "        center={\"lat\": -16.95, \"lon\": -47.78},\n",
    "        geojson=biome_data.geometry.__geo_interface__,\n",
    "        color=\"Bioma\",\n",
    "        opacity=0.6,\n",
    "        zoom=3,\n",
    "        hover_data={\"Bioma\": True},\n",
    "        mapbox_style=\"carto-positron\"\n",
    ")\n",
    "\n",
    "trace = px.scatter_mapbox(\n",
    "    OSD_df,\n",
    "    lat=\"Latitude\",\n",
    "    lon=\"Longitude\",\n",
    "    color_discrete_sequence=[px.colors.qualitative.Plotly[1]],\n",
    "    zoom=4,\n",
    "    height=500,\n",
    "    opacity=0.9\n",
    ").data[0]\n",
    "fig.add_trace(trace)\n",
    "\n",
    "fig.update_layout(autosize=True,margin={\"r\": 0, \"t\": 0, \"l\": 0, \"b\": 0})\n",
    "fig.update_geos(\n",
    "    visible=False,\n",
    "    resolution=50,\n",
    "    lataxis_gridcolor=\"red\",\n",
    "    lataxis_showgrid=True,\n",
    "    lataxis_dtick=15,\n",
    "    lonaxis_showgrid=True,\n",
    "    lonaxis_dtick=15,\n",
    ")\n",
    "#fig.write_image('figure.png', scale=2)\n",
    "fig.show(config=img_config)\n",
    "fig.show()"
   ]
  }
 ],
 "metadata": {
  "kernelspec": {
   "display_name": "web-scraping-venv",
   "language": "python",
   "name": "python3"
  },
  "language_info": {
   "codemirror_mode": {
    "name": "ipython",
    "version": 3
   },
   "file_extension": ".py",
   "mimetype": "text/x-python",
   "name": "python",
   "nbconvert_exporter": "python",
   "pygments_lexer": "ipython3",
   "version": "3.11.4"
  }
 },
 "nbformat": 4,
 "nbformat_minor": 2
}
