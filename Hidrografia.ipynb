{
 "cells": [
  {
   "cell_type": "code",
   "execution_count": 1,
   "metadata": {},
   "outputs": [],
   "source": [
    "import geopandas as gpd\n",
    "import fiona\n",
    "import h3pandas\n",
    "from scripts.load_gbif import get_dataframe"
   ]
  },
  {
   "cell_type": "code",
   "execution_count": 7,
   "metadata": {},
   "outputs": [
    {
     "data": {
      "text/plain": [
       "[['geometry', 'Contagem de individuos', 'Estado']]"
      ]
     },
     "execution_count": 7,
     "metadata": {},
     "output_type": "execute_result"
    }
   ],
   "source": []
  },
  {
   "cell_type": "code",
   "execution_count": 8,
   "metadata": {},
   "outputs": [
    {
     "name": "stderr",
     "output_type": "stream",
     "text": [
      "c:\\Users\\kenji\\dev\\web-scraping-images-vinacea\\web-scraping-images-vinacea\\web-scraping-venv\\Lib\\site-packages\\pyproj\\crs\\crs.py:141: FutureWarning: '+init=<authority>:<code>' syntax is deprecated. '<authority>:<code>' is the preferred initialization method. When making the change, be mindful of axis order changes: https://pyproj4.github.io/pyproj/stable/gotchas.html#axis-order-changes-in-proj-6\n",
      "  in_crs_string = _prepare_from_proj_string(in_crs_string)\n"
     ]
    }
   ],
   "source": [
    "observacoes = get_dataframe()[['geometry','Contagem de individuos','Estado']]"
   ]
  },
  {
   "cell_type": "code",
   "execution_count": 11,
   "metadata": {},
   "outputs": [],
   "source": [
    "observacoes = gpd.GeoDataFrame(observacoes) "
   ]
  },
  {
   "cell_type": "code",
   "execution_count": 12,
   "metadata": {},
   "outputs": [
    {
     "name": "stderr",
     "output_type": "stream",
     "text": [
      "C:\\Users\\kenji\\AppData\\Local\\Temp\\ipykernel_15640\\1841821020.py:1: UserWarning: Column names longer than 10 characters will be truncated when saved to ESRI Shapefile.\n",
      "  observacoes.to_file(\"assets/OUTPUT/gbif.shp\")\n"
     ]
    }
   ],
   "source": [
    "observacoes.to_file(\"assets/OUTPUT/gbif.shp\")"
   ]
  },
  {
   "cell_type": "code",
   "execution_count": null,
   "metadata": {},
   "outputs": [],
   "source": [
    "\n",
    "# Caminho para o arquivo GeoPackage\n",
    "caminho_arquivo_gpkg = 'assets/FEATURES/BRASIL_GEO/bc250_2023_11_23.gpkg'\n",
    "\n",
    "# Listar camadas disponíveis no arquivo GeoPackage\n",
    "camadas_disponiveis = fiona.listlayers(caminho_arquivo_gpkg)\n",
    "layer = \"rel_ponto_cotado_altimetrico_p\""
   ]
  },
  {
   "cell_type": "code",
   "execution_count": null,
   "metadata": {},
   "outputs": [],
   "source": [
    "df = gpd.read_file(\"assets/UTILS/BR_MASKED/BR_MASK.geojson\")\n"
   ]
  },
  {
   "cell_type": "code",
   "execution_count": null,
   "metadata": {},
   "outputs": [],
   "source": [
    "df['geometry'][0].bounds"
   ]
  },
  {
   "cell_type": "code",
   "execution_count": null,
   "metadata": {},
   "outputs": [],
   "source": [
    "import geopandas as gpd\n",
    "from shapely.geometry import Polygon\n",
    "import numpy as np\n",
    "\n",
    "# Definir o polígono original (substitua com seus próprios dados)\n",
    "poligono = df['geometry'][0]\n",
    "\n",
    "# Definir o limite da malha quadricular (tamanho dos quadrados)\n",
    "size = 1 # tamanho dos quadrados\n",
    "\n",
    "# Calcular o limite da grade\n",
    "x_min, y_min, x_max, y_max = poligono.bounds\n",
    "\n",
    "# Criar os limites da grade\n",
    "x_range = range(int(x_min), int(x_max) + size, size)\n",
    "y_range = range(int(y_min), int(y_max) + size, size)\n",
    "\n",
    "# Criar uma lista de quadrados\n",
    "quadrados = []\n",
    "for x in x_range:\n",
    "    for y in y_range:\n",
    "        quadrado = Polygon([(x, y), (x+size, y), (x+size, y+size), (x, y+size)])\n",
    "        quadrados.append(quadrado)\n",
    "\n",
    "# Criar um GeoDataFrame para a grade\n",
    "grade = gpd.GeoDataFrame({'geometry': quadrados})\n",
    "\n",
    "# Intersectar a grade com o polígono original\n",
    "grade = grade[grade.intersects(poligono)]\n"
   ]
  },
  {
   "cell_type": "code",
   "execution_count": null,
   "metadata": {},
   "outputs": [],
   "source": [
    "grade"
   ]
  },
  {
   "cell_type": "code",
   "execution_count": null,
   "metadata": {},
   "outputs": [],
   "source": [
    "# Inicializar uma lista para armazenar as contagens de ocorrências\n",
    "contagens = []\n",
    "\n",
    "# Iterar sobre cada polígono\n",
    "for index, poligono in grade.iterrows():\n",
    "    # Filtrar pontos que estão contidos no polígono atual\n",
    "    observacoes = observacoes[poligono.geometry.within(poligono.geometry)]\n",
    "    # Calcular a contagem de ocorrências\n",
    "    contagem_ocorrencias = observacoes['Contagem de individuos'].sum()  # Assumindo que 'contagem' é a coluna de contagem no DataFrame de pontos\n",
    "    # Adicionar a contagem à lista de contagens\n",
    "    contagens.append(contagem_ocorrencias)\n",
    "    \n",
    "# Adicionar a lista de contagens como uma nova coluna ao GeoDataFrame de polígonos\n",
    "grade['contagem_ocorrencias'] = contagens"
   ]
  },
  {
   "cell_type": "code",
   "execution_count": null,
   "metadata": {},
   "outputs": [],
   "source": [
    "MASK = gpd.read_file(\"assets/UTILS/BR_MASKED/BR_MASK.geojson\")"
   ]
  },
  {
   "cell_type": "code",
   "execution_count": null,
   "metadata": {},
   "outputs": [],
   "source": [
    "TESTE = gpd.read_file(caminho_arquivo_gpkg, layer=layer)\n",
    "if TESTE.crs is None:\n",
    "    print(\"NONE\")"
   ]
  },
  {
   "cell_type": "code",
   "execution_count": null,
   "metadata": {},
   "outputs": [],
   "source": [
    "MASK = gpd.read_file(\"assets/UTILS/BR_MASKED/BR_MASK.geojson\")['geometry']"
   ]
  },
  {
   "cell_type": "code",
   "execution_count": null,
   "metadata": {},
   "outputs": [],
   "source": [
    "TESTE = gpd.read_file(caminho_arquivo_gpkg, layer=layer, mask=MASK)\n",
    "if TESTE.crs is None:\n",
    "    print(\"NONE\")"
   ]
  },
  {
   "cell_type": "code",
   "execution_count": null,
   "metadata": {},
   "outputs": [],
   "source": [
    "TESTEh3 = TESTE.h3.geo_to_h3(9)"
   ]
  },
  {
   "cell_type": "code",
   "execution_count": null,
   "metadata": {},
   "outputs": [],
   "source": [
    "TESTE['tipoelemnat'].unique()"
   ]
  },
  {
   "cell_type": "code",
   "execution_count": null,
   "metadata": {},
   "outputs": [],
   "source": [
    "TESTE = TESTE.to_crs(4326)"
   ]
  },
  {
   "cell_type": "code",
   "execution_count": null,
   "metadata": {},
   "outputs": [],
   "source": [
    "if TESTE.crs is None:\n",
    "    TESTE.crs = 4326\n",
    "\n",
    "# Transformar para a projeção desejada\n",
    "TESTE = TESTE.to_crs(4326)"
   ]
  },
  {
   "cell_type": "code",
   "execution_count": null,
   "metadata": {},
   "outputs": [],
   "source": [
    "resultado_filtrado = TESTE[TESTE.geometry.intersects(MASK.unary_union)]"
   ]
  },
  {
   "cell_type": "code",
   "execution_count": null,
   "metadata": {},
   "outputs": [],
   "source": [
    "resultado_filtrado.head()"
   ]
  },
  {
   "cell_type": "code",
   "execution_count": null,
   "metadata": {},
   "outputs": [],
   "source": [
    "TESTE.plot()"
   ]
  },
  {
   "cell_type": "code",
   "execution_count": null,
   "metadata": {},
   "outputs": [],
   "source": [
    "INFOS_UFS = gpd.read_file(\"assets\\FEATURES\\MALHAS\\BR_UF_2022.shp\")"
   ]
  },
  {
   "cell_type": "code",
   "execution_count": null,
   "metadata": {},
   "outputs": [],
   "source": [
    "UFS = ['RJ','SP','MG','ES','PR','SC','RS']\n",
    "INFOS_UFS = INFOS_UFS[['SIGLA_UF','geometry']]\n",
    "INFOS_UFS = INFOS_UFS[INFOS_UFS['SIGLA_UF'].isin(UFS)]\n",
    "INFOS_UFS = INFOS_UFS.to_crs(4326)\n",
    "INFOS_UFS.to_file(\"assets/UTILS/BR_MASKED/BR_MASK.geojson\", driver='GeoJSON')"
   ]
  }
 ],
 "metadata": {
  "kernelspec": {
   "display_name": "web-scraping-venv",
   "language": "python",
   "name": "python3"
  },
  "language_info": {
   "codemirror_mode": {
    "name": "ipython",
    "version": 3
   },
   "file_extension": ".py",
   "mimetype": "text/x-python",
   "name": "python",
   "nbconvert_exporter": "python",
   "pygments_lexer": "ipython3",
   "version": "3.11.4"
  }
 },
 "nbformat": 4,
 "nbformat_minor": 2
}
