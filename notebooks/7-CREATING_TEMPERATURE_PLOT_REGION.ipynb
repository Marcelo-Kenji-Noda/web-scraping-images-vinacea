{
 "cells": [
  {
   "cell_type": "code",
   "execution_count": null,
   "metadata": {},
   "outputs": [],
   "source": [
    "import geopandas as gpd\n",
    "import rasterio\n",
    "from rasterio.mask import mask\n",
    "from shapely.geometry import MultiPolygon, Point\n",
    "import numpy as np\n",
    "import pandas as pd\n",
    "# Open the masked raster file\n",
    "import plotly.graph_objects as go\n",
    "import plotly.express as px"
   ]
  },
  {
   "cell_type": "code",
   "execution_count": null,
   "metadata": {},
   "outputs": [],
   "source": [
    "STATES = [\"RS\",\"SC\",\"PR\",\"SP\",\"MG\",\"ES\",\"RJ\"]\n",
    "INFOS_UFS = gpd.read_file(\"assets/bcim_2016_21_11_2018.gpkg\", layer = 'lim_unidade_federacao_a')[['sigla','geometry']]\n",
    "\n",
    "INFOS_UFS = INFOS_UFS[INFOS_UFS['sigla'].isin(STATES)].reset_index()\n",
    "br_union_geo = INFOS_UFS['geometry'].unary_union"
   ]
  },
  {
   "cell_type": "code",
   "execution_count": null,
   "metadata": {},
   "outputs": [],
   "source": [
    "def filter_shape(data_path, geometry, filtered_data_path):\n",
    "    with rasterio.open(data_path) as src:\n",
    "        out_image, out_transform = mask(src, geometry, crop=True)\n",
    "        out_image[out_image == src.nodata] = np.nan\n",
    "    with rasterio.open(filtered_data_path, 'w', driver='GTiff', \n",
    "                   height=out_image.shape[1], width=out_image.shape[2], \n",
    "                   count=src.count, dtype=out_image.dtype, \n",
    "                   crs=src.crs, transform=out_transform) as dst:\n",
    "        dst.write(out_image)\n",
    "    return out_image\n",
    "\n",
    "def turn_tiff_into_dataframe(data_path, resolution_reduction:int = 20, export_path:str|None = None):\n",
    "    with rasterio.open(data_path) as src:\n",
    "        # Read the masked raster data\n",
    "        masked_data = src.read(1, masked=True)  # Masked=True to handle NaN values\n",
    "        xmin, ymin, xmax, ymax = src.bounds\n",
    "        \n",
    "        n_rows, n_cols = masked_data.shape\n",
    "\n",
    "    # Create grids of latitude and longitude values\n",
    "    lons = np.linspace(xmin, xmax, n_cols)\n",
    "    lats = np.linspace(ymax, ymin, n_rows)\n",
    "\n",
    "    # Create a meshgrid of latitude and longitude values\n",
    "    lon_grid, lat_grid = np.meshgrid(lons, lats)\n",
    "\n",
    "    df = pd.DataFrame()\n",
    "\n",
    "    lon_flat = lon_grid.flatten()[::resolution_reduction]\n",
    "    lat_flat = lat_grid.flatten()[::resolution_reduction]\n",
    "    masked_flat = masked_data.flatten()[::resolution_reduction]\n",
    "\n",
    "    df['longitude'] = pd.Series(lon_flat)\n",
    "    df['latitude'] = pd.Series(lat_flat)\n",
    "    df['value'] = pd.Series(masked_flat)\n",
    "    if export_path:\n",
    "        df.to_parquet(export_path, index=False)\n",
    "    return df"
   ]
  },
  {
   "cell_type": "code",
   "execution_count": null,
   "metadata": {},
   "outputs": [],
   "source": [
    "# Open the GeoTIFF file\n",
    "with rasterio.open('assets\\wc2.1_30s_bio\\wc2.1_30s_bio_1.tif') as src:\n",
    "    # Read the MultiPolygon geometry\n",
    "    geoms = list(INFOS_UFS['geometry'])\n",
    "    nodata = src.nodata\n",
    "    # Mask the raster with the MultiPolygon\n",
    "    out_image, out_transform = mask(src, geoms, crop=True)\n",
    "    out_image[out_image == nodata] = np.nan  # Set fill values to NaN"
   ]
  },
  {
   "cell_type": "code",
   "execution_count": null,
   "metadata": {},
   "outputs": [],
   "source": [
    "# The resulting out_image is a numpy array containing the masked values from the GeoTIFF\n",
    "# The out_transform contains the affine transformation information\n",
    "\n",
    "# Optionally, you can save the masked data to a new GeoTIFF file\n",
    "with rasterio.open('generated_files/masked_raster.tif', 'w', driver='GTiff', \n",
    "                   height=out_image.shape[1], width=out_image.shape[2], \n",
    "                   count=src.count, dtype=out_image.dtype, \n",
    "                   crs=src.crs, transform=out_transform) as dst:\n",
    "    dst.write(out_image)\n"
   ]
  },
  {
   "cell_type": "code",
   "execution_count": null,
   "metadata": {},
   "outputs": [],
   "source": [
    "\n",
    "with rasterio.open(\"generated_files\\masked_raster.tif\") as src:\n",
    "    # Read the masked raster data\n",
    "    masked_data = src.read(1, masked=True)  # Masked=True to handle NaN values\n",
    "    xmin, ymin, xmax, ymax = src.bounds\n",
    "    \n",
    "n_rows, n_cols = masked_data.shape\n",
    "\n",
    "# Create grids of latitude and longitude values\n",
    "lons = np.linspace(xmin, xmax, n_cols)\n",
    "lats = np.linspace(ymax, ymin, n_rows)\n",
    "\n",
    "# Create a meshgrid of latitude and longitude values\n",
    "lon_grid, lat_grid = np.meshgrid(lons, lats)\n",
    "\n",
    "df = pd.DataFrame()\n",
    "\n",
    "#lon_flat = lon_grid.flatten()\n",
    "#lat_flat = lat_grid.flatten()\n",
    "#masked_flat = masked_data.flatten()\n",
    "\n",
    "lon_flat = lon_grid.flatten()[::20]\n",
    "lat_flat = lat_grid.flatten()[::20]\n",
    "masked_flat = masked_data.flatten()[::20]\n",
    "\n",
    "df['longitude'] = pd.Series(lon_flat)\n",
    "df['latitude'] = pd.Series(lat_flat)\n",
    "df['value'] = pd.Series(masked_flat)"
   ]
  },
  {
   "cell_type": "code",
   "execution_count": null,
   "metadata": {},
   "outputs": [],
   "source": [
    "df[['longitude','latitude','value']].to_parquet(\"generated_files/temperature_considering_latitude_longitude.parquet\")"
   ]
  },
  {
   "cell_type": "code",
   "execution_count": null,
   "metadata": {},
   "outputs": [],
   "source": [
    "df = pd.read_parquet(\"generated_files/temperature_considering_latitude_longitude.parquet\")\n",
    "df = df[~df['value'].isna()]\n",
    "with rasterio.open(\"generated_files\\masked_raster.tif\") as src:\n",
    "    # Get the spatial extent of the raster\n",
    "    xmin, ymin, xmax, ymax = src.bounds"
   ]
  },
  {
   "cell_type": "code",
   "execution_count": null,
   "metadata": {},
   "outputs": [],
   "source": [
    "df.shape"
   ]
  },
  {
   "cell_type": "code",
   "execution_count": null,
   "metadata": {},
   "outputs": [],
   "source": [
    "radius=2,"
   ]
  },
  {
   "cell_type": "code",
   "execution_count": null,
   "metadata": {},
   "outputs": [],
   "source": [
    "occurence = pd.read_parquet(\"assets/gibf.parquet\")"
   ]
  },
  {
   "cell_type": "code",
   "execution_count": null,
   "metadata": {},
   "outputs": [],
   "source": [
    "occurence"
   ]
  },
  {
   "cell_type": "code",
   "execution_count": null,
   "metadata": {},
   "outputs": [],
   "source": [
    "occur_lat = occurence['decimalLatitude']\n",
    "occur_lon = occurence['decimalLongitude']"
   ]
  },
  {
   "cell_type": "code",
   "execution_count": null,
   "metadata": {},
   "outputs": [],
   "source": [
    "heatmap_fig = px.scatter_mapbox(\n",
    "    df,\n",
    "    lat=\"latitude\",\n",
    "    lon=\"longitude\",\n",
    "    color=\"value\",\n",
    "    center=dict(lat=(ymin + ymax) / 2, lon=(xmin + xmax) / 2),\n",
    "    color_continuous_scale=\"Bluered\",\n",
    "    zoom=4,\n",
    "    mapbox_style=\"carto-positron\",  # Choose a mapbox style\n",
    "    title='Ocorrência e temperatura',\n",
    "    opacity=1\n",
    ")\n",
    "\n",
    "heatmap_fig.add_trace(go.Scattermapbox(\n",
    "        lat=occur_lat,\n",
    "        lon=occur_lon,\n",
    "        mode='markers',\n",
    "        marker=go.scattermapbox.Marker(\n",
    "            size=6,\n",
    "            color='rgb(10, 10, 10)',\n",
    "            opacity=0.4\n",
    "        ),\n",
    "        hoverinfo='text'\n",
    "    ))\n",
    "\n",
    "heatmap_fig.add_trace(go.Scattermapbox(\n",
    "        lat=occur_lat,\n",
    "        lon=occur_lon,\n",
    "        mode='markers',\n",
    "        marker=go.scattermapbox.Marker(\n",
    "            size=5,\n",
    "            color='rgb(75, 173, 64)',\n",
    "            opacity=0.4\n",
    "        ),\n",
    "        hoverinfo='none'\n",
    "    ))\n",
    "\n",
    "heatmap_fig.show()"
   ]
  }
 ],
 "metadata": {
  "kernelspec": {
   "display_name": "web-scraping-venv",
   "language": "python",
   "name": "python3"
  },
  "language_info": {
   "codemirror_mode": {
    "name": "ipython",
    "version": 3
   },
   "file_extension": ".py",
   "mimetype": "text/x-python",
   "name": "python",
   "nbconvert_exporter": "python",
   "pygments_lexer": "ipython3",
   "version": "3.11.4"
  }
 },
 "nbformat": 4,
 "nbformat_minor": 2
}
