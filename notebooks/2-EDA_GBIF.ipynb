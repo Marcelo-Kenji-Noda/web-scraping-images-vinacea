{
 "cells": [
  {
   "cell_type": "code",
   "execution_count": null,
   "metadata": {},
   "outputs": [],
   "source": [
    "import pandas as pd\n",
    "from shapely.geometry import Point\n",
    "import geopandas as gpd\n",
    "\n",
    "from mpl_toolkits.basemap import Basemap\n",
    "import matplotlib.pyplot as plt\n",
    "import plotly.express as px\n",
    "import plotly.graph_objects as go\n",
    "from matplotlib import pyplot\n",
    "import rasterio.mask\n",
    "import fiona\n",
    "import json"
   ]
  },
  {
   "cell_type": "code",
   "execution_count": null,
   "metadata": {},
   "outputs": [],
   "source": [
    "from requests import get as requests_get"
   ]
  },
  {
   "cell_type": "code",
   "execution_count": null,
   "metadata": {},
   "outputs": [],
   "source": [
    "from urllib import request\n",
    "\n",
    "url = 'https://raw.githubusercontent.com/codeforgermany/click_that_hood/main/public/data/brazil-states.geojson'\n",
    "with request.urlopen(url) as f:\n",
    "    brazil_states = json.load(f)"
   ]
  },
  {
   "cell_type": "code",
   "execution_count": null,
   "metadata": {},
   "outputs": [],
   "source": [
    "FILE_PATH = \"generated_files\\gbif.parquet\""
   ]
  },
  {
   "cell_type": "code",
   "execution_count": null,
   "metadata": {},
   "outputs": [],
   "source": [
    "# Ocurrence species data -> OSD_df\n",
    "FILE_PATH = \"generated_files\\gbif.parquet\"\n",
    "OSD_df = pd.read_parquet(FILE_PATH)\n",
    "\n",
    "# Creating Geometry\n",
    "OSD_df['geometry'] = list(zip(OSD_df[\"Longitude\"], OSD_df[\"Latitude\"]))\n",
    "OSD_df['geometry'] = OSD_df[\"geometry\"].apply(Point)\n",
    "\n",
    "# Create the geodataframe\n",
    "OSD_geoframe = gpd.GeoDataFrame(\n",
    "    OSD_df,\n",
    "    crs = {'init': 'epsg:4326'},\n",
    "    geometry = OSD_df['geometry']\n",
    ")\n",
    "OSD_geoframe = OSD_geoframe.to_crs(\"EPSG:4326\")\n",
    "OSD_geoframe.reset_index(drop=True, inplace = True)\n",
    "\n",
    "OSD_geoframe['Year'] = OSD_geoframe['Data'].dt.year\n",
    "OSD_df = pd.DataFrame(OSD_geoframe)"
   ]
  },
  {
   "cell_type": "code",
   "execution_count": null,
   "metadata": {},
   "outputs": [],
   "source": [
    "OSD_geoframe.shape"
   ]
  },
  {
   "cell_type": "code",
   "execution_count": null,
   "metadata": {},
   "outputs": [],
   "source": [
    "OSD_geoframe = OSD_geoframe[~OSD_geoframe['Estado'].isnull()]"
   ]
  },
  {
   "cell_type": "code",
   "execution_count": null,
   "metadata": {},
   "outputs": [],
   "source": [
    "coord_list = [(x,y) for x,y in zip(OSD_geoframe['geometry'].x , OSD_geoframe['geometry'].y)]"
   ]
  },
  {
   "cell_type": "code",
   "execution_count": null,
   "metadata": {},
   "outputs": [],
   "source": [
    "# Source: IBGE:  bcim_2016_21_11_2018\n",
    "INFOS_UFS = gpd.read_file(\"assets/bcim_2016_21_11_2018.gpkg\", layer = 'lim_unidade_federacao_a')[['sigla','geometry']].rename(columns={'sigla':'stateProvince'})\n",
    "INFOS_UFS.to_file(\"assets/UFS_JSON\", driver = \"GeoJSON\")\n",
    "with open(\"assets/UFS_JSON\") as geofile:\n",
    "    j_file = json.load(geofile)"
   ]
  },
  {
   "cell_type": "code",
   "execution_count": null,
   "metadata": {},
   "outputs": [],
   "source": [
    "img_config = {\n",
    "  'toImageButtonOptions': {\n",
    "    'format': 'png', # one of png, svg, jpeg, webp\n",
    "    'filename': 'species_distribution',\n",
    "    'scale':4 # Multiply title/legend/axis/canvas sizes by this factor\n",
    "  }\n",
    "}"
   ]
  },
  {
   "cell_type": "code",
   "execution_count": null,
   "metadata": {},
   "outputs": [],
   "source": [
    "if False:\n",
    "    fig = px.choropleth_mapbox(\n",
    "            INFOS_UFS,\n",
    "            locations=\"stateProvince\",\n",
    "            center={\"lat\": -16.95, \"lon\": -47.78},\n",
    "            geojson=brazil_states,\n",
    "            featureidkey='properties.sigla', # add\n",
    "            color_continuous_scale=\"Redor\",\n",
    "            opacity=0.,\n",
    "            zoom=3,\n",
    "            hover_data={\"stateProvince\": True},\n",
    "            mapbox_style=\"carto-positron\"\n",
    "    )\n",
    "    fig_graph = px.scatter_mapbox(\n",
    "        OSD_geoframe.sort_values(by='Year',ascending=True),\n",
    "        lat=\"decimalLatitude\",\n",
    "        lon=\"decimalLongitude\",\n",
    "        hover_name=\"stateProvince\",\n",
    "        color_discrete_sequence=[px.colors.qualitative.Plotly[1]],\n",
    "        zoom=3,\n",
    "        height=500,\n",
    "        opacity=1\n",
    "    ).data[0]\n",
    "\n",
    "    fig.add_trace(fig_graph)\n",
    "    fig.show(config=img_config)\n"
   ]
  },
  {
   "cell_type": "code",
   "execution_count": null,
   "metadata": {},
   "outputs": [],
   "source": [
    "fig = px.scatter_mapbox(\n",
    "    OSD_geoframe.sort_values(by='Year',ascending=True),\n",
    "    lat=\"Latitude\",\n",
    "    lon=\"Longitude\",\n",
    "    hover_name=\"Estado\",\n",
    "    color_discrete_sequence=[px.colors.qualitative.Plotly[1]],\n",
    "    zoom=4,\n",
    "    height=500,\n",
    "    opacity=1\n",
    ")\n",
    "fig.update_layout(autosize=True,margin={\"r\": 0, \"t\": 0, \"l\": 0, \"b\": 0},mapbox_style=\"carto-positron\")\n",
    "fig.update_geos(\n",
    "    visible=False,\n",
    "    resolution=50,\n",
    "    lataxis_gridcolor=\"red\",\n",
    "    lataxis_showgrid=True,\n",
    "    lataxis_dtick=15,\n",
    "    lonaxis_showgrid=True,\n",
    "    lonaxis_dtick=15,\n",
    ")\n",
    "#fig.write_image('figure.png', scale=2)\n",
    "fig.show(config=img_config)"
   ]
  },
  {
   "cell_type": "code",
   "execution_count": null,
   "metadata": {},
   "outputs": [],
   "source": [
    "individual_count_per_state = OSD_geoframe[['Contagem de individuos','Plataforma']].groupby(['Plataforma']).sum().sort_values(by='Contagem de individuos')\n",
    "fig = px.bar(\n",
    "    individual_count_per_state,\n",
    "    x='Contagem de individuos',\n",
    "    y=individual_count_per_state.index,\n",
    "    title=\"Soma de observações por Plataforma\",\n",
    "    orientation='h',text_auto='.1s')\n",
    "fig.show(config=img_config)"
   ]
  },
  {
   "cell_type": "code",
   "execution_count": null,
   "metadata": {},
   "outputs": [],
   "source": [
    "individual_count_per_state = OSD_geoframe[['Contagem de individuos','Plataforma']].groupby(['Plataforma']).count().sort_values(by='Contagem de individuos')\n",
    "fig = px.bar(\n",
    "    individual_count_per_state,\n",
    "    x='Contagem de individuos',\n",
    "    y=individual_count_per_state.index,\n",
    "    title=\"Soma de ocorrências por Plataforma\",\n",
    "    orientation='h',text_auto='.1s'\n",
    ")\n",
    "fig.update_layout(xaxis=dict(title=\"Observações\"), yaxis=dict(title=\"Plataforma\"))\n",
    "fig.update_xaxes()\n",
    "fig.show(config=img_config)"
   ]
  },
  {
   "cell_type": "code",
   "execution_count": null,
   "metadata": {},
   "outputs": [],
   "source": [
    "individual_count_per_state = OSD_geoframe[['Contagem de individuos','Estado']].groupby(['Estado']).count().sort_values(by='Contagem de individuos')\n",
    "fig = px.bar(\n",
    "    individual_count_per_state,\n",
    "    x='Contagem de individuos',\n",
    "    y=individual_count_per_state.index,\n",
    "    title=\"Contagem de ocorrências por estado\",\n",
    "    orientation='h',text_auto='.1s'\n",
    "    \n",
    ")\n",
    "fig.update_layout(xaxis=dict(title=\"Observações\"), yaxis=dict(title=\"Coleção\"))\n",
    "fig.show(config=img_config)"
   ]
  },
  {
   "cell_type": "code",
   "execution_count": null,
   "metadata": {},
   "outputs": [],
   "source": [
    "df = OSD_geoframe.groupby('Year').count()['Contagem de individuos']\n",
    "fig = px.bar(df, x=df.index, y=\"Contagem de individuos\",text_auto='.1s', title=\"Observações coletadas por ano\")\n",
    "fig.update_layout(xaxis=dict(title=\"Ano\"), yaxis=dict(title=\"Observações\"))\n",
    "fig.update_xaxes()\n",
    "fig.show(config=img_config)"
   ]
  },
  {
   "cell_type": "code",
   "execution_count": null,
   "metadata": {},
   "outputs": [],
   "source": [
    "individual_count_per_state = OSD_geoframe[['Contagem de individuos','Fonte do registro']].groupby(['Fonte do registro']).count().sort_values(by='Contagem de individuos')\n",
    "fig = px.bar(\n",
    "    individual_count_per_state,\n",
    "    x=individual_count_per_state.index,\n",
    "    y='Contagem de individuos',\n",
    "    title=\"Contagem de ocorrências por fonte do registro\",\n",
    "    orientation='v',text_auto=True\n",
    "    \n",
    ")\n",
    "fig.update_layout(xaxis=dict(title=\"Fonte do registro\"), yaxis=dict(title=\"Contagem de individuos\"))\n",
    "fig.show(config=img_config)"
   ]
  },
  {
   "cell_type": "code",
   "execution_count": null,
   "metadata": {},
   "outputs": [],
   "source": [
    "OSD_geoframe = OSD_geoframe[OSD_geoframe['Year'] > 2000].reset_index(drop=True).copy()\n",
    "df = OSD_geoframe.groupby('Year').count()['Contagem de individuos']\n",
    "fig = px.bar(df, x=df.index, y=\"Contagem de individuos\",text_auto='.1s', title=\"Observações coletadas por ano (Somente do ano de 2000 em diante)\")\n",
    "fig.update_layout(xaxis=dict(title=\"Ano\"), yaxis=dict(title=\"Observações\"))\n",
    "fig.update_xaxes()\n",
    "fig.show(config=img_config)"
   ]
  }
 ],
 "metadata": {
  "kernelspec": {
   "display_name": "web-scraping-venv",
   "language": "python",
   "name": "python3"
  },
  "language_info": {
   "codemirror_mode": {
    "name": "ipython",
    "version": 3
   },
   "file_extension": ".py",
   "mimetype": "text/x-python",
   "name": "python",
   "nbconvert_exporter": "python",
   "pygments_lexer": "ipython3",
   "version": "3.11.4"
  }
 },
 "nbformat": 4,
 "nbformat_minor": 2
}
