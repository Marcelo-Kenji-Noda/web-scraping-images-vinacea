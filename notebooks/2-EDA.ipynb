{
 "cells": [
  {
   "cell_type": "code",
   "execution_count": null,
   "metadata": {},
   "outputs": [],
   "source": [
    "import pandas as pd\n",
    "from shapely.geometry import Point\n",
    "import geopandas as gpd\n",
    "\n",
    "from mpl_toolkits.basemap import Basemap\n",
    "import matplotlib.pyplot as plt\n",
    "import plotly.express as px\n",
    "from matplotlib import pyplot\n",
    "import rasterio.mask\n",
    "import fiona\n",
    "import json"
   ]
  },
  {
   "cell_type": "code",
   "execution_count": null,
   "metadata": {},
   "outputs": [],
   "source": [
    "OUTPUT_FILE_PATH = \"assets/gibf.parquet\""
   ]
  },
  {
   "cell_type": "code",
   "execution_count": null,
   "metadata": {},
   "outputs": [],
   "source": [
    "# Ocurrence species data -> OSD_df\n",
    "OSD_df = pd.read_parquet(OUTPUT_FILE_PATH)\n",
    "\n",
    "# Creating Geometry\n",
    "OSD_df['geometry'] = list(zip(OSD_df[\"decimalLongitude\"], OSD_df[\"decimalLatitude\"]))\n",
    "OSD_df['geometry'] = OSD_df[\"geometry\"].apply(Point)\n",
    "\n",
    "# Create the geodataframe\n",
    "OSD_geoframe = gpd.GeoDataFrame(\n",
    "    OSD_df,\n",
    "    crs = {'init': 'epsg:4326'},\n",
    "    geometry = OSD_df['geometry']\n",
    ")\n",
    "OSD_geoframe = OSD_geoframe.to_crs(\"EPSG:4326\")\n",
    "OSD_geoframe.reset_index(drop=True, inplace = True)\n",
    "\n",
    "coord_list = [(x,y) for x,y in zip(OSD_geoframe['geometry'].x , OSD_geoframe['geometry'].y)]\n",
    "\n",
    "OSD_geoframe['Year'] = OSD_geoframe.eventDate.dt.year\n",
    "OSD_df = pd.DataFrame(OSD_geoframe)"
   ]
  },
  {
   "cell_type": "code",
   "execution_count": null,
   "metadata": {},
   "outputs": [],
   "source": [
    "print(OSD_geoframe['decimalLatitude'].mean(), OSD_geoframe['decimalLongitude'].mean())"
   ]
  },
  {
   "cell_type": "code",
   "execution_count": null,
   "metadata": {},
   "outputs": [],
   "source": [
    "fig = px.scatter_mapbox(\n",
    "    OSD_geoframe.sort_values(by='Year',ascending=True),\n",
    "    lat=\"decimalLatitude\",\n",
    "    lon=\"decimalLongitude\",\n",
    "    hover_name=\"stateProvince\",\n",
    "    hover_data=[\"individualCount\"],\n",
    "    color_discrete_sequence=[\"fuchsia\"],\n",
    "    zoom=3,\n",
    "    height=450,\n",
    "    animation_frame=\"Year\",\n",
    "    opacity=1\n",
    ")\n",
    "fig.update_layout(mapbox_style=\"open-street-map\")\n",
    "fig.update_layout(margin={\"r\": 0, \"t\": 0, \"l\": 0, \"b\": 0})\n",
    "#fig.update_layout(mapbox_bounds={\"west\": -90, \"east\": 12, \"south\": -40, \"north\": 0})\n",
    "fig.show()"
   ]
  },
  {
   "cell_type": "code",
   "execution_count": null,
   "metadata": {},
   "outputs": [],
   "source": [
    "fig = px.scatter_mapbox(\n",
    "    OSD_geoframe.sort_values(by='Year',ascending=True),\n",
    "    lat=\"decimalLatitude\",\n",
    "    lon=\"decimalLongitude\",\n",
    "    hover_name=\"stateProvince\",\n",
    "    hover_data=[\"individualCount\"],\n",
    "    color_discrete_sequence=[\"fuchsia\"],\n",
    "    zoom=3,\n",
    "    height=500,\n",
    "    opacity=1\n",
    ")\n",
    "fig.update_layout(mapbox_style=\"open-street-map\")\n",
    "fig.update_layout(margin={\"r\": 0, \"t\": 0, \"l\": 0, \"b\": 0})\n",
    "fig.show()"
   ]
  },
  {
   "cell_type": "code",
   "execution_count": null,
   "metadata": {},
   "outputs": [],
   "source": [
    "OSD_geoframe.head()"
   ]
  },
  {
   "cell_type": "markdown",
   "metadata": {},
   "source": [
    "## Data description\n",
    "\n",
    "Collection Code"
   ]
  },
  {
   "cell_type": "code",
   "execution_count": null,
   "metadata": {},
   "outputs": [],
   "source": [
    "individual_count_per_collection_code = OSD_df[['individualCount','collectionCode']].groupby(['collectionCode']).sum().sort_values(by='individualCount')"
   ]
  },
  {
   "cell_type": "code",
   "execution_count": null,
   "metadata": {},
   "outputs": [],
   "source": [
    "individual_count_per_collection_code = OSD_df[['individualCount','collectionCode']].groupby(['collectionCode']).sum().sort_values(by='individualCount')\n",
    "fig = px.bar(individual_count_per_collection_code, x='individualCount', y=individual_count_per_collection_code.index, title=\"Individual count per collection\", orientation='h')\n",
    "fig.show()"
   ]
  },
  {
   "cell_type": "markdown",
   "metadata": {},
   "source": [
    "## Creating GeoJSON File"
   ]
  },
  {
   "cell_type": "code",
   "execution_count": null,
   "metadata": {},
   "outputs": [],
   "source": [
    "# Source: IBGE:  bcim_2016_21_11_2018\n",
    "INFOS_UFS = gpd.read_file(\"assets/bcim_2016_21_11_2018.gpkg\", layer = 'lim_unidade_federacao_a')[['sigla','geometry']].rename(columns={'sigla':'stateProvince'})"
   ]
  },
  {
   "cell_type": "code",
   "execution_count": null,
   "metadata": {},
   "outputs": [],
   "source": [
    "INFOS_UFS.to_file(\"assets/UFS_JSON\", driver = \"GeoJSON\")\n",
    "with open(\"assets/UFS_JSON\") as geofile:\n",
    "    j_file = json.load(geofile)"
   ]
  },
  {
   "cell_type": "code",
   "execution_count": null,
   "metadata": {},
   "outputs": [],
   "source": [
    "OSD_df.head()"
   ]
  },
  {
   "cell_type": "code",
   "execution_count": null,
   "metadata": {},
   "outputs": [],
   "source": [
    "count_per_state = OSD_df[['stateProvince','individualCount']].groupby(['stateProvince']).sum()"
   ]
  },
  {
   "cell_type": "code",
   "execution_count": null,
   "metadata": {},
   "outputs": [],
   "source": [
    "INFOS_UFS_COUNT_PER_STATE = INFOS_UFS.merge(count_per_state, left_on='stateProvince', right_index=True, how='left').fillna(0)"
   ]
  },
  {
   "cell_type": "code",
   "execution_count": null,
   "metadata": {},
   "outputs": [],
   "source": [
    "INFOS_UFS_COUNT_PER_STATE"
   ]
  },
  {
   "cell_type": "code",
   "execution_count": null,
   "metadata": {},
   "outputs": [],
   "source": [
    "from urllib import request\n",
    "\n",
    "url = 'https://raw.githubusercontent.com/codeforgermany/click_that_hood/main/public/data/brazil-states.geojson'\n",
    "with request.urlopen(url) as f:\n",
    "    brazil_states = json.load(f)"
   ]
  },
  {
   "cell_type": "code",
   "execution_count": null,
   "metadata": {},
   "outputs": [],
   "source": [
    "fig = px.choropleth_mapbox(\n",
    "        INFOS_UFS_COUNT_PER_STATE,\n",
    "        locations=\"stateProvince\",\n",
    "        center={\"lat\": -16.95, \"lon\": -47.78},\n",
    "        geojson=brazil_states,\n",
    "        featureidkey='properties.sigla', # add\n",
    "        color_continuous_scale=\"Redor\",\n",
    "        opacity=0.5,\n",
    "        zoom=3,\n",
    "        color=\"individualCount\",\n",
    "        hover_data={\"stateProvince\": True},\n",
    "        mapbox_style='carto-darkmatter'\n",
    ")\n",
    "\n",
    "fig.show()"
   ]
  },
  {
   "cell_type": "markdown",
   "metadata": {},
   "source": [
    "## Overlay temperature"
   ]
  },
  {
   "cell_type": "code",
   "execution_count": null,
   "metadata": {},
   "outputs": [],
   "source": [
    "type(brazil_states)"
   ]
  },
  {
   "cell_type": "code",
   "execution_count": null,
   "metadata": {},
   "outputs": [],
   "source": [
    "# List of coordinates\n",
    "coord_list = [(x,y) for x,y in zip(OSD_geoframe['geometry'].x , OSD_geoframe['geometry'].y)]\n",
    "print(coord_list[0:5])"
   ]
  },
  {
   "cell_type": "code",
   "execution_count": null,
   "metadata": {},
   "outputs": [],
   "source": [
    "len(coord_list)"
   ]
  },
  {
   "cell_type": "code",
   "execution_count": null,
   "metadata": {},
   "outputs": [],
   "source": [
    "brazil_states['type']"
   ]
  },
  {
   "cell_type": "code",
   "execution_count": null,
   "metadata": {},
   "outputs": [],
   "source": [
    "len(brazil_states['features'][0]['geometry']['coordinates'][0][0])"
   ]
  },
  {
   "cell_type": "code",
   "execution_count": null,
   "metadata": {},
   "outputs": [],
   "source": [
    "coord_list = []\n",
    "for brazil_state in brazil_states['features']:\n",
    "    coord_list = coord_list + brazil_state['geometry']['coordinates'][0][0]"
   ]
  },
  {
   "cell_type": "code",
   "execution_count": null,
   "metadata": {},
   "outputs": [],
   "source": [
    "# Creating Geometry\n",
    "FEAT_DATAFRAME = pd.DataFrame()\n",
    "\n",
    "FEAT_DATAFRAME['geometry'] = coord_list"
   ]
  },
  {
   "cell_type": "code",
   "execution_count": null,
   "metadata": {},
   "outputs": [],
   "source": [
    "FEAT_DATAFRAME['geometry'] = FEAT_DATAFRAME[\"geometry\"].apply(Point)"
   ]
  },
  {
   "cell_type": "code",
   "execution_count": null,
   "metadata": {},
   "outputs": [],
   "source": [
    "from pathlib import Path"
   ]
  },
  {
   "cell_type": "code",
   "execution_count": null,
   "metadata": {},
   "outputs": [],
   "source": [
    "for f in raster_features:\n",
    "    src = rasterio.open(f)\n",
    "    FEAT_DATAFRAME[Path(f).stem] = [x for x in src.sample(coord_list)]\n",
    "    FEAT_DATAFRAME[Path(f).stem] = FEAT_DATAFRAME[Path(f).stem].astype('float64')\n",
    "train_vec = FEAT_DATAFRAME.copy()\n",
    "train_vec.head()"
   ]
  },
  {
   "cell_type": "code",
   "execution_count": null,
   "metadata": {},
   "outputs": [],
   "source": [
    "train_vec['decimalLatitude'] = [i.y for i in train_vec['geometry']]\n",
    "train_vec['decimalLongitude'] = [i.x for i in train_vec['geometry']]"
   ]
  },
  {
   "cell_type": "code",
   "execution_count": null,
   "metadata": {},
   "outputs": [],
   "source": [
    "import rasterio\n",
    "import glob"
   ]
  },
  {
   "cell_type": "code",
   "execution_count": null,
   "metadata": {},
   "outputs": [],
   "source": [
    "raster_features = sorted(glob.glob(\n",
    "    'assets/wc2.1_2.5m_tavg/*.tif'))\n",
    "# check number of features \n",
    "print('\\nThere are', len(raster_features), 'raster features.')"
   ]
  },
  {
   "cell_type": "code",
   "execution_count": null,
   "metadata": {},
   "outputs": [],
   "source": [
    "train_vec"
   ]
  },
  {
   "cell_type": "code",
   "execution_count": null,
   "metadata": {},
   "outputs": [],
   "source": [
    "with fiona.open(\"BR_UF_2022\\BR_UF_2022.shp\", \"r\") as shapefile:\n",
    "    shapes = [feature[\"geometry\"] for feature in shapefile]\n",
    "    \n",
    "with rasterio.open(raster_features[0]) as src:\n",
    "    out_image, out_transform = rasterio.mask.mask(src, shapes, crop=True)\n",
    "    out_meta = src.meta"
   ]
  },
  {
   "cell_type": "code",
   "execution_count": null,
   "metadata": {},
   "outputs": [],
   "source": [
    "raster_features[0]"
   ]
  },
  {
   "cell_type": "code",
   "execution_count": null,
   "metadata": {},
   "outputs": [],
   "source": [
    "out_meta.update({\"driver\": \"GTiff\",\n",
    "                 \"height\": out_image.shape[1],\n",
    "                 \"width\": out_image.shape[2],\n",
    "                 \"transform\": out_transform})\n",
    "\n",
    "with rasterio.open(\"wc2.1_2.5m_tavg_01.tif\", \"w\", **out_meta) as dest:\n",
    "    dest.write(out_image)"
   ]
  },
  {
   "cell_type": "code",
   "execution_count": null,
   "metadata": {},
   "outputs": [],
   "source": [
    "from rasterio.plot import show"
   ]
  },
  {
   "cell_type": "code",
   "execution_count": null,
   "metadata": {},
   "outputs": [],
   "source": [
    "src = rasterio.open(\"wc2.1_2.5m_tavg_01.tif\")\n"
   ]
  },
  {
   "cell_type": "code",
   "execution_count": null,
   "metadata": {},
   "outputs": [],
   "source": [
    "arr = src.read()"
   ]
  },
  {
   "cell_type": "code",
   "execution_count": null,
   "metadata": {},
   "outputs": [],
   "source": [
    "arr[0][0]"
   ]
  },
  {
   "cell_type": "markdown",
   "metadata": {},
   "source": [
    "# Testing Features"
   ]
  },
  {
   "cell_type": "code",
   "execution_count": null,
   "metadata": {},
   "outputs": [],
   "source": [
    "import numpy as np\n",
    "import plotly.graph_objs as go\n",
    "from shapely.geometry import box, mapping"
   ]
  },
  {
   "cell_type": "code",
   "execution_count": null,
   "metadata": {},
   "outputs": [],
   "source": [
    "# Read the GeoTIFF file\n",
    "with rasterio.open(\"wc2.1_2.5m_tavg_01.tif\") as src:\n",
    "    raster_data = src.read(1)  # Read the first band\n",
    "    extent = src.bounds  # Get the spatial extent of the raster\n",
    "\n",
    "# Filter out negative values\n",
    "raster_data_non_negative = np.where(raster_data < 0, np.nan, raster_data)\n",
    "# Create a GeoJSON Polygon representing the extent\n",
    "extent_polygon = box(extent.left, extent.bottom, extent.right, extent.top)\n",
    "extent_geojson = mapping(extent_polygon)"
   ]
  },
  {
   "cell_type": "code",
   "execution_count": null,
   "metadata": {},
   "outputs": [],
   "source": [
    "raster_data.shape"
   ]
  },
  {
   "cell_type": "code",
   "execution_count": null,
   "metadata": {},
   "outputs": [],
   "source": [
    "extent_geojson"
   ]
  },
  {
   "cell_type": "code",
   "execution_count": null,
   "metadata": {},
   "outputs": [],
   "source": [
    "# Read the GeoTIFF file\n",
    "with rasterio.open(\"wc2.1_2.5m_tavg_01.tif\") as src:\n",
    "    raster_data = src.read(1)  # Read the first band\n",
    "    extent = src.bounds  # Get the spatial extent of the raster\n",
    "\n",
    "# Filter out negative values\n",
    "raster_data_non_negative = np.where(raster_data < 0, np.nan, raster_data)\n",
    "# Create a GeoJSON Polygon representing the extent\n",
    "extent_polygon = box(extent.left, extent.bottom, extent.right, extent.top)\n",
    "extent_geojson = mapping(extent_polygon)\n",
    "\n",
    "# Define the layout for the map\n",
    "layout = go.Layout(\n",
    "    title=\"Raster Plot (Non-negative values) with Mapbox\",\n",
    "    mapbox=dict(\n",
    "        style=\"open-street-map\",  # Choose the base map style\n",
    "        center=dict(lon=(extent.left + extent.right) / 2, lat=(extent.top + extent.bottom) / 2),  # Set the map center\n",
    "        zoom=10  # Set the initial zoom level\n",
    "    ),\n",
    ")\n",
    "\n",
    "# Create the choropleth_mapbox trace\n",
    "choropleth_mapbox = go.Choroplethmapbox(\n",
    "    z=raster_data_non_negative,\n",
    "    geojson=extent_geojson,\n",
    "    locations=[[extent.left, extent.bottom], [extent.right, extent.top]],\n",
    "    featureidkey=\"extent\",\n",
    "    colorscale=\"Viridis\",\n",
    "    colorbar=dict(title=\"Raster Values\"),\n",
    ")\n",
    "\n",
    "# Create the figure\n",
    "fig = go.Figure(data=choropleth_mapbox, layout=layout)\n",
    "\n",
    "# Show the plot\n",
    "fig.show()"
   ]
  },
  {
   "cell_type": "code",
   "execution_count": null,
   "metadata": {},
   "outputs": [],
   "source": [
    "\n",
    "# Read the GeoTIFF file\n",
    "with rasterio.open(\"wc2.1_2.5m_tavg_01.tif\") as src:\n",
    "    raster_data = src.read(1)  # Read the first band\n",
    "\n",
    "# Filter out negative values\n",
    "raster_data_non_negative = np.where(raster_data < 0, np.nan, raster_data)\n",
    "\n",
    "# Create a Plotly heatmap trace\n",
    "heatmap = go.Heatmap(z=raster_data_non_negative, colorscale=\"Viridis\", showscale=True)\n",
    "\n",
    "# Create the layout for the plot\n",
    "layout = go.Layout(\n",
    "    title=\"Raster Plot (Non-negative values)\",\n",
    "    xaxis=dict(title=\"Longitude\"),\n",
    "    yaxis=dict(title=\"Latitude\"),\n",
    "    width=800,\n",
    "    height=600,\n",
    "    margin=dict(l=40, r=40, t=80, b=40)\n",
    ")\n",
    "\n",
    "# Create the Plotly figure\n",
    "fig = go.Figure(data=[heatmap], layout=layout)\n",
    "\n",
    "# Display the plot\n",
    "fig.show()\n"
   ]
  },
  {
   "cell_type": "code",
   "execution_count": null,
   "metadata": {},
   "outputs": [],
   "source": [
    "raster_data.shape"
   ]
  }
 ],
 "metadata": {
  "kernelspec": {
   "display_name": "web-scraping-venv",
   "language": "python",
   "name": "python3"
  },
  "language_info": {
   "codemirror_mode": {
    "name": "ipython",
    "version": 3
   },
   "file_extension": ".py",
   "mimetype": "text/x-python",
   "name": "python",
   "nbconvert_exporter": "python",
   "pygments_lexer": "ipython3",
   "version": "3.11.4"
  }
 },
 "nbformat": 4,
 "nbformat_minor": 2
}
