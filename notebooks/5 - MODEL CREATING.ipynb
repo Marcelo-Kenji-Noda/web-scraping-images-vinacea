{
 "cells": [
  {
   "cell_type": "code",
   "execution_count": 1,
   "metadata": {},
   "outputs": [],
   "source": [
    "import numpy as np\n",
    "import matplotlib.pyplot as plt\n",
    "import pandas as pd\n",
    "import geopandas as gpd\n",
    "import shapely.geometry\n",
    "from shapely.geometry import Point\n",
    "from mpl_toolkits.basemap import Basemap\n",
    "import glob\n",
    "import rasterio\n",
    "import os\n",
    "import shutil\n",
    "import pyimpute\n",
    "from pathlib import Path"
   ]
  },
  {
   "cell_type": "code",
   "execution_count": 3,
   "metadata": {},
   "outputs": [],
   "source": [
    "BIO_PATH = \"assets/wc2.1_30s_bio/*.tif\""
   ]
  },
  {
   "cell_type": "code",
   "execution_count": null,
   "metadata": {},
   "outputs": [],
   "source": [
    "presence_absence = pd.read_parquet(\"model/presence_absence.parquet\")"
   ]
  },
  {
   "cell_type": "code",
   "execution_count": 4,
   "metadata": {},
   "outputs": [],
   "source": [
    "raster_features = sorted(glob.glob(BIO_PATH))"
   ]
  },
  {
   "cell_type": "code",
   "execution_count": null,
   "metadata": {},
   "outputs": [],
   "source": [
    "# List of coordinates\n",
    "coord_list = [(x,y) for x,y in zip(presence_absence['decimalLongitude'] , presence_absence['decimalLatitude'])]"
   ]
  },
  {
   "cell_type": "code",
   "execution_count": null,
   "metadata": {},
   "outputs": [],
   "source": [
    "# Point sampling\n",
    "for f in raster_features:\n",
    "    src = rasterio.open(f)\n",
    "    presence_absence[Path(f).stem] = [x for x in src.sample(coord_list)]\n",
    "    presence_absence[Path(f).stem] = presence_absence[Path(f).stem].astype('float64')"
   ]
  },
  {
   "cell_type": "code",
   "execution_count": null,
   "metadata": {},
   "outputs": [],
   "source": [
    "presence_absence"
   ]
  },
  {
   "cell_type": "code",
   "execution_count": null,
   "metadata": {},
   "outputs": [],
   "source": [
    "train_vec = presence_absence[presence_absence.columns.difference(['decimalLatitude', 'decimalLongitude'])]"
   ]
  },
  {
   "cell_type": "code",
   "execution_count": null,
   "metadata": {},
   "outputs": [],
   "source": [
    "train_vec"
   ]
  },
  {
   "cell_type": "code",
   "execution_count": null,
   "metadata": {},
   "outputs": [],
   "source": [
    "columns = list(train_vec.columns[1:])"
   ]
  },
  {
   "cell_type": "code",
   "execution_count": null,
   "metadata": {},
   "outputs": [],
   "source": [
    "nodata_df = train_vec[train_vec[columns].nunique(axis=1) == 1]\n",
    "nodata_df.head()"
   ]
  },
  {
   "cell_type": "code",
   "execution_count": null,
   "metadata": {},
   "outputs": [],
   "source": [
    "# Saving training data\n",
    "train_vec.drop(nodata_df.index).to_csv('TRAIN_VEC.csv',index=False)\n",
    "train_vec = pd.read_csv(\"TRAIN_VEC.csv\")\n",
    "train_vec.head()"
   ]
  },
  {
   "cell_type": "code",
   "execution_count": null,
   "metadata": {},
   "outputs": [],
   "source": [
    "# training data: explanatory variables + response variables\n",
    "train_xs, train_y = train_vec.iloc[:,1:].values, train_vec.iloc[:,0].values\n",
    "\n",
    "train_xs.shape, train_y.shape"
   ]
  },
  {
   "cell_type": "code",
   "execution_count": 5,
   "metadata": {},
   "outputs": [],
   "source": [
    "# target data: explanatory variables\n",
    "# target_xs, raster_info = pyimpute.load_targets(raster_features[:3])"
   ]
  },
  {
   "cell_type": "code",
   "execution_count": null,
   "metadata": {},
   "outputs": [],
   "source": [
    "# ML \n",
    "from sklearn.ensemble import RandomForestClassifier \n",
    "from sklearn.ensemble import ExtraTreesClassifier \n",
    "from sklearn.ensemble import AdaBoostClassifier \n",
    "from sklearn.ensemble import BaggingClassifier \n",
    "from sklearn.ensemble import GradientBoostingClassifier \n",
    "from sklearn.linear_model import LogisticRegression \n",
    "from sklearn import model_selection \n",
    "from sklearn import metrics "
   ]
  },
  {
   "cell_type": "code",
   "execution_count": null,
   "metadata": {},
   "outputs": [],
   "source": [
    "# ML classifier dictionary: name: (model)\n",
    "CLASS_MAP = {\n",
    "    'RF': (RandomForestClassifier()), \n",
    "    'ET': (ExtraTreesClassifier()), \n",
    "    'ADA' : (AdaBoostClassifier()), \n",
    "    'BAG' : (BaggingClassifier()), \n",
    "    'GRA' : (GradientBoostingClassifier()),\n",
    "    'Maxent':(LogisticRegression())\n",
    "    }"
   ]
  },
  {
   "cell_type": "code",
   "execution_count": null,
   "metadata": {},
   "outputs": [],
   "source": [
    "# ROC \n",
    "def plot_roc_curve(fper, tper):\n",
    "    plt.plot(fper, tper, color='red', label='ROC')\n",
    "    plt.plot([0, 1], [0, 1], color='green', linestyle='--')\n",
    "    plt.xlabel('False Positive Rate')\n",
    "    plt.ylabel('True Positive Rate')\n",
    "    plt.title('Receiver Operating Characteristic Curve')\n",
    "    plt.legend()\n",
    "    plt.show()"
   ]
  },
  {
   "cell_type": "code",
   "execution_count": null,
   "metadata": {},
   "outputs": [],
   "source": [
    "def evaluate_clf(\n",
    "    clf, X, y, name, k=None, test_size=0.2, scoring=\"f1_weighted\", feature_names=None\n",
    "):\n",
    "    X_train, X_test, y_train, y_true = model_selection.train_test_split(\n",
    "        X, y,\n",
    "        test_size=test_size, # Test data size\n",
    "        shuffle=True, # Shuffle the data before split\n",
    "        stratify=y # Keeping the appearance/non-appearance ratio of Y\n",
    "    )\n",
    "\n",
    "    if k: # Cross-validation\n",
    "        kf = model_selection.KFold(n_splits=k) # k-fold\n",
    "        scores = model_selection.cross_val_score(clf, X_train, y_train, cv=kf, scoring=scoring)\n",
    "        print(name + \" %d-fold Cross Validation Accuracy: %0.2f (+/- %0.2f)\"\n",
    "              % (k, scores.mean() * 100, scores.std() * 200))\n",
    "        print()\n",
    "    \n",
    "    clf.fit(X_train, y_train) # Training of classifiers\n",
    "    y_pred = clf.predict(X_test) # Classifier predictions\n",
    "    \n",
    "    # Classifier evaluation metrics\n",
    "    print(\"Accuracy Score: %.2f\" % metrics.accuracy_score(y_true, y_pred))\n",
    "    print()\n",
    "\n",
    "    print(\"Classification report\")\n",
    "    print(metrics.classification_report(y_true, y_pred))\n",
    "    print()\n",
    "\n",
    "    print(\"Confussion matrix\")\n",
    "    print(metrics.confusion_matrix(y_true, y_pred))\n",
    "    print()\n",
    "    \n",
    "    print('AUC(ROC): %.2f'% metrics.roc_auc_score(y_true, y_pred))\n",
    "    print()\n",
    "       \n",
    "    # ROC \n",
    "    probs = clf.predict_proba(X_test) \n",
    "    prob = probs[:, 1]  \n",
    "    fper, tper, thresholds = metrics.roc_curve(y_true, prob)\n",
    "    plot_roc_curve(fper, tper)\n",
    "\n",
    "    if hasattr(clf, \"feature_importances_\"):\n",
    "        print(\"Feature importances\")\n",
    "        for f, imp in zip(feature_names, clf.feature_importances_):\n",
    "            print(\"%20s: %s\" % (f, round(imp * 100, 1)))\n",
    "        print()"
   ]
  },
  {
   "cell_type": "code",
   "execution_count": null,
   "metadata": {},
   "outputs": [],
   "source": [
    "# Spatial prediction\n",
    "for name, model in CLASS_MAP.items():\n",
    "    evaluate_clf(model, train_xs, train_y, name, k=5, test_size=0.2, scoring=\"f1_weighted\", feature_names=columns)\n",
    "    try:\n",
    "        os.mkdir('OUTPUT/' + name + '-IMAGES')        \n",
    "    except:\n",
    "        pass    \n",
    "    #pyimpute.impute(target_xs, model, raster_info, outdir='OUTPUT/' + name + '-IMAGES', class_prob=True, certainty=True)"
   ]
  }
 ],
 "metadata": {
  "kernelspec": {
   "display_name": "web-scraping-venv",
   "language": "python",
   "name": "python3"
  },
  "language_info": {
   "codemirror_mode": {
    "name": "ipython",
    "version": 3
   },
   "file_extension": ".py",
   "mimetype": "text/x-python",
   "name": "python",
   "nbconvert_exporter": "python",
   "pygments_lexer": "ipython3",
   "version": "3.11.4"
  }
 },
 "nbformat": 4,
 "nbformat_minor": 2
}
