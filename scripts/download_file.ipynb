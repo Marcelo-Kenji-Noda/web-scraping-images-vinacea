{
 "cells": [
  {
   "cell_type": "code",
   "execution_count": 1,
   "metadata": {},
   "outputs": [],
   "source": [
    "import os\n",
    "import requests\n",
    "import numpy as np\n",
    "import pandas as pd\n",
    "import zipfile\n",
    "import io\n",
    "from mask_tiff_file_from_coordinates_list import export_dataframe_with_raster_features\n",
    "import pandas as pd"
   ]
  },
  {
   "cell_type": "code",
   "execution_count": 2,
   "metadata": {},
   "outputs": [],
   "source": [
    "def get_partition_name(lower_bound: float, longitude: bool) -> str:\n",
    "    if longitude:\n",
    "        if lower_bound.is_integer():\n",
    "            partition_name = f\"{abs(int(lower_bound)):02d}_\"\n",
    "        else:\n",
    "            partition_name = f\"{abs(int(lower_bound)):02d}{str(lower_bound-int(lower_bound))[-1]}\"\n",
    "    else:\n",
    "        if lower_bound < 0:\n",
    "            hemisphere = \"S\"\n",
    "        else:\n",
    "            hemisphere = \"N\"\n",
    "        partition_name = f\"{abs(int(lower_bound))}{hemisphere}\"\n",
    "    return partition_name\n",
    "\n",
    "def generate_partitions(start:float, end:float, step:float, longitude:bool) -> dict[str, tuple]:\n",
    "    partitions = {}\n",
    "    lower_bound = start\n",
    "    upper_bound = start + step\n",
    "    while upper_bound < end:\n",
    "        partition_name = get_partition_name(lower_bound=lower_bound, longitude=longitude)\n",
    "        partitions[partition_name] = (lower_bound, upper_bound)\n",
    "        lower_bound = upper_bound\n",
    "        upper_bound += step\n",
    "    return partitions\n",
    "\n",
    "def find_partition(number: float, partitions: dict[str, tuple]) -> str:\n",
    "    for partition, interval in partitions.items():\n",
    "        if interval[0] <= number < interval[1]:\n",
    "            return partition\n",
    "    return None\n",
    "\n",
    "# Defina o intervalo\n",
    "start:float = -63.0\n",
    "end:float = -39.0\n",
    "step:float = 1.5\n",
    "\n",
    "# Gere as partições\n",
    "partitions_long = generate_partitions(start, end, step, True)\n",
    "partitions_lat = generate_partitions(start = -33.0, end= 2.0, step = 1, longitude=False)"
   ]
  },
  {
   "cell_type": "code",
   "execution_count": 3,
   "metadata": {},
   "outputs": [],
   "source": [
    "dataframe = pd.read_parquet(\"../assets/INPUT/occurence_abscence.parquet\")\n",
    "dataframe['Latitude_str'] = dataframe['Latitude'].apply(lambda x: find_partition(x, partitions_lat))\n",
    "dataframe['Longitude_str'] = dataframe['Longitude'].apply(lambda x: find_partition(x, partitions_long))\n",
    "dataframe['download_key'] = dataframe['Latitude_str']+dataframe['Longitude_str']\n",
    "dataframe[['Latitude','Longitude','download_key','Presence']].to_parquet(\"../assets/INPUT/occurence_absence_with_download_key.parquet\")\n",
    "\n",
    "dataframe = pd.read_parquet(\"../assets/INPUT/occurence_absence_with_download_key.parquet\")\n",
    "grid_codes = dataframe['download_key'].unique().tolist()"
   ]
  },
  {
   "cell_type": "code",
   "execution_count": 4,
   "metadata": {},
   "outputs": [
    {
     "data": {
      "text/plain": [
       "98"
      ]
     },
     "execution_count": 4,
     "metadata": {},
     "output_type": "execute_result"
    }
   ],
   "source": [
    "len(grid_codes)"
   ]
  },
  {
   "cell_type": "code",
   "execution_count": 7,
   "metadata": {},
   "outputs": [
    {
     "data": {
      "text/plain": [
       "['http://www.dsr.inpe.br/topodata/data/geotiff/29S57_ZN.zip',\n",
       " 'http://www.dsr.inpe.br/topodata/data/geotiff/30S555ZN.zip',\n",
       " 'http://www.dsr.inpe.br/topodata/data/geotiff/29S555ZN.zip',\n",
       " 'http://www.dsr.inpe.br/topodata/data/geotiff/31S555ZN.zip',\n",
       " 'http://www.dsr.inpe.br/topodata/data/geotiff/32S555ZN.zip',\n",
       " 'http://www.dsr.inpe.br/topodata/data/geotiff/26S555ZN.zip',\n",
       " 'http://www.dsr.inpe.br/topodata/data/geotiff/31S54_ZN.zip',\n",
       " 'http://www.dsr.inpe.br/topodata/data/geotiff/24S54_ZN.zip',\n",
       " 'http://www.dsr.inpe.br/topodata/data/geotiff/32S54_ZN.zip',\n",
       " 'http://www.dsr.inpe.br/topodata/data/geotiff/25S54_ZN.zip']"
      ]
     },
     "execution_count": 7,
     "metadata": {},
     "output_type": "execute_result"
    }
   ],
   "source": [
    "[f'http://www.dsr.inpe.br/topodata/data/geotiff/{code}ZN.zip'for code in grid_codes[2:12]]"
   ]
  },
  {
   "cell_type": "code",
   "execution_count": 7,
   "metadata": {},
   "outputs": [],
   "source": [
    "from pathlib import Path"
   ]
  },
  {
   "cell_type": "code",
   "execution_count": 30,
   "metadata": {},
   "outputs": [],
   "source": [
    "def download_zip_file(input_file_path: str, output_file_path: str) -> None:\n",
    "    \"\"\"\n",
    "    Download zip file\n",
    "    Args:\n",
    "        input_file_path (str): File path \n",
    "        output_file_path (str): Output path\n",
    "        \n",
    "    Example:\n",
    "        input_file_path: str = \"http://www.dsr.inpe.br/topodata/data/geotiff/23S435SN.zip\"\n",
    "        output_file_path: str = \"/mnt/biofeats/assets/TOPOGRAPHY/\"\n",
    "        download_zip_file(input_file_path = input_file_path, output_file_path = output_file_path)\n",
    "    \"\"\"\n",
    "    with requests.get(input_file_path) as r:\n",
    "        z = zipfile.ZipFile(io.BytesIO(r.content))\n",
    "        z.extractall(output_file_path)\n",
    "    return\n",
    "\n",
    "def download_file(base_url:str, grid_code:str, download_dir:str):\n",
    "    tile_url = f\"{base_url}/{grid_code}ZN.zip\"\n",
    "    print('Baixando:', tile_url)\n",
    "    \n",
    "    if not Path(os.path.join(download_dir, grid_code,\"ZN.tif\")).exists():\n",
    "        # Enviar uma solicitação GET para a URL do tile\n",
    "\n",
    "        \n",
    "        # Verificar se a solicitação foi bem-sucedida (código de status 200)\n",
    "        try:\n",
    "            # Salvar o conteúdo da resposta em um arquivo no diretório de download\n",
    "            download_zip_file(tile_url,download_dir)\n",
    "            return True\n",
    "        except:\n",
    "            print('Falha ao baixar:', grid_code)\n",
    "            return False\n",
    "    else:\n",
    "        return True  "
   ]
  },
  {
   "cell_type": "code",
   "execution_count": 21,
   "metadata": {},
   "outputs": [],
   "source": [
    "import rasterio\n",
    "import rasterio.warp\n",
    "\n",
    "# Carregar o arquivo .tif\n",
    "# Substitua 'path_to_tiff' pelo caminho do seu arquivo .tif\n",
    "path_to_tiff = f'../assets/TILE/{grid_codes[0]}.tif'\n",
    "\n",
    "def get_values_list(contained_df: pd.DataFrame, path_to_tiff: str):\n",
    "    vals = []\n",
    "    src = rasterio.open(path_to_tiff)\n",
    "    # Iterar sobre os pontos no DataFrame\n",
    "    for index, row in contained_df.iterrows():\n",
    "        # Extrair a latitude e longitude do ponto\n",
    "        latitude = row['Latitude']\n",
    "        longitude = row['Longitude']\n",
    "        \n",
    "        # Reprojetar as coordenadas do ponto para o sistema de referência do arquivo .tif, se necessário\n",
    "        if src.crs != 'EPSG:4326':  # Se o CRS do arquivo não for WGS84\n",
    "            longitude, latitude = rasterio.warp.transform('EPSG:4326', 'EPSG:4326', [longitude], [latitude])\n",
    "            longitude, latitude = longitude[0], latitude[0]\n",
    "\n",
    "        # Converter as coordenadas do ponto para índices de pixel\n",
    "        col, row = src.index(longitude, latitude)\n",
    "        \n",
    "        # Extrair o valor do pixel correspondente\n",
    "        value = src.read(1, window=((row, row+1), (col, col+1)))\n",
    "        try:\n",
    "            value = value[0][0]  # Valor do pixel\n",
    "        except:\n",
    "            value = -100\n",
    "            print(\"Error\")\n",
    "        vals.append(value)\n",
    "    return vals\n",
    "    #print(f'Latitude: {latitude}, Longitude: {longitude}, Valor do pixel: {value}')"
   ]
  },
  {
   "cell_type": "code",
   "execution_count": null,
   "metadata": {},
   "outputs": [],
   "source": [
    "grid_code = grid_codes[0]\n",
    "path_to_tiff = path_to_tiff = f'../assets/TILE/{grid_codes[0]}.tif'\n",
    "contained_df = dataframe[dataframe['download_key'] == grid_code].copy()\n",
    "vals = get_values_list(contained_df=contained_df, path_to_tiff=path_to_tiff)"
   ]
  },
  {
   "cell_type": "code",
   "execution_count": 31,
   "metadata": {},
   "outputs": [
    {
     "name": "stdout",
     "output_type": "stream",
     "text": [
      "Baixando: http://www.dsr.inpe.br/topodata/data/geotiff/30S57_ZN.zip\n",
      "Error\n",
      "Erro ao remover\n",
      "Baixando: http://www.dsr.inpe.br/topodata/data/geotiff/31S57_ZN.zip\n"
     ]
    }
   ],
   "source": [
    "mult_df = []\n",
    "for grid_code in grid_codes:\n",
    "    base_url = 'http://www.dsr.inpe.br/topodata/data/geotiff'\n",
    "    download_dir = '../assets/TILE'\n",
    "\n",
    "    if download_file(base_url=base_url, grid_code=grid_code, download_dir=download_dir):\n",
    "        path_to_tiff = f'../assets/TILE/{grid_code}ZN.tif'\n",
    "        contained_df = dataframe[dataframe['download_key'] == grid_code].copy()\n",
    "        vals = get_values_list(contained_df=contained_df, path_to_tiff=path_to_tiff)\n",
    "        contained_df['top']= vals\n",
    "        try:\n",
    "            contained_df.to_parquet(f'../assets/TILE/dataframe_parquet_tile/{grid_code}.parquet')\n",
    "            mult_df.append(contained_df)\n",
    "        except:\n",
    "            print(\"Unnable to export to parquet\")\n",
    "            mult_df.append(contained_df)\n",
    "        try:\n",
    "            if filepath:=Path(f'../assets/TILE/{grid_codes[0]}ZN.tif').exists():\n",
    "                os.remove(filepath)\n",
    "        except:\n",
    "            print(\"Erro ao remover\")"
   ]
  },
  {
   "cell_type": "code",
   "execution_count": 20,
   "metadata": {},
   "outputs": [
    {
     "data": {
      "text/plain": [
       "[134.276]"
      ]
     },
     "execution_count": 20,
     "metadata": {},
     "output_type": "execute_result"
    }
   ],
   "source": [
    "vals"
   ]
  },
  {
   "cell_type": "code",
   "execution_count": 7,
   "metadata": {},
   "outputs": [],
   "source": [
    "def create_parquet_block_partition(\n",
    "    base_url: str, grid_code: str, download_dir: str\n",
    "):\n",
    "    download_file(base_url=base_url, grid_code=grid_code, download_dir=download_dir)\n",
    "    try:\n",
    "        export_dataframe_with_raster_features(\n",
    "            geojson=\"../assets/INPUT/occurence_absence.json\",\n",
    "            explanatory_rasters=[f'{download_dir}/{grid_code}ZN.tif'],\n",
    "            columns=['top','Presence'],\n",
    "            occurence_absence_dataframe_path=\"../assets/INPUT/occurence_abscence.parquet\",\n",
    "            output_file_path='../assets/INPUT/temp_occurence_absence.parquet'\n",
    "        )\n",
    "        df = pd.read_parquet(\"../assets/INPUT/temp_occurence_absence.parquet\")\n",
    "        df[df['top'] != 0].to_parquet(f\"../assets/TILE/dataframe_parquet_tile/{grid_code}.parquet\")\n",
    "    except Exception as e:\n",
    "        print(e)\n",
    "    try:\n",
    "        os.remove(os.path.join(download_dir,f\"{grid_code}ZN.tif\"))\n",
    "    except Exception as e:\n",
    "        print(e)\n",
    "    return"
   ]
  },
  {
   "cell_type": "code",
   "execution_count": 1,
   "metadata": {},
   "outputs": [],
   "source": [
    "import rasterio\n",
    "from rasterio.mask import mask\n",
    "import pandas as pd\n",
    "import geopandas as gpd\n",
    "\n",
    "df = pd.read_parquet(\"../assets/INPUT/occurence_abscence.parquet\")"
   ]
  },
  {
   "cell_type": "code",
   "execution_count": 2,
   "metadata": {},
   "outputs": [],
   "source": [
    "geoshape_filepath: str = \"../assets/FEATURES/MALHAS/BR_UF_2022.shp\"\n",
    "states_filter = [\"RS\",\"SC\",\"PR\",\"SP\",\"MG\",\"ES\",\"RJ\"]\n",
    "geoframe = gpd.read_file(geoshape_filepath)\n",
    "geoframe = geoframe[geoframe[\"SIGLA_UF\"].isin(states_filter)].cx[:-42,:].reset_index()"
   ]
  },
  {
   "cell_type": "code",
   "execution_count": 3,
   "metadata": {},
   "outputs": [],
   "source": [
    "with rasterio.open(\"../assets/TILE/33S54_ZN.tif\") as src:\n",
    "    # Máscara do arquivo .tiff usando o shapefile\n",
    "    out_image, out_transform = mask(src, geoframe.geometry, crop=True)"
   ]
  },
  {
   "cell_type": "code",
   "execution_count": 5,
   "metadata": {},
   "outputs": [],
   "source": [
    "src = rasterio.open(\"../assets/TILE/33S54_ZN.tif\")"
   ]
  },
  {
   "cell_type": "code",
   "execution_count": 9,
   "metadata": {},
   "outputs": [
    {
     "name": "stderr",
     "output_type": "stream",
     "text": [
      "c:\\Users\\kenji\\dev\\web-scraping-images-vinacea\\web-scraping-images-vinacea\\web-scraping-venv\\Lib\\site-packages\\rasterstats\\io.py:328: NodataWarning: Setting nodata to -999; specify nodata explicitly\n",
      "  warnings.warn(\n"
     ]
    }
   ],
   "source": [
    "from mask_tiff_file_from_coordinates_list import export_dataframe_with_raster_features\n",
    "\n",
    "export_dataframe_with_raster_features(\n",
    "    geojson=\"../assets/INPUT/occurence_absence.json\",\n",
    "    explanatory_rasters=['../assets/TILE/33S54_ZN.tif'],\n",
    "    columns=['top','Presence'],\n",
    "    occurence_absence_dataframe_path=\"../assets/INPUT/occurence_abscence.parquet\",\n",
    "    output_file_path='../assets/INPUT/temp_occurence_absence.json'\n",
    ")"
   ]
  },
  {
   "cell_type": "code",
   "execution_count": null,
   "metadata": {},
   "outputs": [],
   "source": [
    "import os\n",
    "import requests\n",
    "import numpy as np\n",
    "\n",
    "# Função para gerar os códigos de quadrícula para uma área delimitadora\n",
    "def generate_grid_codes(lat_range, lon_range):\n",
    "    grid_codes = []\n",
    "    for lat in range(lat_range[0], lat_range[1]):\n",
    "        for lon in np.arange(lon_range[0], lon_range[1], 1.5):\n",
    "            lat_str = f'{abs(lat)}' + ('S' if lat < 0 else 'N')\n",
    "            lon_str = f'{abs(int(np.floor(lon))):02d}' + ('_' if lon % 1 == 0 else '5')\n",
    "\n",
    "            grid_code = f'{lat_str}{lon_str}'\n",
    "            grid_codes.append(grid_code)\n",
    "    return grid_codes\n",
    "\n",
    "if __name__ == '__main__':\n",
    "    # Define a área delimitadora\n",
    "    lat_range = (-33,-17)\n",
    "    lon_range = (-59, -40)\n",
    "\n",
    "\n",
    "    # Gerar os códigos de quadrícula para a área delimitadora\n",
    "    grid_codes = generate_grid_codes(lat_range, lon_range)\n",
    "\n",
    "    # URL base para download dos tiles\n",
    "    base_url = 'http://www.dsr.inpe.br/topodata/data/geotiff'\n",
    "\n",
    "    # Diretório para salvar os tiles baixados\n",
    "    download_dir = '../assets/TILE'\n",
    "    os.makedirs(download_dir, exist_ok=True)\n",
    "\n",
    "    # Baixar os tiles correspondentes aos códigos de quadrícula gerados\n",
    "    for grid_code in grid_codes[:100]:\n",
    "        tile_url = f\"{base_url}/{grid_code}ZN.zip\"\n",
    "        print('Baixando:', tile_url)\n",
    "        \n",
    "        # Enviar uma solicitação GET para a URL do tile\n",
    "        response = requests.get(tile_url)\n",
    "        \n",
    "        # Verificar se a solicitação foi bem-sucedida (código de status 200)\n",
    "        if response.status_code == 200:\n",
    "            # Salvar o conteúdo da resposta em um arquivo no diretório de download\n",
    "            with open(os.path.join(download_dir, f\"{grid_code}.tif\"), 'wb') as f:\n",
    "                f.write(response.content)\n",
    "            print('Download bem-sucedido:', grid_code)\n",
    "        else:\n",
    "            print('Falha ao baixar:', grid_code)"
   ]
  }
 ],
 "metadata": {
  "kernelspec": {
   "display_name": "web-scraping-venv",
   "language": "python",
   "name": "python3"
  },
  "language_info": {
   "codemirror_mode": {
    "name": "ipython",
    "version": 3
   },
   "file_extension": ".py",
   "mimetype": "text/x-python",
   "name": "python",
   "nbconvert_exporter": "python",
   "pygments_lexer": "ipython3",
   "version": "3.11.4"
  }
 },
 "nbformat": 4,
 "nbformat_minor": 2
}
