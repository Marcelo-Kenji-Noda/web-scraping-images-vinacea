{
 "cells": [
  {
   "cell_type": "code",
   "execution_count": null,
   "metadata": {},
   "outputs": [],
   "source": [
    "import rasterio\n",
    "import geopandas as gpd\n",
    "from rasterio.crs import CRS\n",
    "from rasterio.mask import mask\n",
    "\n",
    "geoframe =  gpd.read_file('../assets/INPUT/mant_completa.shp')\n",
    "crs = 'EPSG:4326'\n",
    "\n",
    "# Defina o CRS para o GeoDataFrame\n",
    "geoframe = geoframe.set_crs(crs)\n",
    "\n",
    "# Defina o CRS desejado (EPSG 4326 - WGS 84)\n",
    "crs = CRS.from_epsg(4326)"
   ]
  },
  {
   "cell_type": "code",
   "execution_count": null,
   "metadata": {},
   "outputs": [],
   "source": [
    "geoframe['geometry'][0]"
   ]
  },
  {
   "cell_type": "code",
   "execution_count": 20,
   "metadata": {},
   "outputs": [
    {
     "name": "stdout",
     "output_type": "stream",
     "text": [
      "BoundingBox(left=-73.9878, bottom=-33.753535500000005, right=-32.38946399999999, top=5.2699035)\n"
     ]
    }
   ],
   "source": [
    "with rasterio.open('../assets/processed/processed/altitude_br.tif', 'r') as src:\n",
    "    # Atualizar o CRS do arquivo GeoTIFF\n",
    "    #src_crs = src.crs\n",
    "    print(src.bounds)"
   ]
  },
  {
   "cell_type": "code",
   "execution_count": 22,
   "metadata": {},
   "outputs": [
    {
     "ename": "ValueError",
     "evalue": "Source shape (1, 1, 4683, 4992) is inconsistent with given indexes 1",
     "output_type": "error",
     "traceback": [
      "\u001b[1;31m---------------------------------------------------------------------------\u001b[0m",
      "\u001b[1;31mValueError\u001b[0m                                Traceback (most recent call last)",
      "Cell \u001b[1;32mIn[22], line 19\u001b[0m\n\u001b[0;32m     17\u001b[0m out_image, out_transform \u001b[38;5;241m=\u001b[39m mask(src, geoframe\u001b[38;5;241m.\u001b[39mgeometry, crop\u001b[38;5;241m=\u001b[39m\u001b[38;5;28;01mTrue\u001b[39;00m)\n\u001b[0;32m     18\u001b[0m \u001b[38;5;66;03m# Salve as alterações nos metadados\u001b[39;00m\n\u001b[1;32m---> 19\u001b[0m \u001b[43msrc\u001b[49m\u001b[38;5;241;43m.\u001b[39;49m\u001b[43mwrite\u001b[49m\u001b[43m(\u001b[49m\u001b[43msrc\u001b[49m\u001b[38;5;241;43m.\u001b[39;49m\u001b[43mread\u001b[49m\u001b[43m(\u001b[49m\u001b[43m)\u001b[49m\u001b[43m,\u001b[49m\u001b[43m \u001b[49m\u001b[38;5;241;43m1\u001b[39;49m\u001b[43m)\u001b[49m\n",
      "File \u001b[1;32mrasterio\\\\_io.pyx:1736\u001b[0m, in \u001b[0;36mrasterio._io.DatasetWriterBase.write\u001b[1;34m()\u001b[0m\n",
      "\u001b[1;31mValueError\u001b[0m: Source shape (1, 1, 4683, 4992) is inconsistent with given indexes 1"
     ]
    }
   ],
   "source": [
    "\n",
    "import rasterio\n",
    "import geopandas as gpd\n",
    "from rasterio.crs import CRS\n",
    "from rasterio.mask import mask\n",
    "\n",
    "geoframe =  gpd.read_file('../assets/INPUT/mant_completa.shp')\n",
    "crs = 'EPSG:4326'\n",
    "\n",
    "# Defina o CRS para o GeoDataFrame\n",
    "geoframe = geoframe.set_crs(crs)\n",
    "\n",
    "# Defina o CRS desejado (EPSG 4326 - WGS 84)\n",
    "crs = CRS.from_epsg(4326)\n",
    "with rasterio.open('../assets/processed/processed/altitude_br.tif', 'r+') as src:\n",
    "    # Atualize o CRS do arquivo GeoTIFF\n",
    "    src.crs = crs\n",
    "    out_image, out_transform = mask(src, geoframe.geometry, crop=True)\n",
    "    # Salve as alterações nos metadados\n",
    "    src.write(src.read(), 1)"
   ]
  },
  {
   "cell_type": "code",
   "execution_count": 21,
   "metadata": {},
   "outputs": [
    {
     "ename": "ValueError",
     "evalue": "O CRS do raster não é o esperado (EPSG:4326)",
     "output_type": "error",
     "traceback": [
      "\u001b[1;31m---------------------------------------------------------------------------\u001b[0m",
      "\u001b[1;31mValueError\u001b[0m                                Traceback (most recent call last)",
      "Cell \u001b[1;32mIn[21], line 12\u001b[0m\n\u001b[0;32m     10\u001b[0m src_crs \u001b[38;5;241m=\u001b[39m src\u001b[38;5;241m.\u001b[39mcrs\n\u001b[0;32m     11\u001b[0m \u001b[38;5;28;01mif\u001b[39;00m \u001b[38;5;129;01mnot\u001b[39;00m src_crs \u001b[38;5;241m==\u001b[39m crs_raster:\n\u001b[1;32m---> 12\u001b[0m     \u001b[38;5;28;01mraise\u001b[39;00m \u001b[38;5;167;01mValueError\u001b[39;00m(\u001b[38;5;124m\"\u001b[39m\u001b[38;5;124mO CRS do raster não é o esperado (EPSG:4326)\u001b[39m\u001b[38;5;124m\"\u001b[39m)\n\u001b[0;32m     14\u001b[0m \u001b[38;5;66;03m# Obter os limites (BoundingBox) do raster\u001b[39;00m\n\u001b[0;32m     15\u001b[0m raster_bounds \u001b[38;5;241m=\u001b[39m src\u001b[38;5;241m.\u001b[39mbounds\n",
      "\u001b[1;31mValueError\u001b[0m: O CRS do raster não é o esperado (EPSG:4326)"
     ]
    }
   ],
   "source": [
    "# Carregar o GeoDataFrame e definir o CRS\n",
    "geoframe = gpd.read_file('../assets/INPUT/mant_completa.shp')\n",
    "crs = 'EPSG:4326'\n",
    "geoframe = geoframe.set_crs(crs)\n",
    "\n",
    "# Abrir o raster e definir o CRS\n",
    "crs_raster = CRS.from_epsg(4326)\n",
    "with rasterio.open('../assets/processed/processed/altitude_br.tif', 'r') as src:\n",
    "    # Atualizar o CRS do arquivo GeoTIFF\n",
    "    src_crs = src.crs\n",
    "    if not src_crs == crs_raster:\n",
    "        raise ValueError(\"O CRS do raster não é o esperado (EPSG:4326)\")\n",
    "\n",
    "    # Obter os limites (BoundingBox) do raster\n",
    "    raster_bounds = src.bounds\n",
    "\n",
    "    # Verificar a interseção entre a geometria e a extensão do raster\n",
    "    intersection = geoframe.geometry.intersection(raster_bounds)\n",
    "\n",
    "    # Verificar se há alguma interseção válida\n",
    "    if intersection.is_empty.all():\n",
    "        raise ValueError(\"A geometria do GeoDataFrame não se sobrepõe ao raster\")\n",
    "\n",
    "    # Filtrar apenas geometrias que intersectam com os limites do raster\n",
    "    intersecting_geometries = geoframe[intersection.not_empty]\n",
    "\n",
    "    # Aplicar a função mask apenas se houver interseção\n",
    "    out_image, out_transform = mask(src, intersecting_geometries.geometry, crop=True)\n",
    "    out_meta = src.meta.copy()\n",
    "\n",
    "\n"
   ]
  },
  {
   "cell_type": "code",
   "execution_count": 17,
   "metadata": {},
   "outputs": [
    {
     "ename": "ValueError",
     "evalue": "O CRS do raster não é o esperado (EPSG:4326)",
     "output_type": "error",
     "traceback": [
      "\u001b[1;31m---------------------------------------------------------------------------\u001b[0m",
      "\u001b[1;31mValueError\u001b[0m                                Traceback (most recent call last)",
      "Cell \u001b[1;32mIn[17], line 18\u001b[0m\n\u001b[0;32m     16\u001b[0m src_crs \u001b[38;5;241m=\u001b[39m src\u001b[38;5;241m.\u001b[39mcrs\n\u001b[0;32m     17\u001b[0m \u001b[38;5;28;01mif\u001b[39;00m \u001b[38;5;129;01mnot\u001b[39;00m src_crs \u001b[38;5;241m==\u001b[39m crs_raster:\n\u001b[1;32m---> 18\u001b[0m     \u001b[38;5;28;01mraise\u001b[39;00m \u001b[38;5;167;01mValueError\u001b[39;00m(\u001b[38;5;124m\"\u001b[39m\u001b[38;5;124mO CRS do raster não é o esperado (EPSG:4326)\u001b[39m\u001b[38;5;124m\"\u001b[39m)\n\u001b[0;32m     20\u001b[0m \u001b[38;5;66;03m# Obter a geometria da BoundingBox do raster\u001b[39;00m\n\u001b[0;32m     21\u001b[0m raster_bounds \u001b[38;5;241m=\u001b[39m box(\u001b[38;5;241m*\u001b[39msrc\u001b[38;5;241m.\u001b[39mbounds)\n",
      "\u001b[1;31mValueError\u001b[0m: O CRS do raster não é o esperado (EPSG:4326)"
     ]
    }
   ],
   "source": [
    "import rasterio\n",
    "import geopandas as gpd\n",
    "from rasterio.crs import CRS\n",
    "from rasterio.mask import mask\n",
    "from shapely.geometry import box\n",
    "\n",
    "# Carregar o GeoDataFrame e definir o CRS\n",
    "geoframe = gpd.read_file('../assets/INPUT/mant_completa.shp')\n",
    "crs = 'EPSG:4326'\n",
    "geoframe = geoframe.set_crs(crs)\n",
    "\n",
    "# Abrir o raster e definir o CRS\n",
    "crs_raster = CRS.from_epsg(4326)\n",
    "with rasterio.open('../assets/processed/processed/altitude_br.tif', 'r') as src:\n",
    "    # Atualizar o CRS do arquivo GeoTIFF\n",
    "    src_crs = src.crs\n",
    "    if not src_crs == crs_raster:\n",
    "        raise ValueError(\"O CRS do raster não é o esperado (EPSG:4326)\")\n",
    "\n",
    "    # Obter a geometria da BoundingBox do raster\n",
    "    raster_bounds = box(*src.bounds)\n",
    "\n",
    "    # Verificar a interseção entre a geometria e a extensão do raster\n",
    "    intersection = geoframe.geometry.intersection(raster_bounds)\n",
    "\n",
    "    # Verificar se há alguma interseção válida\n",
    "    if intersection.is_empty.all():\n",
    "        raise ValueError(\"A geometria do GeoDataFrame não se sobrepõe ao raster\")\n",
    "\n",
    "    # Filtrar apenas geometrias que intersectam com a BoundingBox do raster\n",
    "    intersecting_geometries = geoframe[intersection.not_empty]\n",
    "\n",
    "    # Aplicar a função mask apenas se houver interseção\n",
    "    out_image, out_transform = mask(src, intersecting_geometries.geometry, crop=True)\n",
    "    out_meta = src.meta.copy()\n",
    "\n",
    "# Salvar as alterações nos metadados\n",
    "with rasterio.open('../assets/processed/processed/altitude_br_mascara.tif', 'w', **out_meta) as dst:\n",
    "    dst.write(out_image)\n"
   ]
  },
  {
   "cell_type": "code",
   "execution_count": 18,
   "metadata": {},
   "outputs": [
    {
     "data": {
      "text/plain": [
       "BoundingBox(left=-73.9878, bottom=44.2933425, right=-32.38946399999999, top=5.2699035)"
      ]
     },
     "execution_count": 18,
     "metadata": {},
     "output_type": "execute_result"
    }
   ],
   "source": [
    "src.bounds"
   ]
  },
  {
   "cell_type": "code",
   "execution_count": 15,
   "metadata": {},
   "outputs": [
    {
     "data": {
      "text/plain": [
       "BoundingBox(left=-74.0041605, bottom=43.5933705, right=-32.9974675, top=5.2699035)"
      ]
     },
     "execution_count": 15,
     "metadata": {},
     "output_type": "execute_result"
    }
   ],
   "source": [
    "src.bounds"
   ]
  },
  {
   "cell_type": "code",
   "execution_count": null,
   "metadata": {},
   "outputs": [],
   "source": [
    "geoframe.geometry.intersection(raster_bounds)"
   ]
  },
  {
   "cell_type": "code",
   "execution_count": 11,
   "metadata": {},
   "outputs": [
    {
     "data": {
      "text/html": [
       "<div>\n",
       "<style scoped>\n",
       "    .dataframe tbody tr th:only-of-type {\n",
       "        vertical-align: middle;\n",
       "    }\n",
       "\n",
       "    .dataframe tbody tr th {\n",
       "        vertical-align: top;\n",
       "    }\n",
       "\n",
       "    .dataframe thead th {\n",
       "        text-align: right;\n",
       "    }\n",
       "</style>\n",
       "<table border=\"1\" class=\"dataframe\">\n",
       "  <thead>\n",
       "    <tr style=\"text-align: right;\">\n",
       "      <th></th>\n",
       "      <th>minx</th>\n",
       "      <th>miny</th>\n",
       "      <th>maxx</th>\n",
       "      <th>maxy</th>\n",
       "    </tr>\n",
       "  </thead>\n",
       "  <tbody>\n",
       "    <tr>\n",
       "      <th>0</th>\n",
       "      <td>-47.012839</td>\n",
       "      <td>-23.489618</td>\n",
       "      <td>-40.169585</td>\n",
       "      <td>-18.359071</td>\n",
       "    </tr>\n",
       "  </tbody>\n",
       "</table>\n",
       "</div>"
      ],
      "text/plain": [
       "        minx       miny       maxx       maxy\n",
       "0 -47.012839 -23.489618 -40.169585 -18.359071"
      ]
     },
     "execution_count": 11,
     "metadata": {},
     "output_type": "execute_result"
    }
   ],
   "source": [
    "geoframe.geometry.bounds"
   ]
  },
  {
   "cell_type": "code",
   "execution_count": 12,
   "metadata": {},
   "outputs": [
    {
     "name": "stdout",
     "output_type": "stream",
     "text": [
      "llx: -73.98781944444444\n",
      "lly: -33.750416666666666\n",
      "urx: -32.38791666666667\n",
      "ury: 5.271\n"
     ]
    }
   ],
   "source": [
    "def convert_to_decimal_degrees(degrees, minutes, seconds, direction):\n",
    "    decimal_degrees = degrees + minutes / 60 + seconds / 3600\n",
    "    if direction in ['S', 'W']:\n",
    "        decimal_degrees *= -1\n",
    "    return decimal_degrees\n",
    "\n",
    "# Coordenadas UL (Upper Left)\n",
    "ul_latitude_deg = 5\n",
    "ul_latitude_min = 16\n",
    "ul_latitude_sec = 15.6\n",
    "ul_latitude_dir = 'N'\n",
    "\n",
    "ul_longitude_deg = 73\n",
    "ul_longitude_min = 59\n",
    "ul_longitude_sec = 16.15\n",
    "ul_longitude_dir = 'W'\n",
    "\n",
    "ul_latitude_dec = convert_to_decimal_degrees(ul_latitude_deg, ul_latitude_min, ul_latitude_sec, ul_latitude_dir)\n",
    "ul_longitude_dec = convert_to_decimal_degrees(ul_longitude_deg, ul_longitude_min, ul_longitude_sec, ul_longitude_dir)\n",
    "\n",
    "# Coordenadas LR (Lower Right)\n",
    "lr_latitude_deg = 33\n",
    "lr_latitude_min = 45\n",
    "lr_latitude_sec = 1.5\n",
    "lr_latitude_dir = 'S'\n",
    "\n",
    "lr_longitude_deg = 32\n",
    "lr_longitude_min = 23\n",
    "lr_longitude_sec = 16.5\n",
    "lr_longitude_dir = 'W'\n",
    "\n",
    "lr_latitude_dec = convert_to_decimal_degrees(lr_latitude_deg, lr_latitude_min, lr_latitude_sec, lr_latitude_dir)\n",
    "lr_longitude_dec = convert_to_decimal_degrees(lr_longitude_deg, lr_longitude_min, lr_longitude_sec, lr_longitude_dir)\n",
    "\n",
    "# Atribuir os valores para llx, lly, urx e ury\n",
    "llx = ul_longitude_dec\n",
    "lly = lr_latitude_dec\n",
    "urx = lr_longitude_dec\n",
    "ury = ul_latitude_dec\n",
    "\n",
    "print(\"llx:\", llx)\n",
    "print(\"lly:\", lly)\n",
    "print(\"urx:\", urx)\n",
    "print(\"ury:\", ury)"
   ]
  },
  {
   "cell_type": "code",
   "execution_count": 10,
   "metadata": {},
   "outputs": [
    {
     "data": {
      "text/plain": [
       "BoundingBox(left=-74.0041605, bottom=43.5933705, right=-32.9974675, top=5.2699035)"
      ]
     },
     "execution_count": 10,
     "metadata": {},
     "output_type": "execute_result"
    }
   ],
   "source": [
    "src.bounds"
   ]
  },
  {
   "cell_type": "code",
   "execution_count": null,
   "metadata": {},
   "outputs": [],
   "source": [
    "# Salve as alterações nos metadados\n",
    "with rasterio.open('../assets/processed/processed/altitude_br_mascara.tif', 'w', **out_meta) as dst:\n",
    "    dst.write(out_image)"
   ]
  },
  {
   "cell_type": "code",
   "execution_count": null,
   "metadata": {},
   "outputs": [],
   "source": [
    "crs = CRS.from_epsg(4326)"
   ]
  },
  {
   "cell_type": "code",
   "execution_count": null,
   "metadata": {},
   "outputs": [],
   "source": [
    "out_image, out_transform = mask(src, geoframe.geometry, crop=True)"
   ]
  },
  {
   "cell_type": "code",
   "execution_count": null,
   "metadata": {},
   "outputs": [],
   "source": [
    "src.crs"
   ]
  },
  {
   "cell_type": "code",
   "execution_count": null,
   "metadata": {},
   "outputs": [],
   "source": [
    "geoframe.crs"
   ]
  },
  {
   "cell_type": "code",
   "execution_count": null,
   "metadata": {},
   "outputs": [],
   "source": [
    "with rasterio.open(tiff_file) as src:\n",
    "    # Máscara do arquivo .tiff usando o shapefile\n",
    "    out_image, out_transform = mask(src, geoframe.geometry, crop=True)\n",
    "    "
   ]
  },
  {
   "cell_type": "code",
   "execution_count": null,
   "metadata": {},
   "outputs": [],
   "source": [
    "with rasterio.open(tiff_file) as src:\n",
    "    # Máscara do arquivo .tiff usando o shapefile\n",
    "    out_image, out_transform = mask(src, geoframe.geometry, crop=True)\n",
    "    \n",
    "    # Atualiza os metadados para refletir a nova forma e posição do recorte\n",
    "    out_meta = src.meta.copy()\n",
    "    out_meta.update({\"driver\": \"GTiff\",\n",
    "                    \"height\": out_image.shape[1],\n",
    "                    \"width\": out_image.shape[2],\n",
    "                    \"transform\": out_transform})\n",
    "    \n",
    "    # Aplicar uma máscara adicional para remover os valores nodata\n",
    "    out_image = np.ma.masked_where(out_image == src.nodata, out_image)\n",
    "\n",
    "    # Salva o recorte em um novo arquivo .tiff\n",
    "    with rasterio.open(output_file_name, \"w\", **out_meta) as dest:\n",
    "        dest.write(out_image)"
   ]
  },
  {
   "cell_type": "code",
   "execution_count": 19,
   "metadata": {},
   "outputs": [
    {
     "name": "stdout",
     "output_type": "stream",
     "text": [
      "llx: -73.98781944444444\n",
      "lly: -33.750416666666666\n",
      "urx: -32.38791666666667\n",
      "ury: 5.271\n"
     ]
    }
   ],
   "source": [
    "def convert_to_decimal_degrees(degrees, minutes, seconds, direction):\n",
    "    decimal_degrees = degrees + minutes / 60 + seconds / 3600\n",
    "    if direction in ['S', 'W']:\n",
    "        decimal_degrees *= -1\n",
    "    return decimal_degrees\n",
    "\n",
    "# Coordenadas UL (Upper Left)\n",
    "ul_latitude_deg = 5\n",
    "ul_latitude_min = 16\n",
    "ul_latitude_sec = 15.6\n",
    "ul_latitude_dir = 'N'\n",
    "\n",
    "ul_longitude_deg = 73\n",
    "ul_longitude_min = 59\n",
    "ul_longitude_sec = 16.15\n",
    "ul_longitude_dir = 'W'\n",
    "\n",
    "ul_latitude_dec = convert_to_decimal_degrees(ul_latitude_deg, ul_latitude_min, ul_latitude_sec, ul_latitude_dir)\n",
    "ul_longitude_dec = convert_to_decimal_degrees(ul_longitude_deg, ul_longitude_min, ul_longitude_sec, ul_longitude_dir)\n",
    "\n",
    "# Coordenadas LR (Lower Right)\n",
    "lr_latitude_deg = 33\n",
    "lr_latitude_min = 45\n",
    "lr_latitude_sec = 1.5\n",
    "lr_latitude_dir = 'S'\n",
    "\n",
    "lr_longitude_deg = 32\n",
    "lr_longitude_min = 23\n",
    "lr_longitude_sec = 16.5\n",
    "lr_longitude_dir = 'W'\n",
    "\n",
    "lr_latitude_dec = convert_to_decimal_degrees(lr_latitude_deg, lr_latitude_min, lr_latitude_sec, lr_latitude_dir)\n",
    "lr_longitude_dec = convert_to_decimal_degrees(lr_longitude_deg, lr_longitude_min, lr_longitude_sec, lr_longitude_dir)\n",
    "\n",
    "# Atribuir os valores para llx, lly, urx e ury\n",
    "llx = ul_longitude_dec\n",
    "lly = lr_latitude_dec\n",
    "urx = lr_longitude_dec\n",
    "ury = ul_latitude_dec\n",
    "\n",
    "print(\"llx:\", llx)\n",
    "print(\"lly:\", lly)\n",
    "print(\"urx:\", urx)\n",
    "print(\"ury:\", ury)"
   ]
  }
 ],
 "metadata": {
  "kernelspec": {
   "display_name": "web-scraping-venv",
   "language": "python",
   "name": "python3"
  },
  "language_info": {
   "codemirror_mode": {
    "name": "ipython",
    "version": 3
   },
   "file_extension": ".py",
   "mimetype": "text/x-python",
   "name": "python",
   "nbconvert_exporter": "python",
   "pygments_lexer": "ipython3",
   "version": "3.11.4"
  }
 },
 "nbformat": 4,
 "nbformat_minor": 2
}
